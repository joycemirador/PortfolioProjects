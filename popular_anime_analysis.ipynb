{
  "metadata": {
    "kernelspec": {
      "name": "ir",
      "display_name": "R",
      "language": "R"
    },
    "language_info": {
      "name": "R",
      "codemirror_mode": "r",
      "pygments_lexer": "r",
      "mimetype": "text/x-r-source",
      "file_extension": ".r",
      "version": "4.0.5"
    },
    "kaggle": {
      "accelerator": "none",
      "dataSources": [
        {
          "sourceId": 6207733,
          "sourceType": "datasetVersion",
          "datasetId": 3384322
        }
      ],
      "dockerImageVersionId": 30618,
      "isInternetEnabled": false,
      "language": "r",
      "sourceType": "notebook",
      "isGpuEnabled": false
    },
    "colab": {
      "provenance": []
    }
  },
  "nbformat_minor": 0,
  "nbformat": 4,
  "cells": [
    {
      "cell_type": "markdown",
      "source": [
        "## My Anime List Case Study: Analyzing the Most Popular Anime\n",
        "*This is only a personal project. The business problems explored in this notebook are entirely fictional and bear no connection to MyAnimeList or any real-world entities.*"
      ],
      "metadata": {
        "id": "bCe_WFbep7Fx"
      }
    },
    {
      "cell_type": "markdown",
      "source": [
        "### Executive Summary\n",
        "#### Overview\n",
        "The analysis involves examining a dataset comprising lists of anime and their descriptions from myanimelist, aiming to identify relationships among various popularity metrics. These metrics include the overall popularity rank (*popularity*), rankings based on additional criteria (*rank*), the number of users selecting the anime as their favorite (*favorites*), and the scores assigned by users (*score*). Additionally, the popularity metrics were tested across different anime genres, sources, and studios.\n",
        "#### Problem\n",
        "This project aims to determine if there is a significant relationship between the anime's ranking (*popularity and rank*), and user engagement (*favorites and score*). It also seeks to identify the top 10 anime based on these popularity metrics. By doing so, the streaming platform can pinpoint anime titles that resonate with user preferences, potentially boosting viewer retention. Furthermore, anime enthusiasts can use this information to decide what to watch next based on the metrics they care about.\n",
        "#### Solution\n",
        "The analysis provides insights into factors influencing anime popularity. We found a complex relationship between anime ranking, popularity, and score, with rank showing a stronger correlation with score than popularity. Genres, studios, and source materials also play significant roles. Top studios like Bones and MAPPA consistently produce highly-ranked anime, while light novels and manga are popular source materials. Our findings underscore the importance of considering multiple factors when evaluating anime popularity for effective content curation and user engagement strategies. (*See conclusion at the end of this notebook*)\n",
        "#### Methodology\n",
        "1. **Ask:** Define the business task.\n",
        "2. **Prepare:** Determine the data source and which datasets are needed.\n",
        "3. **Process:** Data cleaning and manipulation.\n",
        "4. **Analyze:** Organize the data and identify trends and relationships.\n",
        "5. **Share:** Derive the final conclusion and provide recommendations.\n",
        "\n",
        "*Popularity metrics will not only consider the popularity variable, but will also be used to refer to the other three variables: rank, favorites, and score.*"
      ],
      "metadata": {
        "id": "u4mZIaWlp7Fy"
      }
    },
    {
      "cell_type": "markdown",
      "source": [
        "Columns description:\n",
        "* **anime_id:** Unique ID for each anime.\n",
        "* **name:** The name of the anime in its original language.\n",
        "* **english_name:** The English name of the anime.\n",
        "* **other_name:** Native name or title of the anime(can be in Japanese, Chinese or Korean).\n",
        "* **score:** The score or rating given to the anime.\n",
        "* **genres:** The genres of the anime, separated by commas.\n",
        "* **type:** The type of the anime (e.g., TV series, movie, OVA, etc.).\n",
        "* **episodes:** The number of episodes in the anime.\n",
        "* **status:** The status of the anime (e.g., Finished Airing, Currently Airing, etc.).\n",
        "* **studios:** The animation studios that worked on the anime.\n",
        "* **source:** The source material of the anime (e.g., manga, light novel, original).\n",
        "* **duration:** The duration of each episode.\n",
        "* **rating:** The age rating of the anime.\n",
        "* **rank:** The rank of the anime based on popularity or other criteria.\n",
        "* **popularity:** The popularity rank of the anime.\n",
        "* **favorites:** The number of times the anime was marked as a favorite by users.\n",
        "* **scored_by:** The number of users who scored the anime.\n",
        "* **members:** The number of members who have added the anime to their list on the platform.\n",
        "* **image_url:** The URL of the anime's image or poster.\n",
        "* **users_rating:** The average rating given by the user to the anime."
      ],
      "metadata": {
        "id": "wvMkgWRMp7Fz"
      }
    },
    {
      "cell_type": "markdown",
      "source": [
        "### Prepare and Process\n",
        "#### Data cleaning and manipulation"
      ],
      "metadata": {
        "id": "Vw2WYtgBp7Fz"
      }
    },
    {
      "cell_type": "code",
      "source": [
        "# Install required packages\n",
        "library(tidyverse)\n",
        "library(ggplot2)\n",
        "library(dplyr)\n",
        "library(stringr)\n",
        "library(tidyr)\n",
        "library(corrplot)"
      ],
      "metadata": {
        "_kg_hide-output": true,
        "execution": {
          "iopub.status.busy": "2024-02-16T06:29:31.153737Z",
          "iopub.execute_input": "2024-02-16T06:29:31.157022Z",
          "iopub.status.idle": "2024-02-16T06:29:32.653351Z"
        },
        "trusted": true,
        "id": "OqmMgORDp7Fz",
        "outputId": "6d07aca4-1508-4572-89d0-809a6113dc33"
      },
      "execution_count": null,
      "outputs": [
        {
          "name": "stderr",
          "text": "── \u001b[1mAttaching core tidyverse packages\u001b[22m ──────────────────────── tidyverse 2.0.0 ──\n\u001b[32m✔\u001b[39m \u001b[34mdplyr    \u001b[39m 1.1.4     \u001b[32m✔\u001b[39m \u001b[34mreadr    \u001b[39m 2.1.4\n\u001b[32m✔\u001b[39m \u001b[34mforcats  \u001b[39m 1.0.0     \u001b[32m✔\u001b[39m \u001b[34mstringr  \u001b[39m 1.5.1\n\u001b[32m✔\u001b[39m \u001b[34mggplot2  \u001b[39m 3.4.4     \u001b[32m✔\u001b[39m \u001b[34mtibble   \u001b[39m 3.2.1\n\u001b[32m✔\u001b[39m \u001b[34mlubridate\u001b[39m 1.9.3     \u001b[32m✔\u001b[39m \u001b[34mtidyr    \u001b[39m 1.3.0\n\u001b[32m✔\u001b[39m \u001b[34mpurrr    \u001b[39m 1.0.2     \n── \u001b[1mConflicts\u001b[22m ────────────────────────────────────────── tidyverse_conflicts() ──\n\u001b[31m✖\u001b[39m \u001b[34mdplyr\u001b[39m::\u001b[32mfilter()\u001b[39m masks \u001b[34mstats\u001b[39m::filter()\n\u001b[31m✖\u001b[39m \u001b[34mdplyr\u001b[39m::\u001b[32mlag()\u001b[39m    masks \u001b[34mstats\u001b[39m::lag()\n\u001b[36mℹ\u001b[39m Use the conflicted package (\u001b[3m\u001b[34m<http://conflicted.r-lib.org/>\u001b[39m\u001b[23m) to force all conflicts to become errors\ncorrplot 0.92 loaded\n\n",
          "output_type": "stream"
        }
      ]
    },
    {
      "cell_type": "code",
      "source": [
        "# Upload datasets\n",
        "anime_dataset <- read.csv(\"/kaggle/input/myanimelist-dataset/anime-dataset-2023.csv\")\n",
        "users_score <- read.csv(\"/kaggle/input/myanimelist-dataset/users-score-2023.csv\")"
      ],
      "metadata": {
        "execution": {
          "iopub.status.busy": "2024-02-16T06:29:32.657411Z",
          "iopub.execute_input": "2024-02-16T06:29:32.693141Z",
          "iopub.status.idle": "2024-02-16T06:30:55.170950Z"
        },
        "trusted": true,
        "id": "wQS1EsBrp7F1"
      },
      "execution_count": null,
      "outputs": []
    },
    {
      "cell_type": "code",
      "source": [
        "# To preview the anime_dataset\n",
        "head(anime_dataset, n = 1)\n",
        "nrow(anime_dataset)"
      ],
      "metadata": {
        "execution": {
          "iopub.status.busy": "2024-02-16T06:30:55.173930Z",
          "iopub.execute_input": "2024-02-16T06:30:55.175444Z",
          "iopub.status.idle": "2024-02-16T06:30:55.226990Z"
        },
        "trusted": true,
        "id": "tErz6mHKp7F1",
        "outputId": "e2e93be1-68e1-4718-a552-ca700e912b65"
      },
      "execution_count": null,
      "outputs": [
        {
          "output_type": "display_data",
          "data": {
            "text/html": "<table class=\"dataframe\">\n<caption>A data.frame: 1 × 24</caption>\n<thead>\n\t<tr><th></th><th scope=col>anime_id</th><th scope=col>Name</th><th scope=col>English.name</th><th scope=col>Other.name</th><th scope=col>Score</th><th scope=col>Genres</th><th scope=col>Synopsis</th><th scope=col>Type</th><th scope=col>Episodes</th><th scope=col>Aired</th><th scope=col>⋯</th><th scope=col>Studios</th><th scope=col>Source</th><th scope=col>Duration</th><th scope=col>Rating</th><th scope=col>Rank</th><th scope=col>Popularity</th><th scope=col>Favorites</th><th scope=col>Scored.By</th><th scope=col>Members</th><th scope=col>Image.URL</th></tr>\n\t<tr><th></th><th scope=col>&lt;int&gt;</th><th scope=col>&lt;chr&gt;</th><th scope=col>&lt;chr&gt;</th><th scope=col>&lt;chr&gt;</th><th scope=col>&lt;chr&gt;</th><th scope=col>&lt;chr&gt;</th><th scope=col>&lt;chr&gt;</th><th scope=col>&lt;chr&gt;</th><th scope=col>&lt;chr&gt;</th><th scope=col>&lt;chr&gt;</th><th scope=col>⋯</th><th scope=col>&lt;chr&gt;</th><th scope=col>&lt;chr&gt;</th><th scope=col>&lt;chr&gt;</th><th scope=col>&lt;chr&gt;</th><th scope=col>&lt;chr&gt;</th><th scope=col>&lt;int&gt;</th><th scope=col>&lt;int&gt;</th><th scope=col>&lt;chr&gt;</th><th scope=col>&lt;int&gt;</th><th scope=col>&lt;chr&gt;</th></tr>\n</thead>\n<tbody>\n\t<tr><th scope=row>1</th><td>1</td><td>Cowboy Bebop</td><td>Cowboy Bebop</td><td>カウボーイビバップ</td><td>8.75</td><td>Action, Award Winning, Sci-Fi</td><td>Crime is timeless. By the year 2071, humanity has expanded across the galaxy, filling the surface of other planets with settlements like those on Earth. These new societies are plagued by murder, drug use, and theft, and intergalactic outlaws are hunted by a growing number of tough bounty hunters.\n\nSpike Spiegel and Jet Black pursue criminals throughout space to make a humble living. Beneath his goofy and aloof demeanor, Spike is haunted by the weight of his violent past. Meanwhile, Jet manages his own troubled memories while taking care of Spike and the Bebop, their ship. The duo is joined by the beautiful con artist Faye Valentine, odd child Edward Wong Hau Pepelu Tivrusky IV, and Ein, a bioengineered Welsh Corgi.\n\nWhile developing bonds and working to catch a colorful cast of criminals, the Bebop crew's lives are disrupted by a menace from Spike's past. As a rival's maniacal plot continues to unravel, Spike must choose between life with his newfound family or revenge for his old wounds.</td><td>TV</td><td>26.0</td><td>Apr 3, 1998 to Apr 24, 1999</td><td>⋯</td><td>Sunrise</td><td>Original</td><td>24 min per ep</td><td>R - 17+ (violence &amp; profanity)</td><td>41.0</td><td>43</td><td>78525</td><td>914193.0</td><td>1771505</td><td>https://cdn.myanimelist.net/images/anime/4/19644.jpg</td></tr>\n</tbody>\n</table>\n",
            "text/markdown": "\nA data.frame: 1 × 24\n\n| <!--/--> | anime_id &lt;int&gt; | Name &lt;chr&gt; | English.name &lt;chr&gt; | Other.name &lt;chr&gt; | Score &lt;chr&gt; | Genres &lt;chr&gt; | Synopsis &lt;chr&gt; | Type &lt;chr&gt; | Episodes &lt;chr&gt; | Aired &lt;chr&gt; | ⋯ ⋯ | Studios &lt;chr&gt; | Source &lt;chr&gt; | Duration &lt;chr&gt; | Rating &lt;chr&gt; | Rank &lt;chr&gt; | Popularity &lt;int&gt; | Favorites &lt;int&gt; | Scored.By &lt;chr&gt; | Members &lt;int&gt; | Image.URL &lt;chr&gt; |\n|---|---|---|---|---|---|---|---|---|---|---|---|---|---|---|---|---|---|---|---|---|---|\n| 1 | 1 | Cowboy Bebop | Cowboy Bebop | カウボーイビバップ | 8.75 | Action, Award Winning, Sci-Fi | Crime is timeless. By the year 2071, humanity has expanded across the galaxy, filling the surface of other planets with settlements like those on Earth. These new societies are plagued by murder, drug use, and theft, and intergalactic outlaws are hunted by a growing number of tough bounty hunters.\n\nSpike Spiegel and Jet Black pursue criminals throughout space to make a humble living. Beneath his goofy and aloof demeanor, Spike is haunted by the weight of his violent past. Meanwhile, Jet manages his own troubled memories while taking care of Spike and the Bebop, their ship. The duo is joined by the beautiful con artist Faye Valentine, odd child Edward Wong Hau Pepelu Tivrusky IV, and Ein, a bioengineered Welsh Corgi.\n\nWhile developing bonds and working to catch a colorful cast of criminals, the Bebop crew's lives are disrupted by a menace from Spike's past. As a rival's maniacal plot continues to unravel, Spike must choose between life with his newfound family or revenge for his old wounds. | TV | 26.0 | Apr 3, 1998 to Apr 24, 1999 | ⋯ | Sunrise | Original | 24 min per ep | R - 17+ (violence &amp; profanity) | 41.0 | 43 | 78525 | 914193.0 | 1771505 | https://cdn.myanimelist.net/images/anime/4/19644.jpg |\n\n",
            "text/latex": "A data.frame: 1 × 24\n\\begin{tabular}{r|lllllllllllllllllllll}\n  & anime\\_id & Name & English.name & Other.name & Score & Genres & Synopsis & Type & Episodes & Aired & ⋯ & Studios & Source & Duration & Rating & Rank & Popularity & Favorites & Scored.By & Members & Image.URL\\\\\n  & <int> & <chr> & <chr> & <chr> & <chr> & <chr> & <chr> & <chr> & <chr> & <chr> & ⋯ & <chr> & <chr> & <chr> & <chr> & <chr> & <int> & <int> & <chr> & <int> & <chr>\\\\\n\\hline\n\t1 & 1 & Cowboy Bebop & Cowboy Bebop & カウボーイビバップ & 8.75 & Action, Award Winning, Sci-Fi & Crime is timeless. By the year 2071, humanity has expanded across the galaxy, filling the surface of other planets with settlements like those on Earth. These new societies are plagued by murder, drug use, and theft, and intergalactic outlaws are hunted by a growing number of tough bounty hunters.\n\nSpike Spiegel and Jet Black pursue criminals throughout space to make a humble living. Beneath his goofy and aloof demeanor, Spike is haunted by the weight of his violent past. Meanwhile, Jet manages his own troubled memories while taking care of Spike and the Bebop, their ship. The duo is joined by the beautiful con artist Faye Valentine, odd child Edward Wong Hau Pepelu Tivrusky IV, and Ein, a bioengineered Welsh Corgi.\n\nWhile developing bonds and working to catch a colorful cast of criminals, the Bebop crew's lives are disrupted by a menace from Spike's past. As a rival's maniacal plot continues to unravel, Spike must choose between life with his newfound family or revenge for his old wounds. & TV & 26.0 & Apr 3, 1998 to Apr 24, 1999 & ⋯ & Sunrise & Original & 24 min per ep & R - 17+ (violence \\& profanity) & 41.0 & 43 & 78525 & 914193.0 & 1771505 & https://cdn.myanimelist.net/images/anime/4/19644.jpg\\\\\n\\end{tabular}\n",
            "text/plain": "  anime_id Name         English.name Other.name         Score\n1 1        Cowboy Bebop Cowboy Bebop カウボーイビバップ 8.75 \n  Genres                       \n1 Action, Award Winning, Sci-Fi\n  Synopsis                                                                                                                                                                                                                                                                                                                                                                                                                                                                                                                                                                                                                                                                                                                                                                                                                                                                                                                                                                                                                                        \n1 Crime is timeless. By the year 2071, humanity has expanded across the galaxy, filling the surface of other planets with settlements like those on Earth. These new societies are plagued by murder, drug use, and theft, and intergalactic outlaws are hunted by a growing number of tough bounty hunters.\\n\\nSpike Spiegel and Jet Black pursue criminals throughout space to make a humble living. Beneath his goofy and aloof demeanor, Spike is haunted by the weight of his violent past. Meanwhile, Jet manages his own troubled memories while taking care of Spike and the Bebop, their ship. The duo is joined by the beautiful con artist Faye Valentine, odd child Edward Wong Hau Pepelu Tivrusky IV, and Ein, a bioengineered Welsh Corgi.\\n\\nWhile developing bonds and working to catch a colorful cast of criminals, the Bebop crew's lives are disrupted by a menace from Spike's past. As a rival's maniacal plot continues to unravel, Spike must choose between life with his newfound family or revenge for his old wounds.\n  Type Episodes Aired                       ⋯ Studios Source   Duration     \n1 TV   26.0     Apr 3, 1998 to Apr 24, 1999 ⋯ Sunrise Original 24 min per ep\n  Rating                         Rank Popularity Favorites Scored.By Members\n1 R - 17+ (violence & profanity) 41.0 43         78525     914193.0  1771505\n  Image.URL                                           \n1 https://cdn.myanimelist.net/images/anime/4/19644.jpg"
          },
          "metadata": {}
        },
        {
          "output_type": "display_data",
          "data": {
            "text/html": "24905",
            "text/markdown": "24905",
            "text/latex": "24905",
            "text/plain": "[1] 24905"
          },
          "metadata": {}
        }
      ]
    },
    {
      "cell_type": "code",
      "source": [
        "# To get the average rating per anime ID in users_score dataset\n",
        "users_score <- users_score %>%\n",
        "  group_by(anime_id) %>%\n",
        "  mutate(users_rating = mean(rating, na.rm = TRUE))\n",
        "\n",
        "# To preview users_score with the new column\n",
        "head(users_score)\n",
        "nrow(users_score)"
      ],
      "metadata": {
        "execution": {
          "iopub.status.busy": "2024-02-16T06:30:55.230937Z",
          "iopub.execute_input": "2024-02-16T06:30:55.232424Z",
          "iopub.status.idle": "2024-02-16T06:30:57.925216Z"
        },
        "trusted": true,
        "id": "lGY-MSnKp7F1",
        "outputId": "659f0a74-a5cd-4c75-ae9a-1a608b8aa023"
      },
      "execution_count": null,
      "outputs": [
        {
          "output_type": "display_data",
          "data": {
            "text/html": "<table class=\"dataframe\">\n<caption>A grouped_df: 6 × 6</caption>\n<thead>\n\t<tr><th scope=col>user_id</th><th scope=col>Username</th><th scope=col>anime_id</th><th scope=col>Anime.Title</th><th scope=col>rating</th><th scope=col>users_rating</th></tr>\n\t<tr><th scope=col>&lt;int&gt;</th><th scope=col>&lt;chr&gt;</th><th scope=col>&lt;int&gt;</th><th scope=col>&lt;chr&gt;</th><th scope=col>&lt;int&gt;</th><th scope=col>&lt;dbl&gt;</th></tr>\n</thead>\n<tbody>\n\t<tr><td>1</td><td>Xinil</td><td> 21</td><td>One Piece                  </td><td>9</td><td>8.648615</td></tr>\n\t<tr><td>1</td><td>Xinil</td><td> 48</td><td>.hack//Sign                </td><td>7</td><td>7.161328</td></tr>\n\t<tr><td>1</td><td>Xinil</td><td>320</td><td>A Kite                     </td><td>5</td><td>6.794514</td></tr>\n\t<tr><td>1</td><td>Xinil</td><td> 49</td><td>Aa! Megami-sama!           </td><td>8</td><td>7.440713</td></tr>\n\t<tr><td>1</td><td>Xinil</td><td>304</td><td>Aa! Megami-sama! Movie     </td><td>8</td><td>7.666220</td></tr>\n\t<tr><td>1</td><td>Xinil</td><td>306</td><td>Abenobashi Mahou☆Shoutengai</td><td>8</td><td>7.398598</td></tr>\n</tbody>\n</table>\n",
            "text/markdown": "\nA grouped_df: 6 × 6\n\n| user_id &lt;int&gt; | Username &lt;chr&gt; | anime_id &lt;int&gt; | Anime.Title &lt;chr&gt; | rating &lt;int&gt; | users_rating &lt;dbl&gt; |\n|---|---|---|---|---|---|\n| 1 | Xinil |  21 | One Piece                   | 9 | 8.648615 |\n| 1 | Xinil |  48 | .hack//Sign                 | 7 | 7.161328 |\n| 1 | Xinil | 320 | A Kite                      | 5 | 6.794514 |\n| 1 | Xinil |  49 | Aa! Megami-sama!            | 8 | 7.440713 |\n| 1 | Xinil | 304 | Aa! Megami-sama! Movie      | 8 | 7.666220 |\n| 1 | Xinil | 306 | Abenobashi Mahou☆Shoutengai | 8 | 7.398598 |\n\n",
            "text/latex": "A grouped\\_df: 6 × 6\n\\begin{tabular}{llllll}\n user\\_id & Username & anime\\_id & Anime.Title & rating & users\\_rating\\\\\n <int> & <chr> & <int> & <chr> & <int> & <dbl>\\\\\n\\hline\n\t 1 & Xinil &  21 & One Piece                   & 9 & 8.648615\\\\\n\t 1 & Xinil &  48 & .hack//Sign                 & 7 & 7.161328\\\\\n\t 1 & Xinil & 320 & A Kite                      & 5 & 6.794514\\\\\n\t 1 & Xinil &  49 & Aa! Megami-sama!            & 8 & 7.440713\\\\\n\t 1 & Xinil & 304 & Aa! Megami-sama! Movie      & 8 & 7.666220\\\\\n\t 1 & Xinil & 306 & Abenobashi Mahou☆Shoutengai & 8 & 7.398598\\\\\n\\end{tabular}\n",
            "text/plain": "  user_id Username anime_id Anime.Title                 rating users_rating\n1 1       Xinil     21      One Piece                   9      8.648615    \n2 1       Xinil     48      .hack//Sign                 7      7.161328    \n3 1       Xinil    320      A Kite                      5      6.794514    \n4 1       Xinil     49      Aa! Megami-sama!            8      7.440713    \n5 1       Xinil    304      Aa! Megami-sama! Movie      8      7.666220    \n6 1       Xinil    306      Abenobashi Mahou☆Shoutengai 8      7.398598    "
          },
          "metadata": {}
        },
        {
          "output_type": "display_data",
          "data": {
            "text/html": "24325191",
            "text/markdown": "24325191",
            "text/latex": "24325191",
            "text/plain": "[1] 24325191"
          },
          "metadata": {}
        }
      ]
    },
    {
      "cell_type": "code",
      "source": [
        "# To create a new data frame with only the columns needed for analysis\n",
        "anime_dataset_selected <- anime_dataset %>%\n",
        "    select(\"anime_id\", \"Name\", \"English.name\", \"Other.name\",\"Score\", \"Genres\", \"Type\", \"Episodes\",\n",
        "       \"Status\", \"Studios\", \"Source\", \"Duration\", \"Rating\", \"Rank\",\"Popularity\", \"Favorites\",\n",
        "       \"Scored.By\", \"Members\", \"Image.URL\")\n",
        "\n",
        "# To remove duplicates in users_score before combining the datasets\n",
        "users_score_distinct <- users_score %>%\n",
        "    distinct(anime_id, users_rating, .keep_all = FALSE)\n",
        "\n",
        "anime_data_2023 <- left_join(anime_dataset_selected, users_score_distinct, by = \"anime_id\")\n",
        "\n",
        "# To preview the new data frame\n",
        "head(anime_data_2023)\n",
        "nrow(anime_data_2023)"
      ],
      "metadata": {
        "execution": {
          "iopub.status.busy": "2024-02-16T06:30:57.927673Z",
          "iopub.execute_input": "2024-02-16T06:30:57.929018Z",
          "iopub.status.idle": "2024-02-16T06:31:00.614018Z"
        },
        "trusted": true,
        "id": "rMjmR_04p7F1",
        "outputId": "df0bbdf0-90f6-4ebd-f72c-3473072e2ad8"
      },
      "execution_count": null,
      "outputs": [
        {
          "output_type": "display_data",
          "data": {
            "text/html": "<table class=\"dataframe\">\n<caption>A data.frame: 6 × 20</caption>\n<thead>\n\t<tr><th></th><th scope=col>anime_id</th><th scope=col>Name</th><th scope=col>English.name</th><th scope=col>Other.name</th><th scope=col>Score</th><th scope=col>Genres</th><th scope=col>Type</th><th scope=col>Episodes</th><th scope=col>Status</th><th scope=col>Studios</th><th scope=col>Source</th><th scope=col>Duration</th><th scope=col>Rating</th><th scope=col>Rank</th><th scope=col>Popularity</th><th scope=col>Favorites</th><th scope=col>Scored.By</th><th scope=col>Members</th><th scope=col>Image.URL</th><th scope=col>users_rating</th></tr>\n\t<tr><th></th><th scope=col>&lt;int&gt;</th><th scope=col>&lt;chr&gt;</th><th scope=col>&lt;chr&gt;</th><th scope=col>&lt;chr&gt;</th><th scope=col>&lt;chr&gt;</th><th scope=col>&lt;chr&gt;</th><th scope=col>&lt;chr&gt;</th><th scope=col>&lt;chr&gt;</th><th scope=col>&lt;chr&gt;</th><th scope=col>&lt;chr&gt;</th><th scope=col>&lt;chr&gt;</th><th scope=col>&lt;chr&gt;</th><th scope=col>&lt;chr&gt;</th><th scope=col>&lt;chr&gt;</th><th scope=col>&lt;int&gt;</th><th scope=col>&lt;int&gt;</th><th scope=col>&lt;chr&gt;</th><th scope=col>&lt;int&gt;</th><th scope=col>&lt;chr&gt;</th><th scope=col>&lt;dbl&gt;</th></tr>\n</thead>\n<tbody>\n\t<tr><th scope=row>1</th><td> 1</td><td><span style=white-space:pre-wrap>Cowboy Bebop                   </span></td><td><span style=white-space:pre-wrap>Cowboy Bebop           </span></td><td><span style=white-space:pre-wrap>カウボーイビバップ                         </span></td><td>8.75</td><td><span style=white-space:pre-wrap>Action, Award Winning, Sci-Fi       </span></td><td><span style=white-space:pre-wrap>TV   </span></td><td>26.0 </td><td>Finished Airing</td><td><span style=white-space:pre-wrap>Sunrise       </span></td><td>Original</td><td>24 min per ep</td><td>R - 17+ (violence &amp; profanity)</td><td><span style=white-space:pre-wrap>41.0  </span></td><td><span style=white-space:pre-wrap>  43</span></td><td>78525</td><td>914193.0</td><td>1771505</td><td><span style=white-space:pre-wrap>https://cdn.myanimelist.net/images/anime/4/19644.jpg    </span></td><td>8.772673</td></tr>\n\t<tr><th scope=row>2</th><td> 5</td><td>Cowboy Bebop: Tengoku no Tobira</td><td>Cowboy Bebop: The Movie</td><td><span style=white-space:pre-wrap>カウボーイビバップ 天国の扉                </span></td><td>8.38</td><td><span style=white-space:pre-wrap>Action, Sci-Fi                      </span></td><td>Movie</td><td><span style=white-space:pre-wrap>1.0  </span></td><td>Finished Airing</td><td><span style=white-space:pre-wrap>Bones         </span></td><td>Original</td><td><span style=white-space:pre-wrap>1 hr 55 min  </span></td><td>R - 17+ (violence &amp; profanity)</td><td>189.0 </td><td> 602</td><td> 1448</td><td>206248.0</td><td> 360978</td><td>https://cdn.myanimelist.net/images/anime/1439/93480.jpg </td><td>8.378287</td></tr>\n\t<tr><th scope=row>3</th><td> 6</td><td>Trigun                         </td><td>Trigun                 </td><td>トライガン                                 </td><td>8.22</td><td>Action, Adventure, Sci-Fi           </td><td>TV   </td><td>26.0 </td><td>Finished Airing</td><td>Madhouse      </td><td>Manga   </td><td>24 min per ep</td><td>PG-13 - Teens 13 or older     </td><td>328.0 </td><td> 246</td><td>15035</td><td>356739.0</td><td> 727252</td><td>https://cdn.myanimelist.net/images/anime/7/20310.jpg    </td><td>8.296920</td></tr>\n\t<tr><th scope=row>4</th><td> 7</td><td>Witch Hunter Robin             </td><td>Witch Hunter Robin     </td><td>Witch Hunter ROBIN (ウイッチハンターロビン)</td><td>7.25</td><td>Action, Drama, Mystery, Supernatural</td><td>TV   </td><td>26.0 </td><td>Finished Airing</td><td>Sunrise       </td><td>Original</td><td>25 min per ep</td><td>PG-13 - Teens 13 or older     </td><td>2764.0</td><td>1795</td><td>  613</td><td>42829.0 </td><td> 111931</td><td>https://cdn.myanimelist.net/images/anime/10/19969.jpg   </td><td>7.377905</td></tr>\n\t<tr><th scope=row>5</th><td> 8</td><td>Bouken Ou Beet                 </td><td>Beet the Vandel Buster </td><td>冒険王ビィト                               </td><td>6.94</td><td>Adventure, Fantasy, Supernatural    </td><td>TV   </td><td>52.0 </td><td>Finished Airing</td><td>Toei Animation</td><td>Manga   </td><td>23 min per ep</td><td>PG - Children                 </td><td>4240.0</td><td>5126</td><td>   14</td><td>6413.0  </td><td>  15001</td><td>https://cdn.myanimelist.net/images/anime/7/21569.jpg    </td><td>7.015062</td></tr>\n\t<tr><th scope=row>6</th><td>15</td><td>Eyeshield 21                   </td><td>UNKNOWN                </td><td>アイシールド21                             </td><td>7.92</td><td>Sports                              </td><td>TV   </td><td>145.0</td><td>Finished Airing</td><td>Gallop        </td><td>Manga   </td><td>23 min per ep</td><td>PG-13 - Teens 13 or older     </td><td>688.0 </td><td>1252</td><td> 1997</td><td>86524.0 </td><td> 177688</td><td>https://cdn.myanimelist.net/images/anime/1079/133529.jpg</td><td>7.980910</td></tr>\n</tbody>\n</table>\n",
            "text/markdown": "\nA data.frame: 6 × 20\n\n| <!--/--> | anime_id &lt;int&gt; | Name &lt;chr&gt; | English.name &lt;chr&gt; | Other.name &lt;chr&gt; | Score &lt;chr&gt; | Genres &lt;chr&gt; | Type &lt;chr&gt; | Episodes &lt;chr&gt; | Status &lt;chr&gt; | Studios &lt;chr&gt; | Source &lt;chr&gt; | Duration &lt;chr&gt; | Rating &lt;chr&gt; | Rank &lt;chr&gt; | Popularity &lt;int&gt; | Favorites &lt;int&gt; | Scored.By &lt;chr&gt; | Members &lt;int&gt; | Image.URL &lt;chr&gt; | users_rating &lt;dbl&gt; |\n|---|---|---|---|---|---|---|---|---|---|---|---|---|---|---|---|---|---|---|---|---|\n| 1 |  1 | Cowboy Bebop                    | Cowboy Bebop            | カウボーイビバップ                          | 8.75 | Action, Award Winning, Sci-Fi        | TV    | 26.0  | Finished Airing | Sunrise        | Original | 24 min per ep | R - 17+ (violence &amp; profanity) | 41.0   |   43 | 78525 | 914193.0 | 1771505 | https://cdn.myanimelist.net/images/anime/4/19644.jpg     | 8.772673 |\n| 2 |  5 | Cowboy Bebop: Tengoku no Tobira | Cowboy Bebop: The Movie | カウボーイビバップ 天国の扉                 | 8.38 | Action, Sci-Fi                       | Movie | 1.0   | Finished Airing | Bones          | Original | 1 hr 55 min   | R - 17+ (violence &amp; profanity) | 189.0  |  602 |  1448 | 206248.0 |  360978 | https://cdn.myanimelist.net/images/anime/1439/93480.jpg  | 8.378287 |\n| 3 |  6 | Trigun                          | Trigun                  | トライガン                                  | 8.22 | Action, Adventure, Sci-Fi            | TV    | 26.0  | Finished Airing | Madhouse       | Manga    | 24 min per ep | PG-13 - Teens 13 or older      | 328.0  |  246 | 15035 | 356739.0 |  727252 | https://cdn.myanimelist.net/images/anime/7/20310.jpg     | 8.296920 |\n| 4 |  7 | Witch Hunter Robin              | Witch Hunter Robin      | Witch Hunter ROBIN (ウイッチハンターロビン) | 7.25 | Action, Drama, Mystery, Supernatural | TV    | 26.0  | Finished Airing | Sunrise        | Original | 25 min per ep | PG-13 - Teens 13 or older      | 2764.0 | 1795 |   613 | 42829.0  |  111931 | https://cdn.myanimelist.net/images/anime/10/19969.jpg    | 7.377905 |\n| 5 |  8 | Bouken Ou Beet                  | Beet the Vandel Buster  | 冒険王ビィト                                | 6.94 | Adventure, Fantasy, Supernatural     | TV    | 52.0  | Finished Airing | Toei Animation | Manga    | 23 min per ep | PG - Children                  | 4240.0 | 5126 |    14 | 6413.0   |   15001 | https://cdn.myanimelist.net/images/anime/7/21569.jpg     | 7.015062 |\n| 6 | 15 | Eyeshield 21                    | UNKNOWN                 | アイシールド21                              | 7.92 | Sports                               | TV    | 145.0 | Finished Airing | Gallop         | Manga    | 23 min per ep | PG-13 - Teens 13 or older      | 688.0  | 1252 |  1997 | 86524.0  |  177688 | https://cdn.myanimelist.net/images/anime/1079/133529.jpg | 7.980910 |\n\n",
            "text/latex": "A data.frame: 6 × 20\n\\begin{tabular}{r|llllllllllllllllllll}\n  & anime\\_id & Name & English.name & Other.name & Score & Genres & Type & Episodes & Status & Studios & Source & Duration & Rating & Rank & Popularity & Favorites & Scored.By & Members & Image.URL & users\\_rating\\\\\n  & <int> & <chr> & <chr> & <chr> & <chr> & <chr> & <chr> & <chr> & <chr> & <chr> & <chr> & <chr> & <chr> & <chr> & <int> & <int> & <chr> & <int> & <chr> & <dbl>\\\\\n\\hline\n\t1 &  1 & Cowboy Bebop                    & Cowboy Bebop            & カウボーイビバップ                          & 8.75 & Action, Award Winning, Sci-Fi        & TV    & 26.0  & Finished Airing & Sunrise        & Original & 24 min per ep & R - 17+ (violence \\& profanity) & 41.0   &   43 & 78525 & 914193.0 & 1771505 & https://cdn.myanimelist.net/images/anime/4/19644.jpg     & 8.772673\\\\\n\t2 &  5 & Cowboy Bebop: Tengoku no Tobira & Cowboy Bebop: The Movie & カウボーイビバップ 天国の扉                 & 8.38 & Action, Sci-Fi                       & Movie & 1.0   & Finished Airing & Bones          & Original & 1 hr 55 min   & R - 17+ (violence \\& profanity) & 189.0  &  602 &  1448 & 206248.0 &  360978 & https://cdn.myanimelist.net/images/anime/1439/93480.jpg  & 8.378287\\\\\n\t3 &  6 & Trigun                          & Trigun                  & トライガン                                  & 8.22 & Action, Adventure, Sci-Fi            & TV    & 26.0  & Finished Airing & Madhouse       & Manga    & 24 min per ep & PG-13 - Teens 13 or older      & 328.0  &  246 & 15035 & 356739.0 &  727252 & https://cdn.myanimelist.net/images/anime/7/20310.jpg     & 8.296920\\\\\n\t4 &  7 & Witch Hunter Robin              & Witch Hunter Robin      & Witch Hunter ROBIN (ウイッチハンターロビン) & 7.25 & Action, Drama, Mystery, Supernatural & TV    & 26.0  & Finished Airing & Sunrise        & Original & 25 min per ep & PG-13 - Teens 13 or older      & 2764.0 & 1795 &   613 & 42829.0  &  111931 & https://cdn.myanimelist.net/images/anime/10/19969.jpg    & 7.377905\\\\\n\t5 &  8 & Bouken Ou Beet                  & Beet the Vandel Buster  & 冒険王ビィト                                & 6.94 & Adventure, Fantasy, Supernatural     & TV    & 52.0  & Finished Airing & Toei Animation & Manga    & 23 min per ep & PG - Children                  & 4240.0 & 5126 &    14 & 6413.0   &   15001 & https://cdn.myanimelist.net/images/anime/7/21569.jpg     & 7.015062\\\\\n\t6 & 15 & Eyeshield 21                    & UNKNOWN                 & アイシールド21                              & 7.92 & Sports                               & TV    & 145.0 & Finished Airing & Gallop         & Manga    & 23 min per ep & PG-13 - Teens 13 or older      & 688.0  & 1252 &  1997 & 86524.0  &  177688 & https://cdn.myanimelist.net/images/anime/1079/133529.jpg & 7.980910\\\\\n\\end{tabular}\n",
            "text/plain": "  anime_id Name                            English.name           \n1  1       Cowboy Bebop                    Cowboy Bebop           \n2  5       Cowboy Bebop: Tengoku no Tobira Cowboy Bebop: The Movie\n3  6       Trigun                          Trigun                 \n4  7       Witch Hunter Robin              Witch Hunter Robin     \n5  8       Bouken Ou Beet                  Beet the Vandel Buster \n6 15       Eyeshield 21                    UNKNOWN                \n  Other.name                                  Score\n1 カウボーイビバップ                          8.75 \n2 カウボーイビバップ 天国の扉                 8.38 \n3 トライガン                                  8.22 \n4 Witch Hunter ROBIN (ウイッチハンターロビン) 7.25 \n5 冒険王ビィト                                6.94 \n6 アイシールド21                              7.92 \n  Genres                               Type  Episodes Status         \n1 Action, Award Winning, Sci-Fi        TV    26.0     Finished Airing\n2 Action, Sci-Fi                       Movie 1.0      Finished Airing\n3 Action, Adventure, Sci-Fi            TV    26.0     Finished Airing\n4 Action, Drama, Mystery, Supernatural TV    26.0     Finished Airing\n5 Adventure, Fantasy, Supernatural     TV    52.0     Finished Airing\n6 Sports                               TV    145.0    Finished Airing\n  Studios        Source   Duration      Rating                         Rank  \n1 Sunrise        Original 24 min per ep R - 17+ (violence & profanity) 41.0  \n2 Bones          Original 1 hr 55 min   R - 17+ (violence & profanity) 189.0 \n3 Madhouse       Manga    24 min per ep PG-13 - Teens 13 or older      328.0 \n4 Sunrise        Original 25 min per ep PG-13 - Teens 13 or older      2764.0\n5 Toei Animation Manga    23 min per ep PG - Children                  4240.0\n6 Gallop         Manga    23 min per ep PG-13 - Teens 13 or older      688.0 \n  Popularity Favorites Scored.By Members\n1   43       78525     914193.0  1771505\n2  602        1448     206248.0   360978\n3  246       15035     356739.0   727252\n4 1795         613     42829.0    111931\n5 5126          14     6413.0      15001\n6 1252        1997     86524.0    177688\n  Image.URL                                                users_rating\n1 https://cdn.myanimelist.net/images/anime/4/19644.jpg     8.772673    \n2 https://cdn.myanimelist.net/images/anime/1439/93480.jpg  8.378287    \n3 https://cdn.myanimelist.net/images/anime/7/20310.jpg     8.296920    \n4 https://cdn.myanimelist.net/images/anime/10/19969.jpg    7.377905    \n5 https://cdn.myanimelist.net/images/anime/7/21569.jpg     7.015062    \n6 https://cdn.myanimelist.net/images/anime/1079/133529.jpg 7.980910    "
          },
          "metadata": {}
        },
        {
          "output_type": "display_data",
          "data": {
            "text/html": "24905",
            "text/markdown": "24905",
            "text/latex": "24905",
            "text/plain": "[1] 24905"
          },
          "metadata": {}
        }
      ]
    },
    {
      "cell_type": "code",
      "source": [
        "# To keep the column names consistent\n",
        "anime_data_2023 <- rename(anime_data_2023,\n",
        "                            name = Name,\n",
        "                            english_name = English.name,\n",
        "                            other_name = Other.name,\n",
        "                            score = Score,\n",
        "                            genres = Genres,\n",
        "                            type = Type,\n",
        "                            episodes = Episodes,\n",
        "                            status = Status,\n",
        "                            studios = Studios,\n",
        "                            source = Source,\n",
        "                            duration = Duration,\n",
        "                            rating = Rating,\n",
        "                            rank = Rank,\n",
        "                            popularity = Popularity,\n",
        "                            favorites = Favorites,\n",
        "                            scored_by = Scored.By,\n",
        "                            members = Members,\n",
        "                            image_url = Image.URL)\n",
        "\n",
        "colnames(anime_data_2023)"
      ],
      "metadata": {
        "execution": {
          "iopub.status.busy": "2024-02-16T06:31:00.616657Z",
          "iopub.execute_input": "2024-02-16T06:31:00.618090Z",
          "iopub.status.idle": "2024-02-16T06:31:01.074045Z"
        },
        "trusted": true,
        "id": "QcvQ6k45p7F1",
        "outputId": "06f3fd2b-ea7c-4e3a-845f-421e0aa85e12"
      },
      "execution_count": null,
      "outputs": [
        {
          "output_type": "display_data",
          "data": {
            "text/html": "<style>\n.list-inline {list-style: none; margin:0; padding: 0}\n.list-inline>li {display: inline-block}\n.list-inline>li:not(:last-child)::after {content: \"\\00b7\"; padding: 0 .5ex}\n</style>\n<ol class=list-inline><li>'anime_id'</li><li>'name'</li><li>'english_name'</li><li>'other_name'</li><li>'score'</li><li>'genres'</li><li>'type'</li><li>'episodes'</li><li>'status'</li><li>'studios'</li><li>'source'</li><li>'duration'</li><li>'rating'</li><li>'rank'</li><li>'popularity'</li><li>'favorites'</li><li>'scored_by'</li><li>'members'</li><li>'image_url'</li><li>'users_rating'</li></ol>\n",
            "text/markdown": "1. 'anime_id'\n2. 'name'\n3. 'english_name'\n4. 'other_name'\n5. 'score'\n6. 'genres'\n7. 'type'\n8. 'episodes'\n9. 'status'\n10. 'studios'\n11. 'source'\n12. 'duration'\n13. 'rating'\n14. 'rank'\n15. 'popularity'\n16. 'favorites'\n17. 'scored_by'\n18. 'members'\n19. 'image_url'\n20. 'users_rating'\n\n\n",
            "text/latex": "\\begin{enumerate*}\n\\item 'anime\\_id'\n\\item 'name'\n\\item 'english\\_name'\n\\item 'other\\_name'\n\\item 'score'\n\\item 'genres'\n\\item 'type'\n\\item 'episodes'\n\\item 'status'\n\\item 'studios'\n\\item 'source'\n\\item 'duration'\n\\item 'rating'\n\\item 'rank'\n\\item 'popularity'\n\\item 'favorites'\n\\item 'scored\\_by'\n\\item 'members'\n\\item 'image\\_url'\n\\item 'users\\_rating'\n\\end{enumerate*}\n",
            "text/plain": " [1] \"anime_id\"     \"name\"         \"english_name\" \"other_name\"   \"score\"       \n [6] \"genres\"       \"type\"         \"episodes\"     \"status\"       \"studios\"     \n[11] \"source\"       \"duration\"     \"rating\"       \"rank\"         \"popularity\"  \n[16] \"favorites\"    \"scored_by\"    \"members\"      \"image_url\"    \"users_rating\""
          },
          "metadata": {}
        }
      ]
    },
    {
      "cell_type": "code",
      "source": [
        "# To remove white spaces\n",
        "anime_data_trimmed <- mutate_if(anime_data_2023, is.character, trimws)"
      ],
      "metadata": {
        "execution": {
          "iopub.status.busy": "2024-02-16T06:31:01.076750Z",
          "iopub.execute_input": "2024-02-16T06:31:01.078227Z",
          "iopub.status.idle": "2024-02-16T06:31:01.405021Z"
        },
        "trusted": true,
        "id": "IE5xc8Ijp7F1"
      },
      "execution_count": null,
      "outputs": []
    },
    {
      "cell_type": "code",
      "source": [
        "# To convert UNKNOWN to null values\n",
        "anime_data_2023 <- anime_data_trimmed %>%\n",
        "    mutate_at(c(\"english_name\", \"other_name\", \"score\", \"genres\", \"type\", \"episodes\", \"status\",\n",
        "                \"studios\", \"source\", \"duration\", \"rating\", \"rank\",\"scored_by\", \"image_url\"),\n",
        "                ~ na_if(., \"UNKNOWN\"))\n",
        "\n",
        "# To check if a random column still has an \"UNKNOWN\" value\n",
        "print(any(anime_data_2023$genres == \"UNKNOWN\"))"
      ],
      "metadata": {
        "execution": {
          "iopub.status.busy": "2024-02-16T06:31:01.407692Z",
          "iopub.execute_input": "2024-02-16T06:31:01.409194Z",
          "iopub.status.idle": "2024-02-16T06:31:01.517567Z"
        },
        "trusted": true,
        "id": "bxy8pEfxp7F1",
        "outputId": "009b19df-700c-41e8-936f-2d393a1e3294"
      },
      "execution_count": null,
      "outputs": [
        {
          "name": "stdout",
          "text": "[1] NA\n",
          "output_type": "stream"
        }
      ]
    },
    {
      "cell_type": "code",
      "source": [
        "# To convert Unknown to null values\n",
        "anime_data_2023 <- anime_data_2023 %>%\n",
        "    mutate_at(c(\"english_name\", \"other_name\", \"score\", \"genres\", \"type\", \"episodes\", \"status\",\n",
        "                \"studios\", \"source\", \"duration\", \"rating\", \"rank\",\"scored_by\", \"image_url\"),\n",
        "                ~ na_if(., \"Unknown\"))\n",
        "\n",
        "# To check if a random column still has an \"Unknown\" value\n",
        "print(any(anime_data_2023$source == \"Unknown\"))\n",
        "print(any(anime_data_2023$duration == \"Unknown\"))\n",
        "print(any(anime_data_2023$genres == \"UNKNOWN\"))"
      ],
      "metadata": {
        "execution": {
          "iopub.status.busy": "2024-02-16T06:31:01.520112Z",
          "iopub.execute_input": "2024-02-16T06:31:01.521486Z",
          "iopub.status.idle": "2024-02-16T06:31:01.617768Z"
        },
        "trusted": true,
        "id": "99wml4O8p7F1",
        "outputId": "30150c58-22f3-499e-91f4-f730755a4eef"
      },
      "execution_count": null,
      "outputs": [
        {
          "name": "stdout",
          "text": "[1] NA\n[1] NA\n[1] NA\n",
          "output_type": "stream"
        }
      ]
    },
    {
      "cell_type": "code",
      "source": [
        "# To convert blank to null values\n",
        "anime_data_2023 <- anime_data_2023 %>%\n",
        "    mutate_at(c(\"english_name\", \"other_name\", \"score\", \"genres\", \"type\", \"episodes\", \"status\",\n",
        "                \"studios\", \"source\", \"duration\", \"rating\", \"rank\",\"scored_by\", \"image_url\"),\n",
        "                ~ na_if(., \" \"))"
      ],
      "metadata": {
        "execution": {
          "iopub.status.busy": "2024-02-16T06:31:01.620228Z",
          "iopub.execute_input": "2024-02-16T06:31:01.621549Z",
          "iopub.status.idle": "2024-02-16T06:31:01.704524Z"
        },
        "trusted": true,
        "id": "wRTsX9RAp7F2"
      },
      "execution_count": null,
      "outputs": []
    },
    {
      "cell_type": "code",
      "source": [
        "# To check if there are duplicates in the anime name\n",
        "print(any(duplicated(anime_data_2023$name)))\n",
        "\n",
        "duplicates_name <- duplicated(anime_data_2023$name) |\n",
        "                    duplicated(anime_data_2023$name, fromLAST = TRUE)\n",
        "\n",
        "print(anime_data_2023[which(duplicates_name), ])"
      ],
      "metadata": {
        "execution": {
          "iopub.status.busy": "2024-02-16T06:31:01.707241Z",
          "iopub.execute_input": "2024-02-16T06:31:01.708727Z",
          "iopub.status.idle": "2024-02-16T06:31:01.788205Z"
        },
        "trusted": true,
        "id": "iCS3Q3w9p7F2",
        "outputId": "c23a4594-e355-4d9d-f9d0-7c1411c7fb1d"
      },
      "execution_count": null,
      "outputs": [
        {
          "name": "stdout",
          "text": "[1] TRUE\n      anime_id      name english_name     other_name score\n24587    55351 Azur Lane    Azur Lane アズールレーン  <NA>\n24782    55582    Utopia         <NA>     ユートピア  <NA>\n24808    55610  Souseiki         <NA>           <NA>  <NA>\n24841    55658 Awakening         <NA>      Awakening  <NA>\n                     genres    type episodes           status studios   source\n24587 Action, Slice of Life Special     <NA> Currently Airing    <NA>     Game\n24782                  <NA>   Music      1.0  Finished Airing    <NA> Original\n24808               Fantasy     OVA      1.0  Finished Airing    <NA> Original\n24841                  <NA>   Music      1.0  Finished Airing    <NA> Original\n      duration                    rating rank popularity favorites scored_by\n24587   30 sec PG-13 - Teens 13 or older  0.0          0         0      <NA>\n24782    3 min              G - All Ages  0.0          0         0      <NA>\n24808     <NA>              G - All Ages  0.0          0         0      <NA>\n24841    4 min              G - All Ages <NA>      24580         0      <NA>\n      members                                                image_url\n24587       0 https://cdn.myanimelist.net/images/anime/1421/135967.jpg\n24782       0 https://cdn.myanimelist.net/images/anime/1475/137259.jpg\n24808       0 https://cdn.myanimelist.net/images/anime/1704/136385.jpg\n24841      35 https://cdn.myanimelist.net/images/anime/1632/136466.jpg\n      users_rating\n24587     6.080357\n24782     6.416667\n24808     6.333333\n24841           NA\n",
          "output_type": "stream"
        }
      ]
    },
    {
      "cell_type": "code",
      "source": [
        "# To preview the duplicates\n",
        "azur_lane <- filter(anime_data_2023, name == \"Azur Lane\")\n",
        "head(azur_lane)\n",
        "\n",
        "utopia <- filter(anime_data_2023, name == \"Utopia\")\n",
        "head(utopia)\n",
        "\n",
        "souseiki <- filter(anime_data_2023, name == \"Souseiki\")\n",
        "head(souseiki)\n",
        "\n",
        "awakening <- filter(anime_data_2023, name == \"Awakening\")\n",
        "head(awakening)"
      ],
      "metadata": {
        "execution": {
          "iopub.status.busy": "2024-02-16T06:31:01.790705Z",
          "iopub.execute_input": "2024-02-16T06:31:01.792092Z",
          "iopub.status.idle": "2024-02-16T06:31:01.916636Z"
        },
        "trusted": true,
        "id": "g7I3cYCVp7F2",
        "outputId": "bbae536c-0144-4998-ff47-ee1d582a1c5c"
      },
      "execution_count": null,
      "outputs": [
        {
          "output_type": "display_data",
          "data": {
            "text/html": "<table class=\"dataframe\">\n<caption>A data.frame: 2 × 20</caption>\n<thead>\n\t<tr><th></th><th scope=col>anime_id</th><th scope=col>name</th><th scope=col>english_name</th><th scope=col>other_name</th><th scope=col>score</th><th scope=col>genres</th><th scope=col>type</th><th scope=col>episodes</th><th scope=col>status</th><th scope=col>studios</th><th scope=col>source</th><th scope=col>duration</th><th scope=col>rating</th><th scope=col>rank</th><th scope=col>popularity</th><th scope=col>favorites</th><th scope=col>scored_by</th><th scope=col>members</th><th scope=col>image_url</th><th scope=col>users_rating</th></tr>\n\t<tr><th></th><th scope=col>&lt;int&gt;</th><th scope=col>&lt;chr&gt;</th><th scope=col>&lt;chr&gt;</th><th scope=col>&lt;chr&gt;</th><th scope=col>&lt;chr&gt;</th><th scope=col>&lt;chr&gt;</th><th scope=col>&lt;chr&gt;</th><th scope=col>&lt;chr&gt;</th><th scope=col>&lt;chr&gt;</th><th scope=col>&lt;chr&gt;</th><th scope=col>&lt;chr&gt;</th><th scope=col>&lt;chr&gt;</th><th scope=col>&lt;chr&gt;</th><th scope=col>&lt;chr&gt;</th><th scope=col>&lt;int&gt;</th><th scope=col>&lt;int&gt;</th><th scope=col>&lt;chr&gt;</th><th scope=col>&lt;int&gt;</th><th scope=col>&lt;chr&gt;</th><th scope=col>&lt;dbl&gt;</th></tr>\n</thead>\n<tbody>\n\t<tr><th scope=row>1</th><td>38328</td><td>Azur Lane</td><td>Azur Lane the Animation</td><td>アズールレーン THE ANIMATION</td><td>6.28</td><td>Action, Sci-Fi       </td><td>TV     </td><td>12.0</td><td>Finished Airing </td><td>Bibury Animation Studios</td><td>Game</td><td>23 min per ep</td><td>R+ - Mild Nudity         </td><td>7502.0</td><td>1343</td><td>960</td><td>58398.0</td><td>162902</td><td>https://cdn.myanimelist.net/images/anime/1106/111620.jpg</td><td>6.095278</td></tr>\n\t<tr><th scope=row>2</th><td>55351</td><td>Azur Lane</td><td>Azur Lane              </td><td>アズールレーン              </td><td>NA  </td><td>Action, Slice of Life</td><td>Special</td><td>NA  </td><td>Currently Airing</td><td>NA                      </td><td>Game</td><td>30 sec       </td><td>PG-13 - Teens 13 or older</td><td>0.0   </td><td>   0</td><td>  0</td><td>NA     </td><td>     0</td><td>https://cdn.myanimelist.net/images/anime/1421/135967.jpg</td><td>6.080357</td></tr>\n</tbody>\n</table>\n",
            "text/markdown": "\nA data.frame: 2 × 20\n\n| <!--/--> | anime_id &lt;int&gt; | name &lt;chr&gt; | english_name &lt;chr&gt; | other_name &lt;chr&gt; | score &lt;chr&gt; | genres &lt;chr&gt; | type &lt;chr&gt; | episodes &lt;chr&gt; | status &lt;chr&gt; | studios &lt;chr&gt; | source &lt;chr&gt; | duration &lt;chr&gt; | rating &lt;chr&gt; | rank &lt;chr&gt; | popularity &lt;int&gt; | favorites &lt;int&gt; | scored_by &lt;chr&gt; | members &lt;int&gt; | image_url &lt;chr&gt; | users_rating &lt;dbl&gt; |\n|---|---|---|---|---|---|---|---|---|---|---|---|---|---|---|---|---|---|---|---|---|\n| 1 | 38328 | Azur Lane | Azur Lane the Animation | アズールレーン THE ANIMATION | 6.28 | Action, Sci-Fi        | TV      | 12.0 | Finished Airing  | Bibury Animation Studios | Game | 23 min per ep | R+ - Mild Nudity          | 7502.0 | 1343 | 960 | 58398.0 | 162902 | https://cdn.myanimelist.net/images/anime/1106/111620.jpg | 6.095278 |\n| 2 | 55351 | Azur Lane | Azur Lane               | アズールレーン               | NA   | Action, Slice of Life | Special | NA   | Currently Airing | NA                       | Game | 30 sec        | PG-13 - Teens 13 or older | 0.0    |    0 |   0 | NA      |      0 | https://cdn.myanimelist.net/images/anime/1421/135967.jpg | 6.080357 |\n\n",
            "text/latex": "A data.frame: 2 × 20\n\\begin{tabular}{r|llllllllllllllllllll}\n  & anime\\_id & name & english\\_name & other\\_name & score & genres & type & episodes & status & studios & source & duration & rating & rank & popularity & favorites & scored\\_by & members & image\\_url & users\\_rating\\\\\n  & <int> & <chr> & <chr> & <chr> & <chr> & <chr> & <chr> & <chr> & <chr> & <chr> & <chr> & <chr> & <chr> & <chr> & <int> & <int> & <chr> & <int> & <chr> & <dbl>\\\\\n\\hline\n\t1 & 38328 & Azur Lane & Azur Lane the Animation & アズールレーン THE ANIMATION & 6.28 & Action, Sci-Fi        & TV      & 12.0 & Finished Airing  & Bibury Animation Studios & Game & 23 min per ep & R+ - Mild Nudity          & 7502.0 & 1343 & 960 & 58398.0 & 162902 & https://cdn.myanimelist.net/images/anime/1106/111620.jpg & 6.095278\\\\\n\t2 & 55351 & Azur Lane & Azur Lane               & アズールレーン               & NA   & Action, Slice of Life & Special & NA   & Currently Airing & NA                       & Game & 30 sec        & PG-13 - Teens 13 or older & 0.0    &    0 &   0 & NA      &      0 & https://cdn.myanimelist.net/images/anime/1421/135967.jpg & 6.080357\\\\\n\\end{tabular}\n",
            "text/plain": "  anime_id name      english_name            other_name                   score\n1 38328    Azur Lane Azur Lane the Animation アズールレーン THE ANIMATION 6.28 \n2 55351    Azur Lane Azur Lane               アズールレーン               NA   \n  genres                type    episodes status          \n1 Action, Sci-Fi        TV      12.0     Finished Airing \n2 Action, Slice of Life Special NA       Currently Airing\n  studios                  source duration      rating                   \n1 Bibury Animation Studios Game   23 min per ep R+ - Mild Nudity         \n2 NA                       Game   30 sec        PG-13 - Teens 13 or older\n  rank   popularity favorites scored_by members\n1 7502.0 1343       960       58398.0   162902 \n2 0.0       0         0       NA             0 \n  image_url                                                users_rating\n1 https://cdn.myanimelist.net/images/anime/1106/111620.jpg 6.095278    \n2 https://cdn.myanimelist.net/images/anime/1421/135967.jpg 6.080357    "
          },
          "metadata": {}
        },
        {
          "output_type": "display_data",
          "data": {
            "text/html": "<table class=\"dataframe\">\n<caption>A data.frame: 2 × 20</caption>\n<thead>\n\t<tr><th></th><th scope=col>anime_id</th><th scope=col>name</th><th scope=col>english_name</th><th scope=col>other_name</th><th scope=col>score</th><th scope=col>genres</th><th scope=col>type</th><th scope=col>episodes</th><th scope=col>status</th><th scope=col>studios</th><th scope=col>source</th><th scope=col>duration</th><th scope=col>rating</th><th scope=col>rank</th><th scope=col>popularity</th><th scope=col>favorites</th><th scope=col>scored_by</th><th scope=col>members</th><th scope=col>image_url</th><th scope=col>users_rating</th></tr>\n\t<tr><th></th><th scope=col>&lt;int&gt;</th><th scope=col>&lt;chr&gt;</th><th scope=col>&lt;chr&gt;</th><th scope=col>&lt;chr&gt;</th><th scope=col>&lt;chr&gt;</th><th scope=col>&lt;chr&gt;</th><th scope=col>&lt;chr&gt;</th><th scope=col>&lt;chr&gt;</th><th scope=col>&lt;chr&gt;</th><th scope=col>&lt;chr&gt;</th><th scope=col>&lt;chr&gt;</th><th scope=col>&lt;chr&gt;</th><th scope=col>&lt;chr&gt;</th><th scope=col>&lt;chr&gt;</th><th scope=col>&lt;int&gt;</th><th scope=col>&lt;int&gt;</th><th scope=col>&lt;chr&gt;</th><th scope=col>&lt;int&gt;</th><th scope=col>&lt;chr&gt;</th><th scope=col>&lt;dbl&gt;</th></tr>\n</thead>\n<tbody>\n\t<tr><th scope=row>1</th><td>21103</td><td>Utopia</td><td>NA</td><td>true tears×花咲くいろは×TARITARI ユートピア</td><td>6.41</td><td>NA</td><td>Music</td><td>1.0</td><td>Finished Airing</td><td>P.A. Works</td><td>Original</td><td>1 min</td><td>PG-13 - Teens 13 or older</td><td>NA </td><td>6874</td><td>4</td><td>2740.0</td><td>7252</td><td>https://cdn.myanimelist.net/images/anime/13/55745.jpg   </td><td>6.544118</td></tr>\n\t<tr><th scope=row>2</th><td>55582</td><td>Utopia</td><td>NA</td><td>ユートピア                                 </td><td>NA  </td><td>NA</td><td>Music</td><td>1.0</td><td>Finished Airing</td><td>NA        </td><td>Original</td><td>3 min</td><td>G - All Ages             </td><td>0.0</td><td>   0</td><td>0</td><td>NA    </td><td>   0</td><td>https://cdn.myanimelist.net/images/anime/1475/137259.jpg</td><td>6.416667</td></tr>\n</tbody>\n</table>\n",
            "text/markdown": "\nA data.frame: 2 × 20\n\n| <!--/--> | anime_id &lt;int&gt; | name &lt;chr&gt; | english_name &lt;chr&gt; | other_name &lt;chr&gt; | score &lt;chr&gt; | genres &lt;chr&gt; | type &lt;chr&gt; | episodes &lt;chr&gt; | status &lt;chr&gt; | studios &lt;chr&gt; | source &lt;chr&gt; | duration &lt;chr&gt; | rating &lt;chr&gt; | rank &lt;chr&gt; | popularity &lt;int&gt; | favorites &lt;int&gt; | scored_by &lt;chr&gt; | members &lt;int&gt; | image_url &lt;chr&gt; | users_rating &lt;dbl&gt; |\n|---|---|---|---|---|---|---|---|---|---|---|---|---|---|---|---|---|---|---|---|---|\n| 1 | 21103 | Utopia | NA | true tears×花咲くいろは×TARITARI ユートピア | 6.41 | NA | Music | 1.0 | Finished Airing | P.A. Works | Original | 1 min | PG-13 - Teens 13 or older | NA  | 6874 | 4 | 2740.0 | 7252 | https://cdn.myanimelist.net/images/anime/13/55745.jpg    | 6.544118 |\n| 2 | 55582 | Utopia | NA | ユートピア                                  | NA   | NA | Music | 1.0 | Finished Airing | NA         | Original | 3 min | G - All Ages              | 0.0 |    0 | 0 | NA     |    0 | https://cdn.myanimelist.net/images/anime/1475/137259.jpg | 6.416667 |\n\n",
            "text/latex": "A data.frame: 2 × 20\n\\begin{tabular}{r|llllllllllllllllllll}\n  & anime\\_id & name & english\\_name & other\\_name & score & genres & type & episodes & status & studios & source & duration & rating & rank & popularity & favorites & scored\\_by & members & image\\_url & users\\_rating\\\\\n  & <int> & <chr> & <chr> & <chr> & <chr> & <chr> & <chr> & <chr> & <chr> & <chr> & <chr> & <chr> & <chr> & <chr> & <int> & <int> & <chr> & <int> & <chr> & <dbl>\\\\\n\\hline\n\t1 & 21103 & Utopia & NA & true tears×花咲くいろは×TARITARI ユートピア & 6.41 & NA & Music & 1.0 & Finished Airing & P.A. Works & Original & 1 min & PG-13 - Teens 13 or older & NA  & 6874 & 4 & 2740.0 & 7252 & https://cdn.myanimelist.net/images/anime/13/55745.jpg    & 6.544118\\\\\n\t2 & 55582 & Utopia & NA & ユートピア                                  & NA   & NA & Music & 1.0 & Finished Airing & NA         & Original & 3 min & G - All Ages              & 0.0 &    0 & 0 & NA     &    0 & https://cdn.myanimelist.net/images/anime/1475/137259.jpg & 6.416667\\\\\n\\end{tabular}\n",
            "text/plain": "  anime_id name   english_name other_name                                 \n1 21103    Utopia NA           true tears×花咲くいろは×TARITARI ユートピア\n2 55582    Utopia NA           ユートピア                                 \n  score genres type  episodes status          studios    source   duration\n1 6.41  NA     Music 1.0      Finished Airing P.A. Works Original 1 min   \n2 NA    NA     Music 1.0      Finished Airing NA         Original 3 min   \n  rating                    rank popularity favorites scored_by members\n1 PG-13 - Teens 13 or older NA   6874       4         2740.0    7252   \n2 G - All Ages              0.0     0       0         NA           0   \n  image_url                                                users_rating\n1 https://cdn.myanimelist.net/images/anime/13/55745.jpg    6.544118    \n2 https://cdn.myanimelist.net/images/anime/1475/137259.jpg 6.416667    "
          },
          "metadata": {}
        },
        {
          "output_type": "display_data",
          "data": {
            "text/html": "<table class=\"dataframe\">\n<caption>A data.frame: 2 × 20</caption>\n<thead>\n\t<tr><th></th><th scope=col>anime_id</th><th scope=col>name</th><th scope=col>english_name</th><th scope=col>other_name</th><th scope=col>score</th><th scope=col>genres</th><th scope=col>type</th><th scope=col>episodes</th><th scope=col>status</th><th scope=col>studios</th><th scope=col>source</th><th scope=col>duration</th><th scope=col>rating</th><th scope=col>rank</th><th scope=col>popularity</th><th scope=col>favorites</th><th scope=col>scored_by</th><th scope=col>members</th><th scope=col>image_url</th><th scope=col>users_rating</th></tr>\n\t<tr><th></th><th scope=col>&lt;int&gt;</th><th scope=col>&lt;chr&gt;</th><th scope=col>&lt;chr&gt;</th><th scope=col>&lt;chr&gt;</th><th scope=col>&lt;chr&gt;</th><th scope=col>&lt;chr&gt;</th><th scope=col>&lt;chr&gt;</th><th scope=col>&lt;chr&gt;</th><th scope=col>&lt;chr&gt;</th><th scope=col>&lt;chr&gt;</th><th scope=col>&lt;chr&gt;</th><th scope=col>&lt;chr&gt;</th><th scope=col>&lt;chr&gt;</th><th scope=col>&lt;chr&gt;</th><th scope=col>&lt;int&gt;</th><th scope=col>&lt;int&gt;</th><th scope=col>&lt;chr&gt;</th><th scope=col>&lt;int&gt;</th><th scope=col>&lt;chr&gt;</th><th scope=col>&lt;dbl&gt;</th></tr>\n</thead>\n<tbody>\n\t<tr><th scope=row>1</th><td> 3473</td><td>Souseiki</td><td>The Genesis</td><td>創世記</td><td>5.38</td><td>NA     </td><td>Movie</td><td>1.0</td><td>Finished Airing</td><td>NA</td><td>NA      </td><td>4 min</td><td>PG - Children</td><td>11141.0</td><td>10929</td><td>1</td><td>965.0</td><td>1831</td><td>https://cdn.myanimelist.net/images/anime/10/5777.jpg    </td><td>6.392857</td></tr>\n\t<tr><th scope=row>2</th><td>55610</td><td>Souseiki</td><td>NA         </td><td>NA    </td><td>NA  </td><td>Fantasy</td><td>OVA  </td><td>1.0</td><td>Finished Airing</td><td>NA</td><td>Original</td><td>NA   </td><td>G - All Ages </td><td>0.0    </td><td>    0</td><td>0</td><td>NA   </td><td>   0</td><td>https://cdn.myanimelist.net/images/anime/1704/136385.jpg</td><td>6.333333</td></tr>\n</tbody>\n</table>\n",
            "text/markdown": "\nA data.frame: 2 × 20\n\n| <!--/--> | anime_id &lt;int&gt; | name &lt;chr&gt; | english_name &lt;chr&gt; | other_name &lt;chr&gt; | score &lt;chr&gt; | genres &lt;chr&gt; | type &lt;chr&gt; | episodes &lt;chr&gt; | status &lt;chr&gt; | studios &lt;chr&gt; | source &lt;chr&gt; | duration &lt;chr&gt; | rating &lt;chr&gt; | rank &lt;chr&gt; | popularity &lt;int&gt; | favorites &lt;int&gt; | scored_by &lt;chr&gt; | members &lt;int&gt; | image_url &lt;chr&gt; | users_rating &lt;dbl&gt; |\n|---|---|---|---|---|---|---|---|---|---|---|---|---|---|---|---|---|---|---|---|---|\n| 1 |  3473 | Souseiki | The Genesis | 創世記 | 5.38 | NA      | Movie | 1.0 | Finished Airing | NA | NA       | 4 min | PG - Children | 11141.0 | 10929 | 1 | 965.0 | 1831 | https://cdn.myanimelist.net/images/anime/10/5777.jpg     | 6.392857 |\n| 2 | 55610 | Souseiki | NA          | NA     | NA   | Fantasy | OVA   | 1.0 | Finished Airing | NA | Original | NA    | G - All Ages  | 0.0     |     0 | 0 | NA    |    0 | https://cdn.myanimelist.net/images/anime/1704/136385.jpg | 6.333333 |\n\n",
            "text/latex": "A data.frame: 2 × 20\n\\begin{tabular}{r|llllllllllllllllllll}\n  & anime\\_id & name & english\\_name & other\\_name & score & genres & type & episodes & status & studios & source & duration & rating & rank & popularity & favorites & scored\\_by & members & image\\_url & users\\_rating\\\\\n  & <int> & <chr> & <chr> & <chr> & <chr> & <chr> & <chr> & <chr> & <chr> & <chr> & <chr> & <chr> & <chr> & <chr> & <int> & <int> & <chr> & <int> & <chr> & <dbl>\\\\\n\\hline\n\t1 &  3473 & Souseiki & The Genesis & 創世記 & 5.38 & NA      & Movie & 1.0 & Finished Airing & NA & NA       & 4 min & PG - Children & 11141.0 & 10929 & 1 & 965.0 & 1831 & https://cdn.myanimelist.net/images/anime/10/5777.jpg     & 6.392857\\\\\n\t2 & 55610 & Souseiki & NA          & NA     & NA   & Fantasy & OVA   & 1.0 & Finished Airing & NA & Original & NA    & G - All Ages  & 0.0     &     0 & 0 & NA    &    0 & https://cdn.myanimelist.net/images/anime/1704/136385.jpg & 6.333333\\\\\n\\end{tabular}\n",
            "text/plain": "  anime_id name     english_name other_name score genres  type  episodes\n1  3473    Souseiki The Genesis  創世記     5.38  NA      Movie 1.0     \n2 55610    Souseiki NA           NA         NA    Fantasy OVA   1.0     \n  status          studios source   duration rating        rank    popularity\n1 Finished Airing NA      NA       4 min    PG - Children 11141.0 10929     \n2 Finished Airing NA      Original NA       G - All Ages  0.0         0     \n  favorites scored_by members\n1 1         965.0     1831   \n2 0         NA           0   \n  image_url                                                users_rating\n1 https://cdn.myanimelist.net/images/anime/10/5777.jpg     6.392857    \n2 https://cdn.myanimelist.net/images/anime/1704/136385.jpg 6.333333    "
          },
          "metadata": {}
        },
        {
          "output_type": "display_data",
          "data": {
            "text/html": "<table class=\"dataframe\">\n<caption>A data.frame: 2 × 20</caption>\n<thead>\n\t<tr><th></th><th scope=col>anime_id</th><th scope=col>name</th><th scope=col>english_name</th><th scope=col>other_name</th><th scope=col>score</th><th scope=col>genres</th><th scope=col>type</th><th scope=col>episodes</th><th scope=col>status</th><th scope=col>studios</th><th scope=col>source</th><th scope=col>duration</th><th scope=col>rating</th><th scope=col>rank</th><th scope=col>popularity</th><th scope=col>favorites</th><th scope=col>scored_by</th><th scope=col>members</th><th scope=col>image_url</th><th scope=col>users_rating</th></tr>\n\t<tr><th></th><th scope=col>&lt;int&gt;</th><th scope=col>&lt;chr&gt;</th><th scope=col>&lt;chr&gt;</th><th scope=col>&lt;chr&gt;</th><th scope=col>&lt;chr&gt;</th><th scope=col>&lt;chr&gt;</th><th scope=col>&lt;chr&gt;</th><th scope=col>&lt;chr&gt;</th><th scope=col>&lt;chr&gt;</th><th scope=col>&lt;chr&gt;</th><th scope=col>&lt;chr&gt;</th><th scope=col>&lt;chr&gt;</th><th scope=col>&lt;chr&gt;</th><th scope=col>&lt;chr&gt;</th><th scope=col>&lt;int&gt;</th><th scope=col>&lt;int&gt;</th><th scope=col>&lt;chr&gt;</th><th scope=col>&lt;int&gt;</th><th scope=col>&lt;chr&gt;</th><th scope=col>&lt;dbl&gt;</th></tr>\n</thead>\n<tbody>\n\t<tr><th scope=row>1</th><td>54618</td><td>Awakening</td><td>NA</td><td>Awakening</td><td>NA</td><td>NA</td><td>Music</td><td>1.0</td><td>Finished Airing</td><td>NA</td><td>Mixed media</td><td>3 min</td><td>NA          </td><td>0.0</td><td>    0</td><td>0</td><td>NA</td><td> 0</td><td>https://cdn.myanimelist.net/images/anime/1535/133770.jpg</td><td>NA</td></tr>\n\t<tr><th scope=row>2</th><td>55658</td><td>Awakening</td><td>NA</td><td>Awakening</td><td>NA</td><td>NA</td><td>Music</td><td>1.0</td><td>Finished Airing</td><td>NA</td><td>Original   </td><td>4 min</td><td>G - All Ages</td><td>NA </td><td>24580</td><td>0</td><td>NA</td><td>35</td><td>https://cdn.myanimelist.net/images/anime/1632/136466.jpg</td><td>NA</td></tr>\n</tbody>\n</table>\n",
            "text/markdown": "\nA data.frame: 2 × 20\n\n| <!--/--> | anime_id &lt;int&gt; | name &lt;chr&gt; | english_name &lt;chr&gt; | other_name &lt;chr&gt; | score &lt;chr&gt; | genres &lt;chr&gt; | type &lt;chr&gt; | episodes &lt;chr&gt; | status &lt;chr&gt; | studios &lt;chr&gt; | source &lt;chr&gt; | duration &lt;chr&gt; | rating &lt;chr&gt; | rank &lt;chr&gt; | popularity &lt;int&gt; | favorites &lt;int&gt; | scored_by &lt;chr&gt; | members &lt;int&gt; | image_url &lt;chr&gt; | users_rating &lt;dbl&gt; |\n|---|---|---|---|---|---|---|---|---|---|---|---|---|---|---|---|---|---|---|---|---|\n| 1 | 54618 | Awakening | NA | Awakening | NA | NA | Music | 1.0 | Finished Airing | NA | Mixed media | 3 min | NA           | 0.0 |     0 | 0 | NA |  0 | https://cdn.myanimelist.net/images/anime/1535/133770.jpg | NA |\n| 2 | 55658 | Awakening | NA | Awakening | NA | NA | Music | 1.0 | Finished Airing | NA | Original    | 4 min | G - All Ages | NA  | 24580 | 0 | NA | 35 | https://cdn.myanimelist.net/images/anime/1632/136466.jpg | NA |\n\n",
            "text/latex": "A data.frame: 2 × 20\n\\begin{tabular}{r|llllllllllllllllllll}\n  & anime\\_id & name & english\\_name & other\\_name & score & genres & type & episodes & status & studios & source & duration & rating & rank & popularity & favorites & scored\\_by & members & image\\_url & users\\_rating\\\\\n  & <int> & <chr> & <chr> & <chr> & <chr> & <chr> & <chr> & <chr> & <chr> & <chr> & <chr> & <chr> & <chr> & <chr> & <int> & <int> & <chr> & <int> & <chr> & <dbl>\\\\\n\\hline\n\t1 & 54618 & Awakening & NA & Awakening & NA & NA & Music & 1.0 & Finished Airing & NA & Mixed media & 3 min & NA           & 0.0 &     0 & 0 & NA &  0 & https://cdn.myanimelist.net/images/anime/1535/133770.jpg & NA\\\\\n\t2 & 55658 & Awakening & NA & Awakening & NA & NA & Music & 1.0 & Finished Airing & NA & Original    & 4 min & G - All Ages & NA  & 24580 & 0 & NA & 35 & https://cdn.myanimelist.net/images/anime/1632/136466.jpg & NA\\\\\n\\end{tabular}\n",
            "text/plain": "  anime_id name      english_name other_name score genres type  episodes\n1 54618    Awakening NA           Awakening  NA    NA     Music 1.0     \n2 55658    Awakening NA           Awakening  NA    NA     Music 1.0     \n  status          studios source      duration rating       rank popularity\n1 Finished Airing NA      Mixed media 3 min    NA           0.0      0     \n2 Finished Airing NA      Original    4 min    G - All Ages NA   24580     \n  favorites scored_by members\n1 0         NA         0     \n2 0         NA        35     \n  image_url                                                users_rating\n1 https://cdn.myanimelist.net/images/anime/1535/133770.jpg NA          \n2 https://cdn.myanimelist.net/images/anime/1632/136466.jpg NA          "
          },
          "metadata": {}
        }
      ]
    },
    {
      "cell_type": "code",
      "source": [
        "# To change the duplicates\n",
        "anime_data_2023$name[anime_data_2023$anime_id == 38328] <- \"Azur Lane The Animation\"\n",
        "anime_data_2023$name[anime_data_2023$anime_id == 21103] <- \"True Tears x Hanasaku Iroha x TARITARI Utopia\"\n",
        "anime_data_2023$name[anime_data_2023$anime_id == 3473] <- \"Souseiki (Movie)\"\n",
        "anime_data_2023$name[anime_data_2023$anime_id == 55658] <- \"Awakening(2)\"\n",
        "\n",
        "# To check if the duplicates are gone\n",
        "nrow(anime_data_2023[anime_data_2023$name == \"Azur Lane\", ])\n",
        "nrow(anime_data_2023[anime_data_2023$name == \"Utopia\", ])\n",
        "nrow(anime_data_2023[anime_data_2023$name == \"Souseiki\", ])\n",
        "nrow(anime_data_2023[anime_data_2023$name == \"Awakening\", ])"
      ],
      "metadata": {
        "execution": {
          "iopub.status.busy": "2024-02-16T06:31:01.919249Z",
          "iopub.execute_input": "2024-02-16T06:31:01.920653Z",
          "iopub.status.idle": "2024-02-16T06:31:01.969043Z"
        },
        "trusted": true,
        "id": "li3G2qw_p7F2",
        "outputId": "e768d395-5521-40f3-9d55-69aa2baf1c3c"
      },
      "execution_count": null,
      "outputs": [
        {
          "output_type": "display_data",
          "data": {
            "text/html": "1",
            "text/markdown": "1",
            "text/latex": "1",
            "text/plain": "[1] 1"
          },
          "metadata": {}
        },
        {
          "output_type": "display_data",
          "data": {
            "text/html": "1",
            "text/markdown": "1",
            "text/latex": "1",
            "text/plain": "[1] 1"
          },
          "metadata": {}
        },
        {
          "output_type": "display_data",
          "data": {
            "text/html": "1",
            "text/markdown": "1",
            "text/latex": "1",
            "text/plain": "[1] 1"
          },
          "metadata": {}
        },
        {
          "output_type": "display_data",
          "data": {
            "text/html": "1",
            "text/markdown": "1",
            "text/latex": "1",
            "text/plain": "[1] 1"
          },
          "metadata": {}
        }
      ]
    },
    {
      "cell_type": "code",
      "source": [
        "# To check unique values in type, status, source and rating\n",
        "type_distinct <- distinct(anime_data_2023, type, .keep_all = FALSE)\n",
        "print(type_distinct)\n",
        "\n",
        "status_distinct <- distinct(anime_data_2023, status, .keep_all = FALSE)\n",
        "print(status_distinct)\n",
        "\n",
        "source_distinct <- distinct(anime_data_2023, source, .keep_all = FALSE)\n",
        "print(source_distinct)\n",
        "\n",
        "rating_distinct <- distinct(anime_data_2023, rating, .keep_all = FALSE)\n",
        "print(rating_distinct)"
      ],
      "metadata": {
        "execution": {
          "iopub.status.busy": "2024-02-16T06:31:01.971787Z",
          "iopub.execute_input": "2024-02-16T06:31:01.973197Z",
          "iopub.status.idle": "2024-02-16T06:31:02.423080Z"
        },
        "trusted": true,
        "id": "BH2Xrnbhp7F2",
        "outputId": "4e773d46-7fba-49ff-b09d-d22a1e46ebb8"
      },
      "execution_count": null,
      "outputs": [
        {
          "name": "stdout",
          "text": "     type\n1      TV\n2   Movie\n3     OVA\n4 Special\n5     ONA\n6   Music\n7    <NA>\n            status\n1  Finished Airing\n2 Currently Airing\n3    Not yet aired\n         source\n1      Original\n2         Manga\n3   Light novel\n4          Game\n5  Visual novel\n6  4-koma manga\n7         Novel\n8         Other\n9          <NA>\n10 Picture book\n11    Web manga\n12        Music\n13        Radio\n14         Book\n15  Mixed media\n16    Card game\n17    Web novel\n                          rating\n1 R - 17+ (violence & profanity)\n2      PG-13 - Teens 13 or older\n3                  PG - Children\n4               R+ - Mild Nudity\n5                   G - All Ages\n6                    Rx - Hentai\n7                           <NA>\n",
          "output_type": "stream"
        }
      ]
    },
    {
      "cell_type": "code",
      "source": [
        "# To convert strings to integer or double for numerical values\n",
        "anime_data_2023$score <- as.double(anime_data_2023$score)\n",
        "anime_data_2023$episodes <- as.integer(anime_data_2023$episodes)\n",
        "anime_data_2023$rank <- as.integer(anime_data_2023$rank)\n",
        "anime_data_2023$scored_by <- as.integer(anime_data_2023$scored_by)\n",
        "\n",
        "str(anime_data_2023)"
      ],
      "metadata": {
        "execution": {
          "iopub.status.busy": "2024-02-16T06:31:02.425749Z",
          "iopub.execute_input": "2024-02-16T06:31:02.427197Z",
          "iopub.status.idle": "2024-02-16T06:31:02.501464Z"
        },
        "trusted": true,
        "id": "nP64qtwCp7F2",
        "outputId": "dbe92624-6c1f-4401-e699-a72b073bacea"
      },
      "execution_count": null,
      "outputs": [
        {
          "name": "stdout",
          "text": "'data.frame':\t24905 obs. of  20 variables:\n $ anime_id    : int  1 5 6 7 8 15 16 17 18 19 ...\n $ name        : chr  \"Cowboy Bebop\" \"Cowboy Bebop: Tengoku no Tobira\" \"Trigun\" \"Witch Hunter Robin\" ...\n $ english_name: chr  \"Cowboy Bebop\" \"Cowboy Bebop: The Movie\" \"Trigun\" \"Witch Hunter Robin\" ...\n $ other_name  : chr  \"カウボーイビバップ\" \"カウボーイビバップ 天国の扉\" \"トライガン\" \"Witch Hunter ROBIN (ウイッチハンターロビン)\" ...\n $ score       : num  8.75 8.38 8.22 7.25 6.94 7.92 8 7.55 8.16 8.87 ...\n $ genres      : chr  \"Action, Award Winning, Sci-Fi\" \"Action, Sci-Fi\" \"Action, Adventure, Sci-Fi\" \"Action, Drama, Mystery, Supernatural\" ...\n $ type        : chr  \"TV\" \"Movie\" \"TV\" \"TV\" ...\n $ episodes    : int  26 1 26 26 52 145 24 52 24 74 ...\n $ status      : chr  \"Finished Airing\" \"Finished Airing\" \"Finished Airing\" \"Finished Airing\" ...\n $ studios     : chr  \"Sunrise\" \"Bones\" \"Madhouse\" \"Sunrise\" ...\n $ source      : chr  \"Original\" \"Original\" \"Manga\" \"Original\" ...\n $ duration    : chr  \"24 min per ep\" \"1 hr 55 min\" \"24 min per ep\" \"25 min per ep\" ...\n $ rating      : chr  \"R - 17+ (violence & profanity)\" \"R - 17+ (violence & profanity)\" \"PG-13 - Teens 13 or older\" \"PG-13 - Teens 13 or older\" ...\n $ rank        : int  41 189 328 2764 4240 688 589 1551 393 26 ...\n $ popularity  : int  43 602 246 1795 5126 1252 862 4212 1273 142 ...\n $ favorites   : int  78525 1448 15035 613 14 1997 4136 237 1237 47235 ...\n $ scored_by   : int  914193 206248 356739 42829 6413 86524 81747 12960 97878 368569 ...\n $ members     : int  1771505 360978 727252 111931 15001 177688 260166 24172 173710 1013100 ...\n $ image_url   : chr  \"https://cdn.myanimelist.net/images/anime/4/19644.jpg\" \"https://cdn.myanimelist.net/images/anime/1439/93480.jpg\" \"https://cdn.myanimelist.net/images/anime/7/20310.jpg\" \"https://cdn.myanimelist.net/images/anime/10/19969.jpg\" ...\n $ users_rating: num  8.77 8.38 8.3 7.38 7.02 ...\n",
          "output_type": "stream"
        }
      ]
    },
    {
      "cell_type": "code",
      "source": [
        "# To separate genres\n",
        "genre_split <- separate(anime_data_2023, genres,\n",
        "                        into = c(\"genre_1\", \"genre_2\", \"genre_3\", \"genre_4\", \"genre_5\", \"genre_6\", \"genre_7\", \"genre_8\", \"genre_9\"),\n",
        "                        sep = \", \", fill = \"right\")\n",
        "\n",
        "genre_separated <- genre_split %>%\n",
        "    select(\"genre_1\", \"genre_2\", \"genre_3\", \"genre_4\", \"genre_5\", \"genre_6\", \"genre_7\", \"genre_8\", \"genre_9\")\n",
        "\n",
        "# To check the row with the most number of genres\n",
        "print(genre_separated[901:905,])"
      ],
      "metadata": {
        "execution": {
          "iopub.status.busy": "2024-02-16T06:31:02.504103Z",
          "iopub.execute_input": "2024-02-16T06:31:02.505537Z",
          "iopub.status.idle": "2024-02-16T06:31:02.817290Z"
        },
        "trusted": true,
        "id": "nJe_dnETp7F2",
        "outputId": "a5891d9e-d25f-4ef9-c91a-626f5a1af0b0"
      },
      "execution_count": null,
      "outputs": [
        {
          "name": "stdout",
          "text": "      genre_1   genre_2 genre_3 genre_4 genre_5 genre_6      genre_7 genre_8\n901    Sports      <NA>    <NA>    <NA>    <NA>    <NA>         <NA>    <NA>\n902 Adventure    Comedy   Drama Fantasy Romance    <NA>         <NA>    <NA>\n903 Adventure    Comedy   Drama Fantasy Romance    <NA>         <NA>    <NA>\n904    Action Adventure  Comedy   Drama  Horror Mystery      Romance  Sci-Fi\n905    Action    Comedy   Drama  Horror Mystery  Sci-Fi Supernatural   Ecchi\n    genre_9\n901    <NA>\n902    <NA>\n903    <NA>\n904   Ecchi\n905    <NA>\n",
          "output_type": "stream"
        }
      ]
    },
    {
      "cell_type": "code",
      "source": [
        "# To convert UNKOWN to null values\n",
        "genre_split[genre_split == \"UNKNOWN\"] <- NA\n",
        "genre_separated[genre_separated == \"UNKNOWN\"] <- NA\n",
        "\n",
        "# To get the unique values per genre columns\n",
        "genre_per_column <- sapply(genre_separated, unique)\n",
        "\n",
        "genre_combined <- unlist(genre_per_column)\n",
        "\n",
        "genre_distinct <- unique(genre_combined)\n",
        "\n",
        "print(genre_distinct)"
      ],
      "metadata": {
        "execution": {
          "iopub.status.busy": "2024-02-16T06:31:02.820151Z",
          "iopub.execute_input": "2024-02-16T06:31:02.821568Z",
          "iopub.status.idle": "2024-02-16T06:31:02.945429Z"
        },
        "trusted": true,
        "id": "_BjFBAVjp7F3",
        "outputId": "2eb2281a-28d5-4580-8728-defe2d021b13"
      },
      "execution_count": null,
      "outputs": [
        {
          "name": "stdout",
          "text": " [1] \"Action\"        \"Adventure\"     \"Sports\"        \"Comedy\"       \n [5] \"Drama\"         \"Avant Garde\"   \"Award Winning\" \"Sci-Fi\"       \n [9] \"Mystery\"       \"Hentai\"        \"Horror\"        \"Boys Love\"    \n[13] \"Fantasy\"       \"Ecchi\"         \"Slice of Life\" NA             \n[17] \"Romance\"       \"Suspense\"      \"Supernatural\"  \"Girls Love\"   \n[21] \"Erotica\"       \"Gourmet\"      \n",
          "output_type": "stream"
        }
      ]
    },
    {
      "cell_type": "code",
      "source": [
        "# To compare score and users_rating\n",
        "users_rating_ranked <- anime_data_2023[order(anime_data_2023$users_rating,\n",
        "                                             decreasing = TRUE, na.last = TRUE), ]\n",
        "\n",
        "score_vs_users_rating <- users_rating_ranked %>%\n",
        "    select(\"anime_id\", \"name\", \"users_rating\", \"score\", \"scored_by\", \"favorites\", \"members\")\n",
        "\n",
        "head(score_vs_users_rating, n = 100)"
      ],
      "metadata": {
        "_kg_hide-output": true,
        "execution": {
          "iopub.status.busy": "2024-02-16T06:31:02.948190Z",
          "iopub.execute_input": "2024-02-16T06:31:02.949596Z",
          "iopub.status.idle": "2024-02-16T06:31:03.121019Z"
        },
        "trusted": true,
        "id": "xtuJYvt-p7F3",
        "outputId": "1e45d204-6156-4ec3-fd48-a06cc3f8df26"
      },
      "execution_count": null,
      "outputs": [
        {
          "output_type": "display_data",
          "data": {
            "text/html": "<table class=\"dataframe\">\n<caption>A data.frame: 100 × 7</caption>\n<thead>\n\t<tr><th></th><th scope=col>anime_id</th><th scope=col>name</th><th scope=col>users_rating</th><th scope=col>score</th><th scope=col>scored_by</th><th scope=col>favorites</th><th scope=col>members</th></tr>\n\t<tr><th></th><th scope=col>&lt;int&gt;</th><th scope=col>&lt;chr&gt;</th><th scope=col>&lt;dbl&gt;</th><th scope=col>&lt;dbl&gt;</th><th scope=col>&lt;int&gt;</th><th scope=col>&lt;int&gt;</th><th scope=col>&lt;int&gt;</th></tr>\n</thead>\n<tbody>\n\t<tr><th scope=row>4311</th><td> 5821</td><td>Zenmai Zamurai                                            </td><td>10</td><td>5.64</td><td>207</td><td>3</td><td> 662</td></tr>\n\t<tr><th scope=row>4409</th><td> 6018</td><td>Patchin shite! Obaachan                                   </td><td>10</td><td>  NA</td><td> NA</td><td>0</td><td> 325</td></tr>\n\t<tr><th scope=row>4984</th><td> 7419</td><td>Wrestler Gundan Seisenshi Robin Jr.                       </td><td>10</td><td>  NA</td><td> NA</td><td>2</td><td> 441</td></tr>\n\t<tr><th scope=row>5326</th><td> 8353</td><td>Ketsuinu                                                  </td><td>10</td><td>  NA</td><td> NA</td><td>1</td><td> 529</td></tr>\n\t<tr><th scope=row>5346</th><td> 8403</td><td>Bonobono: Kumomo no Ki no Koto                            </td><td>10</td><td>  NA</td><td> NA</td><td>0</td><td> 480</td></tr>\n\t<tr><th scope=row>5953</th><td> 9906</td><td>Sue Cat                                                   </td><td>10</td><td>6.78</td><td>212</td><td>3</td><td> 729</td></tr>\n\t<tr><th scope=row>6032</th><td>10058</td><td>Sore Ike! Anpanman: Yuurei Sen wo Yattsukero!!            </td><td>10</td><td>6.10</td><td>142</td><td>0</td><td> 471</td></tr>\n\t<tr><th scope=row>6109</th><td>10242</td><td>Ton-Ton Atta to Niigata no Mukashibanashi                 </td><td>10</td><td>  NA</td><td> NA</td><td>0</td><td> 260</td></tr>\n\t<tr><th scope=row>6401</th><td>10882</td><td>Ghost Messenger                                           </td><td>10</td><td>5.77</td><td>158</td><td>0</td><td>2221</td></tr>\n\t<tr><th scope=row>6405</th><td>10889</td><td>Jungle Kurobee                                            </td><td>10</td><td>  NA</td><td> NA</td><td>0</td><td> 558</td></tr>\n\t<tr><th scope=row>7369</th><td>16163</td><td>Sore Ike! Anpanman: Kirakira Boshi no Namida              </td><td>10</td><td>6.02</td><td>154</td><td>2</td><td> 508</td></tr>\n\t<tr><th scope=row>7896</th><td>18577</td><td>Noobow: Na Kokoro                                         </td><td>10</td><td>  NA</td><td> NA</td><td>1</td><td> 315</td></tr>\n\t<tr><th scope=row>8705</th><td>22617</td><td>Pochacco no Wakuwaku Birthday                             </td><td>10</td><td>  NA</td><td> NA</td><td>1</td><td> 341</td></tr>\n\t<tr><th scope=row>8708</th><td>22623</td><td>Pochacco no Ninjin Hata wa Oosawagi                       </td><td>10</td><td>  NA</td><td> NA</td><td>1</td><td> 324</td></tr>\n\t<tr><th scope=row>9242</th><td>25069</td><td>Tom Sawyer no Bouken Specials                             </td><td>10</td><td>6.18</td><td>202</td><td>2</td><td> 716</td></tr>\n\t<tr><th scope=row>9389</th><td>25979</td><td>Sheep in the Island                                       </td><td>10</td><td>4.94</td><td>141</td><td>1</td><td> 331</td></tr>\n\t<tr><th scope=row>9568</th><td>27551</td><td>Deko Boko Friends                                         </td><td>10</td><td>  NA</td><td> NA</td><td>1</td><td> 311</td></tr>\n\t<tr><th scope=row>9787</th><td>28583</td><td>Nintama Rantarou no Shouboutai                            </td><td>10</td><td>  NA</td><td> NA</td><td>0</td><td> 285</td></tr>\n\t<tr><th scope=row>9788</th><td>28585</td><td>Ajjishin da Tsunami wa? Jibun no Inochi wa Jibun de Mamoru</td><td>10</td><td>  NA</td><td> NA</td><td>0</td><td> 233</td></tr>\n\t<tr><th scope=row>9980</th><td>29427</td><td>Mori no Ratio                                             </td><td>10</td><td>  NA</td><td> NA</td><td>2</td><td> 525</td></tr>\n\t<tr><th scope=row>10149</th><td>29832</td><td>Panpaka Pants Movie: Bananan Oukoku no Hihou              </td><td>10</td><td>  NA</td><td> NA</td><td>0</td><td> 334</td></tr>\n\t<tr><th scope=row>10754</th><td>31054</td><td>Letchu, Getchu, Saru Getchu                               </td><td>10</td><td>  NA</td><td> NA</td><td>0</td><td> 506</td></tr>\n\t<tr><th scope=row>10823</th><td>31235</td><td>Hikawa Maru Monogatari                                    </td><td>10</td><td>  NA</td><td> NA</td><td>0</td><td> 698</td></tr>\n\t<tr><th scope=row>10831</th><td>31246</td><td>Choegang Habche: Mix Master                               </td><td>10</td><td>5.81</td><td>191</td><td>0</td><td> 836</td></tr>\n\t<tr><th scope=row>11460</th><td>32773</td><td>Nintama Rantarou no Uchuu Daibouken with Cosmic Front☆Next</td><td>10</td><td>  NA</td><td> NA</td><td>0</td><td> 399</td></tr>\n\t<tr><th scope=row>12014</th><td>33787</td><td>Usamaru                                                   </td><td>10</td><td>  NA</td><td> NA</td><td>1</td><td> 277</td></tr>\n\t<tr><th scope=row>12132</th><td>33980</td><td>Mirai ni Mukete: Bousai wo Kangaeru                       </td><td>10</td><td>  NA</td><td> NA</td><td>0</td><td> 325</td></tr>\n\t<tr><th scope=row>12343</th><td>34416</td><td>The Snack World: Hitogirai no Renny                       </td><td>10</td><td>  NA</td><td> NA</td><td>0</td><td> 342</td></tr>\n\t<tr><th scope=row>12590</th><td>34852</td><td>Pikaia!!                                                  </td><td>10</td><td>5.77</td><td>129</td><td>2</td><td> 592</td></tr>\n\t<tr><th scope=row>12683</th><td>35004</td><td>T-sensei                                                  </td><td>10</td><td>  NA</td><td> NA</td><td>1</td><td>1388</td></tr>\n\t<tr><th scope=row>⋮</th><td>⋮</td><td>⋮</td><td>⋮</td><td>⋮</td><td>⋮</td><td>⋮</td><td>⋮</td></tr>\n\t<tr><th scope=row>18029</th><td>44263</td><td>Shallys                                       </td><td>10</td><td>6.09</td><td>136</td><td>0</td><td>236</td></tr>\n\t<tr><th scope=row>20939</th><td>48533</td><td>Survival of the Illest                        </td><td>10</td><td>6.50</td><td>220</td><td>1</td><td>460</td></tr>\n\t<tr><th scope=row>20942</th><td>48538</td><td>Trick with Treat!! (with Undead)              </td><td>10</td><td>  NA</td><td> NA</td><td>0</td><td>196</td></tr>\n\t<tr><th scope=row>20958</th><td>48560</td><td>Play \"Tag\"                                    </td><td>10</td><td>  NA</td><td> NA</td><td>0</td><td>180</td></tr>\n\t<tr><th scope=row>20961</th><td>48565</td><td>Unlimited☆Power!!!!!                          </td><td>10</td><td>  NA</td><td> NA</td><td>0</td><td>163</td></tr>\n\t<tr><th scope=row>21036</th><td>48764</td><td>Neo-Neon                                      </td><td>10</td><td>6.25</td><td>241</td><td>0</td><td>442</td></tr>\n\t<tr><th scope=row>21038</th><td>48772</td><td>Nico Niconnect!                               </td><td>10</td><td>5.79</td><td>242</td><td>0</td><td>500</td></tr>\n\t<tr><th scope=row>21055</th><td>48827</td><td>Glory or Dust                                 </td><td>10</td><td>  NA</td><td> NA</td><td>2</td><td>218</td></tr>\n\t<tr><th scope=row>21146</th><td>49004</td><td>QUI                                           </td><td>10</td><td>5.85</td><td>161</td><td>0</td><td>291</td></tr>\n\t<tr><th scope=row>21196</th><td>49126</td><td>Honeycomb Summer                              </td><td>10</td><td>6.24</td><td>178</td><td>1</td><td>340</td></tr>\n\t<tr><th scope=row>21297</th><td>49370</td><td>Mini Van Large                                </td><td>10</td><td>5.92</td><td>148</td><td>0</td><td>602</td></tr>\n\t<tr><th scope=row>21330</th><td>49442</td><td>Propo Dance!                                  </td><td>10</td><td>5.86</td><td>195</td><td>0</td><td>488</td></tr>\n\t<tr><th scope=row>21448</th><td>49735</td><td>The iDOLM@STER SideM: Wake Atte Mini! Specials</td><td>10</td><td>  NA</td><td> NA</td><td>1</td><td>497</td></tr>\n\t<tr><th scope=row>21783</th><td>50352</td><td>Peko Random Brain!                            </td><td>10</td><td>6.48</td><td>469</td><td>0</td><td>805</td></tr>\n\t<tr><th scope=row>21865</th><td>50522</td><td>Teikou Penguin                                </td><td>10</td><td>  NA</td><td> NA</td><td>6</td><td>789</td></tr>\n\t<tr><th scope=row>21883</th><td>50563</td><td>Introduction                                  </td><td>10</td><td>6.87</td><td>323</td><td>1</td><td>606</td></tr>\n\t<tr><th scope=row>22089</th><td>51097</td><td>MahoYome Specials                             </td><td>10</td><td>6.05</td><td>181</td><td>0</td><td>626</td></tr>\n\t<tr><th scope=row>22101</th><td>51132</td><td>Akachan Honbuchou 2nd Season                  </td><td>10</td><td>  NA</td><td> NA</td><td>0</td><td>278</td></tr>\n\t<tr><th scope=row>22268</th><td>51428</td><td>Sonna Ame no Hi ni Wa                         </td><td>10</td><td>5.81</td><td>249</td><td>0</td><td>443</td></tr>\n\t<tr><th scope=row>22269</th><td>51429</td><td>Maiodore! Maimai Time                         </td><td>10</td><td>5.62</td><td>252</td><td>0</td><td>444</td></tr>\n\t<tr><th scope=row>22278</th><td>51443</td><td>Nonbiri to,                                   </td><td>10</td><td>6.01</td><td>282</td><td>0</td><td>517</td></tr>\n\t<tr><th scope=row>22342</th><td>51526</td><td>Mogu Mogu Yummy!                              </td><td>10</td><td>6.43</td><td>336</td><td>0</td><td>580</td></tr>\n\t<tr><th scope=row>22370</th><td>51574</td><td>Neko Naraba Ikeru                             </td><td>10</td><td>6.06</td><td>211</td><td>0</td><td>381</td></tr>\n\t<tr><th scope=row>22372</th><td>51577</td><td>Pastel Tea Time                               </td><td>10</td><td>6.25</td><td>379</td><td>2</td><td>779</td></tr>\n\t<tr><th scope=row>22433</th><td>51702</td><td>Discomyu Seijin                               </td><td>10</td><td>  NA</td><td> NA</td><td>0</td><td>163</td></tr>\n\t<tr><th scope=row>22448</th><td>51741</td><td>Period Color                                  </td><td>10</td><td>6.20</td><td>202</td><td>0</td><td>399</td></tr>\n\t<tr><th scope=row>22499</th><td>51813</td><td>Umi Yori Fukai Sora no Shita                  </td><td>10</td><td>5.78</td><td>360</td><td>0</td><td>772</td></tr>\n\t<tr><th scope=row>22500</th><td>51814</td><td>Miren Record                                  </td><td>10</td><td>5.69</td><td>363</td><td>0</td><td>771</td></tr>\n\t<tr><th scope=row>22556</th><td>51897</td><td>Hua Jianghu: Bu Liang Ren VI                  </td><td>10</td><td>  NA</td><td> NA</td><td>4</td><td>315</td></tr>\n\t<tr><th scope=row>22598</th><td>51997</td><td>Akachan Honbuchou 3rd Season                  </td><td>10</td><td>  NA</td><td> NA</td><td>0</td><td>180</td></tr>\n</tbody>\n</table>\n",
            "text/markdown": "\nA data.frame: 100 × 7\n\n| <!--/--> | anime_id &lt;int&gt; | name &lt;chr&gt; | users_rating &lt;dbl&gt; | score &lt;dbl&gt; | scored_by &lt;int&gt; | favorites &lt;int&gt; | members &lt;int&gt; |\n|---|---|---|---|---|---|---|---|\n| 4311 |  5821 | Zenmai Zamurai                                             | 10 | 5.64 | 207 | 3 |  662 |\n| 4409 |  6018 | Patchin shite! Obaachan                                    | 10 |   NA |  NA | 0 |  325 |\n| 4984 |  7419 | Wrestler Gundan Seisenshi Robin Jr.                        | 10 |   NA |  NA | 2 |  441 |\n| 5326 |  8353 | Ketsuinu                                                   | 10 |   NA |  NA | 1 |  529 |\n| 5346 |  8403 | Bonobono: Kumomo no Ki no Koto                             | 10 |   NA |  NA | 0 |  480 |\n| 5953 |  9906 | Sue Cat                                                    | 10 | 6.78 | 212 | 3 |  729 |\n| 6032 | 10058 | Sore Ike! Anpanman: Yuurei Sen wo Yattsukero!!             | 10 | 6.10 | 142 | 0 |  471 |\n| 6109 | 10242 | Ton-Ton Atta to Niigata no Mukashibanashi                  | 10 |   NA |  NA | 0 |  260 |\n| 6401 | 10882 | Ghost Messenger                                            | 10 | 5.77 | 158 | 0 | 2221 |\n| 6405 | 10889 | Jungle Kurobee                                             | 10 |   NA |  NA | 0 |  558 |\n| 7369 | 16163 | Sore Ike! Anpanman: Kirakira Boshi no Namida               | 10 | 6.02 | 154 | 2 |  508 |\n| 7896 | 18577 | Noobow: Na Kokoro                                          | 10 |   NA |  NA | 1 |  315 |\n| 8705 | 22617 | Pochacco no Wakuwaku Birthday                              | 10 |   NA |  NA | 1 |  341 |\n| 8708 | 22623 | Pochacco no Ninjin Hata wa Oosawagi                        | 10 |   NA |  NA | 1 |  324 |\n| 9242 | 25069 | Tom Sawyer no Bouken Specials                              | 10 | 6.18 | 202 | 2 |  716 |\n| 9389 | 25979 | Sheep in the Island                                        | 10 | 4.94 | 141 | 1 |  331 |\n| 9568 | 27551 | Deko Boko Friends                                          | 10 |   NA |  NA | 1 |  311 |\n| 9787 | 28583 | Nintama Rantarou no Shouboutai                             | 10 |   NA |  NA | 0 |  285 |\n| 9788 | 28585 | Ajjishin da Tsunami wa? Jibun no Inochi wa Jibun de Mamoru | 10 |   NA |  NA | 0 |  233 |\n| 9980 | 29427 | Mori no Ratio                                              | 10 |   NA |  NA | 2 |  525 |\n| 10149 | 29832 | Panpaka Pants Movie: Bananan Oukoku no Hihou               | 10 |   NA |  NA | 0 |  334 |\n| 10754 | 31054 | Letchu, Getchu, Saru Getchu                                | 10 |   NA |  NA | 0 |  506 |\n| 10823 | 31235 | Hikawa Maru Monogatari                                     | 10 |   NA |  NA | 0 |  698 |\n| 10831 | 31246 | Choegang Habche: Mix Master                                | 10 | 5.81 | 191 | 0 |  836 |\n| 11460 | 32773 | Nintama Rantarou no Uchuu Daibouken with Cosmic Front☆Next | 10 |   NA |  NA | 0 |  399 |\n| 12014 | 33787 | Usamaru                                                    | 10 |   NA |  NA | 1 |  277 |\n| 12132 | 33980 | Mirai ni Mukete: Bousai wo Kangaeru                        | 10 |   NA |  NA | 0 |  325 |\n| 12343 | 34416 | The Snack World: Hitogirai no Renny                        | 10 |   NA |  NA | 0 |  342 |\n| 12590 | 34852 | Pikaia!!                                                   | 10 | 5.77 | 129 | 2 |  592 |\n| 12683 | 35004 | T-sensei                                                   | 10 |   NA |  NA | 1 | 1388 |\n| ⋮ | ⋮ | ⋮ | ⋮ | ⋮ | ⋮ | ⋮ | ⋮ |\n| 18029 | 44263 | Shallys                                        | 10 | 6.09 | 136 | 0 | 236 |\n| 20939 | 48533 | Survival of the Illest                         | 10 | 6.50 | 220 | 1 | 460 |\n| 20942 | 48538 | Trick with Treat!! (with Undead)               | 10 |   NA |  NA | 0 | 196 |\n| 20958 | 48560 | Play \"Tag\"                                     | 10 |   NA |  NA | 0 | 180 |\n| 20961 | 48565 | Unlimited☆Power!!!!!                           | 10 |   NA |  NA | 0 | 163 |\n| 21036 | 48764 | Neo-Neon                                       | 10 | 6.25 | 241 | 0 | 442 |\n| 21038 | 48772 | Nico Niconnect!                                | 10 | 5.79 | 242 | 0 | 500 |\n| 21055 | 48827 | Glory or Dust                                  | 10 |   NA |  NA | 2 | 218 |\n| 21146 | 49004 | QUI                                            | 10 | 5.85 | 161 | 0 | 291 |\n| 21196 | 49126 | Honeycomb Summer                               | 10 | 6.24 | 178 | 1 | 340 |\n| 21297 | 49370 | Mini Van Large                                 | 10 | 5.92 | 148 | 0 | 602 |\n| 21330 | 49442 | Propo Dance!                                   | 10 | 5.86 | 195 | 0 | 488 |\n| 21448 | 49735 | The iDOLM@STER SideM: Wake Atte Mini! Specials | 10 |   NA |  NA | 1 | 497 |\n| 21783 | 50352 | Peko Random Brain!                             | 10 | 6.48 | 469 | 0 | 805 |\n| 21865 | 50522 | Teikou Penguin                                 | 10 |   NA |  NA | 6 | 789 |\n| 21883 | 50563 | Introduction                                   | 10 | 6.87 | 323 | 1 | 606 |\n| 22089 | 51097 | MahoYome Specials                              | 10 | 6.05 | 181 | 0 | 626 |\n| 22101 | 51132 | Akachan Honbuchou 2nd Season                   | 10 |   NA |  NA | 0 | 278 |\n| 22268 | 51428 | Sonna Ame no Hi ni Wa                          | 10 | 5.81 | 249 | 0 | 443 |\n| 22269 | 51429 | Maiodore! Maimai Time                          | 10 | 5.62 | 252 | 0 | 444 |\n| 22278 | 51443 | Nonbiri to,                                    | 10 | 6.01 | 282 | 0 | 517 |\n| 22342 | 51526 | Mogu Mogu Yummy!                               | 10 | 6.43 | 336 | 0 | 580 |\n| 22370 | 51574 | Neko Naraba Ikeru                              | 10 | 6.06 | 211 | 0 | 381 |\n| 22372 | 51577 | Pastel Tea Time                                | 10 | 6.25 | 379 | 2 | 779 |\n| 22433 | 51702 | Discomyu Seijin                                | 10 |   NA |  NA | 0 | 163 |\n| 22448 | 51741 | Period Color                                   | 10 | 6.20 | 202 | 0 | 399 |\n| 22499 | 51813 | Umi Yori Fukai Sora no Shita                   | 10 | 5.78 | 360 | 0 | 772 |\n| 22500 | 51814 | Miren Record                                   | 10 | 5.69 | 363 | 0 | 771 |\n| 22556 | 51897 | Hua Jianghu: Bu Liang Ren VI                   | 10 |   NA |  NA | 4 | 315 |\n| 22598 | 51997 | Akachan Honbuchou 3rd Season                   | 10 |   NA |  NA | 0 | 180 |\n\n",
            "text/latex": "A data.frame: 100 × 7\n\\begin{tabular}{r|lllllll}\n  & anime\\_id & name & users\\_rating & score & scored\\_by & favorites & members\\\\\n  & <int> & <chr> & <dbl> & <dbl> & <int> & <int> & <int>\\\\\n\\hline\n\t4311 &  5821 & Zenmai Zamurai                                             & 10 & 5.64 & 207 & 3 &  662\\\\\n\t4409 &  6018 & Patchin shite! Obaachan                                    & 10 &   NA &  NA & 0 &  325\\\\\n\t4984 &  7419 & Wrestler Gundan Seisenshi Robin Jr.                        & 10 &   NA &  NA & 2 &  441\\\\\n\t5326 &  8353 & Ketsuinu                                                   & 10 &   NA &  NA & 1 &  529\\\\\n\t5346 &  8403 & Bonobono: Kumomo no Ki no Koto                             & 10 &   NA &  NA & 0 &  480\\\\\n\t5953 &  9906 & Sue Cat                                                    & 10 & 6.78 & 212 & 3 &  729\\\\\n\t6032 & 10058 & Sore Ike! Anpanman: Yuurei Sen wo Yattsukero!!             & 10 & 6.10 & 142 & 0 &  471\\\\\n\t6109 & 10242 & Ton-Ton Atta to Niigata no Mukashibanashi                  & 10 &   NA &  NA & 0 &  260\\\\\n\t6401 & 10882 & Ghost Messenger                                            & 10 & 5.77 & 158 & 0 & 2221\\\\\n\t6405 & 10889 & Jungle Kurobee                                             & 10 &   NA &  NA & 0 &  558\\\\\n\t7369 & 16163 & Sore Ike! Anpanman: Kirakira Boshi no Namida               & 10 & 6.02 & 154 & 2 &  508\\\\\n\t7896 & 18577 & Noobow: Na Kokoro                                          & 10 &   NA &  NA & 1 &  315\\\\\n\t8705 & 22617 & Pochacco no Wakuwaku Birthday                              & 10 &   NA &  NA & 1 &  341\\\\\n\t8708 & 22623 & Pochacco no Ninjin Hata wa Oosawagi                        & 10 &   NA &  NA & 1 &  324\\\\\n\t9242 & 25069 & Tom Sawyer no Bouken Specials                              & 10 & 6.18 & 202 & 2 &  716\\\\\n\t9389 & 25979 & Sheep in the Island                                        & 10 & 4.94 & 141 & 1 &  331\\\\\n\t9568 & 27551 & Deko Boko Friends                                          & 10 &   NA &  NA & 1 &  311\\\\\n\t9787 & 28583 & Nintama Rantarou no Shouboutai                             & 10 &   NA &  NA & 0 &  285\\\\\n\t9788 & 28585 & Ajjishin da Tsunami wa? Jibun no Inochi wa Jibun de Mamoru & 10 &   NA &  NA & 0 &  233\\\\\n\t9980 & 29427 & Mori no Ratio                                              & 10 &   NA &  NA & 2 &  525\\\\\n\t10149 & 29832 & Panpaka Pants Movie: Bananan Oukoku no Hihou               & 10 &   NA &  NA & 0 &  334\\\\\n\t10754 & 31054 & Letchu, Getchu, Saru Getchu                                & 10 &   NA &  NA & 0 &  506\\\\\n\t10823 & 31235 & Hikawa Maru Monogatari                                     & 10 &   NA &  NA & 0 &  698\\\\\n\t10831 & 31246 & Choegang Habche: Mix Master                                & 10 & 5.81 & 191 & 0 &  836\\\\\n\t11460 & 32773 & Nintama Rantarou no Uchuu Daibouken with Cosmic Front☆Next & 10 &   NA &  NA & 0 &  399\\\\\n\t12014 & 33787 & Usamaru                                                    & 10 &   NA &  NA & 1 &  277\\\\\n\t12132 & 33980 & Mirai ni Mukete: Bousai wo Kangaeru                        & 10 &   NA &  NA & 0 &  325\\\\\n\t12343 & 34416 & The Snack World: Hitogirai no Renny                        & 10 &   NA &  NA & 0 &  342\\\\\n\t12590 & 34852 & Pikaia!!                                                   & 10 & 5.77 & 129 & 2 &  592\\\\\n\t12683 & 35004 & T-sensei                                                   & 10 &   NA &  NA & 1 & 1388\\\\\n\t⋮ & ⋮ & ⋮ & ⋮ & ⋮ & ⋮ & ⋮ & ⋮\\\\\n\t18029 & 44263 & Shallys                                        & 10 & 6.09 & 136 & 0 & 236\\\\\n\t20939 & 48533 & Survival of the Illest                         & 10 & 6.50 & 220 & 1 & 460\\\\\n\t20942 & 48538 & Trick with Treat!! (with Undead)               & 10 &   NA &  NA & 0 & 196\\\\\n\t20958 & 48560 & Play \"Tag\"                                     & 10 &   NA &  NA & 0 & 180\\\\\n\t20961 & 48565 & Unlimited☆Power!!!!!                           & 10 &   NA &  NA & 0 & 163\\\\\n\t21036 & 48764 & Neo-Neon                                       & 10 & 6.25 & 241 & 0 & 442\\\\\n\t21038 & 48772 & Nico Niconnect!                                & 10 & 5.79 & 242 & 0 & 500\\\\\n\t21055 & 48827 & Glory or Dust                                  & 10 &   NA &  NA & 2 & 218\\\\\n\t21146 & 49004 & QUI                                            & 10 & 5.85 & 161 & 0 & 291\\\\\n\t21196 & 49126 & Honeycomb Summer                               & 10 & 6.24 & 178 & 1 & 340\\\\\n\t21297 & 49370 & Mini Van Large                                 & 10 & 5.92 & 148 & 0 & 602\\\\\n\t21330 & 49442 & Propo Dance!                                   & 10 & 5.86 & 195 & 0 & 488\\\\\n\t21448 & 49735 & The iDOLM@STER SideM: Wake Atte Mini! Specials & 10 &   NA &  NA & 1 & 497\\\\\n\t21783 & 50352 & Peko Random Brain!                             & 10 & 6.48 & 469 & 0 & 805\\\\\n\t21865 & 50522 & Teikou Penguin                                 & 10 &   NA &  NA & 6 & 789\\\\\n\t21883 & 50563 & Introduction                                   & 10 & 6.87 & 323 & 1 & 606\\\\\n\t22089 & 51097 & MahoYome Specials                              & 10 & 6.05 & 181 & 0 & 626\\\\\n\t22101 & 51132 & Akachan Honbuchou 2nd Season                   & 10 &   NA &  NA & 0 & 278\\\\\n\t22268 & 51428 & Sonna Ame no Hi ni Wa                          & 10 & 5.81 & 249 & 0 & 443\\\\\n\t22269 & 51429 & Maiodore! Maimai Time                          & 10 & 5.62 & 252 & 0 & 444\\\\\n\t22278 & 51443 & Nonbiri to,                                    & 10 & 6.01 & 282 & 0 & 517\\\\\n\t22342 & 51526 & Mogu Mogu Yummy!                               & 10 & 6.43 & 336 & 0 & 580\\\\\n\t22370 & 51574 & Neko Naraba Ikeru                              & 10 & 6.06 & 211 & 0 & 381\\\\\n\t22372 & 51577 & Pastel Tea Time                                & 10 & 6.25 & 379 & 2 & 779\\\\\n\t22433 & 51702 & Discomyu Seijin                                & 10 &   NA &  NA & 0 & 163\\\\\n\t22448 & 51741 & Period Color                                   & 10 & 6.20 & 202 & 0 & 399\\\\\n\t22499 & 51813 & Umi Yori Fukai Sora no Shita                   & 10 & 5.78 & 360 & 0 & 772\\\\\n\t22500 & 51814 & Miren Record                                   & 10 & 5.69 & 363 & 0 & 771\\\\\n\t22556 & 51897 & Hua Jianghu: Bu Liang Ren VI                   & 10 &   NA &  NA & 4 & 315\\\\\n\t22598 & 51997 & Akachan Honbuchou 3rd Season                   & 10 &   NA &  NA & 0 & 180\\\\\n\\end{tabular}\n",
            "text/plain": "      anime_id name                                                      \n4311   5821    Zenmai Zamurai                                            \n4409   6018    Patchin shite! Obaachan                                   \n4984   7419    Wrestler Gundan Seisenshi Robin Jr.                       \n5326   8353    Ketsuinu                                                  \n5346   8403    Bonobono: Kumomo no Ki no Koto                            \n5953   9906    Sue Cat                                                   \n6032  10058    Sore Ike! Anpanman: Yuurei Sen wo Yattsukero!!            \n6109  10242    Ton-Ton Atta to Niigata no Mukashibanashi                 \n6401  10882    Ghost Messenger                                           \n6405  10889    Jungle Kurobee                                            \n7369  16163    Sore Ike! Anpanman: Kirakira Boshi no Namida              \n7896  18577    Noobow: Na Kokoro                                         \n8705  22617    Pochacco no Wakuwaku Birthday                             \n8708  22623    Pochacco no Ninjin Hata wa Oosawagi                       \n9242  25069    Tom Sawyer no Bouken Specials                             \n9389  25979    Sheep in the Island                                       \n9568  27551    Deko Boko Friends                                         \n9787  28583    Nintama Rantarou no Shouboutai                            \n9788  28585    Ajjishin da Tsunami wa? Jibun no Inochi wa Jibun de Mamoru\n9980  29427    Mori no Ratio                                             \n10149 29832    Panpaka Pants Movie: Bananan Oukoku no Hihou              \n10754 31054    Letchu, Getchu, Saru Getchu                               \n10823 31235    Hikawa Maru Monogatari                                    \n10831 31246    Choegang Habche: Mix Master                               \n11460 32773    Nintama Rantarou no Uchuu Daibouken with Cosmic Front☆Next\n12014 33787    Usamaru                                                   \n12132 33980    Mirai ni Mukete: Bousai wo Kangaeru                       \n12343 34416    The Snack World: Hitogirai no Renny                       \n12590 34852    Pikaia!!                                                  \n12683 35004    T-sensei                                                  \n⋮     ⋮        ⋮                                                         \n18029 44263    Shallys                                                   \n20939 48533    Survival of the Illest                                    \n20942 48538    Trick with Treat!! (with Undead)                          \n20958 48560    Play \"Tag\"                                                \n20961 48565    Unlimited☆Power!!!!!                                      \n21036 48764    Neo-Neon                                                  \n21038 48772    Nico Niconnect!                                           \n21055 48827    Glory or Dust                                             \n21146 49004    QUI                                                       \n21196 49126    Honeycomb Summer                                          \n21297 49370    Mini Van Large                                            \n21330 49442    Propo Dance!                                              \n21448 49735    The iDOLM@STER SideM: Wake Atte Mini! Specials            \n21783 50352    Peko Random Brain!                                        \n21865 50522    Teikou Penguin                                            \n21883 50563    Introduction                                              \n22089 51097    MahoYome Specials                                         \n22101 51132    Akachan Honbuchou 2nd Season                              \n22268 51428    Sonna Ame no Hi ni Wa                                     \n22269 51429    Maiodore! Maimai Time                                     \n22278 51443    Nonbiri to,                                               \n22342 51526    Mogu Mogu Yummy!                                          \n22370 51574    Neko Naraba Ikeru                                         \n22372 51577    Pastel Tea Time                                           \n22433 51702    Discomyu Seijin                                           \n22448 51741    Period Color                                              \n22499 51813    Umi Yori Fukai Sora no Shita                              \n22500 51814    Miren Record                                              \n22556 51897    Hua Jianghu: Bu Liang Ren VI                              \n22598 51997    Akachan Honbuchou 3rd Season                              \n      users_rating score scored_by favorites members\n4311  10           5.64  207       3          662   \n4409  10             NA   NA       0          325   \n4984  10             NA   NA       2          441   \n5326  10             NA   NA       1          529   \n5346  10             NA   NA       0          480   \n5953  10           6.78  212       3          729   \n6032  10           6.10  142       0          471   \n6109  10             NA   NA       0          260   \n6401  10           5.77  158       0         2221   \n6405  10             NA   NA       0          558   \n7369  10           6.02  154       2          508   \n7896  10             NA   NA       1          315   \n8705  10             NA   NA       1          341   \n8708  10             NA   NA       1          324   \n9242  10           6.18  202       2          716   \n9389  10           4.94  141       1          331   \n9568  10             NA   NA       1          311   \n9787  10             NA   NA       0          285   \n9788  10             NA   NA       0          233   \n9980  10             NA   NA       2          525   \n10149 10             NA   NA       0          334   \n10754 10             NA   NA       0          506   \n10823 10             NA   NA       0          698   \n10831 10           5.81  191       0          836   \n11460 10             NA   NA       0          399   \n12014 10             NA   NA       1          277   \n12132 10             NA   NA       0          325   \n12343 10             NA   NA       0          342   \n12590 10           5.77  129       2          592   \n12683 10             NA   NA       1         1388   \n⋮     ⋮            ⋮     ⋮         ⋮         ⋮      \n18029 10           6.09  136       0         236    \n20939 10           6.50  220       1         460    \n20942 10             NA   NA       0         196    \n20958 10             NA   NA       0         180    \n20961 10             NA   NA       0         163    \n21036 10           6.25  241       0         442    \n21038 10           5.79  242       0         500    \n21055 10             NA   NA       2         218    \n21146 10           5.85  161       0         291    \n21196 10           6.24  178       1         340    \n21297 10           5.92  148       0         602    \n21330 10           5.86  195       0         488    \n21448 10             NA   NA       1         497    \n21783 10           6.48  469       0         805    \n21865 10             NA   NA       6         789    \n21883 10           6.87  323       1         606    \n22089 10           6.05  181       0         626    \n22101 10             NA   NA       0         278    \n22268 10           5.81  249       0         443    \n22269 10           5.62  252       0         444    \n22278 10           6.01  282       0         517    \n22342 10           6.43  336       0         580    \n22370 10           6.06  211       0         381    \n22372 10           6.25  379       2         779    \n22433 10             NA   NA       0         163    \n22448 10           6.20  202       0         399    \n22499 10           5.78  360       0         772    \n22500 10           5.69  363       0         771    \n22556 10             NA   NA       4         315    \n22598 10             NA   NA       0         180    "
          },
          "metadata": {}
        }
      ]
    },
    {
      "cell_type": "markdown",
      "source": [
        "From this, it appears that including the users' rating may lead to an inaccurate representation of the scores provided by users. It's possible that only a single user or a very few users have rated the anime as indicated in the users' score dataset. Moving forward, only the score column from the anime dataset will be taken into account in the analysis."
      ],
      "metadata": {
        "id": "0Oxa82dqp7F3"
      }
    },
    {
      "cell_type": "code",
      "source": [
        "# Summary statistics\n",
        "summary(anime_data_2023)\n",
        "str(anime_data_2023)"
      ],
      "metadata": {
        "execution": {
          "iopub.status.busy": "2024-02-16T06:31:03.123682Z",
          "iopub.execute_input": "2024-02-16T06:31:03.125171Z",
          "iopub.status.idle": "2024-02-16T06:31:03.192277Z"
        },
        "trusted": true,
        "id": "P_DkHCZKp7F3",
        "outputId": "0225e74f-75ee-46ba-c9d9-31a2279ba9bc"
      },
      "execution_count": null,
      "outputs": [
        {
          "output_type": "display_data",
          "data": {
            "text/plain": "    anime_id         name           english_name        other_name       \n Min.   :    1   Length:24905       Length:24905       Length:24905      \n 1st Qu.:10507   Class :character   Class :character   Class :character  \n Median :34628   Mode  :character   Mode  :character   Mode  :character  \n Mean   :29777                                                           \n 3rd Qu.:45240                                                           \n Max.   :55735                                                           \n                                                                         \n     score          genres              type              episodes      \n Min.   :1.850   Length:24905       Length:24905       Min.   :   1.00  \n 1st Qu.:5.730   Class :character   Class :character   1st Qu.:   1.00  \n Median :6.390   Mode  :character   Mode  :character   Median :   2.00  \n Mean   :6.381                                         Mean   :  14.91  \n 3rd Qu.:7.060                                         3rd Qu.:  13.00  \n Max.   :9.100                                         Max.   :3057.00  \n NA's   :9213                                          NA's   :611      \n    status            studios             source            duration        \n Length:24905       Length:24905       Length:24905       Length:24905      \n Class :character   Class :character   Class :character   Class :character  \n Mode  :character   Mode  :character   Mode  :character   Mode  :character  \n                                                                            \n                                                                            \n                                                                            \n                                                                            \n    rating               rank         popularity      favorites       \n Length:24905       Min.   :    0   Min.   :    0   Min.   :     0.0  \n Class :character   1st Qu.: 4885   1st Qu.: 6040   1st Qu.:     0.0  \n Mode  :character   Median : 9958   Median :12265   Median :     1.0  \n                    Mean   : 9961   Mean   :12265   Mean   :   432.6  \n                    3rd Qu.:15032   3rd Qu.:18491   3rd Qu.:    18.0  \n                    Max.   :20104   Max.   :24723   Max.   :217606.0  \n                    NA's   :4612                                      \n   scored_by          members         image_url          users_rating   \n Min.   :    100   Min.   :      0   Length:24905       Min.   : 1.000  \n 1st Qu.:    384   1st Qu.:    209   Class :character   1st Qu.: 6.000  \n Median :   1760   Median :   1056   Mode  :character   Median : 6.680  \n Mean   :  29974   Mean   :  37105                      Mean   : 6.561  \n 3rd Qu.:  10856   3rd Qu.:   9326                      3rd Qu.: 7.304  \n Max.   :2660903   Max.   :3744541                      Max.   :10.000  \n NA's   :9213                                           NA's   :8422    "
          },
          "metadata": {}
        },
        {
          "name": "stdout",
          "text": "'data.frame':\t24905 obs. of  20 variables:\n $ anime_id    : int  1 5 6 7 8 15 16 17 18 19 ...\n $ name        : chr  \"Cowboy Bebop\" \"Cowboy Bebop: Tengoku no Tobira\" \"Trigun\" \"Witch Hunter Robin\" ...\n $ english_name: chr  \"Cowboy Bebop\" \"Cowboy Bebop: The Movie\" \"Trigun\" \"Witch Hunter Robin\" ...\n $ other_name  : chr  \"カウボーイビバップ\" \"カウボーイビバップ 天国の扉\" \"トライガン\" \"Witch Hunter ROBIN (ウイッチハンターロビン)\" ...\n $ score       : num  8.75 8.38 8.22 7.25 6.94 7.92 8 7.55 8.16 8.87 ...\n $ genres      : chr  \"Action, Award Winning, Sci-Fi\" \"Action, Sci-Fi\" \"Action, Adventure, Sci-Fi\" \"Action, Drama, Mystery, Supernatural\" ...\n $ type        : chr  \"TV\" \"Movie\" \"TV\" \"TV\" ...\n $ episodes    : int  26 1 26 26 52 145 24 52 24 74 ...\n $ status      : chr  \"Finished Airing\" \"Finished Airing\" \"Finished Airing\" \"Finished Airing\" ...\n $ studios     : chr  \"Sunrise\" \"Bones\" \"Madhouse\" \"Sunrise\" ...\n $ source      : chr  \"Original\" \"Original\" \"Manga\" \"Original\" ...\n $ duration    : chr  \"24 min per ep\" \"1 hr 55 min\" \"24 min per ep\" \"25 min per ep\" ...\n $ rating      : chr  \"R - 17+ (violence & profanity)\" \"R - 17+ (violence & profanity)\" \"PG-13 - Teens 13 or older\" \"PG-13 - Teens 13 or older\" ...\n $ rank        : int  41 189 328 2764 4240 688 589 1551 393 26 ...\n $ popularity  : int  43 602 246 1795 5126 1252 862 4212 1273 142 ...\n $ favorites   : int  78525 1448 15035 613 14 1997 4136 237 1237 47235 ...\n $ scored_by   : int  914193 206248 356739 42829 6413 86524 81747 12960 97878 368569 ...\n $ members     : int  1771505 360978 727252 111931 15001 177688 260166 24172 173710 1013100 ...\n $ image_url   : chr  \"https://cdn.myanimelist.net/images/anime/4/19644.jpg\" \"https://cdn.myanimelist.net/images/anime/1439/93480.jpg\" \"https://cdn.myanimelist.net/images/anime/7/20310.jpg\" \"https://cdn.myanimelist.net/images/anime/10/19969.jpg\" ...\n $ users_rating: num  8.77 8.38 8.3 7.38 7.02 ...\n",
          "output_type": "stream"
        }
      ]
    },
    {
      "cell_type": "markdown",
      "source": [
        "### Analyze\n",
        "#### Data Analysis and Visualization"
      ],
      "metadata": {
        "id": "sCW99rT2p7F3"
      }
    },
    {
      "cell_type": "markdown",
      "source": [
        "#### Popularity Metrics' Correlation Analysis"
      ],
      "metadata": {
        "id": "G18003dvp7F3"
      }
    },
    {
      "cell_type": "markdown",
      "source": [
        "Included in this analysis are popularity metrics columns such as popularity, rank, score, favorites, scored_by, and members."
      ],
      "metadata": {
        "id": "GHYshEJTp7F3"
      }
    },
    {
      "cell_type": "code",
      "source": [
        "# To eliminate zero and null values in popularity metrics\n",
        "anime_nozero <- anime_data_2023[anime_data_2023$popularity != 0 &\n",
        "                               anime_data_2023$rank != 0 &\n",
        "                               anime_data_2023$score != 0 &\n",
        "                               anime_data_2023$favorites != 0 &\n",
        "                               anime_data_2023$scored_by != 0 &\n",
        "                               anime_data_2023$members != 0, ]\n",
        "\n",
        "anime_popularity_metrics <- na.omit(anime_nozero)\n",
        "nrow(anime_popularity_metrics)"
      ],
      "metadata": {
        "execution": {
          "iopub.status.busy": "2024-02-16T06:31:03.195220Z",
          "iopub.execute_input": "2024-02-16T06:31:03.196694Z",
          "iopub.status.idle": "2024-02-16T06:31:03.245927Z"
        },
        "trusted": true,
        "id": "JSWIasRwp7F3",
        "outputId": "13d84c03-3311-4a2a-beb7-5efb12199386"
      },
      "execution_count": null,
      "outputs": [
        {
          "output_type": "display_data",
          "data": {
            "text/html": "5381",
            "text/markdown": "5381",
            "text/latex": "5381",
            "text/plain": "[1] 5381"
          },
          "metadata": {}
        }
      ]
    },
    {
      "cell_type": "markdown",
      "source": [
        "By using a sample size calculator (https://www.surveymonkey.com/mp/sample-size-calculator/), it's determined that the remaining rows (5,381) still adequately represent the entire dataset, considering a population size of 24,905, a 99% confidence level, and a 2% margin of error."
      ],
      "metadata": {
        "id": "c3rfZvuAp7F3"
      }
    },
    {
      "cell_type": "code",
      "source": [
        "corr_popularity <- cor(anime_popularity_metrics[, c(\"popularity\", \"rank\", \"score\",\"favorites\",\n",
        "                                                    \"scored_by\",\"members\")])\n",
        "\n",
        "corrplot(corr_popularity, method = \"number\")"
      ],
      "metadata": {
        "execution": {
          "iopub.status.busy": "2024-02-16T06:31:03.248637Z",
          "iopub.execute_input": "2024-02-16T06:31:03.250141Z",
          "iopub.status.idle": "2024-02-16T06:31:03.609038Z"
        },
        "trusted": true,
        "id": "gnLDYfr5p7F3",
        "outputId": "ac62841c-128b-4400-bb0f-1141801449f3"
      },
      "execution_count": null,
      "outputs": [
        {
          "output_type": "display_data",
          "data": {
            "image/png": "[encoded data removed]"
          },
          "metadata": {
            "image/png": {
              "width": 420,
              "height": 420
            }
          }
        }
      ]
    },
    {
      "cell_type": "markdown",
      "source": [
        "**Key points to note when interpreting the correlation matrix:** In terms of anime ranking (popularity and rank), a lower number indicates a higher ranking for the anime. However, in the context of other popularity metrics, the opposite holds true. More users favoriting, scoring, and adding the anime to their lists result in a higher ranking for the anime.\n",
        "\n",
        "The correlation matrix reveals that *rank* (0.98) demonstrates a stronger relationship with *score* compared to *popularity* (0.57), suggesting that the anime's rank, considering factors beyond popularity, better reflects user ratings. *Popularity* exhibits a moderate relationship with *rank* and *score*, indicating that the popularity rank is moderately influenced by other factors and user ratings.\n",
        "\n",
        "*Popularity*, *rank*, and *score* show a weak relationship with *favorites*, *scored_by*, and *members*, and vice versa. This suggests that user engagements such as favoriting, scoring, or adding the anime to their list do not significantly impact the anime's ranking and overall score. The significance of *scored_by* and *members* variables is ambiguous, as a higher count in these variables may not necessarily correspond to a higher score or rank. In terms of the *scored_by* variable, more users may have scored the anime, although these ratings could potentially be lower. Regarding *members* variable, it remains unclear why users included the anime in their list, and the correlation might not necessarily imply a positive sentiment. Additionally, it's plausible that users may have favorited the anime without assigning a score to it, contributing to the weak relationship between *favorites*, ranking, and overall score.\n",
        "\n",
        "In conclusion, it is crucial to consider the anime's ranking, score, and favoriting when evaluating its overall popularity and user engagement."
      ],
      "metadata": {
        "id": "b5OJ6D-Kp7F3"
      }
    },
    {
      "cell_type": "markdown",
      "source": [
        "#### Average Score"
      ],
      "metadata": {
        "id": "C1fORjL8p7F3"
      }
    },
    {
      "cell_type": "code",
      "source": [
        "# To get the mean, median and mode of score\n",
        "mean_score <- mean(anime_data_2023$score, na.rm = TRUE)\n",
        "print(mean_score)\n",
        "\n",
        "median_score <- median(anime_data_2023$score, na.rm = TRUE)\n",
        "print(median_score)\n",
        "\n",
        "names(sort(-table(anime_data_2023$score)))[1]                # Code to get the mode from w3schools.com"
      ],
      "metadata": {
        "execution": {
          "iopub.status.busy": "2024-02-16T06:31:03.611691Z",
          "iopub.execute_input": "2024-02-16T06:31:03.613080Z",
          "iopub.status.idle": "2024-02-16T06:31:03.659424Z"
        },
        "trusted": true,
        "id": "Yu59MTmfp7F3",
        "outputId": "b054b7f0-a3d9-4dab-d5f6-fc420cdde1a8"
      },
      "execution_count": null,
      "outputs": [
        {
          "name": "stdout",
          "text": "[1] 6.38089\n[1] 6.39\n",
          "output_type": "stream"
        },
        {
          "output_type": "display_data",
          "data": {
            "text/html": "'6.31'",
            "text/markdown": "'6.31'",
            "text/latex": "'6.31'",
            "text/plain": "[1] \"6.31\""
          },
          "metadata": {}
        }
      ]
    },
    {
      "cell_type": "code",
      "source": [
        "# Plot\n",
        "ggplot(anime_data_2023, aes(x = score)) +\n",
        "    geom_histogram(binwidth = 0.5,  color = \"white\", fill = \"skyblue\") +\n",
        "    labs(title = \"Score Distribution\", x = \"Score\", y = \"Frequency\") +\n",
        "    theme_minimal() +\n",
        "    theme(plot.title = element_text(hjust = 0.5, size = 20, face = \"bold\")) +\n",
        "# Adding mean and median line\n",
        "    geom_vline(aes(xintercept = mean(score, na.rm = TRUE), color = \"Mean\"),\n",
        "               linetype = \"dashed\", linewidth = 0.5) +\n",
        "    geom_vline(aes(xintercept = median(score, na.rm = TRUE), color = \"Median\"),\n",
        "               linetype = \"solid\", linewidth = 0.5) +\n",
        "# Legend for mean and median\n",
        "    scale_color_manual(name = \"Legend\",\n",
        "                       values = c(\"Mean\" = \"red\", \"Median\" = \"yellow\"),\n",
        "                       labels = c(\"Mean\", \"Median\"))"
      ],
      "metadata": {
        "execution": {
          "iopub.status.busy": "2024-02-16T06:31:03.661901Z",
          "iopub.execute_input": "2024-02-16T06:31:03.663198Z",
          "iopub.status.idle": "2024-02-16T06:31:04.319080Z"
        },
        "trusted": true,
        "id": "-wtdffelp7F3",
        "outputId": "445ebc9e-5d1e-4644-cb79-220097171074"
      },
      "execution_count": null,
      "outputs": [
        {
          "name": "stderr",
          "text": "Warning message:\n“\u001b[1m\u001b[22mRemoved 9213 rows containing non-finite values (`stat_bin()`).”\n",
          "output_type": "stream"
        },
        {
          "output_type": "display_data",
          "data": {
            "image/png": "[encoded data removed]"
          },
          "metadata": {
            "image/png": {
              "width": 420,
              "height": 420
            }
          }
        }
      ]
    },
    {
      "cell_type": "markdown",
      "source": [
        "#### Top Animes"
      ],
      "metadata": {
        "id": "3YvIh0Dxp7F4"
      }
    },
    {
      "cell_type": "code",
      "source": [
        "# Most Popular Anime\n",
        "popular_nozero <- anime_data_2023[anime_data_2023$popularity != 0, ]\n",
        "popular_ranked <- popular_nozero[order(popular_nozero$popularity, na.last = TRUE), ]\n",
        "\n",
        "popular_anime <- popular_ranked %>%\n",
        "    select(\"popularity\", \"anime_id\", \"name\", \"english_name\", \"genres\", \"type\",\n",
        "           \"episodes\", \"status\", \"studios\", \"source\", \"duration\", \"rating\", \"image_url\")\n",
        "\n",
        "head(popular_anime, n = 10)"
      ],
      "metadata": {
        "execution": {
          "iopub.status.busy": "2024-02-16T06:31:04.323426Z",
          "iopub.execute_input": "2024-02-16T06:31:04.324886Z",
          "iopub.status.idle": "2024-02-16T06:31:04.409528Z"
        },
        "trusted": true,
        "id": "RVR_adNop7F4",
        "outputId": "ff55011f-34e5-4bda-8c50-9af037cc8a2f"
      },
      "execution_count": null,
      "outputs": [
        {
          "output_type": "display_data",
          "data": {
            "text/html": "<table class=\"dataframe\">\n<caption>A data.frame: 10 × 13</caption>\n<thead>\n\t<tr><th></th><th scope=col>popularity</th><th scope=col>anime_id</th><th scope=col>name</th><th scope=col>english_name</th><th scope=col>genres</th><th scope=col>type</th><th scope=col>episodes</th><th scope=col>status</th><th scope=col>studios</th><th scope=col>source</th><th scope=col>duration</th><th scope=col>rating</th><th scope=col>image_url</th></tr>\n\t<tr><th></th><th scope=col>&lt;int&gt;</th><th scope=col>&lt;int&gt;</th><th scope=col>&lt;chr&gt;</th><th scope=col>&lt;chr&gt;</th><th scope=col>&lt;chr&gt;</th><th scope=col>&lt;chr&gt;</th><th scope=col>&lt;int&gt;</th><th scope=col>&lt;chr&gt;</th><th scope=col>&lt;chr&gt;</th><th scope=col>&lt;chr&gt;</th><th scope=col>&lt;chr&gt;</th><th scope=col>&lt;chr&gt;</th><th scope=col>&lt;chr&gt;</th></tr>\n</thead>\n<tbody>\n\t<tr><th scope=row>7429</th><td> 1</td><td>16498</td><td><span style=white-space:pre-wrap>Shingeki no Kyojin              </span></td><td><span style=white-space:pre-wrap>Attack on Titan                 </span></td><td>Action, Award Winning, Drama, Suspense</td><td>TV</td><td> 25</td><td>Finished Airing</td><td><span style=white-space:pre-wrap>Wit Studio  </span></td><td><span style=white-space:pre-wrap>Manga      </span></td><td>24 min per ep</td><td>R - 17+ (violence &amp; profanity)</td><td><span style=white-space:pre-wrap>https://cdn.myanimelist.net/images/anime/10/47347.jpg   </span></td></tr>\n\t<tr><th scope=row>1394</th><td> 2</td><td> 1535</td><td><span style=white-space:pre-wrap>Death Note                      </span></td><td><span style=white-space:pre-wrap>Death Note                      </span></td><td><span style=white-space:pre-wrap>Supernatural, Suspense                </span></td><td>TV</td><td> 37</td><td>Finished Airing</td><td><span style=white-space:pre-wrap>Madhouse    </span></td><td><span style=white-space:pre-wrap>Manga      </span></td><td>23 min per ep</td><td>R - 17+ (violence &amp; profanity)</td><td><span style=white-space:pre-wrap>https://cdn.myanimelist.net/images/anime/9/9453.jpg     </span></td></tr>\n\t<tr><th scope=row>3962</th><td> 3</td><td> 5114</td><td>Fullmetal Alchemist: Brotherhood</td><td>Fullmetal Alchemist: Brotherhood</td><td><span style=white-space:pre-wrap>Action, Adventure, Drama, Fantasy     </span></td><td>TV</td><td> 64</td><td>Finished Airing</td><td><span style=white-space:pre-wrap>Bones       </span></td><td><span style=white-space:pre-wrap>Manga      </span></td><td>24 min per ep</td><td>R - 17+ (violence &amp; profanity)</td><td>https://cdn.myanimelist.net/images/anime/1208/94745.jpg </td></tr>\n\t<tr><th scope=row>10409</th><td> 4</td><td>30276</td><td><span style=white-space:pre-wrap>One Punch Man                   </span></td><td><span style=white-space:pre-wrap>One Punch Man                   </span></td><td><span style=white-space:pre-wrap>Action, Comedy                        </span></td><td>TV</td><td> 12</td><td>Finished Airing</td><td><span style=white-space:pre-wrap>Madhouse    </span></td><td><span style=white-space:pre-wrap>Web manga  </span></td><td>24 min per ep</td><td>R - 17+ (violence &amp; profanity)</td><td><span style=white-space:pre-wrap>https://cdn.myanimelist.net/images/anime/12/76049.jpg   </span></td></tr>\n\t<tr><th scope=row>6597</th><td> 5</td><td>11757</td><td>Sword Art Online                </td><td>Sword Art Online                </td><td>Action, Adventure, Fantasy, Romance   </td><td>TV</td><td> 25</td><td>Finished Airing</td><td>A-1 Pictures</td><td>Light novel</td><td>23 min per ep</td><td>PG-13 - Teens 13 or older     </td><td>https://cdn.myanimelist.net/images/anime/11/39717.jpg   </td></tr>\n\t<tr><th scope=row>11135</th><td> 6</td><td>31964</td><td>Boku no Hero Academia           </td><td>My Hero Academia                </td><td>Action                                </td><td>TV</td><td> 13</td><td>Finished Airing</td><td>Bones       </td><td>Manga      </td><td>24 min per ep</td><td>PG-13 - Teens 13 or older     </td><td>https://cdn.myanimelist.net/images/anime/10/78745.jpg   </td></tr>\n\t<tr><th scope=row>14540</th><td> 7</td><td>38000</td><td><span style=white-space:pre-wrap>Kimetsu no Yaiba                </span></td><td><span style=white-space:pre-wrap>Demon Slayer: Kimetsu no Yaiba  </span></td><td><span style=white-space:pre-wrap>Action, Award Winning, Fantasy        </span></td><td>TV</td><td> 26</td><td>Finished Airing</td><td><span style=white-space:pre-wrap>ufotable    </span></td><td><span style=white-space:pre-wrap>Manga      </span></td><td>23 min per ep</td><td>R - 17+ (violence &amp; profanity)</td><td>https://cdn.myanimelist.net/images/anime/1286/99889.jpg </td></tr>\n\t<tr><th scope=row>11</th><td> 8</td><td>   20</td><td>Naruto                          </td><td>Naruto                          </td><td>Action, Adventure, Fantasy            </td><td>TV</td><td>220</td><td>Finished Airing</td><td>Pierrot     </td><td>Manga      </td><td>23 min per ep</td><td>PG-13 - Teens 13 or older     </td><td>https://cdn.myanimelist.net/images/anime/13/17405.jpg   </td></tr>\n\t<tr><th scope=row>8620</th><td> 9</td><td>22319</td><td><span style=white-space:pre-wrap>Tokyo Ghoul                     </span></td><td><span style=white-space:pre-wrap>Tokyo Ghoul                     </span></td><td><span style=white-space:pre-wrap>Action, Fantasy, Horror               </span></td><td>TV</td><td> 12</td><td>Finished Airing</td><td><span style=white-space:pre-wrap>Pierrot     </span></td><td><span style=white-space:pre-wrap>Manga      </span></td><td>24 min per ep</td><td>R - 17+ (violence &amp; profanity)</td><td>https://cdn.myanimelist.net/images/anime/1498/134443.jpg</td></tr>\n\t<tr><th scope=row>6457</th><td>10</td><td>11061</td><td>Hunter x Hunter (2011)          </td><td>Hunter x Hunter                 </td><td>Action, Adventure, Fantasy            </td><td>TV</td><td>148</td><td>Finished Airing</td><td>Madhouse    </td><td>Manga      </td><td>23 min per ep</td><td>PG-13 - Teens 13 or older     </td><td>https://cdn.myanimelist.net/images/anime/1337/99013.jpg </td></tr>\n</tbody>\n</table>\n",
            "text/markdown": "\nA data.frame: 10 × 13\n\n| <!--/--> | popularity &lt;int&gt; | anime_id &lt;int&gt; | name &lt;chr&gt; | english_name &lt;chr&gt; | genres &lt;chr&gt; | type &lt;chr&gt; | episodes &lt;int&gt; | status &lt;chr&gt; | studios &lt;chr&gt; | source &lt;chr&gt; | duration &lt;chr&gt; | rating &lt;chr&gt; | image_url &lt;chr&gt; |\n|---|---|---|---|---|---|---|---|---|---|---|---|---|---|\n| 7429 |  1 | 16498 | Shingeki no Kyojin               | Attack on Titan                  | Action, Award Winning, Drama, Suspense | TV |  25 | Finished Airing | Wit Studio   | Manga       | 24 min per ep | R - 17+ (violence &amp; profanity) | https://cdn.myanimelist.net/images/anime/10/47347.jpg    |\n| 1394 |  2 |  1535 | Death Note                       | Death Note                       | Supernatural, Suspense                 | TV |  37 | Finished Airing | Madhouse     | Manga       | 23 min per ep | R - 17+ (violence &amp; profanity) | https://cdn.myanimelist.net/images/anime/9/9453.jpg      |\n| 3962 |  3 |  5114 | Fullmetal Alchemist: Brotherhood | Fullmetal Alchemist: Brotherhood | Action, Adventure, Drama, Fantasy      | TV |  64 | Finished Airing | Bones        | Manga       | 24 min per ep | R - 17+ (violence &amp; profanity) | https://cdn.myanimelist.net/images/anime/1208/94745.jpg  |\n| 10409 |  4 | 30276 | One Punch Man                    | One Punch Man                    | Action, Comedy                         | TV |  12 | Finished Airing | Madhouse     | Web manga   | 24 min per ep | R - 17+ (violence &amp; profanity) | https://cdn.myanimelist.net/images/anime/12/76049.jpg    |\n| 6597 |  5 | 11757 | Sword Art Online                 | Sword Art Online                 | Action, Adventure, Fantasy, Romance    | TV |  25 | Finished Airing | A-1 Pictures | Light novel | 23 min per ep | PG-13 - Teens 13 or older      | https://cdn.myanimelist.net/images/anime/11/39717.jpg    |\n| 11135 |  6 | 31964 | Boku no Hero Academia            | My Hero Academia                 | Action                                 | TV |  13 | Finished Airing | Bones        | Manga       | 24 min per ep | PG-13 - Teens 13 or older      | https://cdn.myanimelist.net/images/anime/10/78745.jpg    |\n| 14540 |  7 | 38000 | Kimetsu no Yaiba                 | Demon Slayer: Kimetsu no Yaiba   | Action, Award Winning, Fantasy         | TV |  26 | Finished Airing | ufotable     | Manga       | 23 min per ep | R - 17+ (violence &amp; profanity) | https://cdn.myanimelist.net/images/anime/1286/99889.jpg  |\n| 11 |  8 |    20 | Naruto                           | Naruto                           | Action, Adventure, Fantasy             | TV | 220 | Finished Airing | Pierrot      | Manga       | 23 min per ep | PG-13 - Teens 13 or older      | https://cdn.myanimelist.net/images/anime/13/17405.jpg    |\n| 8620 |  9 | 22319 | Tokyo Ghoul                      | Tokyo Ghoul                      | Action, Fantasy, Horror                | TV |  12 | Finished Airing | Pierrot      | Manga       | 24 min per ep | R - 17+ (violence &amp; profanity) | https://cdn.myanimelist.net/images/anime/1498/134443.jpg |\n| 6457 | 10 | 11061 | Hunter x Hunter (2011)           | Hunter x Hunter                  | Action, Adventure, Fantasy             | TV | 148 | Finished Airing | Madhouse     | Manga       | 23 min per ep | PG-13 - Teens 13 or older      | https://cdn.myanimelist.net/images/anime/1337/99013.jpg  |\n\n",
            "text/latex": "A data.frame: 10 × 13\n\\begin{tabular}{r|lllllllllllll}\n  & popularity & anime\\_id & name & english\\_name & genres & type & episodes & status & studios & source & duration & rating & image\\_url\\\\\n  & <int> & <int> & <chr> & <chr> & <chr> & <chr> & <int> & <chr> & <chr> & <chr> & <chr> & <chr> & <chr>\\\\\n\\hline\n\t7429 &  1 & 16498 & Shingeki no Kyojin               & Attack on Titan                  & Action, Award Winning, Drama, Suspense & TV &  25 & Finished Airing & Wit Studio   & Manga       & 24 min per ep & R - 17+ (violence \\& profanity) & https://cdn.myanimelist.net/images/anime/10/47347.jpg   \\\\\n\t1394 &  2 &  1535 & Death Note                       & Death Note                       & Supernatural, Suspense                 & TV &  37 & Finished Airing & Madhouse     & Manga       & 23 min per ep & R - 17+ (violence \\& profanity) & https://cdn.myanimelist.net/images/anime/9/9453.jpg     \\\\\n\t3962 &  3 &  5114 & Fullmetal Alchemist: Brotherhood & Fullmetal Alchemist: Brotherhood & Action, Adventure, Drama, Fantasy      & TV &  64 & Finished Airing & Bones        & Manga       & 24 min per ep & R - 17+ (violence \\& profanity) & https://cdn.myanimelist.net/images/anime/1208/94745.jpg \\\\\n\t10409 &  4 & 30276 & One Punch Man                    & One Punch Man                    & Action, Comedy                         & TV &  12 & Finished Airing & Madhouse     & Web manga   & 24 min per ep & R - 17+ (violence \\& profanity) & https://cdn.myanimelist.net/images/anime/12/76049.jpg   \\\\\n\t6597 &  5 & 11757 & Sword Art Online                 & Sword Art Online                 & Action, Adventure, Fantasy, Romance    & TV &  25 & Finished Airing & A-1 Pictures & Light novel & 23 min per ep & PG-13 - Teens 13 or older      & https://cdn.myanimelist.net/images/anime/11/39717.jpg   \\\\\n\t11135 &  6 & 31964 & Boku no Hero Academia            & My Hero Academia                 & Action                                 & TV &  13 & Finished Airing & Bones        & Manga       & 24 min per ep & PG-13 - Teens 13 or older      & https://cdn.myanimelist.net/images/anime/10/78745.jpg   \\\\\n\t14540 &  7 & 38000 & Kimetsu no Yaiba                 & Demon Slayer: Kimetsu no Yaiba   & Action, Award Winning, Fantasy         & TV &  26 & Finished Airing & ufotable     & Manga       & 23 min per ep & R - 17+ (violence \\& profanity) & https://cdn.myanimelist.net/images/anime/1286/99889.jpg \\\\\n\t11 &  8 &    20 & Naruto                           & Naruto                           & Action, Adventure, Fantasy             & TV & 220 & Finished Airing & Pierrot      & Manga       & 23 min per ep & PG-13 - Teens 13 or older      & https://cdn.myanimelist.net/images/anime/13/17405.jpg   \\\\\n\t8620 &  9 & 22319 & Tokyo Ghoul                      & Tokyo Ghoul                      & Action, Fantasy, Horror                & TV &  12 & Finished Airing & Pierrot      & Manga       & 24 min per ep & R - 17+ (violence \\& profanity) & https://cdn.myanimelist.net/images/anime/1498/134443.jpg\\\\\n\t6457 & 10 & 11061 & Hunter x Hunter (2011)           & Hunter x Hunter                  & Action, Adventure, Fantasy             & TV & 148 & Finished Airing & Madhouse     & Manga       & 23 min per ep & PG-13 - Teens 13 or older      & https://cdn.myanimelist.net/images/anime/1337/99013.jpg \\\\\n\\end{tabular}\n",
            "text/plain": "      popularity anime_id name                            \n7429   1         16498    Shingeki no Kyojin              \n1394   2          1535    Death Note                      \n3962   3          5114    Fullmetal Alchemist: Brotherhood\n10409  4         30276    One Punch Man                   \n6597   5         11757    Sword Art Online                \n11135  6         31964    Boku no Hero Academia           \n14540  7         38000    Kimetsu no Yaiba                \n11     8            20    Naruto                          \n8620   9         22319    Tokyo Ghoul                     \n6457  10         11061    Hunter x Hunter (2011)          \n      english_name                     genres                                \n7429  Attack on Titan                  Action, Award Winning, Drama, Suspense\n1394  Death Note                       Supernatural, Suspense                \n3962  Fullmetal Alchemist: Brotherhood Action, Adventure, Drama, Fantasy     \n10409 One Punch Man                    Action, Comedy                        \n6597  Sword Art Online                 Action, Adventure, Fantasy, Romance   \n11135 My Hero Academia                 Action                                \n14540 Demon Slayer: Kimetsu no Yaiba   Action, Award Winning, Fantasy        \n11    Naruto                           Action, Adventure, Fantasy            \n8620  Tokyo Ghoul                      Action, Fantasy, Horror               \n6457  Hunter x Hunter                  Action, Adventure, Fantasy            \n      type episodes status          studios      source      duration     \n7429  TV    25      Finished Airing Wit Studio   Manga       24 min per ep\n1394  TV    37      Finished Airing Madhouse     Manga       23 min per ep\n3962  TV    64      Finished Airing Bones        Manga       24 min per ep\n10409 TV    12      Finished Airing Madhouse     Web manga   24 min per ep\n6597  TV    25      Finished Airing A-1 Pictures Light novel 23 min per ep\n11135 TV    13      Finished Airing Bones        Manga       24 min per ep\n14540 TV    26      Finished Airing ufotable     Manga       23 min per ep\n11    TV   220      Finished Airing Pierrot      Manga       23 min per ep\n8620  TV    12      Finished Airing Pierrot      Manga       24 min per ep\n6457  TV   148      Finished Airing Madhouse     Manga       23 min per ep\n      rating                        \n7429  R - 17+ (violence & profanity)\n1394  R - 17+ (violence & profanity)\n3962  R - 17+ (violence & profanity)\n10409 R - 17+ (violence & profanity)\n6597  PG-13 - Teens 13 or older     \n11135 PG-13 - Teens 13 or older     \n14540 R - 17+ (violence & profanity)\n11    PG-13 - Teens 13 or older     \n8620  R - 17+ (violence & profanity)\n6457  PG-13 - Teens 13 or older     \n      image_url                                               \n7429  https://cdn.myanimelist.net/images/anime/10/47347.jpg   \n1394  https://cdn.myanimelist.net/images/anime/9/9453.jpg     \n3962  https://cdn.myanimelist.net/images/anime/1208/94745.jpg \n10409 https://cdn.myanimelist.net/images/anime/12/76049.jpg   \n6597  https://cdn.myanimelist.net/images/anime/11/39717.jpg   \n11135 https://cdn.myanimelist.net/images/anime/10/78745.jpg   \n14540 https://cdn.myanimelist.net/images/anime/1286/99889.jpg \n11    https://cdn.myanimelist.net/images/anime/13/17405.jpg   \n8620  https://cdn.myanimelist.net/images/anime/1498/134443.jpg\n6457  https://cdn.myanimelist.net/images/anime/1337/99013.jpg "
          },
          "metadata": {}
        }
      ]
    },
    {
      "cell_type": "code",
      "source": [
        "# Top Ranked Anime\n",
        "rank_nozero <- anime_data_2023[anime_data_2023$rank != 0, ]\n",
        "rank_ranked <- rank_nozero[order(rank_nozero$rank, na.last = TRUE), ]\n",
        "\n",
        "rank_anime <- rank_ranked %>%\n",
        "    select(\"rank\", \"anime_id\", \"name\", \"english_name\", \"genres\", \"type\",\n",
        "           \"episodes\", \"status\", \"studios\", \"source\", \"duration\", \"rating\", \"image_url\")\n",
        "\n",
        "head(rank_anime, n = 10)"
      ],
      "metadata": {
        "execution": {
          "iopub.status.busy": "2024-02-16T06:31:04.453493Z",
          "iopub.execute_input": "2024-02-16T06:31:04.455327Z",
          "iopub.status.idle": "2024-02-16T06:31:04.557513Z"
        },
        "trusted": true,
        "id": "COAOZ0Wep7F4",
        "outputId": "fdc366cb-8130-42a5-b929-90e3b098642a"
      },
      "execution_count": null,
      "outputs": [
        {
          "output_type": "display_data",
          "data": {
            "text/html": "<table class=\"dataframe\">\n<caption>A data.frame: 10 × 13</caption>\n<thead>\n\t<tr><th></th><th scope=col>rank</th><th scope=col>anime_id</th><th scope=col>name</th><th scope=col>english_name</th><th scope=col>genres</th><th scope=col>type</th><th scope=col>episodes</th><th scope=col>status</th><th scope=col>studios</th><th scope=col>source</th><th scope=col>duration</th><th scope=col>rating</th><th scope=col>image_url</th></tr>\n\t<tr><th></th><th scope=col>&lt;int&gt;</th><th scope=col>&lt;int&gt;</th><th scope=col>&lt;chr&gt;</th><th scope=col>&lt;chr&gt;</th><th scope=col>&lt;chr&gt;</th><th scope=col>&lt;chr&gt;</th><th scope=col>&lt;int&gt;</th><th scope=col>&lt;chr&gt;</th><th scope=col>&lt;chr&gt;</th><th scope=col>&lt;chr&gt;</th><th scope=col>&lt;chr&gt;</th><th scope=col>&lt;chr&gt;</th><th scope=col>&lt;chr&gt;</th></tr>\n</thead>\n<tbody>\n\t<tr><th scope=row>3962</th><td> 1</td><td> 5114</td><td><span style=white-space:pre-wrap>Fullmetal Alchemist: Brotherhood                   </span></td><td><span style=white-space:pre-wrap>Fullmetal Alchemist: Brotherhood                  </span></td><td>Action, Adventure, Drama, Fantasy</td><td><span style=white-space:pre-wrap>TV     </span></td><td> 64</td><td>Finished Airing </td><td><span style=white-space:pre-wrap>Bones                </span></td><td><span style=white-space:pre-wrap>Manga       </span></td><td><span style=white-space:pre-wrap>24 min per ep    </span></td><td>R - 17+ (violence &amp; profanity)</td><td>https://cdn.myanimelist.net/images/anime/1208/94745.jpg </td></tr>\n\t<tr><th scope=row>16618</th><td> 2</td><td>41467</td><td><span style=white-space:pre-wrap>Bleach: Sennen Kessen-hen                          </span></td><td><span style=white-space:pre-wrap>Bleach: Thousand-Year Blood War                   </span></td><td><span style=white-space:pre-wrap>Action, Adventure, Fantasy       </span></td><td><span style=white-space:pre-wrap>TV     </span></td><td> 13</td><td>Finished Airing </td><td><span style=white-space:pre-wrap>Pierrot              </span></td><td><span style=white-space:pre-wrap>Manga       </span></td><td><span style=white-space:pre-wrap>24 min per ep    </span></td><td>R - 17+ (violence &amp; profanity)</td><td>https://cdn.myanimelist.net/images/anime/1908/135431.jpg</td></tr>\n\t<tr><th scope=row>5668</th><td> 3</td><td> 9253</td><td>Steins;Gate                                        </td><td>Steins;Gate                                       </td><td>Drama, Sci-Fi, Suspense          </td><td>TV     </td><td> 24</td><td>Finished Airing </td><td>White Fox            </td><td>Visual novel</td><td>24 min per ep    </td><td>PG-13 - Teens 13 or older     </td><td>https://cdn.myanimelist.net/images/anime/1935/127974.jpg</td></tr>\n\t<tr><th scope=row>9881</th><td> 4</td><td>28977</td><td>Gintama°                                           </td><td>Gintama Season 4                                  </td><td>Action, Comedy, Sci-Fi           </td><td>TV     </td><td> 51</td><td>Finished Airing </td><td>Bandai Namco Pictures</td><td>Manga       </td><td>24 min per ep    </td><td>PG-13 - Teens 13 or older     </td><td>https://cdn.myanimelist.net/images/anime/3/72078.jpg    </td></tr>\n\t<tr><th scope=row>17573</th><td> 5</td><td>43608</td><td>Kaguya-sama wa Kokurasetai: Ultra Romantic         </td><td>Kaguya-sama: Love is War - Ultra Romantic         </td><td>Comedy, Romance                  </td><td>TV     </td><td> 13</td><td>Finished Airing </td><td>A-1 Pictures         </td><td>Manga       </td><td>23 min per ep    </td><td>PG-13 - Teens 13 or older     </td><td>https://cdn.myanimelist.net/images/anime/1160/122627.jpg</td></tr>\n\t<tr><th scope=row>14866</th><td> 6</td><td>38524</td><td><span style=white-space:pre-wrap>Shingeki no Kyojin Season 3 Part 2                 </span></td><td><span style=white-space:pre-wrap>Attack on Titan Season 3 Part 2                   </span></td><td><span style=white-space:pre-wrap>Action, Drama                    </span></td><td><span style=white-space:pre-wrap>TV     </span></td><td> 10</td><td>Finished Airing </td><td><span style=white-space:pre-wrap>Wit Studio           </span></td><td><span style=white-space:pre-wrap>Manga       </span></td><td><span style=white-space:pre-wrap>23 min per ep    </span></td><td>R - 17+ (violence &amp; profanity)</td><td>https://cdn.myanimelist.net/images/anime/1517/100633.jpg</td></tr>\n\t<tr><th scope=row>22349</th><td> 7</td><td>51535</td><td>Shingeki no Kyojin: The Final Season - Kanketsu-hen</td><td>Attack on Titan: The Final Season - Final Chapters</td><td><span style=white-space:pre-wrap>Action, Drama, Suspense          </span></td><td>Special</td><td><span style=white-space:pre-wrap>  2</span></td><td>Currently Airing</td><td><span style=white-space:pre-wrap>MAPPA                </span></td><td><span style=white-space:pre-wrap>Manga       </span></td><td>1 hr 1 min per ep</td><td>R - 17+ (violence &amp; profanity)</td><td>https://cdn.myanimelist.net/images/anime/1279/131078.jpg</td></tr>\n\t<tr><th scope=row>5990</th><td> 8</td><td> 9969</td><td>Gintama'                                           </td><td>Gintama Season 2                                  </td><td>Action, Comedy, Sci-Fi           </td><td>TV     </td><td> 51</td><td>Finished Airing </td><td>Sunrise              </td><td>Manga       </td><td>24 min per ep    </td><td>PG-13 - Teens 13 or older     </td><td>https://cdn.myanimelist.net/images/anime/4/50361.jpg    </td></tr>\n\t<tr><th scope=row>15526</th><td> 9</td><td>39486</td><td>Gintama: The Final                                 </td><td>Gintama: The Very Final                           </td><td>Action, Comedy, Drama, Sci-Fi    </td><td>Movie  </td><td>  1</td><td>Finished Airing </td><td>Bandai Namco Pictures</td><td>Manga       </td><td>1 hr 44 min      </td><td>PG-13 - Teens 13 or older     </td><td>https://cdn.myanimelist.net/images/anime/1245/116760.jpg</td></tr>\n\t<tr><th scope=row>6457</th><td>10</td><td>11061</td><td>Hunter x Hunter (2011)                             </td><td>Hunter x Hunter                                   </td><td>Action, Adventure, Fantasy       </td><td>TV     </td><td>148</td><td>Finished Airing </td><td>Madhouse             </td><td>Manga       </td><td>23 min per ep    </td><td>PG-13 - Teens 13 or older     </td><td>https://cdn.myanimelist.net/images/anime/1337/99013.jpg </td></tr>\n</tbody>\n</table>\n",
            "text/markdown": "\nA data.frame: 10 × 13\n\n| <!--/--> | rank &lt;int&gt; | anime_id &lt;int&gt; | name &lt;chr&gt; | english_name &lt;chr&gt; | genres &lt;chr&gt; | type &lt;chr&gt; | episodes &lt;int&gt; | status &lt;chr&gt; | studios &lt;chr&gt; | source &lt;chr&gt; | duration &lt;chr&gt; | rating &lt;chr&gt; | image_url &lt;chr&gt; |\n|---|---|---|---|---|---|---|---|---|---|---|---|---|---|\n| 3962 |  1 |  5114 | Fullmetal Alchemist: Brotherhood                    | Fullmetal Alchemist: Brotherhood                   | Action, Adventure, Drama, Fantasy | TV      |  64 | Finished Airing  | Bones                 | Manga        | 24 min per ep     | R - 17+ (violence &amp; profanity) | https://cdn.myanimelist.net/images/anime/1208/94745.jpg  |\n| 16618 |  2 | 41467 | Bleach: Sennen Kessen-hen                           | Bleach: Thousand-Year Blood War                    | Action, Adventure, Fantasy        | TV      |  13 | Finished Airing  | Pierrot               | Manga        | 24 min per ep     | R - 17+ (violence &amp; profanity) | https://cdn.myanimelist.net/images/anime/1908/135431.jpg |\n| 5668 |  3 |  9253 | Steins;Gate                                         | Steins;Gate                                        | Drama, Sci-Fi, Suspense           | TV      |  24 | Finished Airing  | White Fox             | Visual novel | 24 min per ep     | PG-13 - Teens 13 or older      | https://cdn.myanimelist.net/images/anime/1935/127974.jpg |\n| 9881 |  4 | 28977 | Gintama°                                            | Gintama Season 4                                   | Action, Comedy, Sci-Fi            | TV      |  51 | Finished Airing  | Bandai Namco Pictures | Manga        | 24 min per ep     | PG-13 - Teens 13 or older      | https://cdn.myanimelist.net/images/anime/3/72078.jpg     |\n| 17573 |  5 | 43608 | Kaguya-sama wa Kokurasetai: Ultra Romantic          | Kaguya-sama: Love is War - Ultra Romantic          | Comedy, Romance                   | TV      |  13 | Finished Airing  | A-1 Pictures          | Manga        | 23 min per ep     | PG-13 - Teens 13 or older      | https://cdn.myanimelist.net/images/anime/1160/122627.jpg |\n| 14866 |  6 | 38524 | Shingeki no Kyojin Season 3 Part 2                  | Attack on Titan Season 3 Part 2                    | Action, Drama                     | TV      |  10 | Finished Airing  | Wit Studio            | Manga        | 23 min per ep     | R - 17+ (violence &amp; profanity) | https://cdn.myanimelist.net/images/anime/1517/100633.jpg |\n| 22349 |  7 | 51535 | Shingeki no Kyojin: The Final Season - Kanketsu-hen | Attack on Titan: The Final Season - Final Chapters | Action, Drama, Suspense           | Special |   2 | Currently Airing | MAPPA                 | Manga        | 1 hr 1 min per ep | R - 17+ (violence &amp; profanity) | https://cdn.myanimelist.net/images/anime/1279/131078.jpg |\n| 5990 |  8 |  9969 | Gintama'                                            | Gintama Season 2                                   | Action, Comedy, Sci-Fi            | TV      |  51 | Finished Airing  | Sunrise               | Manga        | 24 min per ep     | PG-13 - Teens 13 or older      | https://cdn.myanimelist.net/images/anime/4/50361.jpg     |\n| 15526 |  9 | 39486 | Gintama: The Final                                  | Gintama: The Very Final                            | Action, Comedy, Drama, Sci-Fi     | Movie   |   1 | Finished Airing  | Bandai Namco Pictures | Manga        | 1 hr 44 min       | PG-13 - Teens 13 or older      | https://cdn.myanimelist.net/images/anime/1245/116760.jpg |\n| 6457 | 10 | 11061 | Hunter x Hunter (2011)                              | Hunter x Hunter                                    | Action, Adventure, Fantasy        | TV      | 148 | Finished Airing  | Madhouse              | Manga        | 23 min per ep     | PG-13 - Teens 13 or older      | https://cdn.myanimelist.net/images/anime/1337/99013.jpg  |\n\n",
            "text/latex": "A data.frame: 10 × 13\n\\begin{tabular}{r|lllllllllllll}\n  & rank & anime\\_id & name & english\\_name & genres & type & episodes & status & studios & source & duration & rating & image\\_url\\\\\n  & <int> & <int> & <chr> & <chr> & <chr> & <chr> & <int> & <chr> & <chr> & <chr> & <chr> & <chr> & <chr>\\\\\n\\hline\n\t3962 &  1 &  5114 & Fullmetal Alchemist: Brotherhood                    & Fullmetal Alchemist: Brotherhood                   & Action, Adventure, Drama, Fantasy & TV      &  64 & Finished Airing  & Bones                 & Manga        & 24 min per ep     & R - 17+ (violence \\& profanity) & https://cdn.myanimelist.net/images/anime/1208/94745.jpg \\\\\n\t16618 &  2 & 41467 & Bleach: Sennen Kessen-hen                           & Bleach: Thousand-Year Blood War                    & Action, Adventure, Fantasy        & TV      &  13 & Finished Airing  & Pierrot               & Manga        & 24 min per ep     & R - 17+ (violence \\& profanity) & https://cdn.myanimelist.net/images/anime/1908/135431.jpg\\\\\n\t5668 &  3 &  9253 & Steins;Gate                                         & Steins;Gate                                        & Drama, Sci-Fi, Suspense           & TV      &  24 & Finished Airing  & White Fox             & Visual novel & 24 min per ep     & PG-13 - Teens 13 or older      & https://cdn.myanimelist.net/images/anime/1935/127974.jpg\\\\\n\t9881 &  4 & 28977 & Gintama°                                            & Gintama Season 4                                   & Action, Comedy, Sci-Fi            & TV      &  51 & Finished Airing  & Bandai Namco Pictures & Manga        & 24 min per ep     & PG-13 - Teens 13 or older      & https://cdn.myanimelist.net/images/anime/3/72078.jpg    \\\\\n\t17573 &  5 & 43608 & Kaguya-sama wa Kokurasetai: Ultra Romantic          & Kaguya-sama: Love is War - Ultra Romantic          & Comedy, Romance                   & TV      &  13 & Finished Airing  & A-1 Pictures          & Manga        & 23 min per ep     & PG-13 - Teens 13 or older      & https://cdn.myanimelist.net/images/anime/1160/122627.jpg\\\\\n\t14866 &  6 & 38524 & Shingeki no Kyojin Season 3 Part 2                  & Attack on Titan Season 3 Part 2                    & Action, Drama                     & TV      &  10 & Finished Airing  & Wit Studio            & Manga        & 23 min per ep     & R - 17+ (violence \\& profanity) & https://cdn.myanimelist.net/images/anime/1517/100633.jpg\\\\\n\t22349 &  7 & 51535 & Shingeki no Kyojin: The Final Season - Kanketsu-hen & Attack on Titan: The Final Season - Final Chapters & Action, Drama, Suspense           & Special &   2 & Currently Airing & MAPPA                 & Manga        & 1 hr 1 min per ep & R - 17+ (violence \\& profanity) & https://cdn.myanimelist.net/images/anime/1279/131078.jpg\\\\\n\t5990 &  8 &  9969 & Gintama'                                            & Gintama Season 2                                   & Action, Comedy, Sci-Fi            & TV      &  51 & Finished Airing  & Sunrise               & Manga        & 24 min per ep     & PG-13 - Teens 13 or older      & https://cdn.myanimelist.net/images/anime/4/50361.jpg    \\\\\n\t15526 &  9 & 39486 & Gintama: The Final                                  & Gintama: The Very Final                            & Action, Comedy, Drama, Sci-Fi     & Movie   &   1 & Finished Airing  & Bandai Namco Pictures & Manga        & 1 hr 44 min       & PG-13 - Teens 13 or older      & https://cdn.myanimelist.net/images/anime/1245/116760.jpg\\\\\n\t6457 & 10 & 11061 & Hunter x Hunter (2011)                              & Hunter x Hunter                                    & Action, Adventure, Fantasy        & TV      & 148 & Finished Airing  & Madhouse              & Manga        & 23 min per ep     & PG-13 - Teens 13 or older      & https://cdn.myanimelist.net/images/anime/1337/99013.jpg \\\\\n\\end{tabular}\n",
            "text/plain": "      rank anime_id name                                               \n3962   1    5114    Fullmetal Alchemist: Brotherhood                   \n16618  2   41467    Bleach: Sennen Kessen-hen                          \n5668   3    9253    Steins;Gate                                        \n9881   4   28977    Gintama°                                           \n17573  5   43608    Kaguya-sama wa Kokurasetai: Ultra Romantic         \n14866  6   38524    Shingeki no Kyojin Season 3 Part 2                 \n22349  7   51535    Shingeki no Kyojin: The Final Season - Kanketsu-hen\n5990   8    9969    Gintama'                                           \n15526  9   39486    Gintama: The Final                                 \n6457  10   11061    Hunter x Hunter (2011)                             \n      english_name                                      \n3962  Fullmetal Alchemist: Brotherhood                  \n16618 Bleach: Thousand-Year Blood War                   \n5668  Steins;Gate                                       \n9881  Gintama Season 4                                  \n17573 Kaguya-sama: Love is War - Ultra Romantic         \n14866 Attack on Titan Season 3 Part 2                   \n22349 Attack on Titan: The Final Season - Final Chapters\n5990  Gintama Season 2                                  \n15526 Gintama: The Very Final                           \n6457  Hunter x Hunter                                   \n      genres                            type    episodes status          \n3962  Action, Adventure, Drama, Fantasy TV       64      Finished Airing \n16618 Action, Adventure, Fantasy        TV       13      Finished Airing \n5668  Drama, Sci-Fi, Suspense           TV       24      Finished Airing \n9881  Action, Comedy, Sci-Fi            TV       51      Finished Airing \n17573 Comedy, Romance                   TV       13      Finished Airing \n14866 Action, Drama                     TV       10      Finished Airing \n22349 Action, Drama, Suspense           Special   2      Currently Airing\n5990  Action, Comedy, Sci-Fi            TV       51      Finished Airing \n15526 Action, Comedy, Drama, Sci-Fi     Movie     1      Finished Airing \n6457  Action, Adventure, Fantasy        TV      148      Finished Airing \n      studios               source       duration         \n3962  Bones                 Manga        24 min per ep    \n16618 Pierrot               Manga        24 min per ep    \n5668  White Fox             Visual novel 24 min per ep    \n9881  Bandai Namco Pictures Manga        24 min per ep    \n17573 A-1 Pictures          Manga        23 min per ep    \n14866 Wit Studio            Manga        23 min per ep    \n22349 MAPPA                 Manga        1 hr 1 min per ep\n5990  Sunrise               Manga        24 min per ep    \n15526 Bandai Namco Pictures Manga        1 hr 44 min      \n6457  Madhouse              Manga        23 min per ep    \n      rating                        \n3962  R - 17+ (violence & profanity)\n16618 R - 17+ (violence & profanity)\n5668  PG-13 - Teens 13 or older     \n9881  PG-13 - Teens 13 or older     \n17573 PG-13 - Teens 13 or older     \n14866 R - 17+ (violence & profanity)\n22349 R - 17+ (violence & profanity)\n5990  PG-13 - Teens 13 or older     \n15526 PG-13 - Teens 13 or older     \n6457  PG-13 - Teens 13 or older     \n      image_url                                               \n3962  https://cdn.myanimelist.net/images/anime/1208/94745.jpg \n16618 https://cdn.myanimelist.net/images/anime/1908/135431.jpg\n5668  https://cdn.myanimelist.net/images/anime/1935/127974.jpg\n9881  https://cdn.myanimelist.net/images/anime/3/72078.jpg    \n17573 https://cdn.myanimelist.net/images/anime/1160/122627.jpg\n14866 https://cdn.myanimelist.net/images/anime/1517/100633.jpg\n22349 https://cdn.myanimelist.net/images/anime/1279/131078.jpg\n5990  https://cdn.myanimelist.net/images/anime/4/50361.jpg    \n15526 https://cdn.myanimelist.net/images/anime/1245/116760.jpg\n6457  https://cdn.myanimelist.net/images/anime/1337/99013.jpg "
          },
          "metadata": {}
        }
      ]
    },
    {
      "cell_type": "code",
      "source": [
        "# Most Favorited Anime\n",
        "favorites_nozero <- anime_data_2023[anime_data_2023$favorites != 0, ]\n",
        "favorites_ranked <- favorites_nozero[order(favorites_nozero$favorites,\n",
        "                                      decreasing = TRUE, na.last = TRUE), ]\n",
        "\n",
        "favorites_anime <- favorites_ranked %>%\n",
        "    select(\"favorites\", \"anime_id\", \"name\", \"english_name\", \"genres\", \"type\",\n",
        "           \"episodes\", \"status\", \"studios\", \"source\", \"duration\", \"rating\", \"image_url\")\n",
        "\n",
        "head(favorites_anime, n = 10)"
      ],
      "metadata": {
        "execution": {
          "iopub.status.busy": "2024-02-16T06:31:04.561623Z",
          "iopub.execute_input": "2024-02-16T06:31:04.563163Z",
          "iopub.status.idle": "2024-02-16T06:31:04.639926Z"
        },
        "trusted": true,
        "id": "kQ2pVSVOp7F4",
        "outputId": "c4e60839-5b23-4ab3-c5ce-a8b090514f2e"
      },
      "execution_count": null,
      "outputs": [
        {
          "output_type": "display_data",
          "data": {
            "text/html": "<table class=\"dataframe\">\n<caption>A data.frame: 10 × 13</caption>\n<thead>\n\t<tr><th></th><th scope=col>favorites</th><th scope=col>anime_id</th><th scope=col>name</th><th scope=col>english_name</th><th scope=col>genres</th><th scope=col>type</th><th scope=col>episodes</th><th scope=col>status</th><th scope=col>studios</th><th scope=col>source</th><th scope=col>duration</th><th scope=col>rating</th><th scope=col>image_url</th></tr>\n\t<tr><th></th><th scope=col>&lt;int&gt;</th><th scope=col>&lt;int&gt;</th><th scope=col>&lt;chr&gt;</th><th scope=col>&lt;chr&gt;</th><th scope=col>&lt;chr&gt;</th><th scope=col>&lt;chr&gt;</th><th scope=col>&lt;int&gt;</th><th scope=col>&lt;chr&gt;</th><th scope=col>&lt;chr&gt;</th><th scope=col>&lt;chr&gt;</th><th scope=col>&lt;chr&gt;</th><th scope=col>&lt;chr&gt;</th><th scope=col>&lt;chr&gt;</th></tr>\n</thead>\n<tbody>\n\t<tr><th scope=row>3962</th><td>217606</td><td> 5114</td><td>Fullmetal Alchemist: Brotherhood</td><td><span style=white-space:pre-wrap>Fullmetal Alchemist: Brotherhood    </span></td><td><span style=white-space:pre-wrap>Action, Adventure, Drama, Fantasy                          </span></td><td>TV</td><td> 64</td><td>Finished Airing </td><td><span style=white-space:pre-wrap>Bones                       </span></td><td><span style=white-space:pre-wrap>Manga       </span></td><td>24 min per ep</td><td>R - 17+ (violence &amp; profanity)</td><td>https://cdn.myanimelist.net/images/anime/1208/94745.jpg </td></tr>\n\t<tr><th scope=row>6457</th><td>200265</td><td>11061</td><td>Hunter x Hunter (2011)          </td><td>Hunter x Hunter                     </td><td>Action, Adventure, Fantasy                                 </td><td>TV</td><td>148</td><td>Finished Airing </td><td>Madhouse                    </td><td>Manga       </td><td>23 min per ep</td><td>PG-13 - Teens 13 or older     </td><td>https://cdn.myanimelist.net/images/anime/1337/99013.jpg </td></tr>\n\t<tr><th scope=row>12</th><td>198986</td><td>   21</td><td>One Piece                       </td><td>One Piece                           </td><td>Action, Adventure, Fantasy                                 </td><td>TV</td><td> NA</td><td>Currently Airing</td><td>Toei Animation              </td><td>Manga       </td><td>24 min       </td><td>PG-13 - Teens 13 or older     </td><td>https://cdn.myanimelist.net/images/anime/6/73245.jpg    </td></tr>\n\t<tr><th scope=row>5668</th><td>182964</td><td> 9253</td><td>Steins;Gate                     </td><td>Steins;Gate                         </td><td>Drama, Sci-Fi, Suspense                                    </td><td>TV</td><td> 24</td><td>Finished Airing </td><td>White Fox                   </td><td>Visual novel</td><td>24 min per ep</td><td>PG-13 - Teens 13 or older     </td><td>https://cdn.myanimelist.net/images/anime/1935/127974.jpg</td></tr>\n\t<tr><th scope=row>1394</th><td>167586</td><td> 1535</td><td><span style=white-space:pre-wrap>Death Note                      </span></td><td><span style=white-space:pre-wrap>Death Note                          </span></td><td><span style=white-space:pre-wrap>Supernatural, Suspense                                     </span></td><td>TV</td><td> 37</td><td>Finished Airing </td><td><span style=white-space:pre-wrap>Madhouse                    </span></td><td><span style=white-space:pre-wrap>Manga       </span></td><td>23 min per ep</td><td>R - 17+ (violence &amp; profanity)</td><td><span style=white-space:pre-wrap>https://cdn.myanimelist.net/images/anime/9/9453.jpg     </span></td></tr>\n\t<tr><th scope=row>7429</th><td>163844</td><td>16498</td><td><span style=white-space:pre-wrap>Shingeki no Kyojin              </span></td><td><span style=white-space:pre-wrap>Attack on Titan                     </span></td><td><span style=white-space:pre-wrap>Action, Award Winning, Drama, Suspense                     </span></td><td>TV</td><td> 25</td><td>Finished Airing </td><td><span style=white-space:pre-wrap>Wit Studio                  </span></td><td><span style=white-space:pre-wrap>Manga       </span></td><td>24 min per ep</td><td>R - 17+ (violence &amp; profanity)</td><td><span style=white-space:pre-wrap>https://cdn.myanimelist.net/images/anime/10/47347.jpg   </span></td></tr>\n\t<tr><th scope=row>1575</th><td>107735</td><td> 1735</td><td>Naruto: Shippuuden              </td><td>Naruto Shippuden                    </td><td>Action, Adventure, Fantasy                                 </td><td>TV</td><td>500</td><td>Finished Airing </td><td>Pierrot                     </td><td>Manga       </td><td>23 min per ep</td><td>PG-13 - Teens 13 or older     </td><td>https://cdn.myanimelist.net/images/anime/1565/111305.jpg</td></tr>\n\t<tr><th scope=row>1432</th><td>105379</td><td> 1575</td><td>Code Geass: Hangyaku no Lelouch </td><td>Code Geass: Lelouch of the Rebellion</td><td><span style=white-space:pre-wrap>Action, Award Winning, Drama, Sci-Fi                       </span></td><td>TV</td><td> 25</td><td>Finished Airing </td><td><span style=white-space:pre-wrap>Sunrise                     </span></td><td><span style=white-space:pre-wrap>Original    </span></td><td>24 min per ep</td><td>R - 17+ (violence &amp; profanity)</td><td>https://cdn.myanimelist.net/images/anime/1032/135088.jpg</td></tr>\n\t<tr><th scope=row>21</th><td>100638</td><td>   30</td><td>Neon Genesis Evangelion         </td><td>Neon Genesis Evangelion             </td><td>Action, Avant Garde, Award Winning, Drama, Sci-Fi, Suspense</td><td>TV</td><td> 26</td><td>Finished Airing </td><td>Gainax, Tatsunoko Production</td><td>Original    </td><td>24 min per ep</td><td>PG-13 - Teens 13 or older     </td><td>https://cdn.myanimelist.net/images/anime/1314/108941.jpg</td></tr>\n\t<tr><th scope=row>14540</th><td> 88375</td><td>38000</td><td><span style=white-space:pre-wrap>Kimetsu no Yaiba                </span></td><td><span style=white-space:pre-wrap>Demon Slayer: Kimetsu no Yaiba      </span></td><td><span style=white-space:pre-wrap>Action, Award Winning, Fantasy                             </span></td><td>TV</td><td> 26</td><td>Finished Airing </td><td><span style=white-space:pre-wrap>ufotable                    </span></td><td><span style=white-space:pre-wrap>Manga       </span></td><td>23 min per ep</td><td>R - 17+ (violence &amp; profanity)</td><td>https://cdn.myanimelist.net/images/anime/1286/99889.jpg </td></tr>\n</tbody>\n</table>\n",
            "text/markdown": "\nA data.frame: 10 × 13\n\n| <!--/--> | favorites &lt;int&gt; | anime_id &lt;int&gt; | name &lt;chr&gt; | english_name &lt;chr&gt; | genres &lt;chr&gt; | type &lt;chr&gt; | episodes &lt;int&gt; | status &lt;chr&gt; | studios &lt;chr&gt; | source &lt;chr&gt; | duration &lt;chr&gt; | rating &lt;chr&gt; | image_url &lt;chr&gt; |\n|---|---|---|---|---|---|---|---|---|---|---|---|---|---|\n| 3962 | 217606 |  5114 | Fullmetal Alchemist: Brotherhood | Fullmetal Alchemist: Brotherhood     | Action, Adventure, Drama, Fantasy                           | TV |  64 | Finished Airing  | Bones                        | Manga        | 24 min per ep | R - 17+ (violence &amp; profanity) | https://cdn.myanimelist.net/images/anime/1208/94745.jpg  |\n| 6457 | 200265 | 11061 | Hunter x Hunter (2011)           | Hunter x Hunter                      | Action, Adventure, Fantasy                                  | TV | 148 | Finished Airing  | Madhouse                     | Manga        | 23 min per ep | PG-13 - Teens 13 or older      | https://cdn.myanimelist.net/images/anime/1337/99013.jpg  |\n| 12 | 198986 |    21 | One Piece                        | One Piece                            | Action, Adventure, Fantasy                                  | TV |  NA | Currently Airing | Toei Animation               | Manga        | 24 min        | PG-13 - Teens 13 or older      | https://cdn.myanimelist.net/images/anime/6/73245.jpg     |\n| 5668 | 182964 |  9253 | Steins;Gate                      | Steins;Gate                          | Drama, Sci-Fi, Suspense                                     | TV |  24 | Finished Airing  | White Fox                    | Visual novel | 24 min per ep | PG-13 - Teens 13 or older      | https://cdn.myanimelist.net/images/anime/1935/127974.jpg |\n| 1394 | 167586 |  1535 | Death Note                       | Death Note                           | Supernatural, Suspense                                      | TV |  37 | Finished Airing  | Madhouse                     | Manga        | 23 min per ep | R - 17+ (violence &amp; profanity) | https://cdn.myanimelist.net/images/anime/9/9453.jpg      |\n| 7429 | 163844 | 16498 | Shingeki no Kyojin               | Attack on Titan                      | Action, Award Winning, Drama, Suspense                      | TV |  25 | Finished Airing  | Wit Studio                   | Manga        | 24 min per ep | R - 17+ (violence &amp; profanity) | https://cdn.myanimelist.net/images/anime/10/47347.jpg    |\n| 1575 | 107735 |  1735 | Naruto: Shippuuden               | Naruto Shippuden                     | Action, Adventure, Fantasy                                  | TV | 500 | Finished Airing  | Pierrot                      | Manga        | 23 min per ep | PG-13 - Teens 13 or older      | https://cdn.myanimelist.net/images/anime/1565/111305.jpg |\n| 1432 | 105379 |  1575 | Code Geass: Hangyaku no Lelouch  | Code Geass: Lelouch of the Rebellion | Action, Award Winning, Drama, Sci-Fi                        | TV |  25 | Finished Airing  | Sunrise                      | Original     | 24 min per ep | R - 17+ (violence &amp; profanity) | https://cdn.myanimelist.net/images/anime/1032/135088.jpg |\n| 21 | 100638 |    30 | Neon Genesis Evangelion          | Neon Genesis Evangelion              | Action, Avant Garde, Award Winning, Drama, Sci-Fi, Suspense | TV |  26 | Finished Airing  | Gainax, Tatsunoko Production | Original     | 24 min per ep | PG-13 - Teens 13 or older      | https://cdn.myanimelist.net/images/anime/1314/108941.jpg |\n| 14540 |  88375 | 38000 | Kimetsu no Yaiba                 | Demon Slayer: Kimetsu no Yaiba       | Action, Award Winning, Fantasy                              | TV |  26 | Finished Airing  | ufotable                     | Manga        | 23 min per ep | R - 17+ (violence &amp; profanity) | https://cdn.myanimelist.net/images/anime/1286/99889.jpg  |\n\n",
            "text/latex": "A data.frame: 10 × 13\n\\begin{tabular}{r|lllllllllllll}\n  & favorites & anime\\_id & name & english\\_name & genres & type & episodes & status & studios & source & duration & rating & image\\_url\\\\\n  & <int> & <int> & <chr> & <chr> & <chr> & <chr> & <int> & <chr> & <chr> & <chr> & <chr> & <chr> & <chr>\\\\\n\\hline\n\t3962 & 217606 &  5114 & Fullmetal Alchemist: Brotherhood & Fullmetal Alchemist: Brotherhood     & Action, Adventure, Drama, Fantasy                           & TV &  64 & Finished Airing  & Bones                        & Manga        & 24 min per ep & R - 17+ (violence \\& profanity) & https://cdn.myanimelist.net/images/anime/1208/94745.jpg \\\\\n\t6457 & 200265 & 11061 & Hunter x Hunter (2011)           & Hunter x Hunter                      & Action, Adventure, Fantasy                                  & TV & 148 & Finished Airing  & Madhouse                     & Manga        & 23 min per ep & PG-13 - Teens 13 or older      & https://cdn.myanimelist.net/images/anime/1337/99013.jpg \\\\\n\t12 & 198986 &    21 & One Piece                        & One Piece                            & Action, Adventure, Fantasy                                  & TV &  NA & Currently Airing & Toei Animation               & Manga        & 24 min        & PG-13 - Teens 13 or older      & https://cdn.myanimelist.net/images/anime/6/73245.jpg    \\\\\n\t5668 & 182964 &  9253 & Steins;Gate                      & Steins;Gate                          & Drama, Sci-Fi, Suspense                                     & TV &  24 & Finished Airing  & White Fox                    & Visual novel & 24 min per ep & PG-13 - Teens 13 or older      & https://cdn.myanimelist.net/images/anime/1935/127974.jpg\\\\\n\t1394 & 167586 &  1535 & Death Note                       & Death Note                           & Supernatural, Suspense                                      & TV &  37 & Finished Airing  & Madhouse                     & Manga        & 23 min per ep & R - 17+ (violence \\& profanity) & https://cdn.myanimelist.net/images/anime/9/9453.jpg     \\\\\n\t7429 & 163844 & 16498 & Shingeki no Kyojin               & Attack on Titan                      & Action, Award Winning, Drama, Suspense                      & TV &  25 & Finished Airing  & Wit Studio                   & Manga        & 24 min per ep & R - 17+ (violence \\& profanity) & https://cdn.myanimelist.net/images/anime/10/47347.jpg   \\\\\n\t1575 & 107735 &  1735 & Naruto: Shippuuden               & Naruto Shippuden                     & Action, Adventure, Fantasy                                  & TV & 500 & Finished Airing  & Pierrot                      & Manga        & 23 min per ep & PG-13 - Teens 13 or older      & https://cdn.myanimelist.net/images/anime/1565/111305.jpg\\\\\n\t1432 & 105379 &  1575 & Code Geass: Hangyaku no Lelouch  & Code Geass: Lelouch of the Rebellion & Action, Award Winning, Drama, Sci-Fi                        & TV &  25 & Finished Airing  & Sunrise                      & Original     & 24 min per ep & R - 17+ (violence \\& profanity) & https://cdn.myanimelist.net/images/anime/1032/135088.jpg\\\\\n\t21 & 100638 &    30 & Neon Genesis Evangelion          & Neon Genesis Evangelion              & Action, Avant Garde, Award Winning, Drama, Sci-Fi, Suspense & TV &  26 & Finished Airing  & Gainax, Tatsunoko Production & Original     & 24 min per ep & PG-13 - Teens 13 or older      & https://cdn.myanimelist.net/images/anime/1314/108941.jpg\\\\\n\t14540 &  88375 & 38000 & Kimetsu no Yaiba                 & Demon Slayer: Kimetsu no Yaiba       & Action, Award Winning, Fantasy                              & TV &  26 & Finished Airing  & ufotable                     & Manga        & 23 min per ep & R - 17+ (violence \\& profanity) & https://cdn.myanimelist.net/images/anime/1286/99889.jpg \\\\\n\\end{tabular}\n",
            "text/plain": "      favorites anime_id name                            \n3962  217606     5114    Fullmetal Alchemist: Brotherhood\n6457  200265    11061    Hunter x Hunter (2011)          \n12    198986       21    One Piece                       \n5668  182964     9253    Steins;Gate                     \n1394  167586     1535    Death Note                      \n7429  163844    16498    Shingeki no Kyojin              \n1575  107735     1735    Naruto: Shippuuden              \n1432  105379     1575    Code Geass: Hangyaku no Lelouch \n21    100638       30    Neon Genesis Evangelion         \n14540  88375    38000    Kimetsu no Yaiba                \n      english_name                        \n3962  Fullmetal Alchemist: Brotherhood    \n6457  Hunter x Hunter                     \n12    One Piece                           \n5668  Steins;Gate                         \n1394  Death Note                          \n7429  Attack on Titan                     \n1575  Naruto Shippuden                    \n1432  Code Geass: Lelouch of the Rebellion\n21    Neon Genesis Evangelion             \n14540 Demon Slayer: Kimetsu no Yaiba      \n      genres                                                      type episodes\n3962  Action, Adventure, Drama, Fantasy                           TV    64     \n6457  Action, Adventure, Fantasy                                  TV   148     \n12    Action, Adventure, Fantasy                                  TV    NA     \n5668  Drama, Sci-Fi, Suspense                                     TV    24     \n1394  Supernatural, Suspense                                      TV    37     \n7429  Action, Award Winning, Drama, Suspense                      TV    25     \n1575  Action, Adventure, Fantasy                                  TV   500     \n1432  Action, Award Winning, Drama, Sci-Fi                        TV    25     \n21    Action, Avant Garde, Award Winning, Drama, Sci-Fi, Suspense TV    26     \n14540 Action, Award Winning, Fantasy                              TV    26     \n      status           studios                      source       duration     \n3962  Finished Airing  Bones                        Manga        24 min per ep\n6457  Finished Airing  Madhouse                     Manga        23 min per ep\n12    Currently Airing Toei Animation               Manga        24 min       \n5668  Finished Airing  White Fox                    Visual novel 24 min per ep\n1394  Finished Airing  Madhouse                     Manga        23 min per ep\n7429  Finished Airing  Wit Studio                   Manga        24 min per ep\n1575  Finished Airing  Pierrot                      Manga        23 min per ep\n1432  Finished Airing  Sunrise                      Original     24 min per ep\n21    Finished Airing  Gainax, Tatsunoko Production Original     24 min per ep\n14540 Finished Airing  ufotable                     Manga        23 min per ep\n      rating                        \n3962  R - 17+ (violence & profanity)\n6457  PG-13 - Teens 13 or older     \n12    PG-13 - Teens 13 or older     \n5668  PG-13 - Teens 13 or older     \n1394  R - 17+ (violence & profanity)\n7429  R - 17+ (violence & profanity)\n1575  PG-13 - Teens 13 or older     \n1432  R - 17+ (violence & profanity)\n21    PG-13 - Teens 13 or older     \n14540 R - 17+ (violence & profanity)\n      image_url                                               \n3962  https://cdn.myanimelist.net/images/anime/1208/94745.jpg \n6457  https://cdn.myanimelist.net/images/anime/1337/99013.jpg \n12    https://cdn.myanimelist.net/images/anime/6/73245.jpg    \n5668  https://cdn.myanimelist.net/images/anime/1935/127974.jpg\n1394  https://cdn.myanimelist.net/images/anime/9/9453.jpg     \n7429  https://cdn.myanimelist.net/images/anime/10/47347.jpg   \n1575  https://cdn.myanimelist.net/images/anime/1565/111305.jpg\n1432  https://cdn.myanimelist.net/images/anime/1032/135088.jpg\n21    https://cdn.myanimelist.net/images/anime/1314/108941.jpg\n14540 https://cdn.myanimelist.net/images/anime/1286/99889.jpg "
          },
          "metadata": {}
        }
      ]
    },
    {
      "cell_type": "code",
      "source": [
        "# Top Scored Anime\n",
        "score_nozero <- anime_data_2023[anime_data_2023$score != 0, ]\n",
        "score_ranked <- score_nozero[order(score_nozero$score,\n",
        "                                      decreasing = TRUE, na.last = TRUE), ]\n",
        "\n",
        "score_anime <- score_ranked %>%\n",
        "    select(\"score\", \"anime_id\", \"name\", \"english_name\", \"genres\", \"type\",\n",
        "           \"episodes\", \"status\", \"studios\", \"source\", \"duration\", \"rating\", \"image_url\")\n",
        "\n",
        "head(score_anime, n = 10)"
      ],
      "metadata": {
        "execution": {
          "iopub.status.busy": "2024-02-16T06:31:04.643810Z",
          "iopub.execute_input": "2024-02-16T06:31:04.645243Z",
          "iopub.status.idle": "2024-02-16T06:31:04.783796Z"
        },
        "trusted": true,
        "id": "T0MEon5up7F4",
        "outputId": "085a409c-938f-4239-c067-5c0aa23fbd7b"
      },
      "execution_count": null,
      "outputs": [
        {
          "output_type": "display_data",
          "data": {
            "text/html": "<table class=\"dataframe\">\n<caption>A data.frame: 10 × 13</caption>\n<thead>\n\t<tr><th></th><th scope=col>score</th><th scope=col>anime_id</th><th scope=col>name</th><th scope=col>english_name</th><th scope=col>genres</th><th scope=col>type</th><th scope=col>episodes</th><th scope=col>status</th><th scope=col>studios</th><th scope=col>source</th><th scope=col>duration</th><th scope=col>rating</th><th scope=col>image_url</th></tr>\n\t<tr><th></th><th scope=col>&lt;dbl&gt;</th><th scope=col>&lt;int&gt;</th><th scope=col>&lt;chr&gt;</th><th scope=col>&lt;chr&gt;</th><th scope=col>&lt;chr&gt;</th><th scope=col>&lt;chr&gt;</th><th scope=col>&lt;int&gt;</th><th scope=col>&lt;chr&gt;</th><th scope=col>&lt;chr&gt;</th><th scope=col>&lt;chr&gt;</th><th scope=col>&lt;chr&gt;</th><th scope=col>&lt;chr&gt;</th><th scope=col>&lt;chr&gt;</th></tr>\n</thead>\n<tbody>\n\t<tr><th scope=row>3962</th><td>9.10</td><td> 5114</td><td><span style=white-space:pre-wrap>Fullmetal Alchemist: Brotherhood                   </span></td><td><span style=white-space:pre-wrap>Fullmetal Alchemist: Brotherhood                  </span></td><td>Action, Adventure, Drama, Fantasy</td><td><span style=white-space:pre-wrap>TV     </span></td><td> 64</td><td>Finished Airing </td><td><span style=white-space:pre-wrap>Bones                </span></td><td><span style=white-space:pre-wrap>Manga       </span></td><td><span style=white-space:pre-wrap>24 min per ep    </span></td><td>R - 17+ (violence &amp; profanity)</td><td>https://cdn.myanimelist.net/images/anime/1208/94745.jpg </td></tr>\n\t<tr><th scope=row>5668</th><td>9.07</td><td> 9253</td><td>Steins;Gate                                        </td><td>Steins;Gate                                       </td><td>Drama, Sci-Fi, Suspense          </td><td>TV     </td><td> 24</td><td>Finished Airing </td><td>White Fox            </td><td>Visual novel</td><td>24 min per ep    </td><td>PG-13 - Teens 13 or older     </td><td>https://cdn.myanimelist.net/images/anime/1935/127974.jpg</td></tr>\n\t<tr><th scope=row>16618</th><td>9.07</td><td>41467</td><td><span style=white-space:pre-wrap>Bleach: Sennen Kessen-hen                          </span></td><td><span style=white-space:pre-wrap>Bleach: Thousand-Year Blood War                   </span></td><td><span style=white-space:pre-wrap>Action, Adventure, Fantasy       </span></td><td><span style=white-space:pre-wrap>TV     </span></td><td> 13</td><td>Finished Airing </td><td><span style=white-space:pre-wrap>Pierrot              </span></td><td><span style=white-space:pre-wrap>Manga       </span></td><td><span style=white-space:pre-wrap>24 min per ep    </span></td><td>R - 17+ (violence &amp; profanity)</td><td>https://cdn.myanimelist.net/images/anime/1908/135431.jpg</td></tr>\n\t<tr><th scope=row>9881</th><td>9.06</td><td>28977</td><td>Gintama°                                           </td><td>Gintama Season 4                                  </td><td>Action, Comedy, Sci-Fi           </td><td>TV     </td><td> 51</td><td>Finished Airing </td><td>Bandai Namco Pictures</td><td>Manga       </td><td>24 min per ep    </td><td>PG-13 - Teens 13 or older     </td><td>https://cdn.myanimelist.net/images/anime/3/72078.jpg    </td></tr>\n\t<tr><th scope=row>14866</th><td>9.05</td><td>38524</td><td><span style=white-space:pre-wrap>Shingeki no Kyojin Season 3 Part 2                 </span></td><td><span style=white-space:pre-wrap>Attack on Titan Season 3 Part 2                   </span></td><td><span style=white-space:pre-wrap>Action, Drama                    </span></td><td><span style=white-space:pre-wrap>TV     </span></td><td> 10</td><td>Finished Airing </td><td><span style=white-space:pre-wrap>Wit Studio           </span></td><td><span style=white-space:pre-wrap>Manga       </span></td><td><span style=white-space:pre-wrap>23 min per ep    </span></td><td>R - 17+ (violence &amp; profanity)</td><td>https://cdn.myanimelist.net/images/anime/1517/100633.jpg</td></tr>\n\t<tr><th scope=row>17573</th><td>9.05</td><td>43608</td><td>Kaguya-sama wa Kokurasetai: Ultra Romantic         </td><td>Kaguya-sama: Love is War - Ultra Romantic         </td><td>Comedy, Romance                  </td><td>TV     </td><td> 13</td><td>Finished Airing </td><td>A-1 Pictures         </td><td>Manga       </td><td>23 min per ep    </td><td>PG-13 - Teens 13 or older     </td><td>https://cdn.myanimelist.net/images/anime/1160/122627.jpg</td></tr>\n\t<tr><th scope=row>22349</th><td>9.05</td><td>51535</td><td>Shingeki no Kyojin: The Final Season - Kanketsu-hen</td><td>Attack on Titan: The Final Season - Final Chapters</td><td><span style=white-space:pre-wrap>Action, Drama, Suspense          </span></td><td>Special</td><td><span style=white-space:pre-wrap>  2</span></td><td>Currently Airing</td><td><span style=white-space:pre-wrap>MAPPA                </span></td><td><span style=white-space:pre-wrap>Manga       </span></td><td>1 hr 1 min per ep</td><td>R - 17+ (violence &amp; profanity)</td><td>https://cdn.myanimelist.net/images/anime/1279/131078.jpg</td></tr>\n\t<tr><th scope=row>5990</th><td>9.04</td><td> 9969</td><td>Gintama'                                           </td><td>Gintama Season 2                                  </td><td>Action, Comedy, Sci-Fi           </td><td>TV     </td><td> 51</td><td>Finished Airing </td><td>Sunrise              </td><td>Manga       </td><td>24 min per ep    </td><td>PG-13 - Teens 13 or older     </td><td>https://cdn.myanimelist.net/images/anime/4/50361.jpg    </td></tr>\n\t<tr><th scope=row>6457</th><td>9.04</td><td>11061</td><td>Hunter x Hunter (2011)                             </td><td>Hunter x Hunter                                   </td><td>Action, Adventure, Fantasy       </td><td>TV     </td><td>148</td><td>Finished Airing </td><td>Madhouse             </td><td>Manga       </td><td>23 min per ep    </td><td>PG-13 - Teens 13 or older     </td><td>https://cdn.myanimelist.net/images/anime/1337/99013.jpg </td></tr>\n\t<tr><th scope=row>15526</th><td>9.04</td><td>39486</td><td>Gintama: The Final                                 </td><td>Gintama: The Very Final                           </td><td>Action, Comedy, Drama, Sci-Fi    </td><td>Movie  </td><td>  1</td><td>Finished Airing </td><td>Bandai Namco Pictures</td><td>Manga       </td><td>1 hr 44 min      </td><td>PG-13 - Teens 13 or older     </td><td>https://cdn.myanimelist.net/images/anime/1245/116760.jpg</td></tr>\n</tbody>\n</table>\n",
            "text/markdown": "\nA data.frame: 10 × 13\n\n| <!--/--> | score &lt;dbl&gt; | anime_id &lt;int&gt; | name &lt;chr&gt; | english_name &lt;chr&gt; | genres &lt;chr&gt; | type &lt;chr&gt; | episodes &lt;int&gt; | status &lt;chr&gt; | studios &lt;chr&gt; | source &lt;chr&gt; | duration &lt;chr&gt; | rating &lt;chr&gt; | image_url &lt;chr&gt; |\n|---|---|---|---|---|---|---|---|---|---|---|---|---|---|\n| 3962 | 9.10 |  5114 | Fullmetal Alchemist: Brotherhood                    | Fullmetal Alchemist: Brotherhood                   | Action, Adventure, Drama, Fantasy | TV      |  64 | Finished Airing  | Bones                 | Manga        | 24 min per ep     | R - 17+ (violence &amp; profanity) | https://cdn.myanimelist.net/images/anime/1208/94745.jpg  |\n| 5668 | 9.07 |  9253 | Steins;Gate                                         | Steins;Gate                                        | Drama, Sci-Fi, Suspense           | TV      |  24 | Finished Airing  | White Fox             | Visual novel | 24 min per ep     | PG-13 - Teens 13 or older      | https://cdn.myanimelist.net/images/anime/1935/127974.jpg |\n| 16618 | 9.07 | 41467 | Bleach: Sennen Kessen-hen                           | Bleach: Thousand-Year Blood War                    | Action, Adventure, Fantasy        | TV      |  13 | Finished Airing  | Pierrot               | Manga        | 24 min per ep     | R - 17+ (violence &amp; profanity) | https://cdn.myanimelist.net/images/anime/1908/135431.jpg |\n| 9881 | 9.06 | 28977 | Gintama°                                            | Gintama Season 4                                   | Action, Comedy, Sci-Fi            | TV      |  51 | Finished Airing  | Bandai Namco Pictures | Manga        | 24 min per ep     | PG-13 - Teens 13 or older      | https://cdn.myanimelist.net/images/anime/3/72078.jpg     |\n| 14866 | 9.05 | 38524 | Shingeki no Kyojin Season 3 Part 2                  | Attack on Titan Season 3 Part 2                    | Action, Drama                     | TV      |  10 | Finished Airing  | Wit Studio            | Manga        | 23 min per ep     | R - 17+ (violence &amp; profanity) | https://cdn.myanimelist.net/images/anime/1517/100633.jpg |\n| 17573 | 9.05 | 43608 | Kaguya-sama wa Kokurasetai: Ultra Romantic          | Kaguya-sama: Love is War - Ultra Romantic          | Comedy, Romance                   | TV      |  13 | Finished Airing  | A-1 Pictures          | Manga        | 23 min per ep     | PG-13 - Teens 13 or older      | https://cdn.myanimelist.net/images/anime/1160/122627.jpg |\n| 22349 | 9.05 | 51535 | Shingeki no Kyojin: The Final Season - Kanketsu-hen | Attack on Titan: The Final Season - Final Chapters | Action, Drama, Suspense           | Special |   2 | Currently Airing | MAPPA                 | Manga        | 1 hr 1 min per ep | R - 17+ (violence &amp; profanity) | https://cdn.myanimelist.net/images/anime/1279/131078.jpg |\n| 5990 | 9.04 |  9969 | Gintama'                                            | Gintama Season 2                                   | Action, Comedy, Sci-Fi            | TV      |  51 | Finished Airing  | Sunrise               | Manga        | 24 min per ep     | PG-13 - Teens 13 or older      | https://cdn.myanimelist.net/images/anime/4/50361.jpg     |\n| 6457 | 9.04 | 11061 | Hunter x Hunter (2011)                              | Hunter x Hunter                                    | Action, Adventure, Fantasy        | TV      | 148 | Finished Airing  | Madhouse              | Manga        | 23 min per ep     | PG-13 - Teens 13 or older      | https://cdn.myanimelist.net/images/anime/1337/99013.jpg  |\n| 15526 | 9.04 | 39486 | Gintama: The Final                                  | Gintama: The Very Final                            | Action, Comedy, Drama, Sci-Fi     | Movie   |   1 | Finished Airing  | Bandai Namco Pictures | Manga        | 1 hr 44 min       | PG-13 - Teens 13 or older      | https://cdn.myanimelist.net/images/anime/1245/116760.jpg |\n\n",
            "text/latex": "A data.frame: 10 × 13\n\\begin{tabular}{r|lllllllllllll}\n  & score & anime\\_id & name & english\\_name & genres & type & episodes & status & studios & source & duration & rating & image\\_url\\\\\n  & <dbl> & <int> & <chr> & <chr> & <chr> & <chr> & <int> & <chr> & <chr> & <chr> & <chr> & <chr> & <chr>\\\\\n\\hline\n\t3962 & 9.10 &  5114 & Fullmetal Alchemist: Brotherhood                    & Fullmetal Alchemist: Brotherhood                   & Action, Adventure, Drama, Fantasy & TV      &  64 & Finished Airing  & Bones                 & Manga        & 24 min per ep     & R - 17+ (violence \\& profanity) & https://cdn.myanimelist.net/images/anime/1208/94745.jpg \\\\\n\t5668 & 9.07 &  9253 & Steins;Gate                                         & Steins;Gate                                        & Drama, Sci-Fi, Suspense           & TV      &  24 & Finished Airing  & White Fox             & Visual novel & 24 min per ep     & PG-13 - Teens 13 or older      & https://cdn.myanimelist.net/images/anime/1935/127974.jpg\\\\\n\t16618 & 9.07 & 41467 & Bleach: Sennen Kessen-hen                           & Bleach: Thousand-Year Blood War                    & Action, Adventure, Fantasy        & TV      &  13 & Finished Airing  & Pierrot               & Manga        & 24 min per ep     & R - 17+ (violence \\& profanity) & https://cdn.myanimelist.net/images/anime/1908/135431.jpg\\\\\n\t9881 & 9.06 & 28977 & Gintama°                                            & Gintama Season 4                                   & Action, Comedy, Sci-Fi            & TV      &  51 & Finished Airing  & Bandai Namco Pictures & Manga        & 24 min per ep     & PG-13 - Teens 13 or older      & https://cdn.myanimelist.net/images/anime/3/72078.jpg    \\\\\n\t14866 & 9.05 & 38524 & Shingeki no Kyojin Season 3 Part 2                  & Attack on Titan Season 3 Part 2                    & Action, Drama                     & TV      &  10 & Finished Airing  & Wit Studio            & Manga        & 23 min per ep     & R - 17+ (violence \\& profanity) & https://cdn.myanimelist.net/images/anime/1517/100633.jpg\\\\\n\t17573 & 9.05 & 43608 & Kaguya-sama wa Kokurasetai: Ultra Romantic          & Kaguya-sama: Love is War - Ultra Romantic          & Comedy, Romance                   & TV      &  13 & Finished Airing  & A-1 Pictures          & Manga        & 23 min per ep     & PG-13 - Teens 13 or older      & https://cdn.myanimelist.net/images/anime/1160/122627.jpg\\\\\n\t22349 & 9.05 & 51535 & Shingeki no Kyojin: The Final Season - Kanketsu-hen & Attack on Titan: The Final Season - Final Chapters & Action, Drama, Suspense           & Special &   2 & Currently Airing & MAPPA                 & Manga        & 1 hr 1 min per ep & R - 17+ (violence \\& profanity) & https://cdn.myanimelist.net/images/anime/1279/131078.jpg\\\\\n\t5990 & 9.04 &  9969 & Gintama'                                            & Gintama Season 2                                   & Action, Comedy, Sci-Fi            & TV      &  51 & Finished Airing  & Sunrise               & Manga        & 24 min per ep     & PG-13 - Teens 13 or older      & https://cdn.myanimelist.net/images/anime/4/50361.jpg    \\\\\n\t6457 & 9.04 & 11061 & Hunter x Hunter (2011)                              & Hunter x Hunter                                    & Action, Adventure, Fantasy        & TV      & 148 & Finished Airing  & Madhouse              & Manga        & 23 min per ep     & PG-13 - Teens 13 or older      & https://cdn.myanimelist.net/images/anime/1337/99013.jpg \\\\\n\t15526 & 9.04 & 39486 & Gintama: The Final                                  & Gintama: The Very Final                            & Action, Comedy, Drama, Sci-Fi     & Movie   &   1 & Finished Airing  & Bandai Namco Pictures & Manga        & 1 hr 44 min       & PG-13 - Teens 13 or older      & https://cdn.myanimelist.net/images/anime/1245/116760.jpg\\\\\n\\end{tabular}\n",
            "text/plain": "      score anime_id name                                               \n3962  9.10   5114    Fullmetal Alchemist: Brotherhood                   \n5668  9.07   9253    Steins;Gate                                        \n16618 9.07  41467    Bleach: Sennen Kessen-hen                          \n9881  9.06  28977    Gintama°                                           \n14866 9.05  38524    Shingeki no Kyojin Season 3 Part 2                 \n17573 9.05  43608    Kaguya-sama wa Kokurasetai: Ultra Romantic         \n22349 9.05  51535    Shingeki no Kyojin: The Final Season - Kanketsu-hen\n5990  9.04   9969    Gintama'                                           \n6457  9.04  11061    Hunter x Hunter (2011)                             \n15526 9.04  39486    Gintama: The Final                                 \n      english_name                                      \n3962  Fullmetal Alchemist: Brotherhood                  \n5668  Steins;Gate                                       \n16618 Bleach: Thousand-Year Blood War                   \n9881  Gintama Season 4                                  \n14866 Attack on Titan Season 3 Part 2                   \n17573 Kaguya-sama: Love is War - Ultra Romantic         \n22349 Attack on Titan: The Final Season - Final Chapters\n5990  Gintama Season 2                                  \n6457  Hunter x Hunter                                   \n15526 Gintama: The Very Final                           \n      genres                            type    episodes status          \n3962  Action, Adventure, Drama, Fantasy TV       64      Finished Airing \n5668  Drama, Sci-Fi, Suspense           TV       24      Finished Airing \n16618 Action, Adventure, Fantasy        TV       13      Finished Airing \n9881  Action, Comedy, Sci-Fi            TV       51      Finished Airing \n14866 Action, Drama                     TV       10      Finished Airing \n17573 Comedy, Romance                   TV       13      Finished Airing \n22349 Action, Drama, Suspense           Special   2      Currently Airing\n5990  Action, Comedy, Sci-Fi            TV       51      Finished Airing \n6457  Action, Adventure, Fantasy        TV      148      Finished Airing \n15526 Action, Comedy, Drama, Sci-Fi     Movie     1      Finished Airing \n      studios               source       duration         \n3962  Bones                 Manga        24 min per ep    \n5668  White Fox             Visual novel 24 min per ep    \n16618 Pierrot               Manga        24 min per ep    \n9881  Bandai Namco Pictures Manga        24 min per ep    \n14866 Wit Studio            Manga        23 min per ep    \n17573 A-1 Pictures          Manga        23 min per ep    \n22349 MAPPA                 Manga        1 hr 1 min per ep\n5990  Sunrise               Manga        24 min per ep    \n6457  Madhouse              Manga        23 min per ep    \n15526 Bandai Namco Pictures Manga        1 hr 44 min      \n      rating                        \n3962  R - 17+ (violence & profanity)\n5668  PG-13 - Teens 13 or older     \n16618 R - 17+ (violence & profanity)\n9881  PG-13 - Teens 13 or older     \n14866 R - 17+ (violence & profanity)\n17573 PG-13 - Teens 13 or older     \n22349 R - 17+ (violence & profanity)\n5990  PG-13 - Teens 13 or older     \n6457  PG-13 - Teens 13 or older     \n15526 PG-13 - Teens 13 or older     \n      image_url                                               \n3962  https://cdn.myanimelist.net/images/anime/1208/94745.jpg \n5668  https://cdn.myanimelist.net/images/anime/1935/127974.jpg\n16618 https://cdn.myanimelist.net/images/anime/1908/135431.jpg\n9881  https://cdn.myanimelist.net/images/anime/3/72078.jpg    \n14866 https://cdn.myanimelist.net/images/anime/1517/100633.jpg\n17573 https://cdn.myanimelist.net/images/anime/1160/122627.jpg\n22349 https://cdn.myanimelist.net/images/anime/1279/131078.jpg\n5990  https://cdn.myanimelist.net/images/anime/4/50361.jpg    \n6457  https://cdn.myanimelist.net/images/anime/1337/99013.jpg \n15526 https://cdn.myanimelist.net/images/anime/1245/116760.jpg"
          },
          "metadata": {}
        }
      ]
    },
    {
      "cell_type": "markdown",
      "source": [
        "#### Genre Analysis"
      ],
      "metadata": {
        "id": "FaDKr2aTp7GC"
      }
    },
    {
      "cell_type": "code",
      "source": [
        "# To get the average popularity of each genre\n",
        "action_popularity <- genre_split %>% filter(genre_1 == \"Action\" |\n",
        "                                          genre_2 == \"Action\" |\n",
        "                                          genre_3 == \"Action\" |\n",
        "                                          genre_4 == \"Action\" |\n",
        "                                          genre_5 == \"Action\" |\n",
        "                                          genre_6 == \"Action\" |\n",
        "                                          genre_7 == \"Action\" |\n",
        "                                          genre_8 == \"Action\" |\n",
        "                                          genre_9 == \"Action\") %>%\n",
        "    summarise(action_popularity = mean(popularity, na.rm = TRUE))\n",
        "print(action_popularity)\n",
        "\n",
        "adventure_popularity <- genre_split %>% filter(genre_1 == \"Adventure\" |\n",
        "                                          genre_2 == \"Adventure\" |\n",
        "                                          genre_3 == \"Adventure\" |\n",
        "                                          genre_4 == \"Adventure\" |\n",
        "                                          genre_5 == \"Adventure\" |\n",
        "                                          genre_6 == \"Adventure\" |\n",
        "                                          genre_7 == \"Adventure\" |\n",
        "                                          genre_8 == \"Adventure\" |\n",
        "                                          genre_9 == \"Adventure\") %>%\n",
        "    summarise(adventure_popularity = mean(popularity, na.rm = TRUE))\n",
        "print(adventure_popularity)\n",
        "\n",
        "sports_popularity <- genre_split %>% filter(genre_1 == \"Sports\" |\n",
        "                                          genre_2 == \"Sports\" |\n",
        "                                          genre_3 == \"Sports\" |\n",
        "                                          genre_4 == \"Sports\" |\n",
        "                                          genre_5 == \"Sports\" |\n",
        "                                          genre_6 == \"Sports\" |\n",
        "                                          genre_7 == \"Sports\" |\n",
        "                                          genre_8 == \"Sports\" |\n",
        "                                          genre_9 == \"Sports\") %>%\n",
        "    summarise(sports_popularity = mean(popularity, na.rm = TRUE))\n",
        "print(sports_popularity)\n",
        "\n",
        "comedy_popularity <- genre_split %>% filter(genre_1 == \"Comedy\" |\n",
        "                                          genre_2 == \"Comedy\" |\n",
        "                                          genre_3 == \"Comedy\" |\n",
        "                                          genre_4 == \"Comedy\" |\n",
        "                                          genre_5 == \"Comedy\" |\n",
        "                                          genre_6 == \"Comedy\" |\n",
        "                                          genre_7 == \"Comedy\" |\n",
        "                                          genre_8 == \"Comedy\" |\n",
        "                                          genre_9 == \"Comedy\") %>%\n",
        "    summarise(comedy_popularity = mean(popularity, na.rm = TRUE))\n",
        "print(comedy_popularity)\n",
        "\n",
        "drama_popularity <- genre_split %>% filter(genre_1 == \"Drama\" |\n",
        "                                          genre_2 == \"Drama\" |\n",
        "                                          genre_3 == \"Drama\" |\n",
        "                                          genre_4 == \"Drama\" |\n",
        "                                          genre_5 == \"Drama\" |\n",
        "                                          genre_6 == \"Drama\" |\n",
        "                                          genre_7 == \"Drama\" |\n",
        "                                          genre_8 == \"Drama\" |\n",
        "                                          genre_9 == \"Drama\") %>%\n",
        "    summarise(drama_popularity = mean(popularity, na.rm = TRUE))\n",
        "print(drama_popularity)\n",
        "\n",
        "avant_garde_popularity <- genre_split %>% filter(genre_1 == \"Avant Garde\" |\n",
        "                                          genre_2 == \"Avant Garde\" |\n",
        "                                          genre_3 == \"Avant Garde\" |\n",
        "                                          genre_4 == \"Avant Garde\" |\n",
        "                                          genre_5 == \"Avant Garde\" |\n",
        "                                          genre_6 == \"Avant Garde\" |\n",
        "                                          genre_7 == \"Avant Garde\" |\n",
        "                                          genre_8 == \"Avant Garde\" |\n",
        "                                          genre_9 == \"Avant Garde\") %>%\n",
        "    summarise(avant_garde_popularity= mean(popularity, na.rm = TRUE))\n",
        "print(avant_garde_popularity)\n",
        "\n",
        "award_winning_popularity <- genre_split %>% filter(genre_1 == \"Award Winning\" |\n",
        "                                          genre_2 == \"Award Winning\" |\n",
        "                                          genre_3 == \"Award Winning\" |\n",
        "                                          genre_4 == \"Award Winning\" |\n",
        "                                          genre_5 == \"Award Winning\" |\n",
        "                                          genre_6 == \"Award Winning\" |\n",
        "                                          genre_7 == \"Award Winning\" |\n",
        "                                          genre_8 == \"Award Winning\" |\n",
        "                                          genre_9 == \"Award Winning\") %>%\n",
        "    summarise(award_winning_popularity = mean(popularity, na.rm = TRUE))\n",
        "print(award_winning_popularity)\n",
        "\n",
        "sci_fi_popularity <- genre_split %>% filter(genre_1 == \"Sci-Fi\" |\n",
        "                                          genre_2 == \"Sci-Fi\" |\n",
        "                                          genre_3 == \"Sci-Fi\" |\n",
        "                                          genre_4 == \"Sci-Fi\" |\n",
        "                                          genre_5 == \"Sci-Fi\" |\n",
        "                                          genre_6 == \"Sci-Fi\" |\n",
        "                                          genre_7 == \"Sci-Fi\" |\n",
        "                                          genre_8 == \"Sci-Fi\" |\n",
        "                                          genre_9 == \"Sci-Fi\") %>%\n",
        "    summarise(sci_fi_popularity  = mean(popularity, na.rm = TRUE))\n",
        "print(sci_fi_popularity )\n",
        "\n",
        "mystery_popularity <- genre_split %>% filter(genre_1 == \"Mystery\" |\n",
        "                                          genre_2 == \"Mystery\" |\n",
        "                                          genre_3 == \"Mystery\" |\n",
        "                                          genre_4 == \"Mystery\" |\n",
        "                                          genre_5 == \"Mystery\" |\n",
        "                                          genre_6 == \"Mystery\" |\n",
        "                                          genre_7 == \"Mystery\" |\n",
        "                                          genre_8 == \"Mystery\" |\n",
        "                                          genre_9 == \"Mystery\") %>%\n",
        "    summarise(mystery_popularity = mean(popularity, na.rm = TRUE))\n",
        "print(mystery_popularity)\n",
        "\n",
        "hentai_popularity <- genre_split %>% filter(genre_1 == \"Hentai\" |\n",
        "                                          genre_2 == \"Hentai\" |\n",
        "                                          genre_3 == \"Hentai\" |\n",
        "                                          genre_4 == \"Hentai\" |\n",
        "                                          genre_5 == \"Hentai\" |\n",
        "                                          genre_6 == \"Hentai\" |\n",
        "                                          genre_7 == \"Hentai\" |\n",
        "                                          genre_8 == \"Hentai\" |\n",
        "                                          genre_9 == \"Hentai\") %>%\n",
        "    summarise(hentai_popularity = mean(popularity, na.rm = TRUE))\n",
        "print(hentai_popularity)\n",
        "\n",
        "horror_popularity <- genre_split %>% filter(genre_1 == \"Horror\" |\n",
        "                                          genre_2 == \"Horror\" |\n",
        "                                          genre_3 == \"Horror\" |\n",
        "                                          genre_4 == \"Horror\" |\n",
        "                                          genre_5 == \"Horror\" |\n",
        "                                          genre_6 == \"Horror\" |\n",
        "                                          genre_7 == \"Horror\" |\n",
        "                                          genre_8 == \"Horror\" |\n",
        "                                          genre_9 == \"Horror\") %>%\n",
        "    summarise(horror_popularity = mean(popularity, na.rm = TRUE))\n",
        "print(horror_popularity)\n",
        "\n",
        "boys_love_popularity <- genre_split %>% filter(genre_1 == \"Boys Love\" |\n",
        "                                          genre_2 == \"Boys Love\" |\n",
        "                                          genre_3 == \"Boys Love\" |\n",
        "                                          genre_4 == \"Boys Love\" |\n",
        "                                          genre_5 == \"Boys Love\" |\n",
        "                                          genre_6 == \"Boys Love\" |\n",
        "                                          genre_7 == \"Boys Love\" |\n",
        "                                          genre_8 == \"Boys Love\" |\n",
        "                                          genre_9 == \"Boys Love\") %>%\n",
        "    summarise(boys_love_popularity = mean(popularity, na.rm = TRUE))\n",
        "print(boys_love_popularity)\n",
        "\n",
        "fantasy_popularity <- genre_split %>% filter(genre_1 == \"Fantasy\" |\n",
        "                                          genre_2 == \"Fantasy\" |\n",
        "                                          genre_3 == \"Fantasy\" |\n",
        "                                          genre_4 == \"Fantasy\" |\n",
        "                                          genre_5 == \"Fantasy\" |\n",
        "                                          genre_6 == \"Fantasy\" |\n",
        "                                          genre_7 == \"Fantasy\" |\n",
        "                                          genre_8 == \"Fantasy\" |\n",
        "                                          genre_9 == \"Fantasy\") %>%\n",
        "    summarise(fantasy_popularity = mean(popularity, na.rm = TRUE))\n",
        "print(fantasy_popularity)\n",
        "\n",
        "ecchi_popularity <- genre_split %>% filter(genre_1 == \"Ecchi\" |\n",
        "                                          genre_2 == \"Ecchi\" |\n",
        "                                          genre_3 == \"Ecchi\" |\n",
        "                                          genre_4 == \"Ecchi\" |\n",
        "                                          genre_5 == \"Ecchi\" |\n",
        "                                          genre_6 == \"Ecchi\" |\n",
        "                                          genre_7 == \"Ecchi\" |\n",
        "                                          genre_8 == \"Ecchi\" |\n",
        "                                          genre_9 == \"Ecchi\") %>%\n",
        "    summarise(ecchi_popularity = mean(popularity, na.rm = TRUE))\n",
        "print(ecchi_popularity)\n",
        "\n",
        "slice_of_life_popularity <- genre_split %>% filter(genre_1 == \"Slice of Life\" |\n",
        "                                          genre_2 == \"Slice of Life\" |\n",
        "                                          genre_3 == \"Slice of Life\" |\n",
        "                                          genre_4 == \"Slice of Life\" |\n",
        "                                          genre_5 == \"Slice of Life\" |\n",
        "                                          genre_6 == \"Slice of Life\" |\n",
        "                                          genre_7 == \"Slice of Life\" |\n",
        "                                          genre_8 == \"Slice of Life\" |\n",
        "                                          genre_9 == \"Slice of Life\") %>%\n",
        "    summarise(slice_of_life_popularity = mean(popularity, na.rm = TRUE))\n",
        "print(slice_of_life_popularity)\n",
        "\n",
        "romance_popularity <- genre_split %>% filter(genre_1 == \"Romance\" |\n",
        "                                          genre_2 == \"Romance\" |\n",
        "                                          genre_3 == \"Romance\" |\n",
        "                                          genre_4 == \"Romance\" |\n",
        "                                          genre_5 == \"Romance\" |\n",
        "                                          genre_6 == \"Romance\" |\n",
        "                                          genre_7 == \"Romance\" |\n",
        "                                          genre_8 == \"Romance\" |\n",
        "                                          genre_9 == \"Romance\") %>%\n",
        "    summarise(romance_popularity = mean(popularity, na.rm = TRUE))\n",
        "print(romance_popularity)\n",
        "\n",
        "suspense_popularity <- genre_split %>% filter(genre_1 == \"Suspense\" |\n",
        "                                          genre_2 == \"Suspense\" |\n",
        "                                          genre_3 == \"Suspense\" |\n",
        "                                          genre_4 == \"Suspense\" |\n",
        "                                          genre_5 == \"Suspense\" |\n",
        "                                          genre_6 == \"Suspense\" |\n",
        "                                          genre_7 == \"Suspense\" |\n",
        "                                          genre_8 == \"Suspense\" |\n",
        "                                          genre_9 == \"Suspense\") %>%\n",
        "    summarise(suspense_popularity = mean(popularity, na.rm = TRUE))\n",
        "print(suspense_popularity)\n",
        "\n",
        "supernatural_popularity <- genre_split %>% filter(genre_1 == \"Supernatural\" |\n",
        "                                          genre_2 == \"Supernatural\" |\n",
        "                                          genre_3 == \"Supernatural\" |\n",
        "                                          genre_4 == \"Supernatural\" |\n",
        "                                          genre_5 == \"Supernatural\" |\n",
        "                                          genre_6 == \"Supernatural\" |\n",
        "                                          genre_7 == \"Supernatural\" |\n",
        "                                          genre_8 == \"Supernatural\" |\n",
        "                                          genre_9 == \"Supernatural\") %>%\n",
        "    summarise(supernatural_popularity = mean(popularity, na.rm = TRUE))\n",
        "print(supernatural_popularity)\n",
        "\n",
        "girls_love_popularity <- genre_split %>% filter(genre_1 == \"Girls Love\" |\n",
        "                                          genre_2 == \"Girls Love\" |\n",
        "                                          genre_3 == \"Girls Love\" |\n",
        "                                          genre_4 == \"Girls Love\" |\n",
        "                                          genre_5 == \"Girls Love\" |\n",
        "                                          genre_6 == \"Girls Love\" |\n",
        "                                          genre_7 == \"Girls Love\" |\n",
        "                                          genre_8 == \"Girls Love\" |\n",
        "                                          genre_9 == \"Girls Love\") %>%\n",
        "    summarise(girls_love_popularity = mean(popularity, na.rm = TRUE))\n",
        "print(girls_love_popularity)\n",
        "\n",
        "erotica_popularity <- genre_split %>% filter(genre_1 == \"Erotica\" |\n",
        "                                          genre_2 == \"Erotica\" |\n",
        "                                          genre_3 == \"Erotica\" |\n",
        "                                          genre_4 == \"Erotica\" |\n",
        "                                          genre_5 == \"Erotica\" |\n",
        "                                          genre_6 == \"Erotica\" |\n",
        "                                          genre_7 == \"Erotica\" |\n",
        "                                          genre_8 == \"Erotica\" |\n",
        "                                          genre_9 == \"Erotica\") %>%\n",
        "    summarise(erotica_popularity = mean(popularity, na.rm = TRUE))\n",
        "print(erotica_popularity)\n",
        "\n",
        "gourmet_popularity <- genre_split %>% filter(genre_1 == \"Gourmet\" |\n",
        "                                          genre_2 == \"Gourmet\" |\n",
        "                                          genre_3 == \"Gourmet\" |\n",
        "                                          genre_4 == \"Gourmet\" |\n",
        "                                          genre_5 == \"Gourmet\" |\n",
        "                                          genre_6 == \"Gourmet\" |\n",
        "                                          genre_7 == \"Gourmet\" |\n",
        "                                          genre_8 == \"Gourmet\" |\n",
        "                                          genre_9 == \"Gourmet\") %>%\n",
        "    summarise(gourmet_popularity = mean(popularity, na.rm = TRUE))\n",
        "print(gourmet_popularity)"
      ],
      "metadata": {
        "_kg_hide-input": true,
        "execution": {
          "iopub.status.busy": "2024-02-16T06:31:04.788276Z",
          "iopub.execute_input": "2024-02-16T06:31:04.789720Z",
          "iopub.status.idle": "2024-02-16T06:31:05.215390Z"
        },
        "trusted": true,
        "id": "qb3hu5-mp7GC",
        "outputId": "ae70a627-b3f0-4ebd-8232-d81a63b561bb"
      },
      "execution_count": null,
      "outputs": [
        {
          "name": "stdout",
          "text": "  action_popularity\n1          7699.312\n  adventure_popularity\n1              10670.1\n  sports_popularity\n1          9690.096\n  comedy_popularity\n1          10309.19\n  drama_popularity\n1         8555.042\n  avant_garde_popularity\n1               16070.02\n  award_winning_popularity\n1                 6090.544\n  sci_fi_popularity\n1          9212.922\n  mystery_popularity\n1           6112.378\n  hentai_popularity\n1          8318.227\n  horror_popularity\n1          8337.429\n  boys_love_popularity\n1             5457.568\n  fantasy_popularity\n1           11638.49\n  ecchi_popularity\n1         4727.382\n  slice_of_life_popularity\n1                 11221.89\n  romance_popularity\n1           5964.152\n  suspense_popularity\n1            7024.041\n  supernatural_popularity\n1                7021.625\n  girls_love_popularity\n1              5042.858\n  erotica_popularity\n1           8129.352\n  gourmet_popularity\n1           9614.514\n",
          "output_type": "stream"
        }
      ]
    },
    {
      "cell_type": "code",
      "source": [
        "# To make a new data frame to combine genre and its average popularity\n",
        "genre <- c(\"Action\", \"Adventure\", \"Sports\", \"Comedy\", \"Drama\", \"Avant Garde\", \"Award Winning\",\n",
        "          \"Sci-Fi\", \"Mystery\", \"Hentai\", \"Horror\", \"Boys Love\", \"Fantasy\", \"Ecchi\",\n",
        "          \"Slice of Life\", \"Romance\", \"Suspense\", \"Supernatural\", \"Girls Love\", \"Erotica\",\n",
        "          \"Gourmet\")\n",
        "\n",
        "avg_popularity <- c(7699.312, 10670.1, 9690.096, 10309.19, 8555.042, 16070.02, 6090.544,\n",
        "                        9212.922, 6112.378, 8318.227, 8337.429, 5457.568, 11638.49, 4727.382,\n",
        "                        11221.89, 5964.152, 7024.041, 7021.625, 5042.858, 8129.352, 9614.514)\n",
        "\n",
        "genre_popularity <- data.frame(genre, avg_popularity)\n",
        "genre_popularity[order(genre_popularity$avg_popularity), ]"
      ],
      "metadata": {
        "execution": {
          "iopub.status.busy": "2024-02-16T06:31:05.219730Z",
          "iopub.execute_input": "2024-02-16T06:31:05.221356Z",
          "iopub.status.idle": "2024-02-16T06:31:05.262667Z"
        },
        "trusted": true,
        "id": "HzQsModYp7GD",
        "outputId": "400ca124-3d37-45a6-aa3a-41116e2ee2fd"
      },
      "execution_count": null,
      "outputs": [
        {
          "output_type": "display_data",
          "data": {
            "text/html": "<table class=\"dataframe\">\n<caption>A data.frame: 21 × 2</caption>\n<thead>\n\t<tr><th></th><th scope=col>genre</th><th scope=col>avg_popularity</th></tr>\n\t<tr><th></th><th scope=col>&lt;chr&gt;</th><th scope=col>&lt;dbl&gt;</th></tr>\n</thead>\n<tbody>\n\t<tr><th scope=row>14</th><td>Ecchi        </td><td> 4727.382</td></tr>\n\t<tr><th scope=row>19</th><td>Girls Love   </td><td> 5042.858</td></tr>\n\t<tr><th scope=row>12</th><td>Boys Love    </td><td> 5457.568</td></tr>\n\t<tr><th scope=row>16</th><td>Romance      </td><td> 5964.152</td></tr>\n\t<tr><th scope=row>7</th><td>Award Winning</td><td> 6090.544</td></tr>\n\t<tr><th scope=row>9</th><td>Mystery      </td><td> 6112.378</td></tr>\n\t<tr><th scope=row>18</th><td>Supernatural </td><td> 7021.625</td></tr>\n\t<tr><th scope=row>17</th><td>Suspense     </td><td> 7024.041</td></tr>\n\t<tr><th scope=row>1</th><td>Action       </td><td> 7699.312</td></tr>\n\t<tr><th scope=row>20</th><td>Erotica      </td><td> 8129.352</td></tr>\n\t<tr><th scope=row>10</th><td>Hentai       </td><td> 8318.227</td></tr>\n\t<tr><th scope=row>11</th><td>Horror       </td><td> 8337.429</td></tr>\n\t<tr><th scope=row>5</th><td>Drama        </td><td> 8555.042</td></tr>\n\t<tr><th scope=row>8</th><td>Sci-Fi       </td><td> 9212.922</td></tr>\n\t<tr><th scope=row>21</th><td>Gourmet      </td><td> 9614.514</td></tr>\n\t<tr><th scope=row>3</th><td>Sports       </td><td> 9690.096</td></tr>\n\t<tr><th scope=row>4</th><td>Comedy       </td><td>10309.190</td></tr>\n\t<tr><th scope=row>2</th><td>Adventure    </td><td>10670.100</td></tr>\n\t<tr><th scope=row>15</th><td>Slice of Life</td><td>11221.890</td></tr>\n\t<tr><th scope=row>13</th><td>Fantasy      </td><td>11638.490</td></tr>\n\t<tr><th scope=row>6</th><td>Avant Garde  </td><td>16070.020</td></tr>\n</tbody>\n</table>\n",
            "text/markdown": "\nA data.frame: 21 × 2\n\n| <!--/--> | genre &lt;chr&gt; | avg_popularity &lt;dbl&gt; |\n|---|---|---|\n| 14 | Ecchi         |  4727.382 |\n| 19 | Girls Love    |  5042.858 |\n| 12 | Boys Love     |  5457.568 |\n| 16 | Romance       |  5964.152 |\n| 7 | Award Winning |  6090.544 |\n| 9 | Mystery       |  6112.378 |\n| 18 | Supernatural  |  7021.625 |\n| 17 | Suspense      |  7024.041 |\n| 1 | Action        |  7699.312 |\n| 20 | Erotica       |  8129.352 |\n| 10 | Hentai        |  8318.227 |\n| 11 | Horror        |  8337.429 |\n| 5 | Drama         |  8555.042 |\n| 8 | Sci-Fi        |  9212.922 |\n| 21 | Gourmet       |  9614.514 |\n| 3 | Sports        |  9690.096 |\n| 4 | Comedy        | 10309.190 |\n| 2 | Adventure     | 10670.100 |\n| 15 | Slice of Life | 11221.890 |\n| 13 | Fantasy       | 11638.490 |\n| 6 | Avant Garde   | 16070.020 |\n\n",
            "text/latex": "A data.frame: 21 × 2\n\\begin{tabular}{r|ll}\n  & genre & avg\\_popularity\\\\\n  & <chr> & <dbl>\\\\\n\\hline\n\t14 & Ecchi         &  4727.382\\\\\n\t19 & Girls Love    &  5042.858\\\\\n\t12 & Boys Love     &  5457.568\\\\\n\t16 & Romance       &  5964.152\\\\\n\t7 & Award Winning &  6090.544\\\\\n\t9 & Mystery       &  6112.378\\\\\n\t18 & Supernatural  &  7021.625\\\\\n\t17 & Suspense      &  7024.041\\\\\n\t1 & Action        &  7699.312\\\\\n\t20 & Erotica       &  8129.352\\\\\n\t10 & Hentai        &  8318.227\\\\\n\t11 & Horror        &  8337.429\\\\\n\t5 & Drama         &  8555.042\\\\\n\t8 & Sci-Fi        &  9212.922\\\\\n\t21 & Gourmet       &  9614.514\\\\\n\t3 & Sports        &  9690.096\\\\\n\t4 & Comedy        & 10309.190\\\\\n\t2 & Adventure     & 10670.100\\\\\n\t15 & Slice of Life & 11221.890\\\\\n\t13 & Fantasy       & 11638.490\\\\\n\t6 & Avant Garde   & 16070.020\\\\\n\\end{tabular}\n",
            "text/plain": "   genre         avg_popularity\n14 Ecchi          4727.382     \n19 Girls Love     5042.858     \n12 Boys Love      5457.568     \n16 Romance        5964.152     \n7  Award Winning  6090.544     \n9  Mystery        6112.378     \n18 Supernatural   7021.625     \n17 Suspense       7024.041     \n1  Action         7699.312     \n20 Erotica        8129.352     \n10 Hentai         8318.227     \n11 Horror         8337.429     \n5  Drama          8555.042     \n8  Sci-Fi         9212.922     \n21 Gourmet        9614.514     \n3  Sports         9690.096     \n4  Comedy        10309.190     \n2  Adventure     10670.100     \n15 Slice of Life 11221.890     \n13 Fantasy       11638.490     \n6  Avant Garde   16070.020     "
          },
          "metadata": {}
        }
      ]
    },
    {
      "cell_type": "code",
      "source": [
        "# To get the average rank of each genre\n",
        "action_rank <- genre_split %>% filter(genre_1 == \"Action\" |\n",
        "                                          genre_2 == \"Action\" |\n",
        "                                          genre_3 == \"Action\" |\n",
        "                                          genre_4 == \"Action\" |\n",
        "                                          genre_5 == \"Action\" |\n",
        "                                          genre_6 == \"Action\" |\n",
        "                                          genre_7 == \"Action\" |\n",
        "                                          genre_8 == \"Action\" |\n",
        "                                          genre_9 == \"Action\") %>%\n",
        "    summarise(action_rank = mean(rank, na.rm = TRUE))\n",
        "print(action_rank)\n",
        "\n",
        "adventure_rank <- genre_split %>% filter(genre_1 == \"Adventure\" |\n",
        "                                          genre_2 == \"Adventure\" |\n",
        "                                          genre_3 == \"Adventure\" |\n",
        "                                          genre_4 == \"Adventure\" |\n",
        "                                          genre_5 == \"Adventure\" |\n",
        "                                          genre_6 == \"Adventure\" |\n",
        "                                          genre_7 == \"Adventure\" |\n",
        "                                          genre_8 == \"Adventure\" |\n",
        "                                          genre_9 == \"Adventure\") %>%\n",
        "    summarise(adventure_rank = mean(rank, na.rm = TRUE))\n",
        "print(adventure_rank)\n",
        "\n",
        "sports_rank <- genre_split %>% filter(genre_1 == \"Sports\" |\n",
        "                                          genre_2 == \"Sports\" |\n",
        "                                          genre_3 == \"Sports\" |\n",
        "                                          genre_4 == \"Sports\" |\n",
        "                                          genre_5 == \"Sports\" |\n",
        "                                          genre_6 == \"Sports\" |\n",
        "                                          genre_7 == \"Sports\" |\n",
        "                                          genre_8 == \"Sports\" |\n",
        "                                          genre_9 == \"Sports\") %>%\n",
        "    summarise(sports_rank = mean(rank, na.rm = TRUE))\n",
        "print(sports_rank)\n",
        "\n",
        "comedy_rank <- genre_split %>% filter(genre_1 == \"Comedy\" |\n",
        "                                          genre_2 == \"Comedy\" |\n",
        "                                          genre_3 == \"Comedy\" |\n",
        "                                          genre_4 == \"Comedy\" |\n",
        "                                          genre_5 == \"Comedy\" |\n",
        "                                          genre_6 == \"Comedy\" |\n",
        "                                          genre_7 == \"Comedy\" |\n",
        "                                          genre_8 == \"Comedy\" |\n",
        "                                          genre_9 == \"Comedy\") %>%\n",
        "    summarise(comedy_rank = mean(rank, na.rm = TRUE))\n",
        "print(comedy_rank)\n",
        "\n",
        "drama_rank <- genre_split %>% filter(genre_1 == \"Drama\" |\n",
        "                                          genre_2 == \"Drama\" |\n",
        "                                          genre_3 == \"Drama\" |\n",
        "                                          genre_4 == \"Drama\" |\n",
        "                                          genre_5 == \"Drama\" |\n",
        "                                          genre_6 == \"Drama\" |\n",
        "                                          genre_7 == \"Drama\" |\n",
        "                                          genre_8 == \"Drama\" |\n",
        "                                          genre_9 == \"Drama\") %>%\n",
        "    summarise(drama_rank = mean(rank, na.rm = TRUE))\n",
        "print(drama_rank)\n",
        "\n",
        "avant_garde_rank <- genre_split %>% filter(genre_1 == \"Avant Garde\" |\n",
        "                                          genre_2 == \"Avant Garde\" |\n",
        "                                          genre_3 == \"Avant Garde\" |\n",
        "                                          genre_4 == \"Avant Garde\" |\n",
        "                                          genre_5 == \"Avant Garde\" |\n",
        "                                          genre_6 == \"Avant Garde\" |\n",
        "                                          genre_7 == \"Avant Garde\" |\n",
        "                                          genre_8 == \"Avant Garde\" |\n",
        "                                          genre_9 == \"Avant Garde\") %>%\n",
        "    summarise(avant_garde_rank= mean(rank, na.rm = TRUE))\n",
        "print(avant_garde_rank)\n",
        "\n",
        "award_winning_rank <- genre_split %>% filter(genre_1 == \"Award Winning\" |\n",
        "                                          genre_2 == \"Award Winning\" |\n",
        "                                          genre_3 == \"Award Winning\" |\n",
        "                                          genre_4 == \"Award Winning\" |\n",
        "                                          genre_5 == \"Award Winning\" |\n",
        "                                          genre_6 == \"Award Winning\" |\n",
        "                                          genre_7 == \"Award Winning\" |\n",
        "                                          genre_8 == \"Award Winning\" |\n",
        "                                          genre_9 == \"Award Winning\") %>%\n",
        "    summarise(award_winning_rank = mean(rank, na.rm = TRUE))\n",
        "print(award_winning_rank)\n",
        "\n",
        "sci_fi_rank <- genre_split %>% filter(genre_1 == \"Sci-Fi\" |\n",
        "                                          genre_2 == \"Sci-Fi\" |\n",
        "                                          genre_3 == \"Sci-Fi\" |\n",
        "                                          genre_4 == \"Sci-Fi\" |\n",
        "                                          genre_5 == \"Sci-Fi\" |\n",
        "                                          genre_6 == \"Sci-Fi\" |\n",
        "                                          genre_7 == \"Sci-Fi\" |\n",
        "                                          genre_8 == \"Sci-Fi\" |\n",
        "                                          genre_9 == \"Sci-Fi\") %>%\n",
        "    summarise(sci_fi_rank  = mean(rank, na.rm = TRUE))\n",
        "print(sci_fi_rank)\n",
        "\n",
        "mystery_rank<- genre_split %>% filter(genre_1 == \"Mystery\" |\n",
        "                                          genre_2 == \"Mystery\" |\n",
        "                                          genre_3 == \"Mystery\" |\n",
        "                                          genre_4 == \"Mystery\" |\n",
        "                                          genre_5 == \"Mystery\" |\n",
        "                                          genre_6 == \"Mystery\" |\n",
        "                                          genre_7 == \"Mystery\" |\n",
        "                                          genre_8 == \"Mystery\" |\n",
        "                                          genre_9 == \"Mystery\") %>%\n",
        "    summarise(mystery_rank = mean(rank, na.rm = TRUE))\n",
        "print(mystery_rank)\n",
        "\n",
        "hentai_rank <- genre_split %>% filter(genre_1 == \"Hentai\" |\n",
        "                                          genre_2 == \"Hentai\" |\n",
        "                                          genre_3 == \"Hentai\" |\n",
        "                                          genre_4 == \"Hentai\" |\n",
        "                                          genre_5 == \"Hentai\" |\n",
        "                                          genre_6 == \"Hentai\" |\n",
        "                                          genre_7 == \"Hentai\" |\n",
        "                                          genre_8 == \"Hentai\" |\n",
        "                                          genre_9 == \"Hentai\") %>%\n",
        "    summarise(hentai_rank = mean(rank, na.rm = TRUE))\n",
        "print(hentai_rank)\n",
        "\n",
        "horror_rank <- genre_split %>% filter(genre_1 == \"Horror\" |\n",
        "                                          genre_2 == \"Horror\" |\n",
        "                                          genre_3 == \"Horror\" |\n",
        "                                          genre_4 == \"Horror\" |\n",
        "                                          genre_5 == \"Horror\" |\n",
        "                                          genre_6 == \"Horror\" |\n",
        "                                          genre_7 == \"Horror\" |\n",
        "                                          genre_8 == \"Horror\" |\n",
        "                                          genre_9 == \"Horror\") %>%\n",
        "    summarise(horror_rank = mean(rank, na.rm = TRUE))\n",
        "print(horror_rank)\n",
        "\n",
        "boys_love_rank <- genre_split %>% filter(genre_1 == \"Boys Love\" |\n",
        "                                          genre_2 == \"Boys Love\" |\n",
        "                                          genre_3 == \"Boys Love\" |\n",
        "                                          genre_4 == \"Boys Love\" |\n",
        "                                          genre_5 == \"Boys Love\" |\n",
        "                                          genre_6 == \"Boys Love\" |\n",
        "                                          genre_7 == \"Boys Love\" |\n",
        "                                          genre_8 == \"Boys Love\" |\n",
        "                                          genre_9 == \"Boys Love\") %>%\n",
        "    summarise(boys_love_rank = mean(rank, na.rm = TRUE))\n",
        "print(boys_love_rank)\n",
        "\n",
        "fantasy_rank <- genre_split %>% filter(genre_1 == \"Fantasy\" |\n",
        "                                          genre_2 == \"Fantasy\" |\n",
        "                                          genre_3 == \"Fantasy\" |\n",
        "                                          genre_4 == \"Fantasy\" |\n",
        "                                          genre_5 == \"Fantasy\" |\n",
        "                                          genre_6 == \"Fantasy\" |\n",
        "                                          genre_7 == \"Fantasy\" |\n",
        "                                          genre_8 == \"Fantasy\" |\n",
        "                                          genre_9 == \"Fantasy\") %>%\n",
        "    summarise(fantasy_rank = mean(rank, na.rm = TRUE))\n",
        "print(fantasy_rank)\n",
        "\n",
        "ecchi_rank <- genre_split %>% filter(genre_1 == \"Ecchi\" |\n",
        "                                          genre_2 == \"Ecchi\" |\n",
        "                                          genre_3 == \"Ecchi\" |\n",
        "                                          genre_4 == \"Ecchi\" |\n",
        "                                          genre_5 == \"Ecchi\" |\n",
        "                                          genre_6 == \"Ecchi\" |\n",
        "                                          genre_7 == \"Ecchi\" |\n",
        "                                          genre_8 == \"Ecchi\" |\n",
        "                                          genre_9 == \"Ecchi\") %>%\n",
        "    summarise(ecchi_rank = mean(rank, na.rm = TRUE))\n",
        "print(ecchi_rank)\n",
        "\n",
        "slice_of_life_rank <- genre_split %>% filter(genre_1 == \"Slice of Life\" |\n",
        "                                          genre_2 == \"Slice of Life\" |\n",
        "                                          genre_3 == \"Slice of Life\" |\n",
        "                                          genre_4 == \"Slice of Life\" |\n",
        "                                          genre_5 == \"Slice of Life\" |\n",
        "                                          genre_6 == \"Slice of Life\" |\n",
        "                                          genre_7 == \"Slice of Life\" |\n",
        "                                          genre_8 == \"Slice of Life\" |\n",
        "                                          genre_9 == \"Slice of Life\") %>%\n",
        "    summarise(slice_of_life_rank = mean(rank, na.rm = TRUE))\n",
        "print(slice_of_life_rank)\n",
        "\n",
        "romance_rank <- genre_split %>% filter(genre_1 == \"Romance\" |\n",
        "                                          genre_2 == \"Romance\" |\n",
        "                                          genre_3 == \"Romance\" |\n",
        "                                          genre_4 == \"Romance\" |\n",
        "                                          genre_5 == \"Romance\" |\n",
        "                                          genre_6 == \"Romance\" |\n",
        "                                          genre_7 == \"Romance\" |\n",
        "                                          genre_8 == \"Romance\" |\n",
        "                                          genre_9 == \"Romance\") %>%\n",
        "    summarise(romance_rank= mean(rank, na.rm = TRUE))\n",
        "print(romance_rank)\n",
        "\n",
        "suspense_rank <- genre_split %>% filter(genre_1 == \"Suspense\" |\n",
        "                                          genre_2 == \"Suspense\" |\n",
        "                                          genre_3 == \"Suspense\" |\n",
        "                                          genre_4 == \"Suspense\" |\n",
        "                                          genre_5 == \"Suspense\" |\n",
        "                                          genre_6 == \"Suspense\" |\n",
        "                                          genre_7 == \"Suspense\" |\n",
        "                                          genre_8 == \"Suspense\" |\n",
        "                                          genre_9 == \"Suspense\") %>%\n",
        "    summarise(suspense_rank= mean(rank, na.rm = TRUE))\n",
        "print(suspense_rank)\n",
        "\n",
        "supernatural_rank <- genre_split %>% filter(genre_1 == \"Supernatural\" |\n",
        "                                          genre_2 == \"Supernatural\" |\n",
        "                                          genre_3 == \"Supernatural\" |\n",
        "                                          genre_4 == \"Supernatural\" |\n",
        "                                          genre_5 == \"Supernatural\" |\n",
        "                                          genre_6 == \"Supernatural\" |\n",
        "                                          genre_7 == \"Supernatural\" |\n",
        "                                          genre_8 == \"Supernatural\" |\n",
        "                                          genre_9 == \"Supernatural\") %>%\n",
        "    summarise(supernatural_rank = mean(rank, na.rm = TRUE))\n",
        "print(supernatural_rank)\n",
        "\n",
        "girls_love_rank <- genre_split %>% filter(genre_1 == \"Girls Love\" |\n",
        "                                          genre_2 == \"Girls Love\" |\n",
        "                                          genre_3 == \"Girls Love\" |\n",
        "                                          genre_4 == \"Girls Love\" |\n",
        "                                          genre_5 == \"Girls Love\" |\n",
        "                                          genre_6 == \"Girls Love\" |\n",
        "                                          genre_7 == \"Girls Love\" |\n",
        "                                          genre_8 == \"Girls Love\" |\n",
        "                                          genre_9 == \"Girls Love\") %>%\n",
        "    summarise(girls_love_rank = mean(rank, na.rm = TRUE))\n",
        "print(girls_love_rank)\n",
        "\n",
        "erotica_rank <- genre_split %>% filter(genre_1 == \"Erotica\" |\n",
        "                                          genre_2 == \"Erotica\" |\n",
        "                                          genre_3 == \"Erotica\" |\n",
        "                                          genre_4 == \"Erotica\" |\n",
        "                                          genre_5 == \"Erotica\" |\n",
        "                                          genre_6 == \"Erotica\" |\n",
        "                                          genre_7 == \"Erotica\" |\n",
        "                                          genre_8 == \"Erotica\" |\n",
        "                                          genre_9 == \"Erotica\") %>%\n",
        "    summarise(erotica_rank = mean(rank, na.rm = TRUE))\n",
        "print(erotica_rank)\n",
        "\n",
        "gourmet_rank <- genre_split %>% filter(genre_1 == \"Gourmet\" |\n",
        "                                          genre_2 == \"Gourmet\" |\n",
        "                                          genre_3 == \"Gourmet\" |\n",
        "                                          genre_4 == \"Gourmet\" |\n",
        "                                          genre_5 == \"Gourmet\" |\n",
        "                                          genre_6 == \"Gourmet\" |\n",
        "                                          genre_7 == \"Gourmet\" |\n",
        "                                          genre_8 == \"Gourmet\" |\n",
        "                                          genre_9 == \"Gourmet\") %>%\n",
        "    summarise(gourmet_rank = mean(rank, na.rm = TRUE))\n",
        "print(gourmet_rank)"
      ],
      "metadata": {
        "_kg_hide-input": true,
        "execution": {
          "iopub.status.busy": "2024-02-16T06:31:05.267516Z",
          "iopub.execute_input": "2024-02-16T06:31:05.269212Z",
          "iopub.status.idle": "2024-02-16T06:31:05.693518Z"
        },
        "trusted": true,
        "id": "ZX3ems7gp7GD",
        "outputId": "88e7a663-fedc-407e-ea49-8728c82933bd"
      },
      "execution_count": null,
      "outputs": [
        {
          "name": "stdout",
          "text": "  action_rank\n1     6804.83\n  adventure_rank\n1       8616.563\n  sports_rank\n1     8015.65\n  comedy_rank\n1    8952.011\n  drama_rank\n1   7203.806\n  avant_garde_rank\n1         12768.65\n  award_winning_rank\n1           4767.971\n  sci_fi_rank\n1    7824.349\n  mystery_rank\n1     5311.503\n  hentai_rank\n1           0\n  horror_rank\n1    8310.901\n  boys_love_rank\n1       5915.357\n  fantasy_rank\n1     9566.118\n  ecchi_rank\n1   6678.866\n  slice_of_life_rank\n1           9500.772\n  romance_rank\n1     5458.292\n  suspense_rank\n1       6410.14\n  supernatural_rank\n1           6411.69\n  girls_love_rank\n1        5603.714\n  erotica_rank\n1          NaN\n  gourmet_rank\n1     8062.081\n",
          "output_type": "stream"
        }
      ]
    },
    {
      "cell_type": "code",
      "source": [
        "# To make a new data frame to combine genre and its average rank\n",
        "genre <- c(\"Action\", \"Adventure\", \"Sports\", \"Comedy\", \"Drama\", \"Avant Garde\", \"Award Winning\",\n",
        "          \"Sci-Fi\", \"Mystery\", \"Hentai\", \"Horror\", \"Boys Love\", \"Fantasy\", \"Ecchi\",\n",
        "          \"Slice of Life\", \"Romance\", \"Suspense\", \"Supernatural\", \"Girls Love\", \"Erotica\",\n",
        "          \"Gourmet\")\n",
        "\n",
        "avg_rank <- c(6804.83, 8616.563, 8015.65, 8952.011, 7203.806, 12768.65, 4767.971,\n",
        "                 7824.349, 5311.503, NA, 8310.901, 5915.357, 9566.118, 6678.866, 9500.772,\n",
        "                 5458.292, 6410.14, 6411.69, 5603.714, NA, 8062.081)\n",
        "\n",
        "genre_rank <- data.frame(genre, avg_rank)\n",
        "genre_rank[order(genre_rank$avg_rank), ]"
      ],
      "metadata": {
        "execution": {
          "iopub.status.busy": "2024-02-16T06:31:05.696960Z",
          "iopub.execute_input": "2024-02-16T06:31:05.698543Z",
          "iopub.status.idle": "2024-02-16T06:31:05.744565Z"
        },
        "trusted": true,
        "id": "xq0USPVZp7GD",
        "outputId": "aec37655-d92c-47c7-d54a-e5d633d3ad00"
      },
      "execution_count": null,
      "outputs": [
        {
          "output_type": "display_data",
          "data": {
            "text/html": "<table class=\"dataframe\">\n<caption>A data.frame: 21 × 2</caption>\n<thead>\n\t<tr><th></th><th scope=col>genre</th><th scope=col>avg_rank</th></tr>\n\t<tr><th></th><th scope=col>&lt;chr&gt;</th><th scope=col>&lt;dbl&gt;</th></tr>\n</thead>\n<tbody>\n\t<tr><th scope=row>7</th><td>Award Winning</td><td> 4767.971</td></tr>\n\t<tr><th scope=row>9</th><td>Mystery      </td><td> 5311.503</td></tr>\n\t<tr><th scope=row>16</th><td>Romance      </td><td> 5458.292</td></tr>\n\t<tr><th scope=row>19</th><td>Girls Love   </td><td> 5603.714</td></tr>\n\t<tr><th scope=row>12</th><td>Boys Love    </td><td> 5915.357</td></tr>\n\t<tr><th scope=row>17</th><td>Suspense     </td><td> 6410.140</td></tr>\n\t<tr><th scope=row>18</th><td>Supernatural </td><td> 6411.690</td></tr>\n\t<tr><th scope=row>14</th><td>Ecchi        </td><td> 6678.866</td></tr>\n\t<tr><th scope=row>1</th><td>Action       </td><td> 6804.830</td></tr>\n\t<tr><th scope=row>5</th><td>Drama        </td><td> 7203.806</td></tr>\n\t<tr><th scope=row>8</th><td>Sci-Fi       </td><td> 7824.349</td></tr>\n\t<tr><th scope=row>3</th><td>Sports       </td><td> 8015.650</td></tr>\n\t<tr><th scope=row>21</th><td>Gourmet      </td><td> 8062.081</td></tr>\n\t<tr><th scope=row>11</th><td>Horror       </td><td> 8310.901</td></tr>\n\t<tr><th scope=row>2</th><td>Adventure    </td><td> 8616.563</td></tr>\n\t<tr><th scope=row>4</th><td>Comedy       </td><td> 8952.011</td></tr>\n\t<tr><th scope=row>15</th><td>Slice of Life</td><td> 9500.772</td></tr>\n\t<tr><th scope=row>13</th><td>Fantasy      </td><td> 9566.118</td></tr>\n\t<tr><th scope=row>6</th><td>Avant Garde  </td><td>12768.650</td></tr>\n\t<tr><th scope=row>10</th><td>Hentai       </td><td>       NA</td></tr>\n\t<tr><th scope=row>20</th><td>Erotica      </td><td>       NA</td></tr>\n</tbody>\n</table>\n",
            "text/markdown": "\nA data.frame: 21 × 2\n\n| <!--/--> | genre &lt;chr&gt; | avg_rank &lt;dbl&gt; |\n|---|---|---|\n| 7 | Award Winning |  4767.971 |\n| 9 | Mystery       |  5311.503 |\n| 16 | Romance       |  5458.292 |\n| 19 | Girls Love    |  5603.714 |\n| 12 | Boys Love     |  5915.357 |\n| 17 | Suspense      |  6410.140 |\n| 18 | Supernatural  |  6411.690 |\n| 14 | Ecchi         |  6678.866 |\n| 1 | Action        |  6804.830 |\n| 5 | Drama         |  7203.806 |\n| 8 | Sci-Fi        |  7824.349 |\n| 3 | Sports        |  8015.650 |\n| 21 | Gourmet       |  8062.081 |\n| 11 | Horror        |  8310.901 |\n| 2 | Adventure     |  8616.563 |\n| 4 | Comedy        |  8952.011 |\n| 15 | Slice of Life |  9500.772 |\n| 13 | Fantasy       |  9566.118 |\n| 6 | Avant Garde   | 12768.650 |\n| 10 | Hentai        |        NA |\n| 20 | Erotica       |        NA |\n\n",
            "text/latex": "A data.frame: 21 × 2\n\\begin{tabular}{r|ll}\n  & genre & avg\\_rank\\\\\n  & <chr> & <dbl>\\\\\n\\hline\n\t7 & Award Winning &  4767.971\\\\\n\t9 & Mystery       &  5311.503\\\\\n\t16 & Romance       &  5458.292\\\\\n\t19 & Girls Love    &  5603.714\\\\\n\t12 & Boys Love     &  5915.357\\\\\n\t17 & Suspense      &  6410.140\\\\\n\t18 & Supernatural  &  6411.690\\\\\n\t14 & Ecchi         &  6678.866\\\\\n\t1 & Action        &  6804.830\\\\\n\t5 & Drama         &  7203.806\\\\\n\t8 & Sci-Fi        &  7824.349\\\\\n\t3 & Sports        &  8015.650\\\\\n\t21 & Gourmet       &  8062.081\\\\\n\t11 & Horror        &  8310.901\\\\\n\t2 & Adventure     &  8616.563\\\\\n\t4 & Comedy        &  8952.011\\\\\n\t15 & Slice of Life &  9500.772\\\\\n\t13 & Fantasy       &  9566.118\\\\\n\t6 & Avant Garde   & 12768.650\\\\\n\t10 & Hentai        &        NA\\\\\n\t20 & Erotica       &        NA\\\\\n\\end{tabular}\n",
            "text/plain": "   genre         avg_rank \n7  Award Winning  4767.971\n9  Mystery        5311.503\n16 Romance        5458.292\n19 Girls Love     5603.714\n12 Boys Love      5915.357\n17 Suspense       6410.140\n18 Supernatural   6411.690\n14 Ecchi          6678.866\n1  Action         6804.830\n5  Drama          7203.806\n8  Sci-Fi         7824.349\n3  Sports         8015.650\n21 Gourmet        8062.081\n11 Horror         8310.901\n2  Adventure      8616.563\n4  Comedy         8952.011\n15 Slice of Life  9500.772\n13 Fantasy        9566.118\n6  Avant Garde   12768.650\n10 Hentai               NA\n20 Erotica              NA"
          },
          "metadata": {}
        }
      ]
    },
    {
      "cell_type": "code",
      "source": [
        "# To get the most favorited of each genre\n",
        "action_favorites <- genre_split %>% filter(genre_1 == \"Action\" |\n",
        "                                          genre_2 == \"Action\" |\n",
        "                                          genre_3 == \"Action\" |\n",
        "                                          genre_4 == \"Action\" |\n",
        "                                          genre_5 == \"Action\" |\n",
        "                                          genre_6 == \"Action\" |\n",
        "                                          genre_7 == \"Action\" |\n",
        "                                          genre_8 == \"Action\" |\n",
        "                                          genre_9 == \"Action\") %>%\n",
        "    summarise(action_favorites = mean(favorites, na.rm = TRUE))\n",
        "print(action_favorites)\n",
        "\n",
        "adventure_favorites <- genre_split %>% filter(genre_1 == \"Adventure\" |\n",
        "                                          genre_2 == \"Adventure\" |\n",
        "                                          genre_3 == \"Adventure\" |\n",
        "                                          genre_4 == \"Adventure\" |\n",
        "                                          genre_5 == \"Adventure\" |\n",
        "                                          genre_6 == \"Adventure\" |\n",
        "                                          genre_7 == \"Adventure\" |\n",
        "                                          genre_8 == \"Adventure\" |\n",
        "                                          genre_9 == \"Adventure\") %>%\n",
        "    summarise(adventure_favorites = mean(favorites, na.rm = TRUE))\n",
        "print(adventure_favorites)\n",
        "\n",
        "sports_favorites <- genre_split %>% filter(genre_1 == \"Sports\" |\n",
        "                                          genre_2 == \"Sports\" |\n",
        "                                          genre_3 == \"Sports\" |\n",
        "                                          genre_4 == \"Sports\" |\n",
        "                                          genre_5 == \"Sports\" |\n",
        "                                          genre_6 == \"Sports\" |\n",
        "                                          genre_7 == \"Sports\" |\n",
        "                                          genre_8 == \"Sports\" |\n",
        "                                          genre_9 == \"Sports\") %>%\n",
        "    summarise(sports_favorites = mean(favorites, na.rm = TRUE))\n",
        "print(sports_favorites)\n",
        "\n",
        "comedy_favorites <- genre_split %>% filter(genre_1 == \"Comedy\" |\n",
        "                                          genre_2 == \"Comedy\" |\n",
        "                                          genre_3 == \"Comedy\" |\n",
        "                                          genre_4 == \"Comedy\" |\n",
        "                                          genre_5 == \"Comedy\" |\n",
        "                                          genre_6 == \"Comedy\" |\n",
        "                                          genre_7 == \"Comedy\" |\n",
        "                                          genre_8 == \"Comedy\" |\n",
        "                                          genre_9 == \"Comedy\") %>%\n",
        "    summarise(comedy_favorites = mean(favorites, na.rm = TRUE))\n",
        "print(comedy_favorites)\n",
        "\n",
        "drama_favorites <- genre_split %>% filter(genre_1 == \"Drama\" |\n",
        "                                          genre_2 == \"Drama\" |\n",
        "                                          genre_3 == \"Drama\" |\n",
        "                                          genre_4 == \"Drama\" |\n",
        "                                          genre_5 == \"Drama\" |\n",
        "                                          genre_6 == \"Drama\" |\n",
        "                                          genre_7 == \"Drama\" |\n",
        "                                          genre_8 == \"Drama\" |\n",
        "                                          genre_9 == \"Drama\") %>%\n",
        "    summarise(drama_favorites = mean(favorites, na.rm = TRUE))\n",
        "print(drama_favorites)\n",
        "\n",
        "avant_garde_favorites <- genre_split %>% filter(genre_1 == \"Avant Garde\" |\n",
        "                                          genre_2 == \"Avant Garde\" |\n",
        "                                          genre_3 == \"Avant Garde\" |\n",
        "                                          genre_4 == \"Avant Garde\" |\n",
        "                                          genre_5 == \"Avant Garde\" |\n",
        "                                          genre_6 == \"Avant Garde\" |\n",
        "                                          genre_7 == \"Avant Garde\" |\n",
        "                                          genre_8 == \"Avant Garde\" |\n",
        "                                          genre_9 == \"Avant Garde\") %>%\n",
        "    summarise(avant_garde_favorites= mean(favorites, na.rm = TRUE))\n",
        "print(avant_garde_favorites)\n",
        "\n",
        "award_winning_favorites <- genre_split %>% filter(genre_1 == \"Award Winning\" |\n",
        "                                          genre_2 == \"Award Winning\" |\n",
        "                                          genre_3 == \"Award Winning\" |\n",
        "                                          genre_4 == \"Award Winning\" |\n",
        "                                          genre_5 == \"Award Winning\" |\n",
        "                                          genre_6 == \"Award Winning\" |\n",
        "                                          genre_7 == \"Award Winning\" |\n",
        "                                          genre_8 == \"Award Winning\" |\n",
        "                                          genre_9 == \"Award Winning\") %>%\n",
        "    summarise(award_winning_favorites = mean(favorites, na.rm = TRUE))\n",
        "print(award_winning_favorites)\n",
        "\n",
        "sci_fi_favorites <- genre_split %>% filter(genre_1 == \"Sci-Fi\" |\n",
        "                                          genre_2 == \"Sci-Fi\" |\n",
        "                                          genre_3 == \"Sci-Fi\" |\n",
        "                                          genre_4 == \"Sci-Fi\" |\n",
        "                                          genre_5 == \"Sci-Fi\" |\n",
        "                                          genre_6 == \"Sci-Fi\" |\n",
        "                                          genre_7 == \"Sci-Fi\" |\n",
        "                                          genre_8 == \"Sci-Fi\" |\n",
        "                                          genre_9 == \"Sci-Fi\") %>%\n",
        "    summarise(sci_fi_favorites  = mean(favorites, na.rm = TRUE))\n",
        "print(sci_fi_favorites)\n",
        "\n",
        "mystery_favorites <- genre_split %>% filter(genre_1 == \"Mystery\" |\n",
        "                                          genre_2 == \"Mystery\" |\n",
        "                                          genre_3 == \"Mystery\" |\n",
        "                                          genre_4 == \"Mystery\" |\n",
        "                                          genre_5 == \"Mystery\" |\n",
        "                                          genre_6 == \"Mystery\" |\n",
        "                                          genre_7 == \"Mystery\" |\n",
        "                                          genre_8 == \"Mystery\" |\n",
        "                                          genre_9 == \"Mystery\") %>%\n",
        "    summarise(mystery_favorites = mean(favorites, na.rm = TRUE))\n",
        "print(mystery_favorites)\n",
        "\n",
        "hentai_favorites <- genre_split %>% filter(genre_1 == \"Hentai\" |\n",
        "                                          genre_2 == \"Hentai\" |\n",
        "                                          genre_3 == \"Hentai\" |\n",
        "                                          genre_4 == \"Hentai\" |\n",
        "                                          genre_5 == \"Hentai\" |\n",
        "                                          genre_6 == \"Hentai\" |\n",
        "                                          genre_7 == \"Hentai\" |\n",
        "                                          genre_8 == \"Hentai\" |\n",
        "                                          genre_9 == \"Hentai\") %>%\n",
        "    summarise(hentai_favorites = mean(favorites, na.rm = TRUE))\n",
        "print(hentai_favorites)\n",
        "\n",
        "horror_favorites <- genre_split %>% filter(genre_1 == \"Horror\" |\n",
        "                                          genre_2 == \"Horror\" |\n",
        "                                          genre_3 == \"Horror\" |\n",
        "                                          genre_4 == \"Horror\" |\n",
        "                                          genre_5 == \"Horror\" |\n",
        "                                          genre_6 == \"Horror\" |\n",
        "                                          genre_7 == \"Horror\" |\n",
        "                                          genre_8 == \"Horror\" |\n",
        "                                          genre_9 == \"Horror\") %>%\n",
        "    summarise(horror_favorites = mean(favorites, na.rm = TRUE))\n",
        "print(horror_favorites)\n",
        "\n",
        "boys_love_favorites <- genre_split %>% filter(genre_1 == \"Boys Love\" |\n",
        "                                          genre_2 == \"Boys Love\" |\n",
        "                                          genre_3 == \"Boys Love\" |\n",
        "                                          genre_4 == \"Boys Love\" |\n",
        "                                          genre_5 == \"Boys Love\" |\n",
        "                                          genre_6 == \"Boys Love\" |\n",
        "                                          genre_7 == \"Boys Love\" |\n",
        "                                          genre_8 == \"Boys Love\" |\n",
        "                                          genre_9 == \"Boys Love\") %>%\n",
        "    summarise(boys_love_favorites = mean(favorites, na.rm = TRUE))\n",
        "print(boys_love_favorites)\n",
        "\n",
        "fantasy_favorites <- genre_split %>% filter(genre_1 == \"Fantasy\" |\n",
        "                                          genre_2 == \"Fantasy\" |\n",
        "                                          genre_3 == \"Fantasy\" |\n",
        "                                          genre_4 == \"Fantasy\" |\n",
        "                                          genre_5 == \"Fantasy\" |\n",
        "                                          genre_6 == \"Fantasy\" |\n",
        "                                          genre_7 == \"Fantasy\" |\n",
        "                                          genre_8 == \"Fantasy\" |\n",
        "                                          genre_9 == \"Fantasy\") %>%\n",
        "    summarise(fantasy_favorites= mean(favorites, na.rm = TRUE))\n",
        "print(fantasy_favorites)\n",
        "\n",
        "ecchi_favorites <- genre_split %>% filter(genre_1 == \"Ecchi\" |\n",
        "                                          genre_2 == \"Ecchi\" |\n",
        "                                          genre_3 == \"Ecchi\" |\n",
        "                                          genre_4 == \"Ecchi\" |\n",
        "                                          genre_5 == \"Ecchi\" |\n",
        "                                          genre_6 == \"Ecchi\" |\n",
        "                                          genre_7 == \"Ecchi\" |\n",
        "                                          genre_8 == \"Ecchi\" |\n",
        "                                          genre_9 == \"Ecchi\") %>%\n",
        "    summarise(ecchi_favorites = mean(favorites, na.rm = TRUE))\n",
        "print(ecchi_favorites)\n",
        "\n",
        "slice_of_life_favorites <- genre_split %>% filter(genre_1 == \"Slice of Life\" |\n",
        "                                          genre_2 == \"Slice of Life\" |\n",
        "                                          genre_3 == \"Slice of Life\" |\n",
        "                                          genre_4 == \"Slice of Life\" |\n",
        "                                          genre_5 == \"Slice of Life\" |\n",
        "                                          genre_6 == \"Slice of Life\" |\n",
        "                                          genre_7 == \"Slice of Life\" |\n",
        "                                          genre_8 == \"Slice of Life\" |\n",
        "                                          genre_9 == \"Slice of Life\") %>%\n",
        "    summarise(slice_of_life_favorites = mean(favorites, na.rm = TRUE))\n",
        "print(slice_of_life_favorites)\n",
        "\n",
        "romance_favorites <- genre_split %>% filter(genre_1 == \"Romance\" |\n",
        "                                          genre_2 == \"Romance\" |\n",
        "                                          genre_3 == \"Romance\" |\n",
        "                                          genre_4 == \"Romance\" |\n",
        "                                          genre_5 == \"Romance\" |\n",
        "                                          genre_6 == \"Romance\" |\n",
        "                                          genre_7 == \"Romance\" |\n",
        "                                          genre_8 == \"Romance\" |\n",
        "                                          genre_9 == \"Romance\") %>%\n",
        "    summarise(romance_favorites= mean(favorites, na.rm = TRUE))\n",
        "print(romance_favorites)\n",
        "\n",
        "suspense_favorites <- genre_split %>% filter(genre_1 == \"Suspense\" |\n",
        "                                          genre_2 == \"Suspense\" |\n",
        "                                          genre_3 == \"Suspense\" |\n",
        "                                          genre_4 == \"Suspense\" |\n",
        "                                          genre_5 == \"Suspense\" |\n",
        "                                          genre_6 == \"Suspense\" |\n",
        "                                          genre_7 == \"Suspense\" |\n",
        "                                          genre_8 == \"Suspense\" |\n",
        "                                          genre_9 == \"Suspense\") %>%\n",
        "    summarise(suspense_favorites = mean(favorites, na.rm = TRUE))\n",
        "print(suspense_favorites)\n",
        "\n",
        "supernatural_favorites <- genre_split %>% filter(genre_1 == \"Supernatural\" |\n",
        "                                          genre_2 == \"Supernatural\" |\n",
        "                                          genre_3 == \"Supernatural\" |\n",
        "                                          genre_4 == \"Supernatural\" |\n",
        "                                          genre_5 == \"Supernatural\" |\n",
        "                                          genre_6 == \"Supernatural\" |\n",
        "                                          genre_7 == \"Supernatural\" |\n",
        "                                          genre_8 == \"Supernatural\" |\n",
        "                                          genre_9 == \"Supernatural\") %>%\n",
        "    summarise(supernatural_favorites = mean(favorites, na.rm = TRUE))\n",
        "print(supernatural_favorites)\n",
        "\n",
        "girls_love_favorites <- genre_split %>% filter(genre_1 == \"Girls Love\" |\n",
        "                                          genre_2 == \"Girls Love\" |\n",
        "                                          genre_3 == \"Girls Love\" |\n",
        "                                          genre_4 == \"Girls Love\" |\n",
        "                                          genre_5 == \"Girls Love\" |\n",
        "                                          genre_6 == \"Girls Love\" |\n",
        "                                          genre_7 == \"Girls Love\" |\n",
        "                                          genre_8 == \"Girls Love\" |\n",
        "                                          genre_9 == \"Girls Love\") %>%\n",
        "    summarise(girls_love_favorites = mean(favorites, na.rm = TRUE))\n",
        "print(girls_love_favorites)\n",
        "\n",
        "erotica_favorites <- genre_split %>% filter(genre_1 == \"Erotica\" |\n",
        "                                          genre_2 == \"Erotica\" |\n",
        "                                          genre_3 == \"Erotica\" |\n",
        "                                          genre_4 == \"Erotica\" |\n",
        "                                          genre_5 == \"Erotica\" |\n",
        "                                          genre_6 == \"Erotica\" |\n",
        "                                          genre_7 == \"Erotica\" |\n",
        "                                          genre_8 == \"Erotica\" |\n",
        "                                          genre_9 == \"Erotica\") %>%\n",
        "    summarise(erotica_favorites = mean(favorites, na.rm = TRUE))\n",
        "print(erotica_favorites)\n",
        "\n",
        "gourmet_favorites <- genre_split %>% filter(genre_1 == \"Gourmet\" |\n",
        "                                          genre_2 == \"Gourmet\" |\n",
        "                                          genre_3 == \"Gourmet\" |\n",
        "                                          genre_4 == \"Gourmet\" |\n",
        "                                          genre_5 == \"Gourmet\" |\n",
        "                                          genre_6 == \"Gourmet\" |\n",
        "                                          genre_7 == \"Gourmet\" |\n",
        "                                          genre_8 == \"Gourmet\" |\n",
        "                                          genre_9 == \"Gourmet\") %>%\n",
        "    summarise(gourmet_favorites = mean(favorites, na.rm = TRUE))\n",
        "print(gourmet_favorites)"
      ],
      "metadata": {
        "_kg_hide-input": true,
        "execution": {
          "iopub.status.busy": "2024-02-16T06:31:05.749178Z",
          "iopub.execute_input": "2024-02-16T06:31:05.750667Z",
          "iopub.status.idle": "2024-02-16T06:31:06.166211Z"
        },
        "trusted": true,
        "id": "GyU3tCRgp7GD",
        "outputId": "a40e5d49-af32-440b-e2ce-efcd47c67771"
      },
      "execution_count": null,
      "outputs": [
        {
          "name": "stdout",
          "text": "  action_favorites\n1          1145.92\n  adventure_favorites\n1            713.9995\n  sports_favorites\n1          457.192\n  comedy_favorites\n1         369.6686\n  drama_favorites\n1         1336.11\n  avant_garde_favorites\n1              314.2848\n  award_winning_favorites\n1                6284.452\n  sci_fi_favorites\n1         588.5357\n  mystery_favorites\n1          1346.922\n  hentai_favorites\n1         36.09825\n  horror_favorites\n1         827.1236\n  boys_love_favorites\n1            389.8284\n  fantasy_favorites\n1          684.9597\n  ecchi_favorites\n1        566.1321\n  slice_of_life_favorites\n1                197.2063\n  romance_favorites\n1          1050.925\n  suspense_favorites\n1           5371.942\n  supernatural_favorites\n1               1352.015\n  girls_love_favorites\n1             377.4602\n  erotica_favorites\n1           232.537\n  gourmet_favorites\n1          345.6164\n",
          "output_type": "stream"
        }
      ]
    },
    {
      "cell_type": "code",
      "source": [
        "# To make a new data frame to combine genre and its average number of favorites\n",
        "genre <- c(\"Action\", \"Adventure\", \"Sports\", \"Comedy\", \"Drama\", \"Avant Garde\", \"Award Winning\",\n",
        "          \"Sci-Fi\", \"Mystery\", \"Hentai\", \"Horror\", \"Boys Love\", \"Fantasy\", \"Ecchi\",\n",
        "          \"Slice of Life\", \"Romance\", \"Suspense\", \"Supernatural\", \"Girls Love\", \"Erotica\",\n",
        "          \"Gourmet\")\n",
        "\n",
        "avg_favorites <- c(1145.92, 713.9995, 457.192, 369.6686, 1336.11, 314.2848, 6284.452,\n",
        "                      588.5357, 1346.922, 36.09825, 827.1236, 389.8284, 684.9597, 566.1321,\n",
        "                      197.2063, 1050.925, 5371.942, 1352.015, 377.4602, 232.537, 345.6164)\n",
        "\n",
        "genre_favorites <- data.frame(genre, avg_favorites)\n",
        "genre_favorites[order(genre_favorites$avg_favorites, decreasing = TRUE), ]"
      ],
      "metadata": {
        "execution": {
          "iopub.status.busy": "2024-02-16T06:31:06.170744Z",
          "iopub.execute_input": "2024-02-16T06:31:06.172366Z",
          "iopub.status.idle": "2024-02-16T06:31:06.217014Z"
        },
        "trusted": true,
        "id": "zIGXqSaXp7GE",
        "outputId": "d33809b1-5f90-433e-fa55-1f3bbe2a87ff"
      },
      "execution_count": null,
      "outputs": [
        {
          "output_type": "display_data",
          "data": {
            "text/html": "<table class=\"dataframe\">\n<caption>A data.frame: 21 × 2</caption>\n<thead>\n\t<tr><th></th><th scope=col>genre</th><th scope=col>avg_favorites</th></tr>\n\t<tr><th></th><th scope=col>&lt;chr&gt;</th><th scope=col>&lt;dbl&gt;</th></tr>\n</thead>\n<tbody>\n\t<tr><th scope=row>7</th><td>Award Winning</td><td>6284.45200</td></tr>\n\t<tr><th scope=row>17</th><td>Suspense     </td><td>5371.94200</td></tr>\n\t<tr><th scope=row>18</th><td>Supernatural </td><td>1352.01500</td></tr>\n\t<tr><th scope=row>9</th><td>Mystery      </td><td>1346.92200</td></tr>\n\t<tr><th scope=row>5</th><td>Drama        </td><td>1336.11000</td></tr>\n\t<tr><th scope=row>1</th><td>Action       </td><td>1145.92000</td></tr>\n\t<tr><th scope=row>16</th><td>Romance      </td><td>1050.92500</td></tr>\n\t<tr><th scope=row>11</th><td>Horror       </td><td> 827.12360</td></tr>\n\t<tr><th scope=row>2</th><td>Adventure    </td><td> 713.99950</td></tr>\n\t<tr><th scope=row>13</th><td>Fantasy      </td><td> 684.95970</td></tr>\n\t<tr><th scope=row>8</th><td>Sci-Fi       </td><td> 588.53570</td></tr>\n\t<tr><th scope=row>14</th><td>Ecchi        </td><td> 566.13210</td></tr>\n\t<tr><th scope=row>3</th><td>Sports       </td><td> 457.19200</td></tr>\n\t<tr><th scope=row>12</th><td>Boys Love    </td><td> 389.82840</td></tr>\n\t<tr><th scope=row>19</th><td>Girls Love   </td><td> 377.46020</td></tr>\n\t<tr><th scope=row>4</th><td>Comedy       </td><td> 369.66860</td></tr>\n\t<tr><th scope=row>21</th><td>Gourmet      </td><td> 345.61640</td></tr>\n\t<tr><th scope=row>6</th><td>Avant Garde  </td><td> 314.28480</td></tr>\n\t<tr><th scope=row>20</th><td>Erotica      </td><td> 232.53700</td></tr>\n\t<tr><th scope=row>15</th><td>Slice of Life</td><td> 197.20630</td></tr>\n\t<tr><th scope=row>10</th><td>Hentai       </td><td>  36.09825</td></tr>\n</tbody>\n</table>\n",
            "text/markdown": "\nA data.frame: 21 × 2\n\n| <!--/--> | genre &lt;chr&gt; | avg_favorites &lt;dbl&gt; |\n|---|---|---|\n| 7 | Award Winning | 6284.45200 |\n| 17 | Suspense      | 5371.94200 |\n| 18 | Supernatural  | 1352.01500 |\n| 9 | Mystery       | 1346.92200 |\n| 5 | Drama         | 1336.11000 |\n| 1 | Action        | 1145.92000 |\n| 16 | Romance       | 1050.92500 |\n| 11 | Horror        |  827.12360 |\n| 2 | Adventure     |  713.99950 |\n| 13 | Fantasy       |  684.95970 |\n| 8 | Sci-Fi        |  588.53570 |\n| 14 | Ecchi         |  566.13210 |\n| 3 | Sports        |  457.19200 |\n| 12 | Boys Love     |  389.82840 |\n| 19 | Girls Love    |  377.46020 |\n| 4 | Comedy        |  369.66860 |\n| 21 | Gourmet       |  345.61640 |\n| 6 | Avant Garde   |  314.28480 |\n| 20 | Erotica       |  232.53700 |\n| 15 | Slice of Life |  197.20630 |\n| 10 | Hentai        |   36.09825 |\n\n",
            "text/latex": "A data.frame: 21 × 2\n\\begin{tabular}{r|ll}\n  & genre & avg\\_favorites\\\\\n  & <chr> & <dbl>\\\\\n\\hline\n\t7 & Award Winning & 6284.45200\\\\\n\t17 & Suspense      & 5371.94200\\\\\n\t18 & Supernatural  & 1352.01500\\\\\n\t9 & Mystery       & 1346.92200\\\\\n\t5 & Drama         & 1336.11000\\\\\n\t1 & Action        & 1145.92000\\\\\n\t16 & Romance       & 1050.92500\\\\\n\t11 & Horror        &  827.12360\\\\\n\t2 & Adventure     &  713.99950\\\\\n\t13 & Fantasy       &  684.95970\\\\\n\t8 & Sci-Fi        &  588.53570\\\\\n\t14 & Ecchi         &  566.13210\\\\\n\t3 & Sports        &  457.19200\\\\\n\t12 & Boys Love     &  389.82840\\\\\n\t19 & Girls Love    &  377.46020\\\\\n\t4 & Comedy        &  369.66860\\\\\n\t21 & Gourmet       &  345.61640\\\\\n\t6 & Avant Garde   &  314.28480\\\\\n\t20 & Erotica       &  232.53700\\\\\n\t15 & Slice of Life &  197.20630\\\\\n\t10 & Hentai        &   36.09825\\\\\n\\end{tabular}\n",
            "text/plain": "   genre         avg_favorites\n7  Award Winning 6284.45200   \n17 Suspense      5371.94200   \n18 Supernatural  1352.01500   \n9  Mystery       1346.92200   \n5  Drama         1336.11000   \n1  Action        1145.92000   \n16 Romance       1050.92500   \n11 Horror         827.12360   \n2  Adventure      713.99950   \n13 Fantasy        684.95970   \n8  Sci-Fi         588.53570   \n14 Ecchi          566.13210   \n3  Sports         457.19200   \n12 Boys Love      389.82840   \n19 Girls Love     377.46020   \n4  Comedy         369.66860   \n21 Gourmet        345.61640   \n6  Avant Garde    314.28480   \n20 Erotica        232.53700   \n15 Slice of Life  197.20630   \n10 Hentai          36.09825   "
          },
          "metadata": {}
        }
      ]
    },
    {
      "cell_type": "code",
      "source": [
        "# To get the top scored of each genre\n",
        "action_score <- genre_split %>% filter(genre_1 == \"Action\" |\n",
        "                                          genre_2 == \"Action\" |\n",
        "                                          genre_3 == \"Action\" |\n",
        "                                          genre_4 == \"Action\" |\n",
        "                                          genre_5 == \"Action\" |\n",
        "                                          genre_6 == \"Action\" |\n",
        "                                          genre_7 == \"Action\" |\n",
        "                                          genre_8 == \"Action\" |\n",
        "                                          genre_9 == \"Action\") %>%\n",
        "    summarise(action_score = mean(score, na.rm = TRUE))\n",
        "print(action_score)\n",
        "\n",
        "adventure_score <- genre_split %>% filter(genre_1 == \"Adventure\" |\n",
        "                                          genre_2 == \"Adventure\" |\n",
        "                                          genre_3 == \"Adventure\" |\n",
        "                                          genre_4 == \"Adventure\" |\n",
        "                                          genre_5 == \"Adventure\" |\n",
        "                                          genre_6 == \"Adventure\" |\n",
        "                                          genre_7 == \"Adventure\" |\n",
        "                                          genre_8 == \"Adventure\" |\n",
        "                                          genre_9 == \"Adventure\") %>%\n",
        "    summarise(adventure_score = mean(score, na.rm = TRUE))\n",
        "print(adventure_score)\n",
        "\n",
        "sports_score <- genre_split %>% filter(genre_1 == \"Sports\" |\n",
        "                                          genre_2 == \"Sports\" |\n",
        "                                          genre_3 == \"Sports\" |\n",
        "                                          genre_4 == \"Sports\" |\n",
        "                                          genre_5 == \"Sports\" |\n",
        "                                          genre_6 == \"Sports\" |\n",
        "                                          genre_7 == \"Sports\" |\n",
        "                                          genre_8 == \"Sports\" |\n",
        "                                          genre_9 == \"Sports\") %>%\n",
        "    summarise(sports_score = mean(score, na.rm = TRUE))\n",
        "print(sports_score)\n",
        "\n",
        "comedy_score <- genre_split %>% filter(genre_1 == \"Comedy\" |\n",
        "                                          genre_2 == \"Comedy\" |\n",
        "                                          genre_3 == \"Comedy\" |\n",
        "                                          genre_4 == \"Comedy\" |\n",
        "                                          genre_5 == \"Comedy\" |\n",
        "                                          genre_6 == \"Comedy\" |\n",
        "                                          genre_7 == \"Comedy\" |\n",
        "                                          genre_8 == \"Comedy\" |\n",
        "                                          genre_9 == \"Comedy\") %>%\n",
        "    summarise(comedy_score = mean(score, na.rm = TRUE))\n",
        "print(comedy_score)\n",
        "\n",
        "drama_score <- genre_split %>% filter(genre_1 == \"Drama\" |\n",
        "                                          genre_2 == \"Drama\" |\n",
        "                                          genre_3 == \"Drama\" |\n",
        "                                          genre_4 == \"Drama\" |\n",
        "                                          genre_5 == \"Drama\" |\n",
        "                                          genre_6 == \"Drama\" |\n",
        "                                          genre_7 == \"Drama\" |\n",
        "                                          genre_8 == \"Drama\" |\n",
        "                                          genre_9 == \"Drama\") %>%\n",
        "    summarise(drama_score = mean(score, na.rm = TRUE))\n",
        "print(drama_score)\n",
        "\n",
        "avant_garde_score <- genre_split %>% filter(genre_1 == \"Avant Garde\" |\n",
        "                                          genre_2 == \"Avant Garde\" |\n",
        "                                          genre_3 == \"Avant Garde\" |\n",
        "                                          genre_4 == \"Avant Garde\" |\n",
        "                                          genre_5 == \"Avant Garde\" |\n",
        "                                          genre_6 == \"Avant Garde\" |\n",
        "                                          genre_7 == \"Avant Garde\" |\n",
        "                                          genre_8 == \"Avant Garde\" |\n",
        "                                          genre_9 == \"Avant Garde\") %>%\n",
        "    summarise(avant_garde_score= mean(score, na.rm = TRUE))\n",
        "print(avant_garde_score)\n",
        "\n",
        "award_winning_score <- genre_split %>% filter(genre_1 == \"Award Winning\" |\n",
        "                                          genre_2 == \"Award Winning\" |\n",
        "                                          genre_3 == \"Award Winning\" |\n",
        "                                          genre_4 == \"Award Winning\" |\n",
        "                                          genre_5 == \"Award Winning\" |\n",
        "                                          genre_6 == \"Award Winning\" |\n",
        "                                          genre_7 == \"Award Winning\" |\n",
        "                                          genre_8 == \"Award Winning\" |\n",
        "                                          genre_9 == \"Award Winning\") %>%\n",
        "    summarise(award_winning_score = mean(score, na.rm = TRUE))\n",
        "print(award_winning_score)\n",
        "\n",
        "sci_fi_score <- genre_split %>% filter(genre_1 == \"Sci-Fi\" |\n",
        "                                          genre_2 == \"Sci-Fi\" |\n",
        "                                          genre_3 == \"Sci-Fi\" |\n",
        "                                          genre_4 == \"Sci-Fi\" |\n",
        "                                          genre_5 == \"Sci-Fi\" |\n",
        "                                          genre_6 == \"Sci-Fi\" |\n",
        "                                          genre_7 == \"Sci-Fi\" |\n",
        "                                          genre_8 == \"Sci-Fi\" |\n",
        "                                          genre_9 == \"Sci-Fi\") %>%\n",
        "    summarise(sci_fi_score  = mean(score, na.rm = TRUE))\n",
        "print(sci_fi_score)\n",
        "\n",
        "mystery_score <- genre_split %>% filter(genre_1 == \"Mystery\" |\n",
        "                                          genre_2 == \"Mystery\" |\n",
        "                                          genre_3 == \"Mystery\" |\n",
        "                                          genre_4 == \"Mystery\" |\n",
        "                                          genre_5 == \"Mystery\" |\n",
        "                                          genre_6 == \"Mystery\" |\n",
        "                                          genre_7 == \"Mystery\" |\n",
        "                                          genre_8 == \"Mystery\" |\n",
        "                                          genre_9 == \"Mystery\") %>%\n",
        "    summarise(mystery_score = mean(score, na.rm = TRUE))\n",
        "print(mystery_score)\n",
        "\n",
        "hentai_score <- genre_split %>% filter(genre_1 == \"Hentai\" |\n",
        "                                          genre_2 == \"Hentai\" |\n",
        "                                          genre_3 == \"Hentai\" |\n",
        "                                          genre_4 == \"Hentai\" |\n",
        "                                          genre_5 == \"Hentai\" |\n",
        "                                          genre_6 == \"Hentai\" |\n",
        "                                          genre_7 == \"Hentai\" |\n",
        "                                          genre_8 == \"Hentai\" |\n",
        "                                          genre_9 == \"Hentai\") %>%\n",
        "    summarise(hentai_score = mean(score, na.rm = TRUE))\n",
        "print(hentai_score)\n",
        "\n",
        "horror_score <- genre_split %>% filter(genre_1 == \"Horror\" |\n",
        "                                          genre_2 == \"Horror\" |\n",
        "                                          genre_3 == \"Horror\" |\n",
        "                                          genre_4 == \"Horror\" |\n",
        "                                          genre_5 == \"Horror\" |\n",
        "                                          genre_6 == \"Horror\" |\n",
        "                                          genre_7 == \"Horror\" |\n",
        "                                          genre_8 == \"Horror\" |\n",
        "                                          genre_9 == \"Horror\") %>%\n",
        "    summarise(horror_score = mean(score, na.rm = TRUE))\n",
        "print(horror_score)\n",
        "\n",
        "boys_love_score <- genre_split %>% filter(genre_1 == \"Boys Love\" |\n",
        "                                          genre_2 == \"Boys Love\" |\n",
        "                                          genre_3 == \"Boys Love\" |\n",
        "                                          genre_4 == \"Boys Love\" |\n",
        "                                          genre_5 == \"Boys Love\" |\n",
        "                                          genre_6 == \"Boys Love\" |\n",
        "                                          genre_7 == \"Boys Love\" |\n",
        "                                          genre_8 == \"Boys Love\" |\n",
        "                                          genre_9 == \"Boys Love\") %>%\n",
        "    summarise(boys_love_score = mean(score, na.rm = TRUE))\n",
        "print(boys_love_score)\n",
        "\n",
        "fantasy_score <- genre_split %>% filter(genre_1 == \"Fantasy\" |\n",
        "                                          genre_2 == \"Fantasy\" |\n",
        "                                          genre_3 == \"Fantasy\" |\n",
        "                                          genre_4 == \"Fantasy\" |\n",
        "                                          genre_5 == \"Fantasy\" |\n",
        "                                          genre_6 == \"Fantasy\" |\n",
        "                                          genre_7 == \"Fantasy\" |\n",
        "                                          genre_8 == \"Fantasy\" |\n",
        "                                          genre_9 == \"Fantasy\") %>%\n",
        "    summarise(fantasy_score = mean(score, na.rm = TRUE))\n",
        "print(fantasy_score)\n",
        "\n",
        "ecchi_score <- genre_split %>% filter(genre_1 == \"Ecchi\" |\n",
        "                                          genre_2 == \"Ecchi\" |\n",
        "                                          genre_3 == \"Ecchi\" |\n",
        "                                          genre_4 == \"Ecchi\" |\n",
        "                                          genre_5 == \"Ecchi\" |\n",
        "                                          genre_6 == \"Ecchi\" |\n",
        "                                          genre_7 == \"Ecchi\" |\n",
        "                                          genre_8 == \"Ecchi\" |\n",
        "                                          genre_9 == \"Ecchi\") %>%\n",
        "    summarise(ecchi_score = mean(score, na.rm = TRUE))\n",
        "print(ecchi_score)\n",
        "\n",
        "slice_of_life_score <- genre_split %>% filter(genre_1 == \"Slice of Life\" |\n",
        "                                          genre_2 == \"Slice of Life\" |\n",
        "                                          genre_3 == \"Slice of Life\" |\n",
        "                                          genre_4 == \"Slice of Life\" |\n",
        "                                          genre_5 == \"Slice of Life\" |\n",
        "                                          genre_6 == \"Slice of Life\" |\n",
        "                                          genre_7 == \"Slice of Life\" |\n",
        "                                          genre_8 == \"Slice of Life\" |\n",
        "                                          genre_9 == \"Slice of Life\") %>%\n",
        "    summarise(slice_of_life_score = mean(score, na.rm = TRUE))\n",
        "print(slice_of_life_score)\n",
        "\n",
        "romance_score <- genre_split %>% filter(genre_1 == \"Romance\" |\n",
        "                                          genre_2 == \"Romance\" |\n",
        "                                          genre_3 == \"Romance\" |\n",
        "                                          genre_4 == \"Romance\" |\n",
        "                                          genre_5 == \"Romance\" |\n",
        "                                          genre_6 == \"Romance\" |\n",
        "                                          genre_7 == \"Romance\" |\n",
        "                                          genre_8 == \"Romance\" |\n",
        "                                          genre_9 == \"Romance\") %>%\n",
        "    summarise(romance_score= mean(score, na.rm = TRUE))\n",
        "print(romance_score)\n",
        "\n",
        "suspense_score <- genre_split %>% filter(genre_1 == \"Suspense\" |\n",
        "                                          genre_2 == \"Suspense\" |\n",
        "                                          genre_3 == \"Suspense\" |\n",
        "                                          genre_4 == \"Suspense\" |\n",
        "                                          genre_5 == \"Suspense\" |\n",
        "                                          genre_6 == \"Suspense\" |\n",
        "                                          genre_7 == \"Suspense\" |\n",
        "                                          genre_8 == \"Suspense\" |\n",
        "                                          genre_9 == \"Suspense\") %>%\n",
        "    summarise(suspense_score = mean(score, na.rm = TRUE))\n",
        "print(suspense_score)\n",
        "\n",
        "supernatural_score <- genre_split %>% filter(genre_1 == \"Supernatural\" |\n",
        "                                          genre_2 == \"Supernatural\" |\n",
        "                                          genre_3 == \"Supernatural\" |\n",
        "                                          genre_4 == \"Supernatural\" |\n",
        "                                          genre_5 == \"Supernatural\" |\n",
        "                                          genre_6 == \"Supernatural\" |\n",
        "                                          genre_7 == \"Supernatural\" |\n",
        "                                          genre_8 == \"Supernatural\" |\n",
        "                                          genre_9 == \"Supernatural\") %>%\n",
        "    summarise(supernatural_score = mean(score, na.rm = TRUE))\n",
        "print(supernatural_score)\n",
        "\n",
        "girls_love_score <- genre_split %>% filter(genre_1 == \"Girls Love\" |\n",
        "                                          genre_2 == \"Girls Love\" |\n",
        "                                          genre_3 == \"Girls Love\" |\n",
        "                                          genre_4 == \"Girls Love\" |\n",
        "                                          genre_5 == \"Girls Love\" |\n",
        "                                          genre_6 == \"Girls Love\" |\n",
        "                                          genre_7 == \"Girls Love\" |\n",
        "                                          genre_8 == \"Girls Love\" |\n",
        "                                          genre_9 == \"Girls Love\") %>%\n",
        "    summarise(girls_love_score = mean(score, na.rm = TRUE))\n",
        "print(girls_love_score)\n",
        "\n",
        "erotica_score <- genre_split %>% filter(genre_1 == \"Erotica\" |\n",
        "                                          genre_2 == \"Erotica\" |\n",
        "                                          genre_3 == \"Erotica\" |\n",
        "                                          genre_4 == \"Erotica\" |\n",
        "                                          genre_5 == \"Erotica\" |\n",
        "                                          genre_6 == \"Erotica\" |\n",
        "                                          genre_7 == \"Erotica\" |\n",
        "                                          genre_8 == \"Erotica\" |\n",
        "                                          genre_9 == \"Erotica\") %>%\n",
        "    summarise(erotica_score = mean(score, na.rm = TRUE))\n",
        "print(erotica_score)\n",
        "\n",
        "gourmet_score <- genre_split %>% filter(genre_1 == \"Gourmet\" |\n",
        "                                          genre_2 == \"Gourmet\" |\n",
        "                                          genre_3 == \"Gourmet\" |\n",
        "                                          genre_4 == \"Gourmet\" |\n",
        "                                          genre_5 == \"Gourmet\" |\n",
        "                                          genre_6 == \"Gourmet\" |\n",
        "                                          genre_7 == \"Gourmet\" |\n",
        "                                          genre_8 == \"Gourmet\" |\n",
        "                                          genre_9 == \"Gourmet\") %>%\n",
        "    summarise(gourmet_score = mean(score, na.rm = TRUE))\n",
        "print(gourmet_score)"
      ],
      "metadata": {
        "_kg_hide-input": true,
        "execution": {
          "iopub.status.busy": "2024-02-16T06:31:06.222063Z",
          "iopub.execute_input": "2024-02-16T06:31:06.223955Z",
          "iopub.status.idle": "2024-02-16T06:31:06.643148Z"
        },
        "trusted": true,
        "id": "-awNz8wup7GE",
        "outputId": "6c9883c8-275e-41bf-b456-9c22d39602d6"
      },
      "execution_count": null,
      "outputs": [
        {
          "name": "stdout",
          "text": "  action_score\n1     6.674112\n  adventure_score\n1        6.673997\n  sports_score\n1     6.722046\n  comedy_score\n1     6.522961\n  drama_score\n1    6.850645\n  avant_garde_score\n1          5.143932\n  award_winning_score\n1            7.296308\n  sci_fi_score\n1     6.563554\n  mystery_score\n1      6.995093\n  hentai_score\n1     6.065379\n  horror_score\n1     6.148137\n  boys_love_score\n1        6.500533\n  fantasy_score\n1      6.591243\n  ecchi_score\n1    6.431904\n  slice_of_life_score\n1            6.475667\n  romance_score\n1      6.804509\n  suspense_score\n1       6.962963\n  supernatural_score\n1             6.7446\n  girls_love_score\n1         6.591553\n  erotica_score\n1      6.124419\n  gourmet_score\n1      6.627664\n",
          "output_type": "stream"
        }
      ]
    },
    {
      "cell_type": "code",
      "source": [
        "# To make a new data frame to combine genre and its average score\n",
        "genre <- c(\"Action\", \"Adventure\", \"Sports\", \"Comedy\", \"Drama\", \"Avant Garde\", \"Award Winning\",\n",
        "          \"Sci-Fi\", \"Mystery\", \"Hentai\", \"Horror\", \"Boys Love\", \"Fantasy\", \"Ecchi\",\n",
        "          \"Slice of Life\", \"Romance\", \"Suspense\", \"Supernatural\", \"Girls Love\", \"Erotica\",\n",
        "          \"Gourmet\")\n",
        "\n",
        "avg_score <- c(6.674112, 6.673997, 6.722046, 6.522961, 6.850645, 5.143932, 7.296308,\n",
        "                  6.563554, 6.995093, 6.065379, 6.148137, 6.500533, 6.591243, 6.431904,\n",
        "                  6.475667, 6.804509, 6.962963, 6.7446, 6.591553, 6.124419, 6.627664)\n",
        "\n",
        "genre_score <- data.frame(genre, avg_score)\n",
        "genre_score[order(genre_score$avg_score, decreasing = TRUE), ]"
      ],
      "metadata": {
        "execution": {
          "iopub.status.busy": "2024-02-16T06:31:06.647122Z",
          "iopub.execute_input": "2024-02-16T06:31:06.648598Z",
          "iopub.status.idle": "2024-02-16T06:31:06.690455Z"
        },
        "trusted": true,
        "id": "ttumeGTLp7GE",
        "outputId": "9bb8504a-9164-468d-e23e-3b9dbd0919fa"
      },
      "execution_count": null,
      "outputs": [
        {
          "output_type": "display_data",
          "data": {
            "text/html": "<table class=\"dataframe\">\n<caption>A data.frame: 21 × 2</caption>\n<thead>\n\t<tr><th></th><th scope=col>genre</th><th scope=col>avg_score</th></tr>\n\t<tr><th></th><th scope=col>&lt;chr&gt;</th><th scope=col>&lt;dbl&gt;</th></tr>\n</thead>\n<tbody>\n\t<tr><th scope=row>7</th><td>Award Winning</td><td>7.296308</td></tr>\n\t<tr><th scope=row>9</th><td>Mystery      </td><td>6.995093</td></tr>\n\t<tr><th scope=row>17</th><td>Suspense     </td><td>6.962963</td></tr>\n\t<tr><th scope=row>5</th><td>Drama        </td><td>6.850645</td></tr>\n\t<tr><th scope=row>16</th><td>Romance      </td><td>6.804509</td></tr>\n\t<tr><th scope=row>18</th><td>Supernatural </td><td>6.744600</td></tr>\n\t<tr><th scope=row>3</th><td>Sports       </td><td>6.722046</td></tr>\n\t<tr><th scope=row>1</th><td>Action       </td><td>6.674112</td></tr>\n\t<tr><th scope=row>2</th><td>Adventure    </td><td>6.673997</td></tr>\n\t<tr><th scope=row>21</th><td>Gourmet      </td><td>6.627664</td></tr>\n\t<tr><th scope=row>19</th><td>Girls Love   </td><td>6.591553</td></tr>\n\t<tr><th scope=row>13</th><td>Fantasy      </td><td>6.591243</td></tr>\n\t<tr><th scope=row>8</th><td>Sci-Fi       </td><td>6.563554</td></tr>\n\t<tr><th scope=row>4</th><td>Comedy       </td><td>6.522961</td></tr>\n\t<tr><th scope=row>12</th><td>Boys Love    </td><td>6.500533</td></tr>\n\t<tr><th scope=row>15</th><td>Slice of Life</td><td>6.475667</td></tr>\n\t<tr><th scope=row>14</th><td>Ecchi        </td><td>6.431904</td></tr>\n\t<tr><th scope=row>11</th><td>Horror       </td><td>6.148137</td></tr>\n\t<tr><th scope=row>20</th><td>Erotica      </td><td>6.124419</td></tr>\n\t<tr><th scope=row>10</th><td>Hentai       </td><td>6.065379</td></tr>\n\t<tr><th scope=row>6</th><td>Avant Garde  </td><td>5.143932</td></tr>\n</tbody>\n</table>\n",
            "text/markdown": "\nA data.frame: 21 × 2\n\n| <!--/--> | genre &lt;chr&gt; | avg_score &lt;dbl&gt; |\n|---|---|---|\n| 7 | Award Winning | 7.296308 |\n| 9 | Mystery       | 6.995093 |\n| 17 | Suspense      | 6.962963 |\n| 5 | Drama         | 6.850645 |\n| 16 | Romance       | 6.804509 |\n| 18 | Supernatural  | 6.744600 |\n| 3 | Sports        | 6.722046 |\n| 1 | Action        | 6.674112 |\n| 2 | Adventure     | 6.673997 |\n| 21 | Gourmet       | 6.627664 |\n| 19 | Girls Love    | 6.591553 |\n| 13 | Fantasy       | 6.591243 |\n| 8 | Sci-Fi        | 6.563554 |\n| 4 | Comedy        | 6.522961 |\n| 12 | Boys Love     | 6.500533 |\n| 15 | Slice of Life | 6.475667 |\n| 14 | Ecchi         | 6.431904 |\n| 11 | Horror        | 6.148137 |\n| 20 | Erotica       | 6.124419 |\n| 10 | Hentai        | 6.065379 |\n| 6 | Avant Garde   | 5.143932 |\n\n",
            "text/latex": "A data.frame: 21 × 2\n\\begin{tabular}{r|ll}\n  & genre & avg\\_score\\\\\n  & <chr> & <dbl>\\\\\n\\hline\n\t7 & Award Winning & 7.296308\\\\\n\t9 & Mystery       & 6.995093\\\\\n\t17 & Suspense      & 6.962963\\\\\n\t5 & Drama         & 6.850645\\\\\n\t16 & Romance       & 6.804509\\\\\n\t18 & Supernatural  & 6.744600\\\\\n\t3 & Sports        & 6.722046\\\\\n\t1 & Action        & 6.674112\\\\\n\t2 & Adventure     & 6.673997\\\\\n\t21 & Gourmet       & 6.627664\\\\\n\t19 & Girls Love    & 6.591553\\\\\n\t13 & Fantasy       & 6.591243\\\\\n\t8 & Sci-Fi        & 6.563554\\\\\n\t4 & Comedy        & 6.522961\\\\\n\t12 & Boys Love     & 6.500533\\\\\n\t15 & Slice of Life & 6.475667\\\\\n\t14 & Ecchi         & 6.431904\\\\\n\t11 & Horror        & 6.148137\\\\\n\t20 & Erotica       & 6.124419\\\\\n\t10 & Hentai        & 6.065379\\\\\n\t6 & Avant Garde   & 5.143932\\\\\n\\end{tabular}\n",
            "text/plain": "   genre         avg_score\n7  Award Winning 7.296308 \n9  Mystery       6.995093 \n17 Suspense      6.962963 \n5  Drama         6.850645 \n16 Romance       6.804509 \n18 Supernatural  6.744600 \n3  Sports        6.722046 \n1  Action        6.674112 \n2  Adventure     6.673997 \n21 Gourmet       6.627664 \n19 Girls Love    6.591553 \n13 Fantasy       6.591243 \n8  Sci-Fi        6.563554 \n4  Comedy        6.522961 \n12 Boys Love     6.500533 \n15 Slice of Life 6.475667 \n14 Ecchi         6.431904 \n11 Horror        6.148137 \n20 Erotica       6.124419 \n10 Hentai        6.065379 \n6  Avant Garde   5.143932 "
          },
          "metadata": {}
        }
      ]
    },
    {
      "cell_type": "code",
      "source": [
        "# To combine the genre data frames\n",
        "genre_popularity_rank <- left_join(genre_popularity, genre_rank, by = \"genre\")\n",
        "genre_popularity_rank_favorites <- left_join(genre_popularity_rank, genre_favorites, by = \"genre\")\n",
        "genre_data <- left_join(genre_popularity_rank_favorites, genre_score, by = \"genre\")\n",
        "\n",
        "# To eliminate null values\n",
        "genre_data_nonull <- na.omit(genre_data)"
      ],
      "metadata": {
        "execution": {
          "iopub.status.busy": "2024-02-16T06:31:06.694279Z",
          "iopub.execute_input": "2024-02-16T06:31:06.696425Z",
          "iopub.status.idle": "2024-02-16T06:31:06.730838Z"
        },
        "trusted": true,
        "id": "OI88P9KIp7GE"
      },
      "execution_count": null,
      "outputs": []
    },
    {
      "cell_type": "code",
      "source": [
        "head(genre_data[order(genre_data$avg_popularity), ], n = 5)\n",
        "head(genre_data[order(genre_data$avg_rank), ], n = 5)\n",
        "head(genre_data[order(-genre_data$avg_favorites), ], n = 5)\n",
        "head(genre_data[order(-genre_data$avg_score), ], n = 5)"
      ],
      "metadata": {
        "execution": {
          "iopub.status.busy": "2024-02-16T06:31:06.735322Z",
          "iopub.execute_input": "2024-02-16T06:31:06.738005Z",
          "iopub.status.idle": "2024-02-16T06:31:06.854875Z"
        },
        "trusted": true,
        "id": "aAPhII4vp7GE",
        "outputId": "68f317ab-9d29-446e-fb12-76c2880fdbab"
      },
      "execution_count": null,
      "outputs": [
        {
          "output_type": "display_data",
          "data": {
            "text/html": "<table class=\"dataframe\">\n<caption>A data.frame: 5 × 5</caption>\n<thead>\n\t<tr><th></th><th scope=col>genre</th><th scope=col>avg_popularity</th><th scope=col>avg_rank</th><th scope=col>avg_favorites</th><th scope=col>avg_score</th></tr>\n\t<tr><th></th><th scope=col>&lt;chr&gt;</th><th scope=col>&lt;dbl&gt;</th><th scope=col>&lt;dbl&gt;</th><th scope=col>&lt;dbl&gt;</th><th scope=col>&lt;dbl&gt;</th></tr>\n</thead>\n<tbody>\n\t<tr><th scope=row>14</th><td>Ecchi        </td><td>4727.382</td><td>6678.866</td><td> 566.1321</td><td>6.431904</td></tr>\n\t<tr><th scope=row>19</th><td>Girls Love   </td><td>5042.858</td><td>5603.714</td><td> 377.4602</td><td>6.591553</td></tr>\n\t<tr><th scope=row>12</th><td>Boys Love    </td><td>5457.568</td><td>5915.357</td><td> 389.8284</td><td>6.500533</td></tr>\n\t<tr><th scope=row>16</th><td>Romance      </td><td>5964.152</td><td>5458.292</td><td>1050.9250</td><td>6.804509</td></tr>\n\t<tr><th scope=row>7</th><td>Award Winning</td><td>6090.544</td><td>4767.971</td><td>6284.4520</td><td>7.296308</td></tr>\n</tbody>\n</table>\n",
            "text/markdown": "\nA data.frame: 5 × 5\n\n| <!--/--> | genre &lt;chr&gt; | avg_popularity &lt;dbl&gt; | avg_rank &lt;dbl&gt; | avg_favorites &lt;dbl&gt; | avg_score &lt;dbl&gt; |\n|---|---|---|---|---|---|\n| 14 | Ecchi         | 4727.382 | 6678.866 |  566.1321 | 6.431904 |\n| 19 | Girls Love    | 5042.858 | 5603.714 |  377.4602 | 6.591553 |\n| 12 | Boys Love     | 5457.568 | 5915.357 |  389.8284 | 6.500533 |\n| 16 | Romance       | 5964.152 | 5458.292 | 1050.9250 | 6.804509 |\n| 7 | Award Winning | 6090.544 | 4767.971 | 6284.4520 | 7.296308 |\n\n",
            "text/latex": "A data.frame: 5 × 5\n\\begin{tabular}{r|lllll}\n  & genre & avg\\_popularity & avg\\_rank & avg\\_favorites & avg\\_score\\\\\n  & <chr> & <dbl> & <dbl> & <dbl> & <dbl>\\\\\n\\hline\n\t14 & Ecchi         & 4727.382 & 6678.866 &  566.1321 & 6.431904\\\\\n\t19 & Girls Love    & 5042.858 & 5603.714 &  377.4602 & 6.591553\\\\\n\t12 & Boys Love     & 5457.568 & 5915.357 &  389.8284 & 6.500533\\\\\n\t16 & Romance       & 5964.152 & 5458.292 & 1050.9250 & 6.804509\\\\\n\t7 & Award Winning & 6090.544 & 4767.971 & 6284.4520 & 7.296308\\\\\n\\end{tabular}\n",
            "text/plain": "   genre         avg_popularity avg_rank avg_favorites avg_score\n14 Ecchi         4727.382       6678.866  566.1321     6.431904 \n19 Girls Love    5042.858       5603.714  377.4602     6.591553 \n12 Boys Love     5457.568       5915.357  389.8284     6.500533 \n16 Romance       5964.152       5458.292 1050.9250     6.804509 \n7  Award Winning 6090.544       4767.971 6284.4520     7.296308 "
          },
          "metadata": {}
        },
        {
          "output_type": "display_data",
          "data": {
            "text/html": "<table class=\"dataframe\">\n<caption>A data.frame: 5 × 5</caption>\n<thead>\n\t<tr><th></th><th scope=col>genre</th><th scope=col>avg_popularity</th><th scope=col>avg_rank</th><th scope=col>avg_favorites</th><th scope=col>avg_score</th></tr>\n\t<tr><th></th><th scope=col>&lt;chr&gt;</th><th scope=col>&lt;dbl&gt;</th><th scope=col>&lt;dbl&gt;</th><th scope=col>&lt;dbl&gt;</th><th scope=col>&lt;dbl&gt;</th></tr>\n</thead>\n<tbody>\n\t<tr><th scope=row>7</th><td>Award Winning</td><td>6090.544</td><td>4767.971</td><td>6284.4520</td><td>7.296308</td></tr>\n\t<tr><th scope=row>9</th><td>Mystery      </td><td>6112.378</td><td>5311.503</td><td>1346.9220</td><td>6.995093</td></tr>\n\t<tr><th scope=row>16</th><td>Romance      </td><td>5964.152</td><td>5458.292</td><td>1050.9250</td><td>6.804509</td></tr>\n\t<tr><th scope=row>19</th><td>Girls Love   </td><td>5042.858</td><td>5603.714</td><td> 377.4602</td><td>6.591553</td></tr>\n\t<tr><th scope=row>12</th><td>Boys Love    </td><td>5457.568</td><td>5915.357</td><td> 389.8284</td><td>6.500533</td></tr>\n</tbody>\n</table>\n",
            "text/markdown": "\nA data.frame: 5 × 5\n\n| <!--/--> | genre &lt;chr&gt; | avg_popularity &lt;dbl&gt; | avg_rank &lt;dbl&gt; | avg_favorites &lt;dbl&gt; | avg_score &lt;dbl&gt; |\n|---|---|---|---|---|---|\n| 7 | Award Winning | 6090.544 | 4767.971 | 6284.4520 | 7.296308 |\n| 9 | Mystery       | 6112.378 | 5311.503 | 1346.9220 | 6.995093 |\n| 16 | Romance       | 5964.152 | 5458.292 | 1050.9250 | 6.804509 |\n| 19 | Girls Love    | 5042.858 | 5603.714 |  377.4602 | 6.591553 |\n| 12 | Boys Love     | 5457.568 | 5915.357 |  389.8284 | 6.500533 |\n\n",
            "text/latex": "A data.frame: 5 × 5\n\\begin{tabular}{r|lllll}\n  & genre & avg\\_popularity & avg\\_rank & avg\\_favorites & avg\\_score\\\\\n  & <chr> & <dbl> & <dbl> & <dbl> & <dbl>\\\\\n\\hline\n\t7 & Award Winning & 6090.544 & 4767.971 & 6284.4520 & 7.296308\\\\\n\t9 & Mystery       & 6112.378 & 5311.503 & 1346.9220 & 6.995093\\\\\n\t16 & Romance       & 5964.152 & 5458.292 & 1050.9250 & 6.804509\\\\\n\t19 & Girls Love    & 5042.858 & 5603.714 &  377.4602 & 6.591553\\\\\n\t12 & Boys Love     & 5457.568 & 5915.357 &  389.8284 & 6.500533\\\\\n\\end{tabular}\n",
            "text/plain": "   genre         avg_popularity avg_rank avg_favorites avg_score\n7  Award Winning 6090.544       4767.971 6284.4520     7.296308 \n9  Mystery       6112.378       5311.503 1346.9220     6.995093 \n16 Romance       5964.152       5458.292 1050.9250     6.804509 \n19 Girls Love    5042.858       5603.714  377.4602     6.591553 \n12 Boys Love     5457.568       5915.357  389.8284     6.500533 "
          },
          "metadata": {}
        },
        {
          "output_type": "display_data",
          "data": {
            "text/html": "<table class=\"dataframe\">\n<caption>A data.frame: 5 × 5</caption>\n<thead>\n\t<tr><th></th><th scope=col>genre</th><th scope=col>avg_popularity</th><th scope=col>avg_rank</th><th scope=col>avg_favorites</th><th scope=col>avg_score</th></tr>\n\t<tr><th></th><th scope=col>&lt;chr&gt;</th><th scope=col>&lt;dbl&gt;</th><th scope=col>&lt;dbl&gt;</th><th scope=col>&lt;dbl&gt;</th><th scope=col>&lt;dbl&gt;</th></tr>\n</thead>\n<tbody>\n\t<tr><th scope=row>7</th><td>Award Winning</td><td>6090.544</td><td>4767.971</td><td>6284.452</td><td>7.296308</td></tr>\n\t<tr><th scope=row>17</th><td>Suspense     </td><td>7024.041</td><td>6410.140</td><td>5371.942</td><td>6.962963</td></tr>\n\t<tr><th scope=row>18</th><td>Supernatural </td><td>7021.625</td><td>6411.690</td><td>1352.015</td><td>6.744600</td></tr>\n\t<tr><th scope=row>9</th><td>Mystery      </td><td>6112.378</td><td>5311.503</td><td>1346.922</td><td>6.995093</td></tr>\n\t<tr><th scope=row>5</th><td>Drama        </td><td>8555.042</td><td>7203.806</td><td>1336.110</td><td>6.850645</td></tr>\n</tbody>\n</table>\n",
            "text/markdown": "\nA data.frame: 5 × 5\n\n| <!--/--> | genre &lt;chr&gt; | avg_popularity &lt;dbl&gt; | avg_rank &lt;dbl&gt; | avg_favorites &lt;dbl&gt; | avg_score &lt;dbl&gt; |\n|---|---|---|---|---|---|\n| 7 | Award Winning | 6090.544 | 4767.971 | 6284.452 | 7.296308 |\n| 17 | Suspense      | 7024.041 | 6410.140 | 5371.942 | 6.962963 |\n| 18 | Supernatural  | 7021.625 | 6411.690 | 1352.015 | 6.744600 |\n| 9 | Mystery       | 6112.378 | 5311.503 | 1346.922 | 6.995093 |\n| 5 | Drama         | 8555.042 | 7203.806 | 1336.110 | 6.850645 |\n\n",
            "text/latex": "A data.frame: 5 × 5\n\\begin{tabular}{r|lllll}\n  & genre & avg\\_popularity & avg\\_rank & avg\\_favorites & avg\\_score\\\\\n  & <chr> & <dbl> & <dbl> & <dbl> & <dbl>\\\\\n\\hline\n\t7 & Award Winning & 6090.544 & 4767.971 & 6284.452 & 7.296308\\\\\n\t17 & Suspense      & 7024.041 & 6410.140 & 5371.942 & 6.962963\\\\\n\t18 & Supernatural  & 7021.625 & 6411.690 & 1352.015 & 6.744600\\\\\n\t9 & Mystery       & 6112.378 & 5311.503 & 1346.922 & 6.995093\\\\\n\t5 & Drama         & 8555.042 & 7203.806 & 1336.110 & 6.850645\\\\\n\\end{tabular}\n",
            "text/plain": "   genre         avg_popularity avg_rank avg_favorites avg_score\n7  Award Winning 6090.544       4767.971 6284.452      7.296308 \n17 Suspense      7024.041       6410.140 5371.942      6.962963 \n18 Supernatural  7021.625       6411.690 1352.015      6.744600 \n9  Mystery       6112.378       5311.503 1346.922      6.995093 \n5  Drama         8555.042       7203.806 1336.110      6.850645 "
          },
          "metadata": {}
        },
        {
          "output_type": "display_data",
          "data": {
            "text/html": "<table class=\"dataframe\">\n<caption>A data.frame: 5 × 5</caption>\n<thead>\n\t<tr><th></th><th scope=col>genre</th><th scope=col>avg_popularity</th><th scope=col>avg_rank</th><th scope=col>avg_favorites</th><th scope=col>avg_score</th></tr>\n\t<tr><th></th><th scope=col>&lt;chr&gt;</th><th scope=col>&lt;dbl&gt;</th><th scope=col>&lt;dbl&gt;</th><th scope=col>&lt;dbl&gt;</th><th scope=col>&lt;dbl&gt;</th></tr>\n</thead>\n<tbody>\n\t<tr><th scope=row>7</th><td>Award Winning</td><td>6090.544</td><td>4767.971</td><td>6284.452</td><td>7.296308</td></tr>\n\t<tr><th scope=row>9</th><td>Mystery      </td><td>6112.378</td><td>5311.503</td><td>1346.922</td><td>6.995093</td></tr>\n\t<tr><th scope=row>17</th><td>Suspense     </td><td>7024.041</td><td>6410.140</td><td>5371.942</td><td>6.962963</td></tr>\n\t<tr><th scope=row>5</th><td>Drama        </td><td>8555.042</td><td>7203.806</td><td>1336.110</td><td>6.850645</td></tr>\n\t<tr><th scope=row>16</th><td>Romance      </td><td>5964.152</td><td>5458.292</td><td>1050.925</td><td>6.804509</td></tr>\n</tbody>\n</table>\n",
            "text/markdown": "\nA data.frame: 5 × 5\n\n| <!--/--> | genre &lt;chr&gt; | avg_popularity &lt;dbl&gt; | avg_rank &lt;dbl&gt; | avg_favorites &lt;dbl&gt; | avg_score &lt;dbl&gt; |\n|---|---|---|---|---|---|\n| 7 | Award Winning | 6090.544 | 4767.971 | 6284.452 | 7.296308 |\n| 9 | Mystery       | 6112.378 | 5311.503 | 1346.922 | 6.995093 |\n| 17 | Suspense      | 7024.041 | 6410.140 | 5371.942 | 6.962963 |\n| 5 | Drama         | 8555.042 | 7203.806 | 1336.110 | 6.850645 |\n| 16 | Romance       | 5964.152 | 5458.292 | 1050.925 | 6.804509 |\n\n",
            "text/latex": "A data.frame: 5 × 5\n\\begin{tabular}{r|lllll}\n  & genre & avg\\_popularity & avg\\_rank & avg\\_favorites & avg\\_score\\\\\n  & <chr> & <dbl> & <dbl> & <dbl> & <dbl>\\\\\n\\hline\n\t7 & Award Winning & 6090.544 & 4767.971 & 6284.452 & 7.296308\\\\\n\t9 & Mystery       & 6112.378 & 5311.503 & 1346.922 & 6.995093\\\\\n\t17 & Suspense      & 7024.041 & 6410.140 & 5371.942 & 6.962963\\\\\n\t5 & Drama         & 8555.042 & 7203.806 & 1336.110 & 6.850645\\\\\n\t16 & Romance       & 5964.152 & 5458.292 & 1050.925 & 6.804509\\\\\n\\end{tabular}\n",
            "text/plain": "   genre         avg_popularity avg_rank avg_favorites avg_score\n7  Award Winning 6090.544       4767.971 6284.452      7.296308 \n9  Mystery       6112.378       5311.503 1346.922      6.995093 \n17 Suspense      7024.041       6410.140 5371.942      6.962963 \n5  Drama         8555.042       7203.806 1336.110      6.850645 \n16 Romance       5964.152       5458.292 1050.925      6.804509 "
          },
          "metadata": {}
        }
      ]
    },
    {
      "cell_type": "markdown",
      "source": [
        "The genre \"award-winning\" stands out with the highest number of favorites, top-ranking, and higher scores. Following closely are \"mystery\" and \"romance,\" which also score well across all popularity metrics. Subsequently, genres such as \"girls love,\" \"boys love,\" \"suspense,\" and \"drama\" rank high in at most two of the popularity metrics."
      ],
      "metadata": {
        "id": "LmjNgkuAp7GE"
      }
    },
    {
      "cell_type": "code",
      "source": [
        "# To get the correlation between the popularity metrics based on genre\n",
        "corrgenre <- cor(genre_data_nonull[, c(\"avg_popularity\", \"avg_rank\",\n",
        "                                      \"avg_favorites\", \"avg_score\")])\n",
        "\n",
        "corrplot(corrgenre, method = \"number\")"
      ],
      "metadata": {
        "execution": {
          "iopub.status.busy": "2024-02-16T06:31:06.858847Z",
          "iopub.execute_input": "2024-02-16T06:31:06.860322Z",
          "iopub.status.idle": "2024-02-16T06:31:06.989686Z"
        },
        "trusted": true,
        "id": "-62JswKcp7GE",
        "outputId": "e3fa7ce7-f743-43ae-f9eb-6210c0e75ed4"
      },
      "execution_count": null,
      "outputs": [
        {
          "output_type": "display_data",
          "data": {
            "image/png": "[encoded data removed]"
          },
          "metadata": {
            "image/png": {
              "width": 420,
              "height": 420
            }
          }
        }
      ]
    },
    {
      "cell_type": "markdown",
      "source": [
        "Regarding anime genre, the *rank* shows a strong correlation with *popularity* and *score*, while *popularity* and *score* exhibit a moderate relationship. *Favorites* demonstrate only a moderate connection with *score* and a weak relationship with the other two. *Score* displays a moderate to strong correlation with the other popularity metrics.\n",
        "\n",
        "This implies that top-ranked genres tend to be both popular and receive higher scores. Popular genres and those with the most favorites also tend to achieve higher scores. However, the most favorited genre doesn't necessarily guarantee popularity or a higher rank. Overall, the score of a genre influences its favoritism and ranking within the anime community."
      ],
      "metadata": {
        "id": "vSnkmWujp7GF"
      }
    },
    {
      "cell_type": "markdown",
      "source": [
        "#### Studios Analysis"
      ],
      "metadata": {
        "id": "rYkQc0Hwp7GF"
      }
    },
    {
      "cell_type": "markdown",
      "source": [
        "Calculating the average popularity and rank for studios may yield inaccurate results due to variations in the number of anime produced and their respective popularity and ranking. Some studios may have produced multiple anime with differing popularity and ranking, while others may have only one anime with higher popularity and ranking. Instead, a more accurate approach would be to identify the top 10 studios that have produced anime with the highest popularity and ranking."
      ],
      "metadata": {
        "id": "X9nt35AFp7GF"
      }
    },
    {
      "cell_type": "code",
      "source": [
        "popular_nozero <- anime_data_2023[anime_data_2023$popularity != 0, ]\n",
        "popular_ranked <- popular_nozero[order(popular_nozero$popularity, na.last = TRUE), ]\n",
        "\n",
        "popular_anime <- popular_ranked %>% select(\"popularity\", \"anime_id\", \"name\", \"studios\",)\n",
        "\n",
        "head(popular_anime, n = 20)"
      ],
      "metadata": {
        "execution": {
          "iopub.status.busy": "2024-02-16T06:31:06.994197Z",
          "iopub.execute_input": "2024-02-16T06:31:06.995984Z",
          "iopub.status.idle": "2024-02-16T06:31:07.073959Z"
        },
        "trusted": true,
        "id": "a6OHc9xcp7GF",
        "outputId": "52536cd0-dc87-4fdb-f734-5b20ea75df5c"
      },
      "execution_count": null,
      "outputs": [
        {
          "output_type": "display_data",
          "data": {
            "text/html": "<table class=\"dataframe\">\n<caption>A data.frame: 20 × 4</caption>\n<thead>\n\t<tr><th></th><th scope=col>popularity</th><th scope=col>anime_id</th><th scope=col>name</th><th scope=col>studios</th></tr>\n\t<tr><th></th><th scope=col>&lt;int&gt;</th><th scope=col>&lt;int&gt;</th><th scope=col>&lt;chr&gt;</th><th scope=col>&lt;chr&gt;</th></tr>\n</thead>\n<tbody>\n\t<tr><th scope=row>7429</th><td> 1</td><td>16498</td><td>Shingeki no Kyojin              </td><td>Wit Studio      </td></tr>\n\t<tr><th scope=row>1394</th><td> 2</td><td> 1535</td><td>Death Note                      </td><td>Madhouse        </td></tr>\n\t<tr><th scope=row>3962</th><td> 3</td><td> 5114</td><td>Fullmetal Alchemist: Brotherhood</td><td>Bones           </td></tr>\n\t<tr><th scope=row>10409</th><td> 4</td><td>30276</td><td>One Punch Man                   </td><td>Madhouse        </td></tr>\n\t<tr><th scope=row>6597</th><td> 5</td><td>11757</td><td>Sword Art Online                </td><td>A-1 Pictures    </td></tr>\n\t<tr><th scope=row>11135</th><td> 6</td><td>31964</td><td>Boku no Hero Academia           </td><td>Bones           </td></tr>\n\t<tr><th scope=row>14540</th><td> 7</td><td>38000</td><td>Kimetsu no Yaiba                </td><td>ufotable        </td></tr>\n\t<tr><th scope=row>11</th><td> 8</td><td>   20</td><td>Naruto                          </td><td>Pierrot         </td></tr>\n\t<tr><th scope=row>8620</th><td> 9</td><td>22319</td><td>Tokyo Ghoul                     </td><td>Pierrot         </td></tr>\n\t<tr><th scope=row>6457</th><td>10</td><td>11061</td><td>Hunter x Hunter (2011)          </td><td>Madhouse        </td></tr>\n\t<tr><th scope=row>11257</th><td>11</td><td>32281</td><td>Kimi no Na wa.                  </td><td>CoMix Wave Films</td></tr>\n\t<tr><th scope=row>9353</th><td>12</td><td>25777</td><td>Shingeki no Kyojin Season 2     </td><td>Wit Studio      </td></tr>\n\t<tr><th scope=row>5668</th><td>13</td><td> 9253</td><td>Steins;Gate                     </td><td>White Fox       </td></tr>\n\t<tr><th scope=row>11858</th><td>14</td><td>33486</td><td>Boku no Hero Academia 2nd Season</td><td>Bones           </td></tr>\n\t<tr><th scope=row>1575</th><td>15</td><td> 1735</td><td>Naruto: Shippuuden              </td><td>Pierrot         </td></tr>\n\t<tr><th scope=row>8125</th><td>16</td><td>19815</td><td>No Game No Life                 </td><td>Madhouse        </td></tr>\n\t<tr><th scope=row>16237</th><td>17</td><td>40748</td><td>Jujutsu Kaisen                  </td><td>MAPPA           </td></tr>\n\t<tr><th scope=row>13177</th><td>18</td><td>35760</td><td>Shingeki no Kyojin Season 3     </td><td>Wit Studio      </td></tr>\n\t<tr><th scope=row>9855</th><td>19</td><td>28851</td><td>Koe no Katachi                  </td><td>Kyoto Animation </td></tr>\n\t<tr><th scope=row>12</th><td>20</td><td>   21</td><td>One Piece                       </td><td>Toei Animation  </td></tr>\n</tbody>\n</table>\n",
            "text/markdown": "\nA data.frame: 20 × 4\n\n| <!--/--> | popularity &lt;int&gt; | anime_id &lt;int&gt; | name &lt;chr&gt; | studios &lt;chr&gt; |\n|---|---|---|---|---|\n| 7429 |  1 | 16498 | Shingeki no Kyojin               | Wit Studio       |\n| 1394 |  2 |  1535 | Death Note                       | Madhouse         |\n| 3962 |  3 |  5114 | Fullmetal Alchemist: Brotherhood | Bones            |\n| 10409 |  4 | 30276 | One Punch Man                    | Madhouse         |\n| 6597 |  5 | 11757 | Sword Art Online                 | A-1 Pictures     |\n| 11135 |  6 | 31964 | Boku no Hero Academia            | Bones            |\n| 14540 |  7 | 38000 | Kimetsu no Yaiba                 | ufotable         |\n| 11 |  8 |    20 | Naruto                           | Pierrot          |\n| 8620 |  9 | 22319 | Tokyo Ghoul                      | Pierrot          |\n| 6457 | 10 | 11061 | Hunter x Hunter (2011)           | Madhouse         |\n| 11257 | 11 | 32281 | Kimi no Na wa.                   | CoMix Wave Films |\n| 9353 | 12 | 25777 | Shingeki no Kyojin Season 2      | Wit Studio       |\n| 5668 | 13 |  9253 | Steins;Gate                      | White Fox        |\n| 11858 | 14 | 33486 | Boku no Hero Academia 2nd Season | Bones            |\n| 1575 | 15 |  1735 | Naruto: Shippuuden               | Pierrot          |\n| 8125 | 16 | 19815 | No Game No Life                  | Madhouse         |\n| 16237 | 17 | 40748 | Jujutsu Kaisen                   | MAPPA            |\n| 13177 | 18 | 35760 | Shingeki no Kyojin Season 3      | Wit Studio       |\n| 9855 | 19 | 28851 | Koe no Katachi                   | Kyoto Animation  |\n| 12 | 20 |    21 | One Piece                        | Toei Animation   |\n\n",
            "text/latex": "A data.frame: 20 × 4\n\\begin{tabular}{r|llll}\n  & popularity & anime\\_id & name & studios\\\\\n  & <int> & <int> & <chr> & <chr>\\\\\n\\hline\n\t7429 &  1 & 16498 & Shingeki no Kyojin               & Wit Studio      \\\\\n\t1394 &  2 &  1535 & Death Note                       & Madhouse        \\\\\n\t3962 &  3 &  5114 & Fullmetal Alchemist: Brotherhood & Bones           \\\\\n\t10409 &  4 & 30276 & One Punch Man                    & Madhouse        \\\\\n\t6597 &  5 & 11757 & Sword Art Online                 & A-1 Pictures    \\\\\n\t11135 &  6 & 31964 & Boku no Hero Academia            & Bones           \\\\\n\t14540 &  7 & 38000 & Kimetsu no Yaiba                 & ufotable        \\\\\n\t11 &  8 &    20 & Naruto                           & Pierrot         \\\\\n\t8620 &  9 & 22319 & Tokyo Ghoul                      & Pierrot         \\\\\n\t6457 & 10 & 11061 & Hunter x Hunter (2011)           & Madhouse        \\\\\n\t11257 & 11 & 32281 & Kimi no Na wa.                   & CoMix Wave Films\\\\\n\t9353 & 12 & 25777 & Shingeki no Kyojin Season 2      & Wit Studio      \\\\\n\t5668 & 13 &  9253 & Steins;Gate                      & White Fox       \\\\\n\t11858 & 14 & 33486 & Boku no Hero Academia 2nd Season & Bones           \\\\\n\t1575 & 15 &  1735 & Naruto: Shippuuden               & Pierrot         \\\\\n\t8125 & 16 & 19815 & No Game No Life                  & Madhouse        \\\\\n\t16237 & 17 & 40748 & Jujutsu Kaisen                   & MAPPA           \\\\\n\t13177 & 18 & 35760 & Shingeki no Kyojin Season 3      & Wit Studio      \\\\\n\t9855 & 19 & 28851 & Koe no Katachi                   & Kyoto Animation \\\\\n\t12 & 20 &    21 & One Piece                        & Toei Animation  \\\\\n\\end{tabular}\n",
            "text/plain": "      popularity anime_id name                             studios         \n7429   1         16498    Shingeki no Kyojin               Wit Studio      \n1394   2          1535    Death Note                       Madhouse        \n3962   3          5114    Fullmetal Alchemist: Brotherhood Bones           \n10409  4         30276    One Punch Man                    Madhouse        \n6597   5         11757    Sword Art Online                 A-1 Pictures    \n11135  6         31964    Boku no Hero Academia            Bones           \n14540  7         38000    Kimetsu no Yaiba                 ufotable        \n11     8            20    Naruto                           Pierrot         \n8620   9         22319    Tokyo Ghoul                      Pierrot         \n6457  10         11061    Hunter x Hunter (2011)           Madhouse        \n11257 11         32281    Kimi no Na wa.                   CoMix Wave Films\n9353  12         25777    Shingeki no Kyojin Season 2      Wit Studio      \n5668  13          9253    Steins;Gate                      White Fox       \n11858 14         33486    Boku no Hero Academia 2nd Season Bones           \n1575  15          1735    Naruto: Shippuuden               Pierrot         \n8125  16         19815    No Game No Life                  Madhouse        \n16237 17         40748    Jujutsu Kaisen                   MAPPA           \n13177 18         35760    Shingeki no Kyojin Season 3      Wit Studio      \n9855  19         28851    Koe no Katachi                   Kyoto Animation \n12    20            21    One Piece                        Toei Animation  "
          },
          "metadata": {}
        }
      ]
    },
    {
      "cell_type": "markdown",
      "source": [
        "The following is a list of the top 10 studios that have produced the most popular anime:\n",
        "1. Wit Studio\n",
        "2. Madhouse\n",
        "3. Bones\n",
        "4. A-1 Pictures\n",
        "5. ufotable\n",
        "6. Pierrot\n",
        "7. CoMix Wave Films\n",
        "8. White Fox\n",
        "9. MAPPA\n",
        "10. Kyoto Animation"
      ],
      "metadata": {
        "id": "f_pjtgHap7GF"
      }
    },
    {
      "cell_type": "code",
      "source": [
        "rank_nozero <- anime_data_2023[anime_data_2023$rank != 0, ]\n",
        "rank_ranked <- rank_nozero[order(rank_nozero$rank, na.last = TRUE), ]\n",
        "\n",
        "rank_anime <- rank_ranked %>% select(\"rank\", \"anime_id\", \"name\", \"studios\",)\n",
        "\n",
        "head(rank_anime, n = 20)"
      ],
      "metadata": {
        "execution": {
          "iopub.status.busy": "2024-02-16T06:31:07.078086Z",
          "iopub.execute_input": "2024-02-16T06:31:07.079681Z",
          "iopub.status.idle": "2024-02-16T06:31:07.219593Z"
        },
        "trusted": true,
        "id": "wmgQpJAkp7GF",
        "outputId": "37ad5443-f751-4deb-c0e9-ada73268daae"
      },
      "execution_count": null,
      "outputs": [
        {
          "output_type": "display_data",
          "data": {
            "text/html": "<table class=\"dataframe\">\n<caption>A data.frame: 20 × 4</caption>\n<thead>\n\t<tr><th></th><th scope=col>rank</th><th scope=col>anime_id</th><th scope=col>name</th><th scope=col>studios</th></tr>\n\t<tr><th></th><th scope=col>&lt;int&gt;</th><th scope=col>&lt;int&gt;</th><th scope=col>&lt;chr&gt;</th><th scope=col>&lt;chr&gt;</th></tr>\n</thead>\n<tbody>\n\t<tr><th scope=row>3962</th><td> 1</td><td> 5114</td><td>Fullmetal Alchemist: Brotherhood                   </td><td>Bones                              </td></tr>\n\t<tr><th scope=row>16618</th><td> 2</td><td>41467</td><td>Bleach: Sennen Kessen-hen                          </td><td>Pierrot                            </td></tr>\n\t<tr><th scope=row>5668</th><td> 3</td><td> 9253</td><td>Steins;Gate                                        </td><td>White Fox                          </td></tr>\n\t<tr><th scope=row>9881</th><td> 4</td><td>28977</td><td>Gintama°                                           </td><td>Bandai Namco Pictures              </td></tr>\n\t<tr><th scope=row>17573</th><td> 5</td><td>43608</td><td>Kaguya-sama wa Kokurasetai: Ultra Romantic         </td><td>A-1 Pictures                       </td></tr>\n\t<tr><th scope=row>14866</th><td> 6</td><td>38524</td><td>Shingeki no Kyojin Season 3 Part 2                 </td><td>Wit Studio                         </td></tr>\n\t<tr><th scope=row>22349</th><td> 7</td><td>51535</td><td>Shingeki no Kyojin: The Final Season - Kanketsu-hen</td><td>MAPPA                              </td></tr>\n\t<tr><th scope=row>5990</th><td> 8</td><td> 9969</td><td>Gintama'                                           </td><td>Sunrise                            </td></tr>\n\t<tr><th scope=row>15526</th><td> 9</td><td>39486</td><td>Gintama: The Final                                 </td><td>Bandai Namco Pictures              </td></tr>\n\t<tr><th scope=row>6457</th><td>10</td><td>11061</td><td>Hunter x Hunter (2011)                             </td><td>Madhouse                           </td></tr>\n\t<tr><th scope=row>7241</th><td>11</td><td>15417</td><td>Gintama': Enchousen                                </td><td>Sunrise                            </td></tr>\n\t<tr><th scope=row>742</th><td>12</td><td>  820</td><td>Ginga Eiyuu Densetsu                               </td><td>K-Factory, Kitty Film Mitaka Studio</td></tr>\n\t<tr><th scope=row>17217</th><td>13</td><td>42938</td><td>Fruits Basket: The Final                           </td><td>TMS Entertainment                  </td></tr>\n\t<tr><th scope=row>22623</th><td>14</td><td>52034</td><td>\"Oshi no Ko\"                                       </td><td>Doga Kobo                          </td></tr>\n\t<tr><th scope=row>12180</th><td>15</td><td>34096</td><td>Gintama.                                           </td><td>Bandai Namco Pictures              </td></tr>\n\t<tr><th scope=row>834</th><td>16</td><td>  918</td><td>Gintama                                            </td><td>Sunrise                            </td></tr>\n\t<tr><th scope=row>9855</th><td>17</td><td>28851</td><td>Koe no Katachi                                     </td><td>Kyoto Animation                    </td></tr>\n\t<tr><th scope=row>12830</th><td>18</td><td>35180</td><td>3-gatsu no Lion 2nd Season                         </td><td>Shaft                              </td></tr>\n\t<tr><th scope=row>3528</th><td>19</td><td> 4181</td><td>Clannad: After Story                               </td><td>Kyoto Animation                    </td></tr>\n\t<tr><th scope=row>2648</th><td>20</td><td> 2904</td><td>Code Geass: Hangyaku no Lelouch R2                 </td><td>Sunrise                            </td></tr>\n</tbody>\n</table>\n",
            "text/markdown": "\nA data.frame: 20 × 4\n\n| <!--/--> | rank &lt;int&gt; | anime_id &lt;int&gt; | name &lt;chr&gt; | studios &lt;chr&gt; |\n|---|---|---|---|---|\n| 3962 |  1 |  5114 | Fullmetal Alchemist: Brotherhood                    | Bones                               |\n| 16618 |  2 | 41467 | Bleach: Sennen Kessen-hen                           | Pierrot                             |\n| 5668 |  3 |  9253 | Steins;Gate                                         | White Fox                           |\n| 9881 |  4 | 28977 | Gintama°                                            | Bandai Namco Pictures               |\n| 17573 |  5 | 43608 | Kaguya-sama wa Kokurasetai: Ultra Romantic          | A-1 Pictures                        |\n| 14866 |  6 | 38524 | Shingeki no Kyojin Season 3 Part 2                  | Wit Studio                          |\n| 22349 |  7 | 51535 | Shingeki no Kyojin: The Final Season - Kanketsu-hen | MAPPA                               |\n| 5990 |  8 |  9969 | Gintama'                                            | Sunrise                             |\n| 15526 |  9 | 39486 | Gintama: The Final                                  | Bandai Namco Pictures               |\n| 6457 | 10 | 11061 | Hunter x Hunter (2011)                              | Madhouse                            |\n| 7241 | 11 | 15417 | Gintama': Enchousen                                 | Sunrise                             |\n| 742 | 12 |   820 | Ginga Eiyuu Densetsu                                | K-Factory, Kitty Film Mitaka Studio |\n| 17217 | 13 | 42938 | Fruits Basket: The Final                            | TMS Entertainment                   |\n| 22623 | 14 | 52034 | \"Oshi no Ko\"                                        | Doga Kobo                           |\n| 12180 | 15 | 34096 | Gintama.                                            | Bandai Namco Pictures               |\n| 834 | 16 |   918 | Gintama                                             | Sunrise                             |\n| 9855 | 17 | 28851 | Koe no Katachi                                      | Kyoto Animation                     |\n| 12830 | 18 | 35180 | 3-gatsu no Lion 2nd Season                          | Shaft                               |\n| 3528 | 19 |  4181 | Clannad: After Story                                | Kyoto Animation                     |\n| 2648 | 20 |  2904 | Code Geass: Hangyaku no Lelouch R2                  | Sunrise                             |\n\n",
            "text/latex": "A data.frame: 20 × 4\n\\begin{tabular}{r|llll}\n  & rank & anime\\_id & name & studios\\\\\n  & <int> & <int> & <chr> & <chr>\\\\\n\\hline\n\t3962 &  1 &  5114 & Fullmetal Alchemist: Brotherhood                    & Bones                              \\\\\n\t16618 &  2 & 41467 & Bleach: Sennen Kessen-hen                           & Pierrot                            \\\\\n\t5668 &  3 &  9253 & Steins;Gate                                         & White Fox                          \\\\\n\t9881 &  4 & 28977 & Gintama°                                            & Bandai Namco Pictures              \\\\\n\t17573 &  5 & 43608 & Kaguya-sama wa Kokurasetai: Ultra Romantic          & A-1 Pictures                       \\\\\n\t14866 &  6 & 38524 & Shingeki no Kyojin Season 3 Part 2                  & Wit Studio                         \\\\\n\t22349 &  7 & 51535 & Shingeki no Kyojin: The Final Season - Kanketsu-hen & MAPPA                              \\\\\n\t5990 &  8 &  9969 & Gintama'                                            & Sunrise                            \\\\\n\t15526 &  9 & 39486 & Gintama: The Final                                  & Bandai Namco Pictures              \\\\\n\t6457 & 10 & 11061 & Hunter x Hunter (2011)                              & Madhouse                           \\\\\n\t7241 & 11 & 15417 & Gintama': Enchousen                                 & Sunrise                            \\\\\n\t742 & 12 &   820 & Ginga Eiyuu Densetsu                                & K-Factory, Kitty Film Mitaka Studio\\\\\n\t17217 & 13 & 42938 & Fruits Basket: The Final                            & TMS Entertainment                  \\\\\n\t22623 & 14 & 52034 & \"Oshi no Ko\"                                        & Doga Kobo                          \\\\\n\t12180 & 15 & 34096 & Gintama.                                            & Bandai Namco Pictures              \\\\\n\t834 & 16 &   918 & Gintama                                             & Sunrise                            \\\\\n\t9855 & 17 & 28851 & Koe no Katachi                                      & Kyoto Animation                    \\\\\n\t12830 & 18 & 35180 & 3-gatsu no Lion 2nd Season                          & Shaft                              \\\\\n\t3528 & 19 &  4181 & Clannad: After Story                                & Kyoto Animation                    \\\\\n\t2648 & 20 &  2904 & Code Geass: Hangyaku no Lelouch R2                  & Sunrise                            \\\\\n\\end{tabular}\n",
            "text/plain": "      rank anime_id name                                               \n3962   1    5114    Fullmetal Alchemist: Brotherhood                   \n16618  2   41467    Bleach: Sennen Kessen-hen                          \n5668   3    9253    Steins;Gate                                        \n9881   4   28977    Gintama°                                           \n17573  5   43608    Kaguya-sama wa Kokurasetai: Ultra Romantic         \n14866  6   38524    Shingeki no Kyojin Season 3 Part 2                 \n22349  7   51535    Shingeki no Kyojin: The Final Season - Kanketsu-hen\n5990   8    9969    Gintama'                                           \n15526  9   39486    Gintama: The Final                                 \n6457  10   11061    Hunter x Hunter (2011)                             \n7241  11   15417    Gintama': Enchousen                                \n742   12     820    Ginga Eiyuu Densetsu                               \n17217 13   42938    Fruits Basket: The Final                           \n22623 14   52034    \"Oshi no Ko\"                                       \n12180 15   34096    Gintama.                                           \n834   16     918    Gintama                                            \n9855  17   28851    Koe no Katachi                                     \n12830 18   35180    3-gatsu no Lion 2nd Season                         \n3528  19    4181    Clannad: After Story                               \n2648  20    2904    Code Geass: Hangyaku no Lelouch R2                 \n      studios                            \n3962  Bones                              \n16618 Pierrot                            \n5668  White Fox                          \n9881  Bandai Namco Pictures              \n17573 A-1 Pictures                       \n14866 Wit Studio                         \n22349 MAPPA                              \n5990  Sunrise                            \n15526 Bandai Namco Pictures              \n6457  Madhouse                           \n7241  Sunrise                            \n742   K-Factory, Kitty Film Mitaka Studio\n17217 TMS Entertainment                  \n22623 Doga Kobo                          \n12180 Bandai Namco Pictures              \n834   Sunrise                            \n9855  Kyoto Animation                    \n12830 Shaft                              \n3528  Kyoto Animation                    \n2648  Sunrise                            "
          },
          "metadata": {}
        }
      ]
    },
    {
      "cell_type": "markdown",
      "source": [
        "The following is a list of the top 10 studios that have produced the top ranked anime:\n",
        "1. Bones\n",
        "2. Pierrot\n",
        "3. White Fox\n",
        "4. Bandai Namco Pictures\n",
        "5. A-1 Pictures\n",
        "6. Wit Studio\n",
        "7. MAPPA\n",
        "8. Sunrise\n",
        "9. Madhouse\n",
        "10. K-Factory, Kitty Film Mitaka Studio"
      ],
      "metadata": {
        "id": "YRWK9-k4p7GF"
      }
    },
    {
      "cell_type": "code",
      "source": [
        "# To separate studios\n",
        "studios_split <- separate(anime_data_2023, studios,\n",
        "                         c(\"studio_1\", \"studio_2\", \"studio_3\", \"studio_4\", \"studio_5\",\n",
        "                          \"studio_6\", \"studio_7\", \"studio_8\", \"studio_9\", \"studio_10\"),\n",
        "                          sep = \", \", fill = \"right\")\n",
        "head(studios_split)"
      ],
      "metadata": {
        "execution": {
          "iopub.status.busy": "2024-02-16T06:31:07.223618Z",
          "iopub.execute_input": "2024-02-16T06:31:07.225206Z",
          "iopub.status.idle": "2024-02-16T06:31:07.501988Z"
        },
        "trusted": true,
        "id": "1QXPdvcpp7GF",
        "outputId": "fdc00ec5-1057-4ba1-9039-457f8c792e8c"
      },
      "execution_count": null,
      "outputs": [
        {
          "output_type": "display_data",
          "data": {
            "text/html": "<table class=\"dataframe\">\n<caption>A data.frame: 6 × 29</caption>\n<thead>\n\t<tr><th></th><th scope=col>anime_id</th><th scope=col>name</th><th scope=col>english_name</th><th scope=col>other_name</th><th scope=col>score</th><th scope=col>genres</th><th scope=col>type</th><th scope=col>episodes</th><th scope=col>status</th><th scope=col>studio_1</th><th scope=col>⋯</th><th scope=col>source</th><th scope=col>duration</th><th scope=col>rating</th><th scope=col>rank</th><th scope=col>popularity</th><th scope=col>favorites</th><th scope=col>scored_by</th><th scope=col>members</th><th scope=col>image_url</th><th scope=col>users_rating</th></tr>\n\t<tr><th></th><th scope=col>&lt;int&gt;</th><th scope=col>&lt;chr&gt;</th><th scope=col>&lt;chr&gt;</th><th scope=col>&lt;chr&gt;</th><th scope=col>&lt;dbl&gt;</th><th scope=col>&lt;chr&gt;</th><th scope=col>&lt;chr&gt;</th><th scope=col>&lt;int&gt;</th><th scope=col>&lt;chr&gt;</th><th scope=col>&lt;chr&gt;</th><th scope=col>⋯</th><th scope=col>&lt;chr&gt;</th><th scope=col>&lt;chr&gt;</th><th scope=col>&lt;chr&gt;</th><th scope=col>&lt;int&gt;</th><th scope=col>&lt;int&gt;</th><th scope=col>&lt;int&gt;</th><th scope=col>&lt;int&gt;</th><th scope=col>&lt;int&gt;</th><th scope=col>&lt;chr&gt;</th><th scope=col>&lt;dbl&gt;</th></tr>\n</thead>\n<tbody>\n\t<tr><th scope=row>1</th><td> 1</td><td><span style=white-space:pre-wrap>Cowboy Bebop                   </span></td><td><span style=white-space:pre-wrap>Cowboy Bebop           </span></td><td><span style=white-space:pre-wrap>カウボーイビバップ                         </span></td><td>8.75</td><td><span style=white-space:pre-wrap>Action, Award Winning, Sci-Fi       </span></td><td><span style=white-space:pre-wrap>TV   </span></td><td> 26</td><td>Finished Airing</td><td><span style=white-space:pre-wrap>Sunrise       </span></td><td>⋯</td><td>Original</td><td>24 min per ep</td><td>R - 17+ (violence &amp; profanity)</td><td><span style=white-space:pre-wrap>  41</span></td><td><span style=white-space:pre-wrap>  43</span></td><td>78525</td><td>914193</td><td>1771505</td><td><span style=white-space:pre-wrap>https://cdn.myanimelist.net/images/anime/4/19644.jpg    </span></td><td>8.772673</td></tr>\n\t<tr><th scope=row>2</th><td> 5</td><td>Cowboy Bebop: Tengoku no Tobira</td><td>Cowboy Bebop: The Movie</td><td><span style=white-space:pre-wrap>カウボーイビバップ 天国の扉                </span></td><td>8.38</td><td><span style=white-space:pre-wrap>Action, Sci-Fi                      </span></td><td>Movie</td><td><span style=white-space:pre-wrap>  1</span></td><td>Finished Airing</td><td><span style=white-space:pre-wrap>Bones         </span></td><td>⋯</td><td>Original</td><td><span style=white-space:pre-wrap>1 hr 55 min  </span></td><td>R - 17+ (violence &amp; profanity)</td><td> 189</td><td> 602</td><td> 1448</td><td>206248</td><td> 360978</td><td>https://cdn.myanimelist.net/images/anime/1439/93480.jpg </td><td>8.378287</td></tr>\n\t<tr><th scope=row>3</th><td> 6</td><td>Trigun                         </td><td>Trigun                 </td><td>トライガン                                 </td><td>8.22</td><td>Action, Adventure, Sci-Fi           </td><td>TV   </td><td> 26</td><td>Finished Airing</td><td>Madhouse      </td><td>⋯</td><td>Manga   </td><td>24 min per ep</td><td>PG-13 - Teens 13 or older     </td><td> 328</td><td> 246</td><td>15035</td><td>356739</td><td> 727252</td><td>https://cdn.myanimelist.net/images/anime/7/20310.jpg    </td><td>8.296920</td></tr>\n\t<tr><th scope=row>4</th><td> 7</td><td>Witch Hunter Robin             </td><td>Witch Hunter Robin     </td><td>Witch Hunter ROBIN (ウイッチハンターロビン)</td><td>7.25</td><td>Action, Drama, Mystery, Supernatural</td><td>TV   </td><td> 26</td><td>Finished Airing</td><td>Sunrise       </td><td>⋯</td><td>Original</td><td>25 min per ep</td><td>PG-13 - Teens 13 or older     </td><td>2764</td><td>1795</td><td>  613</td><td> 42829</td><td> 111931</td><td>https://cdn.myanimelist.net/images/anime/10/19969.jpg   </td><td>7.377905</td></tr>\n\t<tr><th scope=row>5</th><td> 8</td><td>Bouken Ou Beet                 </td><td>Beet the Vandel Buster </td><td>冒険王ビィト                               </td><td>6.94</td><td>Adventure, Fantasy, Supernatural    </td><td>TV   </td><td> 52</td><td>Finished Airing</td><td>Toei Animation</td><td>⋯</td><td>Manga   </td><td>23 min per ep</td><td>PG - Children                 </td><td>4240</td><td>5126</td><td>   14</td><td>  6413</td><td>  15001</td><td>https://cdn.myanimelist.net/images/anime/7/21569.jpg    </td><td>7.015062</td></tr>\n\t<tr><th scope=row>6</th><td>15</td><td>Eyeshield 21                   </td><td>NA                     </td><td>アイシールド21                             </td><td>7.92</td><td>Sports                              </td><td>TV   </td><td>145</td><td>Finished Airing</td><td>Gallop        </td><td>⋯</td><td>Manga   </td><td>23 min per ep</td><td>PG-13 - Teens 13 or older     </td><td> 688</td><td>1252</td><td> 1997</td><td> 86524</td><td> 177688</td><td>https://cdn.myanimelist.net/images/anime/1079/133529.jpg</td><td>7.980910</td></tr>\n</tbody>\n</table>\n",
            "text/markdown": "\nA data.frame: 6 × 29\n\n| <!--/--> | anime_id &lt;int&gt; | name &lt;chr&gt; | english_name &lt;chr&gt; | other_name &lt;chr&gt; | score &lt;dbl&gt; | genres &lt;chr&gt; | type &lt;chr&gt; | episodes &lt;int&gt; | status &lt;chr&gt; | studio_1 &lt;chr&gt; | ⋯ ⋯ | source &lt;chr&gt; | duration &lt;chr&gt; | rating &lt;chr&gt; | rank &lt;int&gt; | popularity &lt;int&gt; | favorites &lt;int&gt; | scored_by &lt;int&gt; | members &lt;int&gt; | image_url &lt;chr&gt; | users_rating &lt;dbl&gt; |\n|---|---|---|---|---|---|---|---|---|---|---|---|---|---|---|---|---|---|---|---|---|---|\n| 1 |  1 | Cowboy Bebop                    | Cowboy Bebop            | カウボーイビバップ                          | 8.75 | Action, Award Winning, Sci-Fi        | TV    |  26 | Finished Airing | Sunrise        | ⋯ | Original | 24 min per ep | R - 17+ (violence &amp; profanity) |   41 |   43 | 78525 | 914193 | 1771505 | https://cdn.myanimelist.net/images/anime/4/19644.jpg     | 8.772673 |\n| 2 |  5 | Cowboy Bebop: Tengoku no Tobira | Cowboy Bebop: The Movie | カウボーイビバップ 天国の扉                 | 8.38 | Action, Sci-Fi                       | Movie |   1 | Finished Airing | Bones          | ⋯ | Original | 1 hr 55 min   | R - 17+ (violence &amp; profanity) |  189 |  602 |  1448 | 206248 |  360978 | https://cdn.myanimelist.net/images/anime/1439/93480.jpg  | 8.378287 |\n| 3 |  6 | Trigun                          | Trigun                  | トライガン                                  | 8.22 | Action, Adventure, Sci-Fi            | TV    |  26 | Finished Airing | Madhouse       | ⋯ | Manga    | 24 min per ep | PG-13 - Teens 13 or older      |  328 |  246 | 15035 | 356739 |  727252 | https://cdn.myanimelist.net/images/anime/7/20310.jpg     | 8.296920 |\n| 4 |  7 | Witch Hunter Robin              | Witch Hunter Robin      | Witch Hunter ROBIN (ウイッチハンターロビン) | 7.25 | Action, Drama, Mystery, Supernatural | TV    |  26 | Finished Airing | Sunrise        | ⋯ | Original | 25 min per ep | PG-13 - Teens 13 or older      | 2764 | 1795 |   613 |  42829 |  111931 | https://cdn.myanimelist.net/images/anime/10/19969.jpg    | 7.377905 |\n| 5 |  8 | Bouken Ou Beet                  | Beet the Vandel Buster  | 冒険王ビィト                                | 6.94 | Adventure, Fantasy, Supernatural     | TV    |  52 | Finished Airing | Toei Animation | ⋯ | Manga    | 23 min per ep | PG - Children                  | 4240 | 5126 |    14 |   6413 |   15001 | https://cdn.myanimelist.net/images/anime/7/21569.jpg     | 7.015062 |\n| 6 | 15 | Eyeshield 21                    | NA                      | アイシールド21                              | 7.92 | Sports                               | TV    | 145 | Finished Airing | Gallop         | ⋯ | Manga    | 23 min per ep | PG-13 - Teens 13 or older      |  688 | 1252 |  1997 |  86524 |  177688 | https://cdn.myanimelist.net/images/anime/1079/133529.jpg | 7.980910 |\n\n",
            "text/latex": "A data.frame: 6 × 29\n\\begin{tabular}{r|lllllllllllllllllllll}\n  & anime\\_id & name & english\\_name & other\\_name & score & genres & type & episodes & status & studio\\_1 & ⋯ & source & duration & rating & rank & popularity & favorites & scored\\_by & members & image\\_url & users\\_rating\\\\\n  & <int> & <chr> & <chr> & <chr> & <dbl> & <chr> & <chr> & <int> & <chr> & <chr> & ⋯ & <chr> & <chr> & <chr> & <int> & <int> & <int> & <int> & <int> & <chr> & <dbl>\\\\\n\\hline\n\t1 &  1 & Cowboy Bebop                    & Cowboy Bebop            & カウボーイビバップ                          & 8.75 & Action, Award Winning, Sci-Fi        & TV    &  26 & Finished Airing & Sunrise        & ⋯ & Original & 24 min per ep & R - 17+ (violence \\& profanity) &   41 &   43 & 78525 & 914193 & 1771505 & https://cdn.myanimelist.net/images/anime/4/19644.jpg     & 8.772673\\\\\n\t2 &  5 & Cowboy Bebop: Tengoku no Tobira & Cowboy Bebop: The Movie & カウボーイビバップ 天国の扉                 & 8.38 & Action, Sci-Fi                       & Movie &   1 & Finished Airing & Bones          & ⋯ & Original & 1 hr 55 min   & R - 17+ (violence \\& profanity) &  189 &  602 &  1448 & 206248 &  360978 & https://cdn.myanimelist.net/images/anime/1439/93480.jpg  & 8.378287\\\\\n\t3 &  6 & Trigun                          & Trigun                  & トライガン                                  & 8.22 & Action, Adventure, Sci-Fi            & TV    &  26 & Finished Airing & Madhouse       & ⋯ & Manga    & 24 min per ep & PG-13 - Teens 13 or older      &  328 &  246 & 15035 & 356739 &  727252 & https://cdn.myanimelist.net/images/anime/7/20310.jpg     & 8.296920\\\\\n\t4 &  7 & Witch Hunter Robin              & Witch Hunter Robin      & Witch Hunter ROBIN (ウイッチハンターロビン) & 7.25 & Action, Drama, Mystery, Supernatural & TV    &  26 & Finished Airing & Sunrise        & ⋯ & Original & 25 min per ep & PG-13 - Teens 13 or older      & 2764 & 1795 &   613 &  42829 &  111931 & https://cdn.myanimelist.net/images/anime/10/19969.jpg    & 7.377905\\\\\n\t5 &  8 & Bouken Ou Beet                  & Beet the Vandel Buster  & 冒険王ビィト                                & 6.94 & Adventure, Fantasy, Supernatural     & TV    &  52 & Finished Airing & Toei Animation & ⋯ & Manga    & 23 min per ep & PG - Children                  & 4240 & 5126 &    14 &   6413 &   15001 & https://cdn.myanimelist.net/images/anime/7/21569.jpg     & 7.015062\\\\\n\t6 & 15 & Eyeshield 21                    & NA                      & アイシールド21                              & 7.92 & Sports                               & TV    & 145 & Finished Airing & Gallop         & ⋯ & Manga    & 23 min per ep & PG-13 - Teens 13 or older      &  688 & 1252 &  1997 &  86524 &  177688 & https://cdn.myanimelist.net/images/anime/1079/133529.jpg & 7.980910\\\\\n\\end{tabular}\n",
            "text/plain": "  anime_id name                            english_name           \n1  1       Cowboy Bebop                    Cowboy Bebop           \n2  5       Cowboy Bebop: Tengoku no Tobira Cowboy Bebop: The Movie\n3  6       Trigun                          Trigun                 \n4  7       Witch Hunter Robin              Witch Hunter Robin     \n5  8       Bouken Ou Beet                  Beet the Vandel Buster \n6 15       Eyeshield 21                    NA                     \n  other_name                                  score\n1 カウボーイビバップ                          8.75 \n2 カウボーイビバップ 天国の扉                 8.38 \n3 トライガン                                  8.22 \n4 Witch Hunter ROBIN (ウイッチハンターロビン) 7.25 \n5 冒険王ビィト                                6.94 \n6 アイシールド21                              7.92 \n  genres                               type  episodes status         \n1 Action, Award Winning, Sci-Fi        TV     26      Finished Airing\n2 Action, Sci-Fi                       Movie   1      Finished Airing\n3 Action, Adventure, Sci-Fi            TV     26      Finished Airing\n4 Action, Drama, Mystery, Supernatural TV     26      Finished Airing\n5 Adventure, Fantasy, Supernatural     TV     52      Finished Airing\n6 Sports                               TV    145      Finished Airing\n  studio_1       ⋯ source   duration      rating                         rank\n1 Sunrise        ⋯ Original 24 min per ep R - 17+ (violence & profanity)   41\n2 Bones          ⋯ Original 1 hr 55 min   R - 17+ (violence & profanity)  189\n3 Madhouse       ⋯ Manga    24 min per ep PG-13 - Teens 13 or older       328\n4 Sunrise        ⋯ Original 25 min per ep PG-13 - Teens 13 or older      2764\n5 Toei Animation ⋯ Manga    23 min per ep PG - Children                  4240\n6 Gallop         ⋯ Manga    23 min per ep PG-13 - Teens 13 or older       688\n  popularity favorites scored_by members\n1   43       78525     914193    1771505\n2  602        1448     206248     360978\n3  246       15035     356739     727252\n4 1795         613      42829     111931\n5 5126          14       6413      15001\n6 1252        1997      86524     177688\n  image_url                                                users_rating\n1 https://cdn.myanimelist.net/images/anime/4/19644.jpg     8.772673    \n2 https://cdn.myanimelist.net/images/anime/1439/93480.jpg  8.378287    \n3 https://cdn.myanimelist.net/images/anime/7/20310.jpg     8.296920    \n4 https://cdn.myanimelist.net/images/anime/10/19969.jpg    7.377905    \n5 https://cdn.myanimelist.net/images/anime/7/21569.jpg     7.015062    \n6 https://cdn.myanimelist.net/images/anime/1079/133529.jpg 7.980910    "
          },
          "metadata": {}
        }
      ]
    },
    {
      "cell_type": "code",
      "source": [
        "# To get the most favorited studios\n",
        "# studio_1\n",
        "studios1_favorites <- studios_split %>% group_by(studio_1) %>%\n",
        "    summarise(studio1_favorites = mean(favorites, na.rm = TRUE))\n",
        "\n",
        "studios1_favorites <- rename(studios1_favorites, studio = studio_1)\n",
        "\n",
        "# studio_2\n",
        "studios2_favorites <- studios_split %>% group_by(studio_2) %>%\n",
        "    summarise(studio2_favorites = mean(favorites, na.rm = TRUE))\n",
        "\n",
        "studios2_favorites <- rename(studios2_favorites, studio = studio_2)\n",
        "\n",
        "# studio_3\n",
        "studios3_favorites <- studios_split %>% group_by(studio_3) %>%\n",
        "    summarise(studio3_favorites = mean(favorites, na.rm = TRUE))\n",
        "\n",
        "studios3_favorites <- rename(studios3_favorites, studio = studio_3)\n",
        "\n",
        "#studio_4\n",
        "studios4_favorites <- studios_split %>% group_by(studio_4) %>%\n",
        "    summarise(studio4_favorites = mean(favorites, na.rm = TRUE))\n",
        "\n",
        "studios4_favorites <- rename(studios4_favorites, studio = studio_4)\n",
        "\n",
        "# studio_5\n",
        "studios5_favorites <- studios_split %>% group_by(studio_5) %>%\n",
        "    summarise(studio5_favorites = mean(favorites, na.rm = TRUE))\n",
        "\n",
        "studios5_favorites <- rename(studios5_favorites, studio = studio_5)\n",
        "\n",
        "# studio_6\n",
        "studios6_favorites <- studios_split %>% group_by(studio_6) %>%\n",
        "    summarise(studio6_favorites = mean(favorites, na.rm = TRUE))\n",
        "\n",
        "studios6_favorites <- rename(studios6_favorites, studio = studio_6)\n",
        "\n",
        "# studio_7\n",
        "studios7_favorites <- studios_split %>% group_by(studio_7) %>%\n",
        "    summarise(studio7_favorites = mean(favorites, na.rm = TRUE))\n",
        "\n",
        "studios7_favorites <- rename(studios7_favorites, studio = studio_7)\n",
        "\n",
        "# studio_8\n",
        "studios8_favorites <- studios_split %>% group_by(studio_8) %>%\n",
        "    summarise(studio8_favorites = mean(favorites, na.rm = TRUE))\n",
        "\n",
        "studios8_favorites <- rename(studios8_favorites, studio = studio_8)\n",
        "\n",
        "# studio_9\n",
        "studios9_favorites <- studios_split %>% group_by(studio_9) %>%\n",
        "    summarise(studio9_favorites = mean(favorites, na.rm = TRUE))\n",
        "\n",
        "studios9_favorites <- rename(studios9_favorites, studio = studio_9)\n",
        "\n",
        "# studio_10\n",
        "studios10_favorites <- studios_split %>% group_by(studio_10) %>%\n",
        "    summarise(studio10_favorites = mean(favorites, na.rm = TRUE))\n",
        "\n",
        "studios10_favorites <- rename(studios10_favorites, studio = studio_10)\n",
        "\n",
        "# To combine studios data frames\n",
        "studios12_favorites <- left_join(studios1_favorites, studios2_favorites, by = \"studio\")\n",
        "studios123_favorites <- left_join(studios12_favorites, studios3_favorites, by = \"studio\")\n",
        "studios1234_favorites <- left_join(studios123_favorites, studios4_favorites, by = \"studio\")\n",
        "studios12345_favorites <- left_join(studios1234_favorites, studios5_favorites, by = \"studio\")\n",
        "studios123456_favorites <- left_join(studios12345_favorites, studios6_favorites, by = \"studio\")\n",
        "studios1234567_favorites <- left_join(studios123456_favorites, studios7_favorites, by = \"studio\")\n",
        "studios12345678_favorites <- left_join(studios1234567_favorites, studios8_favorites, by = \"studio\")\n",
        "studios123456789_favorites <- left_join(studios12345678_favorites, studios9_favorites, by = \"studio\")\n",
        "studios_favorites <- left_join(studios123456789_favorites, studios10_favorites, by = \"studio\")\n",
        "\n",
        "head(studios_favorites)"
      ],
      "metadata": {
        "_kg_hide-input": true,
        "execution": {
          "iopub.status.busy": "2024-02-16T06:31:07.505986Z",
          "iopub.execute_input": "2024-02-16T06:31:07.507446Z",
          "iopub.status.idle": "2024-02-16T06:31:07.894374Z"
        },
        "trusted": true,
        "id": "8-_ePtWWp7GF",
        "outputId": "a9ea0541-a7e0-4e2c-aa94-f95273546742"
      },
      "execution_count": null,
      "outputs": [
        {
          "output_type": "display_data",
          "data": {
            "text/html": "<table class=\"dataframe\">\n<caption>A tibble: 6 × 11</caption>\n<thead>\n\t<tr><th scope=col>studio</th><th scope=col>studio1_favorites</th><th scope=col>studio2_favorites</th><th scope=col>studio3_favorites</th><th scope=col>studio4_favorites</th><th scope=col>studio5_favorites</th><th scope=col>studio6_favorites</th><th scope=col>studio7_favorites</th><th scope=col>studio8_favorites</th><th scope=col>studio9_favorites</th><th scope=col>studio10_favorites</th></tr>\n\t<tr><th scope=col>&lt;chr&gt;</th><th scope=col>&lt;dbl&gt;</th><th scope=col>&lt;dbl&gt;</th><th scope=col>&lt;dbl&gt;</th><th scope=col>&lt;dbl&gt;</th><th scope=col>&lt;dbl&gt;</th><th scope=col>&lt;dbl&gt;</th><th scope=col>&lt;dbl&gt;</th><th scope=col>&lt;dbl&gt;</th><th scope=col>&lt;dbl&gt;</th><th scope=col>&lt;dbl&gt;</th></tr>\n</thead>\n<tbody>\n\t<tr><td>10Gauge          </td><td>8.000000</td><td> 8</td><td>NA</td><td>NA</td><td>NA</td><td>NA</td><td>NA</td><td>NA</td><td>NA</td><td>NA</td></tr>\n\t<tr><td>1IN              </td><td>0.000000</td><td>NA</td><td>NA</td><td>NA</td><td>NA</td><td>NA</td><td>NA</td><td>NA</td><td>NA</td><td>NA</td></tr>\n\t<tr><td>2:10 AM Animation</td><td>9.222222</td><td>NA</td><td>NA</td><td>NA</td><td>NA</td><td>NA</td><td>NA</td><td>NA</td><td>NA</td><td>NA</td></tr>\n\t<tr><td>33 Collective    </td><td>0.000000</td><td>NA</td><td>NA</td><td>NA</td><td>NA</td><td>NA</td><td>NA</td><td>NA</td><td>NA</td><td>NA</td></tr>\n\t<tr><td>5 Inc.           </td><td>5.000000</td><td>14</td><td>NA</td><td>NA</td><td>NA</td><td>NA</td><td>NA</td><td>NA</td><td>NA</td><td>NA</td></tr>\n\t<tr><td>6pucks           </td><td>0.000000</td><td>NA</td><td>NA</td><td>NA</td><td>NA</td><td>NA</td><td>NA</td><td>NA</td><td>NA</td><td>NA</td></tr>\n</tbody>\n</table>\n",
            "text/markdown": "\nA tibble: 6 × 11\n\n| studio &lt;chr&gt; | studio1_favorites &lt;dbl&gt; | studio2_favorites &lt;dbl&gt; | studio3_favorites &lt;dbl&gt; | studio4_favorites &lt;dbl&gt; | studio5_favorites &lt;dbl&gt; | studio6_favorites &lt;dbl&gt; | studio7_favorites &lt;dbl&gt; | studio8_favorites &lt;dbl&gt; | studio9_favorites &lt;dbl&gt; | studio10_favorites &lt;dbl&gt; |\n|---|---|---|---|---|---|---|---|---|---|---|\n| 10Gauge           | 8.000000 |  8 | NA | NA | NA | NA | NA | NA | NA | NA |\n| 1IN               | 0.000000 | NA | NA | NA | NA | NA | NA | NA | NA | NA |\n| 2:10 AM Animation | 9.222222 | NA | NA | NA | NA | NA | NA | NA | NA | NA |\n| 33 Collective     | 0.000000 | NA | NA | NA | NA | NA | NA | NA | NA | NA |\n| 5 Inc.            | 5.000000 | 14 | NA | NA | NA | NA | NA | NA | NA | NA |\n| 6pucks            | 0.000000 | NA | NA | NA | NA | NA | NA | NA | NA | NA |\n\n",
            "text/latex": "A tibble: 6 × 11\n\\begin{tabular}{lllllllllll}\n studio & studio1\\_favorites & studio2\\_favorites & studio3\\_favorites & studio4\\_favorites & studio5\\_favorites & studio6\\_favorites & studio7\\_favorites & studio8\\_favorites & studio9\\_favorites & studio10\\_favorites\\\\\n <chr> & <dbl> & <dbl> & <dbl> & <dbl> & <dbl> & <dbl> & <dbl> & <dbl> & <dbl> & <dbl>\\\\\n\\hline\n\t 10Gauge           & 8.000000 &  8 & NA & NA & NA & NA & NA & NA & NA & NA\\\\\n\t 1IN               & 0.000000 & NA & NA & NA & NA & NA & NA & NA & NA & NA\\\\\n\t 2:10 AM Animation & 9.222222 & NA & NA & NA & NA & NA & NA & NA & NA & NA\\\\\n\t 33 Collective     & 0.000000 & NA & NA & NA & NA & NA & NA & NA & NA & NA\\\\\n\t 5 Inc.            & 5.000000 & 14 & NA & NA & NA & NA & NA & NA & NA & NA\\\\\n\t 6pucks            & 0.000000 & NA & NA & NA & NA & NA & NA & NA & NA & NA\\\\\n\\end{tabular}\n",
            "text/plain": "  studio            studio1_favorites studio2_favorites studio3_favorites\n1 10Gauge           8.000000           8                NA               \n2 1IN               0.000000          NA                NA               \n3 2:10 AM Animation 9.222222          NA                NA               \n4 33 Collective     0.000000          NA                NA               \n5 5 Inc.            5.000000          14                NA               \n6 6pucks            0.000000          NA                NA               \n  studio4_favorites studio5_favorites studio6_favorites studio7_favorites\n1 NA                NA                NA                NA               \n2 NA                NA                NA                NA               \n3 NA                NA                NA                NA               \n4 NA                NA                NA                NA               \n5 NA                NA                NA                NA               \n6 NA                NA                NA                NA               \n  studio8_favorites studio9_favorites studio10_favorites\n1 NA                NA                NA                \n2 NA                NA                NA                \n3 NA                NA                NA                \n4 NA                NA                NA                \n5 NA                NA                NA                \n6 NA                NA                NA                "
          },
          "metadata": {}
        }
      ]
    },
    {
      "cell_type": "code",
      "source": [
        "# To get the most favorited for all studios\n",
        "studio_favorites_columns <- c(\"studio1_favorites\", \"studio2_favorites\", \"studio3_favorites\",\n",
        "                               \"studio4_favorites\", \"studio5_favorites\", \"studio6_favorites\",\n",
        "                               \"studio7_favorites\", \"studio8_favorites\", \"studio9_favorites\",\n",
        "                               \"studio10_favorites\")\n",
        "\n",
        "# Calculate the average favorites across studios for each row\n",
        "studios_favorites$avg_favorites <- rowMeans(studios_favorites[, studio_favorites_columns],\n",
        "                                                     na.rm = TRUE)\n",
        "\n",
        "head(studios_favorites)"
      ],
      "metadata": {
        "execution": {
          "iopub.status.busy": "2024-02-16T06:31:07.898274Z",
          "iopub.execute_input": "2024-02-16T06:31:07.899736Z",
          "iopub.status.idle": "2024-02-16T06:31:07.948021Z"
        },
        "trusted": true,
        "id": "w1itB1V8p7GF",
        "outputId": "161c778d-2569-4415-ff7c-b47cb1938832"
      },
      "execution_count": null,
      "outputs": [
        {
          "output_type": "display_data",
          "data": {
            "text/html": "<table class=\"dataframe\">\n<caption>A tibble: 6 × 12</caption>\n<thead>\n\t<tr><th scope=col>studio</th><th scope=col>studio1_favorites</th><th scope=col>studio2_favorites</th><th scope=col>studio3_favorites</th><th scope=col>studio4_favorites</th><th scope=col>studio5_favorites</th><th scope=col>studio6_favorites</th><th scope=col>studio7_favorites</th><th scope=col>studio8_favorites</th><th scope=col>studio9_favorites</th><th scope=col>studio10_favorites</th><th scope=col>avg_favorites</th></tr>\n\t<tr><th scope=col>&lt;chr&gt;</th><th scope=col>&lt;dbl&gt;</th><th scope=col>&lt;dbl&gt;</th><th scope=col>&lt;dbl&gt;</th><th scope=col>&lt;dbl&gt;</th><th scope=col>&lt;dbl&gt;</th><th scope=col>&lt;dbl&gt;</th><th scope=col>&lt;dbl&gt;</th><th scope=col>&lt;dbl&gt;</th><th scope=col>&lt;dbl&gt;</th><th scope=col>&lt;dbl&gt;</th><th scope=col>&lt;dbl&gt;</th></tr>\n</thead>\n<tbody>\n\t<tr><td>10Gauge          </td><td>8.000000</td><td> 8</td><td>NA</td><td>NA</td><td>NA</td><td>NA</td><td>NA</td><td>NA</td><td>NA</td><td>NA</td><td>8.000000</td></tr>\n\t<tr><td>1IN              </td><td>0.000000</td><td>NA</td><td>NA</td><td>NA</td><td>NA</td><td>NA</td><td>NA</td><td>NA</td><td>NA</td><td>NA</td><td>0.000000</td></tr>\n\t<tr><td>2:10 AM Animation</td><td>9.222222</td><td>NA</td><td>NA</td><td>NA</td><td>NA</td><td>NA</td><td>NA</td><td>NA</td><td>NA</td><td>NA</td><td>9.222222</td></tr>\n\t<tr><td>33 Collective    </td><td>0.000000</td><td>NA</td><td>NA</td><td>NA</td><td>NA</td><td>NA</td><td>NA</td><td>NA</td><td>NA</td><td>NA</td><td>0.000000</td></tr>\n\t<tr><td>5 Inc.           </td><td>5.000000</td><td>14</td><td>NA</td><td>NA</td><td>NA</td><td>NA</td><td>NA</td><td>NA</td><td>NA</td><td>NA</td><td>9.500000</td></tr>\n\t<tr><td>6pucks           </td><td>0.000000</td><td>NA</td><td>NA</td><td>NA</td><td>NA</td><td>NA</td><td>NA</td><td>NA</td><td>NA</td><td>NA</td><td>0.000000</td></tr>\n</tbody>\n</table>\n",
            "text/markdown": "\nA tibble: 6 × 12\n\n| studio &lt;chr&gt; | studio1_favorites &lt;dbl&gt; | studio2_favorites &lt;dbl&gt; | studio3_favorites &lt;dbl&gt; | studio4_favorites &lt;dbl&gt; | studio5_favorites &lt;dbl&gt; | studio6_favorites &lt;dbl&gt; | studio7_favorites &lt;dbl&gt; | studio8_favorites &lt;dbl&gt; | studio9_favorites &lt;dbl&gt; | studio10_favorites &lt;dbl&gt; | avg_favorites &lt;dbl&gt; |\n|---|---|---|---|---|---|---|---|---|---|---|---|\n| 10Gauge           | 8.000000 |  8 | NA | NA | NA | NA | NA | NA | NA | NA | 8.000000 |\n| 1IN               | 0.000000 | NA | NA | NA | NA | NA | NA | NA | NA | NA | 0.000000 |\n| 2:10 AM Animation | 9.222222 | NA | NA | NA | NA | NA | NA | NA | NA | NA | 9.222222 |\n| 33 Collective     | 0.000000 | NA | NA | NA | NA | NA | NA | NA | NA | NA | 0.000000 |\n| 5 Inc.            | 5.000000 | 14 | NA | NA | NA | NA | NA | NA | NA | NA | 9.500000 |\n| 6pucks            | 0.000000 | NA | NA | NA | NA | NA | NA | NA | NA | NA | 0.000000 |\n\n",
            "text/latex": "A tibble: 6 × 12\n\\begin{tabular}{llllllllllll}\n studio & studio1\\_favorites & studio2\\_favorites & studio3\\_favorites & studio4\\_favorites & studio5\\_favorites & studio6\\_favorites & studio7\\_favorites & studio8\\_favorites & studio9\\_favorites & studio10\\_favorites & avg\\_favorites\\\\\n <chr> & <dbl> & <dbl> & <dbl> & <dbl> & <dbl> & <dbl> & <dbl> & <dbl> & <dbl> & <dbl> & <dbl>\\\\\n\\hline\n\t 10Gauge           & 8.000000 &  8 & NA & NA & NA & NA & NA & NA & NA & NA & 8.000000\\\\\n\t 1IN               & 0.000000 & NA & NA & NA & NA & NA & NA & NA & NA & NA & 0.000000\\\\\n\t 2:10 AM Animation & 9.222222 & NA & NA & NA & NA & NA & NA & NA & NA & NA & 9.222222\\\\\n\t 33 Collective     & 0.000000 & NA & NA & NA & NA & NA & NA & NA & NA & NA & 0.000000\\\\\n\t 5 Inc.            & 5.000000 & 14 & NA & NA & NA & NA & NA & NA & NA & NA & 9.500000\\\\\n\t 6pucks            & 0.000000 & NA & NA & NA & NA & NA & NA & NA & NA & NA & 0.000000\\\\\n\\end{tabular}\n",
            "text/plain": "  studio            studio1_favorites studio2_favorites studio3_favorites\n1 10Gauge           8.000000           8                NA               \n2 1IN               0.000000          NA                NA               \n3 2:10 AM Animation 9.222222          NA                NA               \n4 33 Collective     0.000000          NA                NA               \n5 5 Inc.            5.000000          14                NA               \n6 6pucks            0.000000          NA                NA               \n  studio4_favorites studio5_favorites studio6_favorites studio7_favorites\n1 NA                NA                NA                NA               \n2 NA                NA                NA                NA               \n3 NA                NA                NA                NA               \n4 NA                NA                NA                NA               \n5 NA                NA                NA                NA               \n6 NA                NA                NA                NA               \n  studio8_favorites studio9_favorites studio10_favorites avg_favorites\n1 NA                NA                NA                 8.000000     \n2 NA                NA                NA                 0.000000     \n3 NA                NA                NA                 9.222222     \n4 NA                NA                NA                 0.000000     \n5 NA                NA                NA                 9.500000     \n6 NA                NA                NA                 0.000000     "
          },
          "metadata": {}
        }
      ]
    },
    {
      "cell_type": "code",
      "source": [
        "# To get the most favorited studios\n",
        "studio_favorites <- studios_favorites %>% select(\"studio\", \"avg_favorites\")\n",
        "head(studio_favorites[order(-studio_favorites$avg_favorites), ], n = 10)"
      ],
      "metadata": {
        "execution": {
          "iopub.status.busy": "2024-02-16T06:31:07.952655Z",
          "iopub.execute_input": "2024-02-16T06:31:07.954581Z",
          "iopub.status.idle": "2024-02-16T06:31:07.993198Z"
        },
        "trusted": true,
        "id": "tIuDWhk1p7GF",
        "outputId": "da87e7ed-9226-46cf-e58a-8a441a8db535"
      },
      "execution_count": null,
      "outputs": [
        {
          "output_type": "display_data",
          "data": {
            "text/html": "<table class=\"dataframe\">\n<caption>A tibble: 10 × 2</caption>\n<thead>\n\t<tr><th scope=col>studio</th><th scope=col>avg_favorites</th></tr>\n\t<tr><th scope=col>&lt;chr&gt;</th><th scope=col>&lt;dbl&gt;</th></tr>\n</thead>\n<tbody>\n\t<tr><td>Trigger             </td><td>8509.875</td></tr>\n\t<tr><td>CloverWorks         </td><td>7011.038</td></tr>\n\t<tr><td>Tatsunoko Production</td><td>6487.270</td></tr>\n\t<tr><td>Graphinica          </td><td>5426.373</td></tr>\n\t<tr><td>White Fox           </td><td>5300.994</td></tr>\n\t<tr><td>K-Factory           </td><td>5244.000</td></tr>\n\t<tr><td>MAPPA               </td><td>5067.773</td></tr>\n\t<tr><td>Nexus               </td><td>5043.778</td></tr>\n\t<tr><td>Studio Bind         </td><td>5025.400</td></tr>\n\t<tr><td>Bones               </td><td>4732.559</td></tr>\n</tbody>\n</table>\n",
            "text/markdown": "\nA tibble: 10 × 2\n\n| studio &lt;chr&gt; | avg_favorites &lt;dbl&gt; |\n|---|---|\n| Trigger              | 8509.875 |\n| CloverWorks          | 7011.038 |\n| Tatsunoko Production | 6487.270 |\n| Graphinica           | 5426.373 |\n| White Fox            | 5300.994 |\n| K-Factory            | 5244.000 |\n| MAPPA                | 5067.773 |\n| Nexus                | 5043.778 |\n| Studio Bind          | 5025.400 |\n| Bones                | 4732.559 |\n\n",
            "text/latex": "A tibble: 10 × 2\n\\begin{tabular}{ll}\n studio & avg\\_favorites\\\\\n <chr> & <dbl>\\\\\n\\hline\n\t Trigger              & 8509.875\\\\\n\t CloverWorks          & 7011.038\\\\\n\t Tatsunoko Production & 6487.270\\\\\n\t Graphinica           & 5426.373\\\\\n\t White Fox            & 5300.994\\\\\n\t K-Factory            & 5244.000\\\\\n\t MAPPA                & 5067.773\\\\\n\t Nexus                & 5043.778\\\\\n\t Studio Bind          & 5025.400\\\\\n\t Bones                & 4732.559\\\\\n\\end{tabular}\n",
            "text/plain": "   studio               avg_favorites\n1  Trigger              8509.875     \n2  CloverWorks          7011.038     \n3  Tatsunoko Production 6487.270     \n4  Graphinica           5426.373     \n5  White Fox            5300.994     \n6  K-Factory            5244.000     \n7  MAPPA                5067.773     \n8  Nexus                5043.778     \n9  Studio Bind          5025.400     \n10 Bones                4732.559     "
          },
          "metadata": {}
        }
      ]
    },
    {
      "cell_type": "code",
      "source": [
        "# To get the top scored studios\n",
        "# studio_1\n",
        "studios1_score <- studios_split %>% group_by(studio_1) %>%\n",
        "    summarise(studio1_score = mean(score, na.rm = TRUE))\n",
        "\n",
        "studios1_score <- rename(studios1_score, studio = studio_1)\n",
        "\n",
        "# studio_2\n",
        "studios2_score <- studios_split %>% group_by(studio_2) %>%\n",
        "    summarise(studio2_score = mean(score, na.rm = TRUE))\n",
        "\n",
        "studios2_score <- rename(studios2_score, studio = studio_2)\n",
        "\n",
        "# studio_3\n",
        "studios3_score <- studios_split %>% group_by(studio_3) %>%\n",
        "    summarise(studio3_score = mean(score, na.rm = TRUE))\n",
        "\n",
        "studios3_score <- rename(studios3_score, studio = studio_3)\n",
        "\n",
        "#studio_4\n",
        "studios4_score <- studios_split %>% group_by(studio_4) %>%\n",
        "    summarise(studio4_score = mean(score, na.rm = TRUE))\n",
        "\n",
        "studios4_score <- rename(studios4_score, studio = studio_4)\n",
        "\n",
        "# studio_5\n",
        "studios5_score <- studios_split %>% group_by(studio_5) %>%\n",
        "    summarise(studio5_score = mean(score, na.rm = TRUE))\n",
        "\n",
        "studios5_score <- rename(studios5_score, studio = studio_5)\n",
        "\n",
        "# studio_6\n",
        "studios6_score <- studios_split %>% group_by(studio_6) %>%\n",
        "    summarise(studio6_score = mean(score, na.rm = TRUE))\n",
        "\n",
        "studios6_score <- rename(studios6_score, studio = studio_6)\n",
        "\n",
        "# studio_7\n",
        "studios7_score <- studios_split %>% group_by(studio_7) %>%\n",
        "    summarise(studio7_score = mean(score, na.rm = TRUE))\n",
        "\n",
        "studios7_score <- rename(studios7_score, studio = studio_7)\n",
        "\n",
        "# studio_8\n",
        "studios8_score <- studios_split %>% group_by(studio_8) %>%\n",
        "    summarise(studio8_score = mean(score, na.rm = TRUE))\n",
        "\n",
        "studios8_score <- rename(studios8_score, studio = studio_8)\n",
        "\n",
        "# studio_9\n",
        "studios9_score <- studios_split %>% group_by(studio_9) %>%\n",
        "    summarise(studio9_score = mean(score, na.rm = TRUE))\n",
        "\n",
        "studios9_score <- rename(studios9_score, studio = studio_9)\n",
        "\n",
        "# studio_10\n",
        "studios10_score <- studios_split %>% group_by(studio_10) %>%\n",
        "    summarise(studio10_score = mean(score, na.rm = TRUE))\n",
        "\n",
        "studios10_score <- rename(studios10_score, studio = studio_10)\n",
        "\n",
        "# To combine studios data frames\n",
        "studios12_score <- left_join(studios1_score, studios2_score, by = \"studio\")\n",
        "studios123_score <- left_join(studios12_score, studios3_score, by = \"studio\")\n",
        "studios1234_score <- left_join(studios123_score, studios4_score, by = \"studio\")\n",
        "studios12345_score <- left_join(studios1234_score, studios5_score, by = \"studio\")\n",
        "studios123456_score <- left_join(studios12345_score, studios6_score, by = \"studio\")\n",
        "studios1234567_score <- left_join(studios123456_score, studios7_score, by = \"studio\")\n",
        "studios12345678_score <- left_join(studios1234567_score, studios8_score, by = \"studio\")\n",
        "studios123456789_score <- left_join(studios12345678_score, studios9_score, by = \"studio\")\n",
        "studios_score <- left_join(studios123456789_score, studios10_score, by = \"studio\")\n",
        "\n",
        "head(studios_score)"
      ],
      "metadata": {
        "_kg_hide-input": true,
        "execution": {
          "iopub.status.busy": "2024-02-16T06:31:07.997402Z",
          "iopub.execute_input": "2024-02-16T06:31:07.998943Z",
          "iopub.status.idle": "2024-02-16T06:31:08.289848Z"
        },
        "trusted": true,
        "id": "7DWkK8zup7GF",
        "outputId": "f63db740-a31c-4a19-c186-48de51616efa"
      },
      "execution_count": null,
      "outputs": [
        {
          "output_type": "display_data",
          "data": {
            "text/html": "<table class=\"dataframe\">\n<caption>A tibble: 6 × 11</caption>\n<thead>\n\t<tr><th scope=col>studio</th><th scope=col>studio1_score</th><th scope=col>studio2_score</th><th scope=col>studio3_score</th><th scope=col>studio4_score</th><th scope=col>studio5_score</th><th scope=col>studio6_score</th><th scope=col>studio7_score</th><th scope=col>studio8_score</th><th scope=col>studio9_score</th><th scope=col>studio10_score</th></tr>\n\t<tr><th scope=col>&lt;chr&gt;</th><th scope=col>&lt;dbl&gt;</th><th scope=col>&lt;dbl&gt;</th><th scope=col>&lt;dbl&gt;</th><th scope=col>&lt;dbl&gt;</th><th scope=col>&lt;dbl&gt;</th><th scope=col>&lt;dbl&gt;</th><th scope=col>&lt;dbl&gt;</th><th scope=col>&lt;dbl&gt;</th><th scope=col>&lt;dbl&gt;</th><th scope=col>&lt;dbl&gt;</th></tr>\n</thead>\n<tbody>\n\t<tr><td>10Gauge          </td><td>6.798000</td><td>6.40</td><td>NA</td><td>NA</td><td>NA</td><td>NA</td><td>NA</td><td>NA</td><td>NA</td><td>NA</td></tr>\n\t<tr><td>1IN              </td><td>     NaN</td><td>  NA</td><td>NA</td><td>NA</td><td>NA</td><td>NA</td><td>NA</td><td>NA</td><td>NA</td><td>NA</td></tr>\n\t<tr><td>2:10 AM Animation</td><td>6.432857</td><td>  NA</td><td>NA</td><td>NA</td><td>NA</td><td>NA</td><td>NA</td><td>NA</td><td>NA</td><td>NA</td></tr>\n\t<tr><td>33 Collective    </td><td>     NaN</td><td>  NA</td><td>NA</td><td>NA</td><td>NA</td><td>NA</td><td>NA</td><td>NA</td><td>NA</td><td>NA</td></tr>\n\t<tr><td>5 Inc.           </td><td>5.820000</td><td>6.42</td><td>NA</td><td>NA</td><td>NA</td><td>NA</td><td>NA</td><td>NA</td><td>NA</td><td>NA</td></tr>\n\t<tr><td>6pucks           </td><td>     NaN</td><td>  NA</td><td>NA</td><td>NA</td><td>NA</td><td>NA</td><td>NA</td><td>NA</td><td>NA</td><td>NA</td></tr>\n</tbody>\n</table>\n",
            "text/markdown": "\nA tibble: 6 × 11\n\n| studio &lt;chr&gt; | studio1_score &lt;dbl&gt; | studio2_score &lt;dbl&gt; | studio3_score &lt;dbl&gt; | studio4_score &lt;dbl&gt; | studio5_score &lt;dbl&gt; | studio6_score &lt;dbl&gt; | studio7_score &lt;dbl&gt; | studio8_score &lt;dbl&gt; | studio9_score &lt;dbl&gt; | studio10_score &lt;dbl&gt; |\n|---|---|---|---|---|---|---|---|---|---|---|\n| 10Gauge           | 6.798000 | 6.40 | NA | NA | NA | NA | NA | NA | NA | NA |\n| 1IN               |      NaN |   NA | NA | NA | NA | NA | NA | NA | NA | NA |\n| 2:10 AM Animation | 6.432857 |   NA | NA | NA | NA | NA | NA | NA | NA | NA |\n| 33 Collective     |      NaN |   NA | NA | NA | NA | NA | NA | NA | NA | NA |\n| 5 Inc.            | 5.820000 | 6.42 | NA | NA | NA | NA | NA | NA | NA | NA |\n| 6pucks            |      NaN |   NA | NA | NA | NA | NA | NA | NA | NA | NA |\n\n",
            "text/latex": "A tibble: 6 × 11\n\\begin{tabular}{lllllllllll}\n studio & studio1\\_score & studio2\\_score & studio3\\_score & studio4\\_score & studio5\\_score & studio6\\_score & studio7\\_score & studio8\\_score & studio9\\_score & studio10\\_score\\\\\n <chr> & <dbl> & <dbl> & <dbl> & <dbl> & <dbl> & <dbl> & <dbl> & <dbl> & <dbl> & <dbl>\\\\\n\\hline\n\t 10Gauge           & 6.798000 & 6.40 & NA & NA & NA & NA & NA & NA & NA & NA\\\\\n\t 1IN               &      NaN &   NA & NA & NA & NA & NA & NA & NA & NA & NA\\\\\n\t 2:10 AM Animation & 6.432857 &   NA & NA & NA & NA & NA & NA & NA & NA & NA\\\\\n\t 33 Collective     &      NaN &   NA & NA & NA & NA & NA & NA & NA & NA & NA\\\\\n\t 5 Inc.            & 5.820000 & 6.42 & NA & NA & NA & NA & NA & NA & NA & NA\\\\\n\t 6pucks            &      NaN &   NA & NA & NA & NA & NA & NA & NA & NA & NA\\\\\n\\end{tabular}\n",
            "text/plain": "  studio            studio1_score studio2_score studio3_score studio4_score\n1 10Gauge           6.798000      6.40          NA            NA           \n2 1IN                    NaN        NA          NA            NA           \n3 2:10 AM Animation 6.432857        NA          NA            NA           \n4 33 Collective          NaN        NA          NA            NA           \n5 5 Inc.            5.820000      6.42          NA            NA           \n6 6pucks                 NaN        NA          NA            NA           \n  studio5_score studio6_score studio7_score studio8_score studio9_score\n1 NA            NA            NA            NA            NA           \n2 NA            NA            NA            NA            NA           \n3 NA            NA            NA            NA            NA           \n4 NA            NA            NA            NA            NA           \n5 NA            NA            NA            NA            NA           \n6 NA            NA            NA            NA            NA           \n  studio10_score\n1 NA            \n2 NA            \n3 NA            \n4 NA            \n5 NA            \n6 NA            "
          },
          "metadata": {}
        }
      ]
    },
    {
      "cell_type": "code",
      "source": [
        "# To get the top scored for all studios\n",
        "studio_score_columns <- c(\"studio1_score\", \"studio2_score\", \"studio3_score\",\n",
        "                               \"studio4_score\", \"studio5_score\", \"studio6_score\",\n",
        "                               \"studio7_score\", \"studio8_score\", \"studio9_score\",\n",
        "                               \"studio10_score\")\n",
        "\n",
        "# Calculate the average scores across studios for each row\n",
        "studios_score$avg_score <- rowMeans(studios_score[, studio_score_columns],\n",
        "                                                     na.rm = TRUE)\n",
        "\n",
        "head(studios_score)"
      ],
      "metadata": {
        "execution": {
          "iopub.status.busy": "2024-02-16T06:31:08.293834Z",
          "iopub.execute_input": "2024-02-16T06:31:08.295489Z",
          "iopub.status.idle": "2024-02-16T06:31:08.382642Z"
        },
        "trusted": true,
        "id": "03h9-HIap7GF",
        "outputId": "25c4f928-9f5a-43a3-f9cf-f8ea584fbb69"
      },
      "execution_count": null,
      "outputs": [
        {
          "output_type": "display_data",
          "data": {
            "text/html": "<table class=\"dataframe\">\n<caption>A tibble: 6 × 12</caption>\n<thead>\n\t<tr><th scope=col>studio</th><th scope=col>studio1_score</th><th scope=col>studio2_score</th><th scope=col>studio3_score</th><th scope=col>studio4_score</th><th scope=col>studio5_score</th><th scope=col>studio6_score</th><th scope=col>studio7_score</th><th scope=col>studio8_score</th><th scope=col>studio9_score</th><th scope=col>studio10_score</th><th scope=col>avg_score</th></tr>\n\t<tr><th scope=col>&lt;chr&gt;</th><th scope=col>&lt;dbl&gt;</th><th scope=col>&lt;dbl&gt;</th><th scope=col>&lt;dbl&gt;</th><th scope=col>&lt;dbl&gt;</th><th scope=col>&lt;dbl&gt;</th><th scope=col>&lt;dbl&gt;</th><th scope=col>&lt;dbl&gt;</th><th scope=col>&lt;dbl&gt;</th><th scope=col>&lt;dbl&gt;</th><th scope=col>&lt;dbl&gt;</th><th scope=col>&lt;dbl&gt;</th></tr>\n</thead>\n<tbody>\n\t<tr><td>10Gauge          </td><td>6.798000</td><td>6.40</td><td>NA</td><td>NA</td><td>NA</td><td>NA</td><td>NA</td><td>NA</td><td>NA</td><td>NA</td><td>6.599000</td></tr>\n\t<tr><td>1IN              </td><td>     NaN</td><td>  NA</td><td>NA</td><td>NA</td><td>NA</td><td>NA</td><td>NA</td><td>NA</td><td>NA</td><td>NA</td><td>     NaN</td></tr>\n\t<tr><td>2:10 AM Animation</td><td>6.432857</td><td>  NA</td><td>NA</td><td>NA</td><td>NA</td><td>NA</td><td>NA</td><td>NA</td><td>NA</td><td>NA</td><td>6.432857</td></tr>\n\t<tr><td>33 Collective    </td><td>     NaN</td><td>  NA</td><td>NA</td><td>NA</td><td>NA</td><td>NA</td><td>NA</td><td>NA</td><td>NA</td><td>NA</td><td>     NaN</td></tr>\n\t<tr><td>5 Inc.           </td><td>5.820000</td><td>6.42</td><td>NA</td><td>NA</td><td>NA</td><td>NA</td><td>NA</td><td>NA</td><td>NA</td><td>NA</td><td>6.120000</td></tr>\n\t<tr><td>6pucks           </td><td>     NaN</td><td>  NA</td><td>NA</td><td>NA</td><td>NA</td><td>NA</td><td>NA</td><td>NA</td><td>NA</td><td>NA</td><td>     NaN</td></tr>\n</tbody>\n</table>\n",
            "text/markdown": "\nA tibble: 6 × 12\n\n| studio &lt;chr&gt; | studio1_score &lt;dbl&gt; | studio2_score &lt;dbl&gt; | studio3_score &lt;dbl&gt; | studio4_score &lt;dbl&gt; | studio5_score &lt;dbl&gt; | studio6_score &lt;dbl&gt; | studio7_score &lt;dbl&gt; | studio8_score &lt;dbl&gt; | studio9_score &lt;dbl&gt; | studio10_score &lt;dbl&gt; | avg_score &lt;dbl&gt; |\n|---|---|---|---|---|---|---|---|---|---|---|---|\n| 10Gauge           | 6.798000 | 6.40 | NA | NA | NA | NA | NA | NA | NA | NA | 6.599000 |\n| 1IN               |      NaN |   NA | NA | NA | NA | NA | NA | NA | NA | NA |      NaN |\n| 2:10 AM Animation | 6.432857 |   NA | NA | NA | NA | NA | NA | NA | NA | NA | 6.432857 |\n| 33 Collective     |      NaN |   NA | NA | NA | NA | NA | NA | NA | NA | NA |      NaN |\n| 5 Inc.            | 5.820000 | 6.42 | NA | NA | NA | NA | NA | NA | NA | NA | 6.120000 |\n| 6pucks            |      NaN |   NA | NA | NA | NA | NA | NA | NA | NA | NA |      NaN |\n\n",
            "text/latex": "A tibble: 6 × 12\n\\begin{tabular}{llllllllllll}\n studio & studio1\\_score & studio2\\_score & studio3\\_score & studio4\\_score & studio5\\_score & studio6\\_score & studio7\\_score & studio8\\_score & studio9\\_score & studio10\\_score & avg\\_score\\\\\n <chr> & <dbl> & <dbl> & <dbl> & <dbl> & <dbl> & <dbl> & <dbl> & <dbl> & <dbl> & <dbl> & <dbl>\\\\\n\\hline\n\t 10Gauge           & 6.798000 & 6.40 & NA & NA & NA & NA & NA & NA & NA & NA & 6.599000\\\\\n\t 1IN               &      NaN &   NA & NA & NA & NA & NA & NA & NA & NA & NA &      NaN\\\\\n\t 2:10 AM Animation & 6.432857 &   NA & NA & NA & NA & NA & NA & NA & NA & NA & 6.432857\\\\\n\t 33 Collective     &      NaN &   NA & NA & NA & NA & NA & NA & NA & NA & NA &      NaN\\\\\n\t 5 Inc.            & 5.820000 & 6.42 & NA & NA & NA & NA & NA & NA & NA & NA & 6.120000\\\\\n\t 6pucks            &      NaN &   NA & NA & NA & NA & NA & NA & NA & NA & NA &      NaN\\\\\n\\end{tabular}\n",
            "text/plain": "  studio            studio1_score studio2_score studio3_score studio4_score\n1 10Gauge           6.798000      6.40          NA            NA           \n2 1IN                    NaN        NA          NA            NA           \n3 2:10 AM Animation 6.432857        NA          NA            NA           \n4 33 Collective          NaN        NA          NA            NA           \n5 5 Inc.            5.820000      6.42          NA            NA           \n6 6pucks                 NaN        NA          NA            NA           \n  studio5_score studio6_score studio7_score studio8_score studio9_score\n1 NA            NA            NA            NA            NA           \n2 NA            NA            NA            NA            NA           \n3 NA            NA            NA            NA            NA           \n4 NA            NA            NA            NA            NA           \n5 NA            NA            NA            NA            NA           \n6 NA            NA            NA            NA            NA           \n  studio10_score avg_score\n1 NA             6.599000 \n2 NA                  NaN \n3 NA             6.432857 \n4 NA                  NaN \n5 NA             6.120000 \n6 NA                  NaN "
          },
          "metadata": {}
        }
      ]
    },
    {
      "cell_type": "code",
      "source": [
        "# To get the top scored studios\n",
        "studio_score <- studios_score %>% select(\"studio\", \"avg_score\")\n",
        "head(studio_score[order(-studio_score$avg_score), ], n = 10)"
      ],
      "metadata": {
        "execution": {
          "iopub.status.busy": "2024-02-16T06:31:08.385250Z",
          "iopub.execute_input": "2024-02-16T06:31:08.386627Z",
          "iopub.status.idle": "2024-02-16T06:31:08.420837Z"
        },
        "trusted": true,
        "id": "XR3D1m2np7GG",
        "outputId": "f16b4f50-86a5-40aa-df4c-0427e637959f"
      },
      "execution_count": null,
      "outputs": [
        {
          "output_type": "display_data",
          "data": {
            "text/html": "<table class=\"dataframe\">\n<caption>A tibble: 10 × 2</caption>\n<thead>\n\t<tr><th scope=col>studio</th><th scope=col>avg_score</th></tr>\n\t<tr><th scope=col>&lt;chr&gt;</th><th scope=col>&lt;dbl&gt;</th></tr>\n</thead>\n<tbody>\n\t<tr><td>K-Factory               </td><td>8.396667</td></tr>\n\t<tr><td>Nippon Ramayana Film Co.</td><td>8.290000</td></tr>\n\t<tr><td>Sharefun Studio         </td><td>8.095000</td></tr>\n\t<tr><td>Studio Signpost         </td><td>7.902500</td></tr>\n\t<tr><td>Studio Kafka            </td><td>7.805000</td></tr>\n\t<tr><td>Shenman Entertainment   </td><td>7.785000</td></tr>\n\t<tr><td>Frontier One            </td><td>7.770000</td></tr>\n\t<tr><td>Djinn Power             </td><td>7.760000</td></tr>\n\t<tr><td>Motion Magic            </td><td>7.629091</td></tr>\n\t<tr><td>Shuka                   </td><td>7.608947</td></tr>\n</tbody>\n</table>\n",
            "text/markdown": "\nA tibble: 10 × 2\n\n| studio &lt;chr&gt; | avg_score &lt;dbl&gt; |\n|---|---|\n| K-Factory                | 8.396667 |\n| Nippon Ramayana Film Co. | 8.290000 |\n| Sharefun Studio          | 8.095000 |\n| Studio Signpost          | 7.902500 |\n| Studio Kafka             | 7.805000 |\n| Shenman Entertainment    | 7.785000 |\n| Frontier One             | 7.770000 |\n| Djinn Power              | 7.760000 |\n| Motion Magic             | 7.629091 |\n| Shuka                    | 7.608947 |\n\n",
            "text/latex": "A tibble: 10 × 2\n\\begin{tabular}{ll}\n studio & avg\\_score\\\\\n <chr> & <dbl>\\\\\n\\hline\n\t K-Factory                & 8.396667\\\\\n\t Nippon Ramayana Film Co. & 8.290000\\\\\n\t Sharefun Studio          & 8.095000\\\\\n\t Studio Signpost          & 7.902500\\\\\n\t Studio Kafka             & 7.805000\\\\\n\t Shenman Entertainment    & 7.785000\\\\\n\t Frontier One             & 7.770000\\\\\n\t Djinn Power              & 7.760000\\\\\n\t Motion Magic             & 7.629091\\\\\n\t Shuka                    & 7.608947\\\\\n\\end{tabular}\n",
            "text/plain": "   studio                   avg_score\n1  K-Factory                8.396667 \n2  Nippon Ramayana Film Co. 8.290000 \n3  Sharefun Studio          8.095000 \n4  Studio Signpost          7.902500 \n5  Studio Kafka             7.805000 \n6  Shenman Entertainment    7.785000 \n7  Frontier One             7.770000 \n8  Djinn Power              7.760000 \n9  Motion Magic             7.629091 \n10 Shuka                    7.608947 "
          },
          "metadata": {}
        }
      ]
    },
    {
      "cell_type": "code",
      "source": [
        "# To combine the studio data frames\n",
        "studio_data <- left_join(studio_favorites, studio_score, by = \"studio\")\n",
        "\n",
        "# To eliminate null values\n",
        "studio_data_nonull <- na.omit(studio_data)\n",
        "head(studio_data_nonull)"
      ],
      "metadata": {
        "execution": {
          "iopub.status.busy": "2024-02-16T06:31:08.423605Z",
          "iopub.execute_input": "2024-02-16T06:31:08.425237Z",
          "iopub.status.idle": "2024-02-16T06:31:08.464869Z"
        },
        "trusted": true,
        "id": "W35uTzVNp7GG",
        "outputId": "78aa906d-5a91-4117-fb36-e384a1d2c005"
      },
      "execution_count": null,
      "outputs": [
        {
          "output_type": "display_data",
          "data": {
            "text/html": "<table class=\"dataframe\">\n<caption>A tibble: 6 × 3</caption>\n<thead>\n\t<tr><th scope=col>studio</th><th scope=col>avg_favorites</th><th scope=col>avg_score</th></tr>\n\t<tr><th scope=col>&lt;chr&gt;</th><th scope=col>&lt;dbl&gt;</th><th scope=col>&lt;dbl&gt;</th></tr>\n</thead>\n<tbody>\n\t<tr><td>10Gauge          </td><td>   8.000000</td><td>6.599000</td></tr>\n\t<tr><td>2:10 AM Animation</td><td>   9.222222</td><td>6.432857</td></tr>\n\t<tr><td>5 Inc.           </td><td>   9.500000</td><td>6.120000</td></tr>\n\t<tr><td>7doc             </td><td>   2.428571</td><td>6.180000</td></tr>\n\t<tr><td>8bit             </td><td> 886.787037</td><td>7.358922</td></tr>\n\t<tr><td>A-1 Pictures     </td><td>4140.297076</td><td>7.341790</td></tr>\n</tbody>\n</table>\n",
            "text/markdown": "\nA tibble: 6 × 3\n\n| studio &lt;chr&gt; | avg_favorites &lt;dbl&gt; | avg_score &lt;dbl&gt; |\n|---|---|---|\n| 10Gauge           |    8.000000 | 6.599000 |\n| 2:10 AM Animation |    9.222222 | 6.432857 |\n| 5 Inc.            |    9.500000 | 6.120000 |\n| 7doc              |    2.428571 | 6.180000 |\n| 8bit              |  886.787037 | 7.358922 |\n| A-1 Pictures      | 4140.297076 | 7.341790 |\n\n",
            "text/latex": "A tibble: 6 × 3\n\\begin{tabular}{lll}\n studio & avg\\_favorites & avg\\_score\\\\\n <chr> & <dbl> & <dbl>\\\\\n\\hline\n\t 10Gauge           &    8.000000 & 6.599000\\\\\n\t 2:10 AM Animation &    9.222222 & 6.432857\\\\\n\t 5 Inc.            &    9.500000 & 6.120000\\\\\n\t 7doc              &    2.428571 & 6.180000\\\\\n\t 8bit              &  886.787037 & 7.358922\\\\\n\t A-1 Pictures      & 4140.297076 & 7.341790\\\\\n\\end{tabular}\n",
            "text/plain": "  studio            avg_favorites avg_score\n1 10Gauge              8.000000   6.599000 \n2 2:10 AM Animation    9.222222   6.432857 \n3 5 Inc.               9.500000   6.120000 \n4 7doc                 2.428571   6.180000 \n5 8bit               886.787037   7.358922 \n6 A-1 Pictures      4140.297076   7.341790 "
          },
          "metadata": {}
        }
      ]
    },
    {
      "cell_type": "code",
      "source": [
        "# To get the correlation between the favorites and score based on studio\n",
        "corrstudio <- cor(studio_data_nonull[, c(\"avg_favorites\", \"avg_score\")])\n",
        "print(corrstudio)"
      ],
      "metadata": {
        "execution": {
          "iopub.status.busy": "2024-02-16T06:31:08.468762Z",
          "iopub.execute_input": "2024-02-16T06:31:08.470273Z",
          "iopub.status.idle": "2024-02-16T06:31:08.490572Z"
        },
        "trusted": true,
        "id": "jE1-k0sPp7GG",
        "outputId": "c767414e-7be2-4f10-aa90-2607b386da76"
      },
      "execution_count": null,
      "outputs": [
        {
          "name": "stdout",
          "text": "              avg_favorites avg_score\navg_favorites     1.0000000 0.3061954\navg_score         0.3061954 1.0000000\n",
          "output_type": "stream"
        }
      ]
    },
    {
      "cell_type": "markdown",
      "source": [
        "Regarding anime studios, there appears to be a weak relationship between users favoriting an anime and the score they assign to it.\n",
        "\n",
        "The anime studios with the highest values across all popularity metrics include Bones, White Fox, MAPPA, and K-Factory. Following closely are Wit Studio, Madhouse, A-1 Pictures, and Pierrot."
      ],
      "metadata": {
        "id": "ujQfODVNp7GG"
      }
    },
    {
      "cell_type": "markdown",
      "source": [
        "#### Source Analysis"
      ],
      "metadata": {
        "id": "oDUcciwvp7GG"
      }
    },
    {
      "cell_type": "code",
      "source": [
        "# To get the average popularity, rank, favorites, and score of source\n",
        "source_popularity <- anime_data_2023 %>% group_by(source) %>%\n",
        "    summarise(avg_popularity = mean(popularity, na.rm = TRUE))\n",
        "\n",
        "source_rank <- anime_data_2023 %>% group_by(source) %>%\n",
        "    summarise(avg_rank = mean(rank, na.rm = TRUE))\n",
        "\n",
        "source_favorites <- anime_data_2023 %>% group_by(source) %>%\n",
        "    summarise(avg_favorites = mean(favorites, na.rm = TRUE))\n",
        "\n",
        "source_score <- anime_data_2023 %>% group_by(source) %>%\n",
        "    summarise(avg_score = mean(score, na.rm = TRUE))\n",
        "\n",
        "# To get sort the sources based on popularity metrics\n",
        "source_popularity[order(source_popularity$avg_popularity, na.last = TRUE), ]\n",
        "source_rank[order(source_rank$avg_rank, na.last = TRUE), ]\n",
        "source_favorites[order(-source_favorites$avg_favorites, na.last = TRUE), ]\n",
        "source_score[order(-source_score$avg_score, na.last = TRUE), ]"
      ],
      "metadata": {
        "execution": {
          "iopub.status.busy": "2024-02-16T06:31:08.493367Z",
          "iopub.execute_input": "2024-02-16T06:31:08.494740Z",
          "iopub.status.idle": "2024-02-16T06:31:08.660785Z"
        },
        "trusted": true,
        "id": "7eKB81sop7GG",
        "outputId": "8ad4fc24-4379-4089-8674-7537e5d98b42"
      },
      "execution_count": null,
      "outputs": [
        {
          "output_type": "display_data",
          "data": {
            "text/html": "<table class=\"dataframe\">\n<caption>A tibble: 17 × 2</caption>\n<thead>\n\t<tr><th scope=col>source</th><th scope=col>avg_popularity</th></tr>\n\t<tr><th scope=col>&lt;chr&gt;</th><th scope=col>&lt;dbl&gt;</th></tr>\n</thead>\n<tbody>\n\t<tr><td>Light novel </td><td> 3603.365</td></tr>\n\t<tr><td>Manga       </td><td> 6711.845</td></tr>\n\t<tr><td>Visual novel</td><td> 6924.093</td></tr>\n\t<tr><td>4-koma manga</td><td> 7056.465</td></tr>\n\t<tr><td>Web manga   </td><td> 8016.255</td></tr>\n\t<tr><td>Card game   </td><td> 8342.059</td></tr>\n\t<tr><td>Game        </td><td>10196.983</td></tr>\n\t<tr><td>Novel       </td><td>10225.525</td></tr>\n\t<tr><td>Mixed media </td><td>10230.327</td></tr>\n\t<tr><td>Web novel   </td><td>11575.329</td></tr>\n\t<tr><td>Radio       </td><td>14023.429</td></tr>\n\t<tr><td>Music       </td><td>14081.466</td></tr>\n\t<tr><td>Other       </td><td>14497.488</td></tr>\n\t<tr><td>Book        </td><td>14800.890</td></tr>\n\t<tr><td>NA          </td><td>15487.956</td></tr>\n\t<tr><td>Original    </td><td>15607.122</td></tr>\n\t<tr><td>Picture book</td><td>16985.633</td></tr>\n</tbody>\n</table>\n",
            "text/markdown": "\nA tibble: 17 × 2\n\n| source &lt;chr&gt; | avg_popularity &lt;dbl&gt; |\n|---|---|\n| Light novel  |  3603.365 |\n| Manga        |  6711.845 |\n| Visual novel |  6924.093 |\n| 4-koma manga |  7056.465 |\n| Web manga    |  8016.255 |\n| Card game    |  8342.059 |\n| Game         | 10196.983 |\n| Novel        | 10225.525 |\n| Mixed media  | 10230.327 |\n| Web novel    | 11575.329 |\n| Radio        | 14023.429 |\n| Music        | 14081.466 |\n| Other        | 14497.488 |\n| Book         | 14800.890 |\n| NA           | 15487.956 |\n| Original     | 15607.122 |\n| Picture book | 16985.633 |\n\n",
            "text/latex": "A tibble: 17 × 2\n\\begin{tabular}{ll}\n source & avg\\_popularity\\\\\n <chr> & <dbl>\\\\\n\\hline\n\t Light novel  &  3603.365\\\\\n\t Manga        &  6711.845\\\\\n\t Visual novel &  6924.093\\\\\n\t 4-koma manga &  7056.465\\\\\n\t Web manga    &  8016.255\\\\\n\t Card game    &  8342.059\\\\\n\t Game         & 10196.983\\\\\n\t Novel        & 10225.525\\\\\n\t Mixed media  & 10230.327\\\\\n\t Web novel    & 11575.329\\\\\n\t Radio        & 14023.429\\\\\n\t Music        & 14081.466\\\\\n\t Other        & 14497.488\\\\\n\t Book         & 14800.890\\\\\n\t NA           & 15487.956\\\\\n\t Original     & 15607.122\\\\\n\t Picture book & 16985.633\\\\\n\\end{tabular}\n",
            "text/plain": "   source       avg_popularity\n1  Light novel   3603.365     \n2  Manga         6711.845     \n3  Visual novel  6924.093     \n4  4-koma manga  7056.465     \n5  Web manga     8016.255     \n6  Card game     8342.059     \n7  Game         10196.983     \n8  Novel        10225.525     \n9  Mixed media  10230.327     \n10 Web novel    11575.329     \n11 Radio        14023.429     \n12 Music        14081.466     \n13 Other        14497.488     \n14 Book         14800.890     \n15 NA           15487.956     \n16 Original     15607.122     \n17 Picture book 16985.633     "
          },
          "metadata": {}
        },
        {
          "output_type": "display_data",
          "data": {
            "text/html": "<table class=\"dataframe\">\n<caption>A tibble: 17 × 2</caption>\n<thead>\n\t<tr><th scope=col>source</th><th scope=col>avg_rank</th></tr>\n\t<tr><th scope=col>&lt;chr&gt;</th><th scope=col>&lt;dbl&gt;</th></tr>\n</thead>\n<tbody>\n\t<tr><td>Light novel </td><td> 4435.131</td></tr>\n\t<tr><td>Manga       </td><td> 5725.118</td></tr>\n\t<tr><td>Visual novel</td><td> 6296.812</td></tr>\n\t<tr><td>4-koma manga</td><td> 6791.424</td></tr>\n\t<tr><td>Music       </td><td> 6921.590</td></tr>\n\t<tr><td>Web novel   </td><td> 7123.704</td></tr>\n\t<tr><td>Card game   </td><td> 7606.985</td></tr>\n\t<tr><td>Web manga   </td><td> 7652.796</td></tr>\n\t<tr><td>Novel       </td><td> 7718.615</td></tr>\n\t<tr><td>Mixed media </td><td> 8430.383</td></tr>\n\t<tr><td>Game        </td><td> 8786.328</td></tr>\n\t<tr><td>Book        </td><td>11695.968</td></tr>\n\t<tr><td>Radio       </td><td>12047.071</td></tr>\n\t<tr><td>Original    </td><td>12047.184</td></tr>\n\t<tr><td>Other       </td><td>12313.753</td></tr>\n\t<tr><td>NA          </td><td>12799.500</td></tr>\n\t<tr><td>Picture book</td><td>14506.377</td></tr>\n</tbody>\n</table>\n",
            "text/markdown": "\nA tibble: 17 × 2\n\n| source &lt;chr&gt; | avg_rank &lt;dbl&gt; |\n|---|---|\n| Light novel  |  4435.131 |\n| Manga        |  5725.118 |\n| Visual novel |  6296.812 |\n| 4-koma manga |  6791.424 |\n| Music        |  6921.590 |\n| Web novel    |  7123.704 |\n| Card game    |  7606.985 |\n| Web manga    |  7652.796 |\n| Novel        |  7718.615 |\n| Mixed media  |  8430.383 |\n| Game         |  8786.328 |\n| Book         | 11695.968 |\n| Radio        | 12047.071 |\n| Original     | 12047.184 |\n| Other        | 12313.753 |\n| NA           | 12799.500 |\n| Picture book | 14506.377 |\n\n",
            "text/latex": "A tibble: 17 × 2\n\\begin{tabular}{ll}\n source & avg\\_rank\\\\\n <chr> & <dbl>\\\\\n\\hline\n\t Light novel  &  4435.131\\\\\n\t Manga        &  5725.118\\\\\n\t Visual novel &  6296.812\\\\\n\t 4-koma manga &  6791.424\\\\\n\t Music        &  6921.590\\\\\n\t Web novel    &  7123.704\\\\\n\t Card game    &  7606.985\\\\\n\t Web manga    &  7652.796\\\\\n\t Novel        &  7718.615\\\\\n\t Mixed media  &  8430.383\\\\\n\t Game         &  8786.328\\\\\n\t Book         & 11695.968\\\\\n\t Radio        & 12047.071\\\\\n\t Original     & 12047.184\\\\\n\t Other        & 12313.753\\\\\n\t NA           & 12799.500\\\\\n\t Picture book & 14506.377\\\\\n\\end{tabular}\n",
            "text/plain": "   source       avg_rank \n1  Light novel   4435.131\n2  Manga         5725.118\n3  Visual novel  6296.812\n4  4-koma manga  6791.424\n5  Music         6921.590\n6  Web novel     7123.704\n7  Card game     7606.985\n8  Web manga     7652.796\n9  Novel         7718.615\n10 Mixed media   8430.383\n11 Game          8786.328\n12 Book         11695.968\n13 Radio        12047.071\n14 Original     12047.184\n15 Other        12313.753\n16 NA           12799.500\n17 Picture book 14506.377"
          },
          "metadata": {}
        },
        {
          "output_type": "display_data",
          "data": {
            "text/html": "<table class=\"dataframe\">\n<caption>A tibble: 17 × 2</caption>\n<thead>\n\t<tr><th scope=col>source</th><th scope=col>avg_favorites</th></tr>\n\t<tr><th scope=col>&lt;chr&gt;</th><th scope=col>&lt;dbl&gt;</th></tr>\n</thead>\n<tbody>\n\t<tr><td>Light novel </td><td>1737.953512</td></tr>\n\t<tr><td>Manga       </td><td>1226.404950</td></tr>\n\t<tr><td>Web manga   </td><td> 901.791946</td></tr>\n\t<tr><td>4-koma manga</td><td> 458.098726</td></tr>\n\t<tr><td>Visual novel</td><td> 448.170732</td></tr>\n\t<tr><td>Novel       </td><td> 436.258110</td></tr>\n\t<tr><td>Web novel   </td><td> 192.256098</td></tr>\n\t<tr><td>Original    </td><td> 183.162752</td></tr>\n\t<tr><td>Mixed media </td><td> 103.604938</td></tr>\n\t<tr><td>Game        </td><td>  85.814935</td></tr>\n\t<tr><td>Card game   </td><td>  76.852941</td></tr>\n\t<tr><td>Other       </td><td>  60.152778</td></tr>\n\t<tr><td>Music       </td><td>  27.637975</td></tr>\n\t<tr><td>Book        </td><td>  25.989529</td></tr>\n\t<tr><td>Picture book</td><td>   3.876190</td></tr>\n\t<tr><td>Radio       </td><td>   2.857143</td></tr>\n\t<tr><td>NA          </td><td>   2.073462</td></tr>\n</tbody>\n</table>\n",
            "text/markdown": "\nA tibble: 17 × 2\n\n| source &lt;chr&gt; | avg_favorites &lt;dbl&gt; |\n|---|---|\n| Light novel  | 1737.953512 |\n| Manga        | 1226.404950 |\n| Web manga    |  901.791946 |\n| 4-koma manga |  458.098726 |\n| Visual novel |  448.170732 |\n| Novel        |  436.258110 |\n| Web novel    |  192.256098 |\n| Original     |  183.162752 |\n| Mixed media  |  103.604938 |\n| Game         |   85.814935 |\n| Card game    |   76.852941 |\n| Other        |   60.152778 |\n| Music        |   27.637975 |\n| Book         |   25.989529 |\n| Picture book |    3.876190 |\n| Radio        |    2.857143 |\n| NA           |    2.073462 |\n\n",
            "text/latex": "A tibble: 17 × 2\n\\begin{tabular}{ll}\n source & avg\\_favorites\\\\\n <chr> & <dbl>\\\\\n\\hline\n\t Light novel  & 1737.953512\\\\\n\t Manga        & 1226.404950\\\\\n\t Web manga    &  901.791946\\\\\n\t 4-koma manga &  458.098726\\\\\n\t Visual novel &  448.170732\\\\\n\t Novel        &  436.258110\\\\\n\t Web novel    &  192.256098\\\\\n\t Original     &  183.162752\\\\\n\t Mixed media  &  103.604938\\\\\n\t Game         &   85.814935\\\\\n\t Card game    &   76.852941\\\\\n\t Other        &   60.152778\\\\\n\t Music        &   27.637975\\\\\n\t Book         &   25.989529\\\\\n\t Picture book &    3.876190\\\\\n\t Radio        &    2.857143\\\\\n\t NA           &    2.073462\\\\\n\\end{tabular}\n",
            "text/plain": "   source       avg_favorites\n1  Light novel  1737.953512  \n2  Manga        1226.404950  \n3  Web manga     901.791946  \n4  4-koma manga  458.098726  \n5  Visual novel  448.170732  \n6  Novel         436.258110  \n7  Web novel     192.256098  \n8  Original      183.162752  \n9  Mixed media   103.604938  \n10 Game           85.814935  \n11 Card game      76.852941  \n12 Other          60.152778  \n13 Music          27.637975  \n14 Book           25.989529  \n15 Picture book    3.876190  \n16 Radio           2.857143  \n17 NA              2.073462  "
          },
          "metadata": {}
        },
        {
          "output_type": "display_data",
          "data": {
            "text/html": "<table class=\"dataframe\">\n<caption>A tibble: 17 × 2</caption>\n<thead>\n\t<tr><th scope=col>source</th><th scope=col>avg_score</th></tr>\n\t<tr><th scope=col>&lt;chr&gt;</th><th scope=col>&lt;dbl&gt;</th></tr>\n</thead>\n<tbody>\n\t<tr><td>Web novel   </td><td>6.996429</td></tr>\n\t<tr><td>Light novel </td><td>6.959065</td></tr>\n\t<tr><td>Manga       </td><td>6.830063</td></tr>\n\t<tr><td>Web manga   </td><td>6.749270</td></tr>\n\t<tr><td>Novel       </td><td>6.715667</td></tr>\n\t<tr><td>4-koma manga</td><td>6.656107</td></tr>\n\t<tr><td>Book        </td><td>6.452418</td></tr>\n\t<tr><td>Mixed media </td><td>6.440804</td></tr>\n\t<tr><td>Card game   </td><td>6.318154</td></tr>\n\t<tr><td>Game        </td><td>6.305921</td></tr>\n\t<tr><td>Visual novel</td><td>6.296556</td></tr>\n\t<tr><td>Original    </td><td>6.071355</td></tr>\n\t<tr><td>Other       </td><td>6.028704</td></tr>\n\t<tr><td>Picture book</td><td>5.950182</td></tr>\n\t<tr><td>NA          </td><td>5.937078</td></tr>\n\t<tr><td>Music       </td><td>5.663131</td></tr>\n\t<tr><td>Radio       </td><td>5.459000</td></tr>\n</tbody>\n</table>\n",
            "text/markdown": "\nA tibble: 17 × 2\n\n| source &lt;chr&gt; | avg_score &lt;dbl&gt; |\n|---|---|\n| Web novel    | 6.996429 |\n| Light novel  | 6.959065 |\n| Manga        | 6.830063 |\n| Web manga    | 6.749270 |\n| Novel        | 6.715667 |\n| 4-koma manga | 6.656107 |\n| Book         | 6.452418 |\n| Mixed media  | 6.440804 |\n| Card game    | 6.318154 |\n| Game         | 6.305921 |\n| Visual novel | 6.296556 |\n| Original     | 6.071355 |\n| Other        | 6.028704 |\n| Picture book | 5.950182 |\n| NA           | 5.937078 |\n| Music        | 5.663131 |\n| Radio        | 5.459000 |\n\n",
            "text/latex": "A tibble: 17 × 2\n\\begin{tabular}{ll}\n source & avg\\_score\\\\\n <chr> & <dbl>\\\\\n\\hline\n\t Web novel    & 6.996429\\\\\n\t Light novel  & 6.959065\\\\\n\t Manga        & 6.830063\\\\\n\t Web manga    & 6.749270\\\\\n\t Novel        & 6.715667\\\\\n\t 4-koma manga & 6.656107\\\\\n\t Book         & 6.452418\\\\\n\t Mixed media  & 6.440804\\\\\n\t Card game    & 6.318154\\\\\n\t Game         & 6.305921\\\\\n\t Visual novel & 6.296556\\\\\n\t Original     & 6.071355\\\\\n\t Other        & 6.028704\\\\\n\t Picture book & 5.950182\\\\\n\t NA           & 5.937078\\\\\n\t Music        & 5.663131\\\\\n\t Radio        & 5.459000\\\\\n\\end{tabular}\n",
            "text/plain": "   source       avg_score\n1  Web novel    6.996429 \n2  Light novel  6.959065 \n3  Manga        6.830063 \n4  Web manga    6.749270 \n5  Novel        6.715667 \n6  4-koma manga 6.656107 \n7  Book         6.452418 \n8  Mixed media  6.440804 \n9  Card game    6.318154 \n10 Game         6.305921 \n11 Visual novel 6.296556 \n12 Original     6.071355 \n13 Other        6.028704 \n14 Picture book 5.950182 \n15 NA           5.937078 \n16 Music        5.663131 \n17 Radio        5.459000 "
          },
          "metadata": {}
        }
      ]
    },
    {
      "cell_type": "markdown",
      "source": [
        "\n",
        "The anime source materials with the highest values across all popularity metrics are light novels, manga, and web manga. Following closely are visual novels and 4-koma manga. Web novels claim the highest score among source materials, with novels also ranking among the top in this regard. Additionally, music is among the top 5 source materials in terms of ranking."
      ],
      "metadata": {
        "id": "MGCKgDSap7GG"
      }
    },
    {
      "cell_type": "code",
      "source": [
        "# To join the popularity metrics of source\n",
        "source_popularity_rank <- left_join(source_popularity, source_rank, by = \"source\")\n",
        "source_popularity_rank_favorites <- left_join(source_popularity_rank, source_favorites, by = \"source\")\n",
        "source_data <- left_join(source_popularity_rank_favorites, source_score, by = \"source\")\n",
        "\n",
        "# To eliminate null values\n",
        "source_data_nonull <- na.omit(source_data)"
      ],
      "metadata": {
        "execution": {
          "iopub.status.busy": "2024-02-16T06:31:08.665779Z",
          "iopub.execute_input": "2024-02-16T06:31:08.668410Z",
          "iopub.status.idle": "2024-02-16T06:31:08.698304Z"
        },
        "trusted": true,
        "id": "fOhxKVWvp7GG"
      },
      "execution_count": null,
      "outputs": []
    },
    {
      "cell_type": "code",
      "source": [
        "# To get the correlation between the popularity metrics based on source\n",
        "corrsource <- cor(source_data_nonull[, c(\"avg_popularity\", \"avg_rank\",\n",
        "                                         \"avg_favorites\", \"avg_score\")])\n",
        "\n",
        "corrplot(corrsource, method = \"number\")"
      ],
      "metadata": {
        "execution": {
          "iopub.status.busy": "2024-02-16T06:31:08.701103Z",
          "iopub.execute_input": "2024-02-16T06:31:08.702649Z",
          "iopub.status.idle": "2024-02-16T06:31:08.818986Z"
        },
        "trusted": true,
        "id": "uFqj_bnop7GG",
        "outputId": "4a8d4e41-9167-4eda-9a62-66290bc0bb1b"
      },
      "execution_count": null,
      "outputs": [
        {
          "output_type": "display_data",
          "data": {
            "image/png": "[encoded data removed]"
          },
          "metadata": {
            "image/png": {
              "width": 420,
              "height": 420
            }
          }
        }
      ]
    },
    {
      "cell_type": "markdown",
      "source": [
        "\n",
        "Across anime source materials, there exists a moderate to strong relationship among all popularity metrics. This suggests that the popularity of an anime source material tends to align closely with its overall ranking, how many users have favorited it, and the score it receives. In other words, when a source material is highly popular, it is likely to have a higher ranking, more favorites from users, and a better score.\n"
      ],
      "metadata": {
        "id": "KA8l0Apcp7GG"
      }
    },
    {
      "cell_type": "markdown",
      "source": [
        "### Conclusion\n",
        "\n",
        "In conclusion, our analysis of anime ranking and user engagement metrics provides valuable insights into the factors influencing viewer preferences and anime success on the platform (myanimelist).\n",
        "\n",
        "We observed a complex relationship between the anime's overall ranking, popularity, and score, with the anime rank demonstrating a stronger correlation with its score compared to its popularity. This indicates that factors beyond popularity influence user ratings, highlighting the multifaceted nature of anime evaluation.\n",
        "\n",
        "Analysis of anime genres reveals a strong relationship between the anime rank and popularity, with popular genres tending to achieve higher scores. However, genres with more favorites do not necessarily guarantee higher popularity or ranking, highlighting the nuanced relationship between user engagement and anime ranking metrics.\n",
        "\n",
        "Furthermore, our analysis of anime studios revealed interesting findings. While there appears to be a weak relationship between users favoriting an anime and the score they assign to it, certain studios consistently produce anime with high values across all popularity metrics. Bones, White Fox, MAPPA, and K-Factory emerge as top-performing studios, suggesting their knack for delivering content that resonates with viewers.\n",
        "\n",
        "Similarly, our exploration of anime source materials unveiled insightful patterns. Light novels, manga, and web manga rank highest across all popularity metrics, with web novels claiming the highest score among source materials. This indicates a strong alignment between the popularity of source material and its overall ranking, user favoritism, and score.\n",
        "\n",
        "In conclusion, our analysis underscores the importance of considering various factors, including rank, score, user engagement metrics, studio affiliations, and source materials, when evaluating anime popularity and user engagement. Armed with these insights, streaming platfoms can refine their content curation strategies, prioritize licensing agreements, and enhance user experiences to cater to viewer preferences effectively."
      ],
      "metadata": {
        "id": "NaOL8bwmp7GG"
      }
    }
  ]
}